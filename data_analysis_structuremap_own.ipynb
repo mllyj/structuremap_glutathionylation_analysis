{
 "cells": [
  {
   "cell_type": "markdown",
   "metadata": {},
   "source": [
    "# <span style=\"color:pink;font-family:Cascadia Code;font-size:20pt\">Analysis of glutathionylation in their structural context using StructureMap </span> \n",
    "##### <span style=\"font-family:Cascadia Code;font-size:14pt\"> Adapted from https://academic.oup.com/nar/article/50/D1/D471/6426061#325777216 </span>\n"
   ]
  },
  {
   "cell_type": "markdown",
   "metadata": {},
   "source": [
    "### Prepare the environment"
   ]
  },
  {
   "cell_type": "code",
   "execution_count": 2,
   "metadata": {},
   "outputs": [],
   "source": [
    "import structuremap.utils"
   ]
  },
  {
   "cell_type": "code",
   "execution_count": 3,
   "metadata": {},
   "outputs": [],
   "source": [
    "structuremap.utils.set_logger()"
   ]
  },
  {
   "cell_type": "code",
   "execution_count": 4,
   "metadata": {},
   "outputs": [],
   "source": [
    "from structuremap.processing import download_alphafold_cif, download_alphafold_pae, format_alphafold_data, annotate_accessibility, get_smooth_score\n",
    "from structuremap.processing import perform_enrichment_analysis, perform_enrichment_analysis_per_protein\n",
    "from structuremap.processing import annotate_proteins_with_idr_pattern, get_extended_flexible_pattern\n",
    "from structuremap.processing import get_avg_3d_dist, get_avg_1d_dist, get_proximity_pvals, evaluate_ptm_colocalization\n",
    "from structuremap.plotting import plot_enrichment, plot_ptm_colocalization"
   ]
  },
  {
   "cell_type": "code",
   "execution_count": 5,
   "metadata": {},
   "outputs": [],
   "source": [
    "import pandas as pd\n",
    "import numpy as np\n",
    "import os\n",
    "import re\n",
    "import plotly.express as px\n",
    "import tqdm\n",
    "import tempfile"
   ]
  },
  {
   "cell_type": "code",
   "execution_count": 6,
   "metadata": {},
   "outputs": [],
   "source": [
    "from accessory_functions import *"
   ]
  },
  {
   "cell_type": "markdown",
   "metadata": {},
   "source": [
    "#### Download AlphaFold data"
   ]
  },
  {
   "cell_type": "code",
   "execution_count": 7,
   "metadata": {},
   "outputs": [],
   "source": [
    "output_dir = (\"c:/Users/marga/OneDrive/Desktop/summer project/\")\n",
    "cif_dir = os.path.join(output_dir, 'tutorial_cif')\n",
    "pae_dir = os.path.join(output_dir, 'tutorial_pae')"
   ]
  },
  {
   "cell_type": "code",
   "execution_count": 8,
   "metadata": {},
   "outputs": [
    {
     "name": "stdout",
     "output_type": "stream",
     "text": [
      "['A0A024QZ33', 'A0A024R4E5', 'A0A024R571', 'A0A024RCR6', 'A0A087WT44', 'A0A087WT92', 'A0A087WTF6', 'A0A087WU57', 'A0A087WVQ6', 'A0A087WVZ6', 'A0A087WVZ9', 'A0A087WWW9', 'A0A087WX29', 'A0A087WXM8', 'A0A087WY31', 'A0A087WYF8', 'A0A087WYR0', 'A0A087WYT3', 'A0A087WZ13', 'A0A087X0M4', 'A0A087X0P9', 'A0A087X0W8', 'A0A087X0X3', 'A0A087X142', 'A0A087X1C5', 'A0A087X1R1', 'A0A087X1Z3', 'A0A087X251', 'A0A087X253', 'A0A087X2D5', 'A0A087X2I1', 'A0A096LNZ9', 'A0A096LP25', 'A0A0A0MQT0', 'A0A0A0MQV3', 'A0A0A0MQV6', 'A0A0A0MQW0', 'A0A0A0MQX8', 'A0A0A0MR02', 'A0A0A0MRA6', 'A0A0A0MRJ3', 'A0A0A0MRM8', 'A0A0A0MRM9', 'A0A0A0MRY0', 'A0A0A0MSA9', 'A0A0A0MSB8', 'A0A0A0MT01', 'A0A0A0MT68', 'A0A0A0MTL6', 'A0A0A6YYL4', 'A0A0B4J1R7', 'A0A0B4J2D5', 'A0A0C4DFM1', 'A0A0C4DFX9', 'A0A0C4DG63', 'A0A0C4DG89', 'A0A0C4DGA2', 'A0A0C4DGC9', 'A0A0D9SFB1', 'A0A0D9SFE4', 'A0A0D9SGE8', 'A0A0G2JH37', 'A0A0G2JIW1', 'A0A0G2JLB3', 'A0A0G2JMX7', 'A0A0G2JN84', 'A0A0G2JRX8', 'A0A0J9YWM9', 'A0A0J9YYL3', 'A0A0U1RQR5', 'A0A0U1RQV4', 'A0A0U1RRL8', 'A0A0U1RRM6', 'A0A140T9T7', 'A0A1B0GTG2', 'A0A1B0GTL5', 'A0A1B0GU92', 'A0A1B0GUS1', 'A0A1B0GVD3', 'A0A1B0GVH5', 'A0A1B0GVI3', 'A0A1B0GVW0', 'A0A1C7CYX9', 'A0A1W2PNP0', 'A0A1W2PNX8', 'A0A1W2PPU6', 'A0A1W2PPV8', 'A0A1W2PPZ5', 'A0A1W2PQV2', 'A0A1W2PR36', 'A0A1W2PRL5', 'A0A286YFF7', 'A0A2C9F2M9', 'A0A2R8Y4T1', 'A0A2R8Y595', 'A0A2R8Y5A2', 'A0A2R8Y6H1', 'A0A2R8Y6Y7', 'A0A2R8Y701', 'A0A2R8Y702', 'A0A2R8Y7Z0', 'A0A2R8Y811', 'A0A2R8YCX2', 'A0A2R8YDN7', 'A0A2R8YEL6', 'A0A2R8YG73', 'A0A2R8YGH5', 'A0A2U3TZL5', 'A0A2U3TZM0', 'A0A3B3IRR6', 'A0A3B3IRW6', 'A0A3B3ISJ3', 'A0A3B3ITJ4', 'A0A3B3ITW3', 'A0A3B3IUA2', 'A0A3B3IUB5', 'A0A494BZV2', 'A0A494C0B4', 'A0A494C0U1', 'A0A494C0W0', 'A0A494C108', 'A0A494C1J1', 'A0A494C1N8', 'A0A499FJY3', 'A0A4W8VX11', 'A0A590UJ67', 'A0A590UJM5', 'A0A590UJS4', 'A0A590UJS9', 'A0A590UK80', 'A0A5F9ZHT0', 'A0A5F9ZHW5', 'A0A5F9ZI73', 'A0A5H1ZRQ2', 'A0A5K1VW76', 'A0A669KAU7', 'A0A669KB05', 'A0A669KBC2', 'A0A669KBF5', 'A0A6I8PIV1', 'A0A6I8PTT9', 'A0A6I8PU73', 'A0A6Q8PFH9', 'A0A6Q8PFI7', 'A0A6Q8PFY2', 'A0A6Q8PGN3', 'A0A6Q8PGR9', 'A0A6Q8PHA5', 'A0A6Q8PHE5', 'A0A6Q8PHK0', 'A0A7I2RVZ4', 'A0A7I2SU25', 'A0A7I2V2G2', 'A0A7I2V2H9', 'A0A7I2V2S3', 'A0A7I2V2U2', 'A0A7I2V2U6', 'A0A7I2V2Y5', 'A0A7I2V334', 'A0A7I2V3F9', 'A0A7I2V3R8', 'A0A7I2V453', 'A0A7I2V4F0', 'A0A7I2V4L7', 'A0A7I2V539', 'A0A7I2V5F1', 'A0A7I2V5N4', 'A0A7I2V5Q5', 'A0A7I2V5T6', 'A0A7I2V5Y5', 'A0A7I2V5Z4', 'A0A7I2V649', 'A0A7I2YQG2', 'A0A7I2YQT2', 'A0A7I2YQV1', 'A0A7P0P278', 'A0A7P0T7V2', 'A0A7P0T865', 'A0A7P0T890', 'A0A7P0T896', 'A0A7P0T8N8', 'A0A7P0T9A7', 'A0A7P0T9C4', 'A0A7P0T9I9', 'A0A7P0T9K5', 'A0A7P0T9U7', 'A0A7P0T9X2', 'A0A7P0TA35', 'A0A7P0TA76', 'A0A7P0TA85', 'A0A7P0TAR0', 'A0A7P0TB04', 'A0A7P0TB58', 'A0A7P0TBE2', 'A0A7P0TBP9', 'A0A7P0Z469', 'A0A7P0Z497', 'A0A804CAZ4', 'A0A804CDA6', 'A0A804F6T5', 'A0A804HIK0', 'A0A804HJ86', 'A0A804HJB7', 'A0A804HJG7', 'A0A804HK65', 'A0A804HKA6', 'A0A804HKC5', 'A0A804HKE8', 'A0A804HKG9', 'A0A804HKH9', 'A0A804HL31', 'A0A804HL40', 'A0A804HL54', 'A0A8C8KBE9', 'A0A8C8KBL6', 'A0A8I5IG87', 'A0A8I5KP74', 'A0A8I5KQH9', 'A0A8I5KRS9', 'A0A8I5KSD1', 'A0A8I5KTZ9', 'A0A8I5KUC3', 'A0A8I5KUR0', 'A0A8I5KVB5', 'A0A8I5KVV1', 'A0A8I5KW09', 'A0A8I5KW59', 'A0A8I5KX71', 'A0A8I5KX85', 'A0A8I5KYD6', 'A0A8I5KYF1', 'A0A8I5KYP7', 'A0A8I5KZ13', 'A0A8I5KZ68', 'A0A8I5QKM3', 'A0A8I5QKX1', 'A0AVT1', 'A0JLT2', 'A1A5B4', 'A1X283', 'A2ACR1', 'A2VEC9', 'A3KFL5', 'A4D0V7', 'A4D1B5', 'A4D2P6', 'A5D8V6', 'A5YKK6', 'A6NCN8', 'A6NDG6', 'A6NEM2', 'A6NHJ8', 'A6NJI9', 'A6NK97', 'A6NL66', 'A6NLP5', 'A6NMQ3', 'A6QL63', 'A7XZE4', 'A8CG34', 'A8MQ02', 'A8MXL6', 'A8MXP9', 'A8MXZ9', 'A8MYV0', 'B0QYK0', 'B0QZ18', 'B1AHH6', 'B1AK63', 'B1AK88', 'B1AKL4', 'B1AKQ8', 'B1AKR6', 'B1ALY0', 'B1AM31', 'B1ANG9', 'B1AXG1', 'B3GLJ2', 'B3KS98', 'B3KWW1', 'B4DDF4', 'B4DJL6', 'B4DLR8', 'B4DN07', 'B4DY08', 'B4DY09', 'B4E1N1', 'B5MCF9', 'B5MDF5', 'B7Z2L0', 'B7Z3Z9', 'B7Z4K4', 'B7Z6Z4', 'B7Z7B0', 'B7ZBM3', 'B7ZC38', 'B7ZM99', 'B8ZWD1', 'C9IYN9', 'C9J2G0', 'C9J2P0', 'C9J2Y9', 'C9J384', 'C9J3F6', 'C9J4X5', 'C9J622', 'C9J6A7', 'C9JA93', 'C9JB30', 'C9JDL2', 'C9JFR7', 'C9JIR6', 'C9JJV6', 'C9JLU1', 'C9JPC9', 'C9JPV8', 'C9JQ41', 'C9JQ90', 'C9JQD4', 'C9JQQ2', 'C9JQZ7', 'C9JSZ1', 'C9JXA5', 'C9JZR2', 'D2CGD1', 'D3DPS3', 'D3DQV9', 'D3YTB1', 'D5H3J5', 'D6R954', 'D6R9H2', 'D6RA20', 'D6RBV2', 'D6RBW1', 'D6RBZ0', 'D6RCB9', 'D6RCP5', 'D6RCP9', 'D6REJ4', 'D6REW7', 'D6REX3', 'D6RF35', 'D6RIE0', 'D6RIY6', 'E2QRF9', 'E5KLJ9', 'E5RFY4', 'E5RGN3', 'E5RH53', 'E5RI99', 'E5RIA4', 'E5RKA3', 'E7EM64', 'E7EN96', 'E7EPM6', 'E7ERK9', 'E7ESJ6', 'E7ETH1', 'E7EU96', 'E7EUC7', 'E7EUI6', 'E7EVG6', 'E7EVJ4', 'E7EVX8', 'E7EW84', 'E7EWK3', 'E7EX17', 'E7EX44', 'E7EXA3', 'E9PB61', 'E9PBY3', 'E9PC15', 'E9PC52', 'E9PD50', 'E9PDF2', 'E9PDP5', 'E9PEI0', 'E9PEX6', 'E9PF32', 'E9PFN5', 'E9PFP8', 'E9PG32', 'E9PG35', 'E9PGW3', 'E9PHA2', 'E9PHY0', 'E9PIB2', 'E9PJK4', 'E9PJN9', 'E9PK25', 'E9PK47', 'E9PK91', 'E9PKG1', 'E9PKP7', 'E9PKZ4', 'E9PLK3', 'E9PMI6', 'E9PN89', 'E9PNF7', 'E9PNK6', 'E9PNM1', 'E9PPA0', 'E9PPE7', 'E9PQX9', 'E9PR49', 'E9PRB9', 'E9PRG8', 'E9PRR1', 'F5GX30', 'F5GXF5', 'F5GY88', 'F5GZ78', 'F5GZ97', 'F5H092', 'F5H0R1', 'F5H2F4', 'F5H442', 'F5H5N1', 'F5H7W8', 'F5H872', 'F5H8D7', 'F6RFD5', 'F6T7Q3', 'F6TDL0', 'F6U1T9', 'F8VQE1', 'F8VQX7', 'F8VR32', 'F8VRH0', 'F8VRV5', 'F8VV52', 'F8VVU1', 'F8VZV4', 'F8VZX2', 'F8W031', 'F8W036', 'F8W1J4', 'F8W6N3', 'F8W860', 'F8W8M4', 'F8WCA0', 'F8WCJ7', 'F8WDS6', 'F8WFB6', 'F8WJN3', 'G3V0E4', 'G3V167', 'G3V1B8', 'G3V1P5', 'G3V200', 'G3V325', 'G3V3E8', 'G3V3H3', 'G3V3H7', 'G3V3R7', 'G3V4K3', 'G3V4W4', 'G3V5P6', 'G3V5T0', 'G3XAC6', 'G3XAJ6', 'G5E9E7', 'G5E9F5', 'G5E9L0', 'G5EA09', 'G5EA29', 'G8JLA2', 'G8JLB3', 'H0Y368', 'H0Y4W2', 'H0Y5K5', 'H0Y714', 'H0Y7V4', 'H0Y8P0', 'H0Y8S5', 'H0Y907', 'H0Y938', 'H0Y993', 'H0YA82', 'H0YAR2', 'H0YBZ4', 'H0YC66', 'H0YD13', 'H0YDT6', 'H0YDU8', 'H0YEH2', 'H0YFD6', 'H0YH40', 'H0YHG0', 'H0YHX9', 'H0YIV4', 'H0YM34', 'H0YMB0', 'H0YMJ0', 'H0YNG3', 'H3BLT8', 'H3BLV9', 'H3BMM9', 'H3BNC9', 'H3BNR6', 'H3BP35', 'H3BPC4', 'H3BPJ9', 'H3BQZ7', 'H3BRG5', 'H3BTP8', 'H3BU16', 'H3BUV7', 'H3BV55', 'H7BXJ4', 'H7BXQ8', 'H7BYT1', 'H7BYX9', 'H7BZ46', 'H7BZ55', 'H7C074', 'H7C0S0', 'H7C131', 'H7C1N3', 'H7C259', 'H7C3C4', 'H7C3V2', 'H7C4A0', 'H7C4F1', 'H8Y6P7', 'H9KV75', 'H9ZYI9', 'I1YAP6', 'I3L0A0', 'I3L0L0', 'I3L116', 'I3L2L5', 'I3L397', 'I3L533', 'J3KMZ9', 'J3KN16', 'J3KNF4', 'J3KP15', 'J3KPT4', 'J3KQ48', 'J3KQ49', 'J3KRC4', 'J3KRX5', 'J3KT13', 'J3KTA4', 'J3KTL2', 'J3QKW3', 'J3QKW7', 'J3QL56', 'J3QL71', 'J3QQ67', 'J3QQZ9', 'J3QR07', 'J3QR64', 'J3QRU7', 'K7EKE6', 'K7ELB8', 'K7ELL7', 'K7ENR6', 'K7EPV0', 'K7EQH1', 'K7ER00', 'K7ER96', 'K7ERC8', 'K7ERY2', 'K7ES25', 'K7ESE9', 'M0QXB5', 'M0QXT0', 'M0QYA2', 'M0QYZ3', 'M0R0F0', 'M0R0F9', 'M0R0P8', 'M0R165', 'M0R2C3', 'O00116', 'O00148', 'O00151', 'O00154', 'O00178', 'O00186', 'O00193', 'O00217', 'O00231', 'O00232', 'O00233', 'O00264', 'O00267', 'O00273', 'O00287', 'O00299', 'O00330', 'O00399', 'O00410', 'O00422', 'O00429', 'O00442', 'O00487', 'O00566', 'O00567', 'O00571', 'O00592', 'O00622', 'O00625', 'O00764', 'O14531', 'O14562', 'O14579', 'O14613', 'O14646', 'O14647', 'O14686', 'O14737', 'O14744', 'O14745', 'O14777', 'O14879', 'O14929', 'O14936', 'O14950', 'O14964', 'O14965', 'O14974', 'O14979', 'O14981', 'O15031', 'O15042', 'O15054', 'O15066', 'O15067', 'O15091', 'O15144', 'O15145', 'O15160', 'O15173', 'O15226', 'O15231', 'O15260', 'O15297', 'O15305', 'O15327', 'O15347', 'O15355', 'O15371', 'O15400', 'O15446', 'O15460', 'O15479', 'O15498', 'O15511', 'O43143', 'O43148', 'O43175', 'O43237', 'O43242', 'O43252', 'O43264', 'O43290', 'O43318', 'O43390', 'O43395', 'O43399', 'O43488', 'O43491', 'O43583', 'O43615', 'O43617', 'O43660', 'O43665', 'O43681', 'O43684', 'O43707', 'O43719', 'O43776', 'O43823', 'O43837', 'O43847', 'O43852', 'O43865', 'O43896', 'O43913', 'O60216', 'O60232', 'O60244', 'O60256', 'O60264', 'O60271', 'O60313', 'O60318', 'O60343', 'O60504', 'O60568', 'O60610', 'O60664', 'O60701', 'O60739', 'O60749', 'O60763', 'O60784', 'O60825', 'O60828', 'O60832', 'O60841', 'O60879', 'O60884', 'O60925', 'O60927', 'O60934', 'O75083', 'O75113', 'O75116', 'O75131', 'O75146', 'O75150', 'O75175', 'O75179', 'O75223', 'O75306', 'O75323', 'O75330', 'O75340', 'O75347', 'O75348', 'O75369', 'O75380', 'O75381', 'O75386', 'O75390', 'O75396', 'O75400', 'O75420', 'O75436', 'O75475', 'O75506', 'O75531', 'O75533', 'O75534', 'O75607', 'O75643', 'O75663', 'O75683', 'O75694', 'O75717', 'O75718', 'O75821', 'O75822', 'O75844', 'O75874', 'O75896', 'O75915', 'O75934', 'O75940', 'O75947', 'O75955', 'O75962', 'O76021', 'O76031', 'O76080', 'O76095', 'O94760', 'O94763', 'O94776', 'O94804', 'O94826', 'O94886', 'O94903', 'O94916', 'O94925', 'O94992', 'O95071', 'O95155', 'O95169', 'O95202', 'O95218', 'O95219', 'O95221', 'O95235', 'O95239', 'O95292', 'O95295', 'O95336', 'O95340', 'O95347', 'O95372', 'O95373', 'O95400', 'O95433', 'O95466', 'O95487', 'O95639', 'O95777', 'O95782', 'O95793', 'O95801', 'O95816', 'O95817', 'O95831', 'O95881', 'O96005', 'O96013', 'O96018', 'O96019', 'P00338', 'P00367', 'P00441', 'P00491', 'P00492', 'P00505', 'P00519', 'P00558', 'P00568', 'P01034', 'P01111', 'P01857', 'P02549', 'P02751', 'P02765', 'P02768', 'P02786', 'P03952', 'P04040', 'P04075', 'P04080', 'P04083', 'P04183', 'P04264', 'P04350', 'P04406', 'P04424', 'P04632', 'P04792', 'P04818', 'P04843', 'P04844', 'P05023', 'P05026', 'P05091', 'P05141', 'P05198', 'P05386', 'P05387', 'P05388', 'P05455', 'P05771', 'P05783', 'P05787', 'P06132', 'P06493', 'P06576', 'P06703', 'P06733', 'P06744', 'P06748', 'P06756', 'P06850', 'P07195', 'P07237', 'P07305', 'P07332', 'P07355', 'P07384', 'P07437', 'P07737', 'P07741', 'P07814', 'P07858', 'P07900', 'P07910', 'P07911', 'P07919', 'P07942', 'P07954', 'P08133', 'P08237', 'P08238', 'P08240', 'P08243', 'P08559', 'P08579', 'P08582', 'P08621', 'P08670', 'P08729', 'P08754', 'P08758', 'P08865', 'P09012', 'P09104', 'P09110', 'P09132', 'P09172', 'P09211', 'P09382', 'P09417', 'P09429', 'P09497', 'P09525', 'P09601', 'P09874', 'P09914', 'P09960', 'P09972', 'P0CG12', 'P0CG24', 'P0CG43', 'P0DMU7', 'P0DP25', 'P10109', 'P10155', 'P10253', 'P10599', 'P10606', 'P10620', 'P10644', 'P10768', 'P10809', 'P10909', 'P11021', 'P11047', 'P11142', 'P11166', 'P11172', 'P11177', 'P11182', 'P11216', 'P11233', 'P11387', 'P11388', 'P11413', 'P11441', 'P11717', 'P11766', 'P12004', 'P12236', 'P12268', 'P12270', 'P12277', 'P12429', 'P12883', 'P12931', 'P12956', 'P13010', 'P13051', 'P13073', 'P13639', 'P13667', 'P13674', 'P13796', 'P13797', 'P13798', 'P13861', 'P13929', 'P14174', 'P14324', 'P14550', 'P14618', 'P14625', 'P14635', 'P14678', 'P14735', 'P14859', 'P14868', 'P14927', 'P15121', 'P15153', 'P15170', 'P15311', 'P15374', 'P15880', 'P15927', 'P16152', 'P16220', 'P16383', 'P16435', 'P16615', 'P16949', 'P16989', 'P17050', 'P17275', 'P17301', 'P17655', 'P17676', 'P17706', 'P17812', 'P17813', 'P17858', 'P17931', 'P17980', 'P17987', 'P18031', 'P18077', 'P18124', 'P18206', 'P18583', 'P18615', 'P18669', 'P18754', 'P18859', 'P19338', 'P19367', 'P19447', 'P19525', 'P19784', 'P19838', 'P20042', 'P20073', 'P20290', 'P20339', 'P20340', 'P20618', 'P20674', 'P20700', 'P20839', 'P21127', 'P21281', 'P21283', 'P21291', 'P21333', 'P21399', 'P21796', 'P21912', 'P21980', 'P22033', 'P22061', 'P22087', 'P22102', 'P22234', 'P22307', 'P22314', 'P22570', 'P22626', 'P22676', 'P22695', 'P22888', 'P23246', 'P23258', 'P23368', 'P23381', 'P23396', 'P23497', 'P23511', 'P23526', 'P24534', 'P24539', 'P24666', 'P24752', 'P24928', 'P25205', 'P25398', 'P25445', 'P25685', 'P25686', 'P25705', 'P25786', 'P25788', 'P25942', 'P26006', 'P26022', 'P26038', 'P26196', 'P26368', 'P26373', 'P26447', 'P26583', 'P26599', 'P26639', 'P26640', 'P26641', 'P27348', 'P27361', 'P27694', 'P27708', 'P27797', 'P27816', 'P27824', 'P27986', 'P28062', 'P28066', 'P28070', 'P28330', 'P28331', 'P28838', 'P29083', 'P29084', 'P29218', 'P29317', 'P29353', 'P29372', 'P29373', 'P29401', 'P29590', 'P29692', 'P30040', 'P30041', 'P30043', 'P30044', 'P30048', 'P30050', 'P30084', 'P30085', 'P30086', 'P30153', 'P30154', 'P30305', 'P30405', 'P30530', 'P30626', 'P30825', 'P30837', 'P31040', 'P31150', 'P31153', 'P31275', 'P31323', 'P31350', 'P31689', 'P31930', 'P31937', 'P31939', 'P31942', 'P31943', 'P31946', 'P31947', 'P31948', 'P31949', 'P32004', 'P32119', 'P32302', 'P32321', 'P32322', 'P32418', 'P32856', 'P32969', 'P33151', 'P33176', 'P33240', 'P33316', 'P33991', 'P33992', 'P33993', 'P34897', 'P34932', 'P35080', 'P35221', 'P35237', 'P35241', 'P35249', 'P35250', 'P35251', 'P35268', 'P35269', 'P35270', 'P35520', 'P35579', 'P35580', 'P35658', 'P35749', 'P35813', 'P35998', 'P36404', 'P36542', 'P36543', 'P36551', 'P36578', 'P36871', 'P36915', 'P36957', 'P37108', 'P37173', 'P37802', 'P37837', 'P38159', 'P38432', 'P38606', 'P38646', 'P38919', 'P39019', 'P39023', 'P39656', 'P39687', 'P39748', 'P40121', 'P40123', 'P40189', 'P40222', 'P40227', 'P40429', 'P40763', 'P40818', 'P40925', 'P40926', 'P40937', 'P40938', 'P41091', 'P41208', 'P41227', 'P41250', 'P41440', 'P41567', 'P42126', 'P42166', 'P42167', 'P42224', 'P42285', 'P42566', 'P42765', 'P43121', 'P43246', 'P43304', 'P43356', 'P43358', 'P43487', 'P43686', 'P43897', 'P45877', 'P45954', 'P45974', 'P45983', 'P45985', 'P46013', 'P46060', 'P46063', 'P46087', 'P46109', 'P46199', 'P46459', 'P46776', 'P46777', 'P46778', 'P46779', 'P46781', 'P46783', 'P46821', 'P46926', 'P46937', 'P46939', 'P46940', 'P47755', 'P47897', 'P47985', 'P48047', 'P48147', 'P48444', 'P48507', 'P48634', 'P48637', 'P48643', 'P48681', 'P48739', 'P48960', 'P49189', 'P49257', 'P49321', 'P49327', 'P49368', 'P49411', 'P49458', 'P49720', 'P49736', 'P49748', 'P49750', 'P49755', 'P49756', 'P49757', 'P49768', 'P49770', 'P49773', 'P49792', 'P49903', 'P49915', 'P49959', 'P50395', 'P50452', 'P50454', 'P50479', 'P50502', 'P50542', 'P50552', 'P50570', 'P50579', 'P50914', 'P50990', 'P50991', 'P50995', 'P51114', 'P51116', 'P51148', 'P51149', 'P51153', 'P51397', 'P51452', 'P51508', 'P51532', 'P51553', 'P51571', 'P51572', 'P51665', 'P51809', 'P51854', 'P51858', 'P51948', 'P51991', 'P52209', 'P52292', 'P52306', 'P52565', 'P52594', 'P52597', 'P52701', 'P52732', 'P52788', 'P52907', 'P53350', 'P53365', 'P53384', 'P53396', 'P53582', 'P53597', 'P53602', 'P53618', 'P53621', 'P53634', 'P53816', 'P53990', 'P53999', 'P54136', 'P54278', 'P54577', 'P54578', 'P54652', 'P54687', 'P54727', 'P54819', 'P54886', 'P54920', 'P55010', 'P55039', 'P55060', 'P55072', 'P55084', 'P55263', 'P55265', 'P55795', 'P55809', 'P55884', 'P56182', 'P56192', 'P56537', 'P56962', 'P58546', 'P60174', 'P60468', 'P60660', 'P60709', 'P60842', 'P60866', 'P60880', 'P60893', 'P60903', 'P60953', 'P60981', 'P60983', 'P61011', 'P61019', 'P61020', 'P61024', 'P61086', 'P61088', 'P61106', 'P61158', 'P61160', 'P61163', 'P61201', 'P61204', 'P61221', 'P61224', 'P61247', 'P61289', 'P61353', 'P61586', 'P61604', 'P61758', 'P61769', 'P61978', 'P61981', 'P62140', 'P62166', 'P62191', 'P62195', 'P62241', 'P62244', 'P62249', 'P62258', 'P62266', 'P62269', 'P62280', 'P62304', 'P62306', 'P62314', 'P62316', 'P62318', 'P62424', 'P62487', 'P62495', 'P62701', 'P62750', 'P62753', 'P62805', 'P62820', 'P62829', 'P62834', 'P62841', 'P62847', 'P62851', 'P62854', 'P62857', 'P62873', 'P62875', 'P62877', 'P62899', 'P62906', 'P62917', 'P62937', 'P62995', 'P63000', 'P63104', 'P63126', 'P63208', 'P63220', 'P63244', 'P67809', 'P67870', 'P67936', 'P68032', 'P68104', 'P68402', 'P69905', 'P78318', 'P78325', 'P78362', 'P78371', 'P78417', 'P78527', 'P80217', 'P80303', 'P81133', 'P82664', 'P82673', 'P82675', 'P82909', 'P82921', 'P82933', 'P83731', 'P83916', 'P84085', 'P84090', 'P84095', 'P84101', 'P85037', 'P86790', 'P98175', 'P98179', 'P98194', 'Q00059', 'Q00169', 'Q00341', 'Q00403', 'Q00534', 'Q00653', 'Q00688', 'Q00796', 'Q00839', 'Q01082', 'Q01085', 'Q01433', 'Q01469', 'Q01518', 'Q01538', 'Q01581', 'Q01813', 'Q01955', 'Q01968', 'Q01970', 'Q01995', 'Q02127', 'Q02224', 'Q02543', 'Q02790', 'Q02809', 'Q02818', 'Q02952', 'Q03252', 'Q04323', 'Q04760', 'Q04837', 'Q04917', 'Q05048', 'Q05397', 'Q05639', 'Q06124', 'Q06203', 'Q06210', 'Q06323', 'Q06546', 'Q06547', 'Q06830', 'Q07021', 'Q07065', 'Q07666', 'Q07812', 'Q07864', 'Q07960', 'Q07973', 'Q08170', 'Q08209', 'Q08211', 'Q08257', 'Q08752', 'Q08945', 'Q08AD1', 'Q08J23', 'Q09028', 'Q09666', 'Q10471', 'Q10567', 'Q10570', 'Q10713', 'Q12765', 'Q12789', 'Q12797', 'Q12849', 'Q12874', 'Q12888', 'Q12904', 'Q12906', 'Q12931', 'Q12972', 'Q12996', 'Q13011', 'Q13017', 'Q13043', 'Q13085', 'Q13098', 'Q13123', 'Q13126', 'Q13151', 'Q13153', 'Q13162', 'Q13177', 'Q13185', 'Q13200', 'Q13201', 'Q13237', 'Q13242', 'Q13243', 'Q13255', 'Q13263', 'Q13283', 'Q13287', 'Q13395', 'Q13409', 'Q13416', 'Q13423', 'Q13435', 'Q13438', 'Q13439', 'Q13442', 'Q13509', 'Q13526', 'Q13541', 'Q13547', 'Q13561', 'Q13564', 'Q13573', 'Q13576', 'Q13596', 'Q13617', 'Q13619', 'Q13630', 'Q13641', 'Q13740', 'Q13751', 'Q13753', 'Q13769', 'Q13813', 'Q13823', 'Q13838', 'Q13867', 'Q13885', 'Q13895', 'Q13946', 'Q13948', 'Q14008', 'Q14103', 'Q14116', 'Q14126', 'Q14137', 'Q14151', 'Q14152', 'Q14157', 'Q14174', 'Q14192', 'Q14195', 'Q14240', 'Q14247', 'Q14258', 'Q14315', 'Q14318', 'Q14320', 'Q14324', 'Q14331', 'Q14444', 'Q14457', 'Q14469', 'Q14527', 'Q14558', 'Q14566', 'Q14593', 'Q14651', 'Q14674', 'Q14676', 'Q14677', 'Q14683', 'Q14684', 'Q14690', 'Q14691', 'Q14692', 'Q14694', 'Q14696', 'Q14764', 'Q14789', 'Q14847', 'Q14943', 'Q14966', 'Q14974', 'Q14980', 'Q14997', 'Q14C86', 'Q14CX7', 'Q15006', 'Q15007', 'Q15008', 'Q15019', 'Q15020', 'Q15021', 'Q15024', 'Q15025', 'Q15027', 'Q15029', 'Q15034', 'Q15042', 'Q15043', 'Q15046', 'Q15056', 'Q15075', 'Q15102', 'Q15121', 'Q15149', 'Q15181', 'Q15233', 'Q15274', 'Q15293', 'Q15334', 'Q15365', 'Q15369', 'Q15370', 'Q15393', 'Q15398', 'Q15417', 'Q15424', 'Q15428', 'Q15434', 'Q15435', 'Q15437', 'Q15459', 'Q15645', 'Q15648', 'Q15691', 'Q15717', 'Q15738', 'Q15750', 'Q15751', 'Q15773', 'Q15785', 'Q15819', 'Q15833', 'Q15836', 'Q15904', 'Q15907', 'Q15942', 'Q16181', 'Q16204', 'Q16222', 'Q16401', 'Q16512', 'Q16513', 'Q16527', 'Q16531', 'Q16543', 'Q16576', 'Q16629', 'Q16643', 'Q16658', 'Q16666', 'Q16698', 'Q16706', 'Q16740', 'Q16763', 'Q16775', 'Q16799', 'Q16831', 'Q16836', 'Q16881', 'Q17RW2', 'Q1ED39', 'Q1JUQ5', 'Q29RF7', 'Q2NKX8', 'Q2NL82', 'Q2TAY7', 'Q2TBE0', 'Q32MZ4', 'Q32P28', 'Q32Q12', 'Q3KNS6', 'Q3KNV8', 'Q3LXA3', 'Q460N5', 'Q49AN9', 'Q49AR2', 'Q4KMP7', 'Q4R9M9', 'Q4VCS5', 'Q52LJ0', 'Q53EL6', 'Q53ET0', 'Q53FA7', 'Q53FT3', 'Q53GQ0', 'Q53H96', 'Q53S33', 'Q53SF7', 'Q53T59', 'Q562R1', 'Q58WW2', 'Q5BKZ1', 'Q5C9Z4', 'Q5CZC0', 'Q5D0E6', 'Q5EBL4', 'Q5JPE7', 'Q5JQP4', 'Q5JR04', 'Q5JR08', 'Q5JSL0', 'Q5JSZ5', 'Q5JTH9', 'Q5JU67', 'Q5QNY5', 'Q5QPI9', 'Q5QPL9', 'Q5QPM7', 'Q5RKV6', 'Q5SRE5', 'Q5SWX3', 'Q5SYB0', 'Q5T011', 'Q5T0N5', 'Q5T123', 'Q5T1N2', 'Q5T371', 'Q5T440', 'Q5T4S7', 'Q5T5C7', 'Q5T760', 'Q5T7N2', 'Q5T8I3', 'Q5T8P6', 'Q5TDH0', 'Q5U5X0', 'Q5UIP0', 'Q5VT52', 'Q5VTR2', 'Q5VVV3', 'Q5VWV2', 'Q5VYS8', 'Q5VZE5', 'Q5VZL5', 'Q5W0B1', 'Q5W0H4', 'Q66K14', 'Q66K74', 'Q674R7', 'Q68CZ2', 'Q68D10', 'Q68DW7', 'Q6AI25', 'Q6DD88', 'Q6EEV4', 'Q6F5E8', 'Q6IAA8', 'Q6IBS0', 'Q6IN84', 'Q6IN85', 'Q6JQN1', 'Q6KB66', 'Q6NUK1', 'Q6NVH7', 'Q6NVY1', 'Q6NXT6', 'Q6NZI2', 'Q6P1M0', 'Q6P1N9', 'Q6P1X6', 'Q6P2E9', 'Q6P2Q9', 'Q6P2S0', 'Q6P2S7', 'Q6P3W7', 'Q6P3X3', 'Q6P587', 'Q6P5W5', 'Q6P9B6', 'Q6PCB5', 'Q6PEW3', 'Q6PI78', 'Q6PJT7', 'Q6PK04', 'Q6PKG0', 'Q6PL24', 'Q6UN15', 'Q6UWH4', 'Q6UX04', 'Q6UXN9', 'Q6V1P9', 'Q6VEQ5', 'Q6VMQ6', 'Q6WKZ4', 'Q6WRI0', 'Q6XZF7', 'Q6Y7W6', 'Q6YN16', 'Q6ZN50', 'Q6ZNA1', 'Q6ZRI0', 'Q6ZTR5', 'Q6ZUJ8', 'Q6ZUT6', 'Q6ZVC0', 'Q709C8', 'Q70CQ2', 'Q712K3', 'Q71RC2', 'Q76KX8', 'Q7KZ85', 'Q7KZF4', 'Q7L0J3', 'Q7L0Y3', 'Q7L1Q6', 'Q7L2H7', 'Q7L4I2', 'Q7L8L6', 'Q7LG56', 'Q7RTP6', 'Q7RTS6', 'Q7Z2E3', 'Q7Z2Z2', 'Q7Z3B4', 'Q7Z3K3', 'Q7Z3Z3', 'Q7Z408', 'Q7Z417', 'Q7Z460', 'Q7Z478', 'Q7Z4V5', 'Q7Z5K2', 'Q7Z5L9', 'Q7Z624', 'Q7Z692', 'Q7Z6E9', 'Q7Z6Z7', 'Q7Z7H3', 'Q7Z7H5', 'Q7Z7K0', 'Q7Z7L7', 'Q86SQ0', 'Q86SX6', 'Q86TB9', 'Q86TG1', 'Q86TS9', 'Q86U28', 'Q86U44', 'Q86U90', 'Q86UK7', 'Q86UP2', 'Q86UU1', 'Q86UX7', 'Q86V21', 'Q86V48', 'Q86VP6', 'Q86VS8', 'Q86VV4', 'Q86VY4', 'Q86W56', 'Q86W92', 'Q86WJ1', 'Q86X51', 'Q86X55', 'Q86X76', 'Q86XP3', 'Q86XZ4', 'Q86Y13', 'Q86Y82', 'Q86YN6', 'Q86YP4', 'Q86YQ8', 'Q8IU60', 'Q8IUA7', 'Q8IUI8', 'Q8IUY3', 'Q8IVD9', 'Q8IVF2', 'Q8IVM0', 'Q8IVS2', 'Q8IWE2', 'Q8IWE4', 'Q8IWJ2', 'Q8IWR1', 'Q8IX12', 'Q8IX90', 'Q8IXQ6', 'Q8IY81', 'Q8IYB3', 'Q8IYB7', 'Q8IYB8', 'Q8IYJ3', 'Q8IYS1', 'Q8IYT3', 'Q8IZD4', 'Q8IZP0', 'Q8IZQ1', 'Q8IZT6', 'Q8IZU8', 'Q8N163', 'Q8N1F7', 'Q8N1G4', 'Q8N2E2', 'Q8N2F6', 'Q8N2W9', 'Q8N3D4', 'Q8N3V7', 'Q8N4H5', 'Q8N4Q0', 'Q8N543', 'Q8N5C6', 'Q8N5K1', 'Q8N635', 'Q8N693', 'Q8N6R0', 'Q8N6T3', 'Q8N7H5', 'Q8N806', 'Q8N8N7', 'Q8NBJ7', 'Q8NBQ5', 'Q8NBS9', 'Q8NBY1', 'Q8NC51', 'Q8NCN2', 'Q8ND24', 'Q8NDI1', 'Q8NE71', 'Q8NEZ5', 'Q8NFC6', 'Q8NFH8', 'Q8NFQ8', 'Q8NFV4', 'Q8NFW8', 'Q8NGC7', 'Q8NGR2', 'Q8NHH9', 'Q8NHQ9', 'Q8NHV4', 'Q8NI27', 'Q8TAQ2', 'Q8TAT6', 'Q8TB72', 'Q8TB96', 'Q8TBX8', 'Q8TBY9', 'Q8TC07', 'Q8TC59', 'Q8TC92', 'Q8TCA0', 'Q8TCG1', 'Q8TCS8', 'Q8TCU6', 'Q8TD17', 'Q8TDB6', 'Q8TDD1', 'Q8TDI0', 'Q8TDQ7', 'Q8TEQ6', 'Q8TEX9', 'Q8TF01', 'Q8TF05', 'Q8TF21', 'Q8WTT2', 'Q8WU58', 'Q8WU90', 'Q8WUF5', 'Q8WUH6', 'Q8WUM4', 'Q8WUX9', 'Q8WVJ2', 'Q8WVT3', 'Q8WWM7', 'Q8WX93', 'Q8WXA9', 'Q8WXF1', 'Q8WXI9', 'Q8WYA6', 'Q8WZ82', 'Q8WZA9', 'Q92520', 'Q92522', 'Q92538', 'Q92541', 'Q92547', 'Q92575', 'Q92576', 'Q92597', 'Q92598', 'Q92609', 'Q92614', 'Q92616', 'Q92620', 'Q92665', 'Q92667', 'Q92688', 'Q92734', 'Q92769', 'Q92783', 'Q92804', 'Q92878', 'Q92879', 'Q92890', 'Q92900', 'Q92905', 'Q92917', 'Q92922', 'Q92934', 'Q92945', 'Q92973', 'Q92993', 'Q93009', 'Q93052', 'Q969H8', 'Q969S3', 'Q969T9', 'Q969V3', 'Q969Z0', 'Q96A33', 'Q96A49', 'Q96A65', 'Q96AA8', 'Q96AC1', 'Q96AE4', 'Q96AT1', 'Q96AY3', 'Q96AZ6', 'Q96B01', 'Q96B97', 'Q96BN8', 'Q96BR5', 'Q96C01', 'Q96C19', 'Q96C36', 'Q96C55', 'Q96CF2', 'Q96CN7', 'Q96CS3', 'Q96DI7', 'Q96DL1', 'Q96E11', 'Q96EE3', 'Q96EL3', 'Q96EN8', 'Q96EP5', 'Q96EQ0', 'Q96EY1', 'Q96EY5', 'Q96EY7', 'Q96F86', 'Q96FQ6', 'Q96FS4', 'Q96FV9', 'Q96G03', 'Q96G46', 'Q96GC9', 'Q96GK7', 'Q96GM8', 'Q96HC4', 'Q96HE7', 'Q96HS1', 'Q96I15', 'Q96I23', 'Q96I24', 'Q96I99', 'Q96IU4', 'Q96J01', 'Q96JC9', 'Q96JJ7', 'Q96JM3', 'Q96JQ0', 'Q96JY6', 'Q96K17', 'Q96K30', 'Q96KA5', 'Q96KB5', 'Q96KP4', 'Q96KR1', 'Q96KT7', 'Q96KX2', 'Q96L91', 'Q96LD4', 'Q96LR5', 'Q96LT6', 'Q96ME1', 'Q96ME7', 'Q96MW1', 'Q96MX6', 'Q96N66', 'Q96P70', 'Q96PK6', 'Q96PU8', 'Q96PZ0', 'Q96Q11', 'Q96QC0', 'Q96QE4', 'Q96QR8', 'Q96R06', 'Q96RF0', 'Q96RL1', 'Q96RP9', 'Q96RS0', 'Q96RS6', 'Q96RT1', 'Q96RW7', 'Q96S59', 'Q96S82', 'Q96SB4', 'Q96SI9', 'Q96ST2', 'Q96T76', 'Q96T88', 'Q96TA1', 'Q96TA2', 'Q99426', 'Q99436', 'Q99459', 'Q99460', 'Q99470', 'Q99471', 'Q99497', 'Q99536', 'Q99541', 'Q99543', 'Q99567', 'Q99575', 'Q99590', 'Q99598', 'Q99613', 'Q99622', 'Q99623', 'Q99653', 'Q99661', 'Q99714', 'Q99715', 'Q99733', 'Q99747', 'Q99757', 'Q99798', 'Q99832', 'Q99961', 'Q9BPX3', 'Q9BPX5', 'Q9BPX7', 'Q9BQ52', 'Q9BQ70', 'Q9BQE3', 'Q9BQE5', 'Q9BQK8', 'Q9BQP7', 'Q9BQR3', 'Q9BR76', 'Q9BRA2', 'Q9BRJ6', 'Q9BRL6', 'Q9BRR6', 'Q9BRT6', 'Q9BRX2', 'Q9BRX5', 'Q9BSJ8', 'Q9BSL1', 'Q9BSW2', 'Q9BT73', 'Q9BT78', 'Q9BTC0', 'Q9BTE3', 'Q9BTE6', 'Q9BTT0', 'Q9BTU6', 'Q9BTX1', 'Q9BU23', 'Q9BU61', 'Q9BUF5', 'Q9BUH6', 'Q9BUJ2', 'Q9BUP3', 'Q9BUQ8', 'Q9BV86', 'Q9BVC3', 'Q9BVC5', 'Q9BVG4', 'Q9BVK6', 'Q9BVP2', 'Q9BVS4', 'Q9BW04', 'Q9BW72', 'Q9BWD1', 'Q9BWH6', 'Q9BWJ5', 'Q9BWM7', 'Q9BWT7', 'Q9BXB4', 'Q9BXI2', 'Q9BXJ9', 'Q9BXP5', 'Q9BXV9', 'Q9BXW7', 'Q9BY42', 'Q9BY44', 'Q9BY67', 'Q9BY77', 'Q9BY89', 'Q9BYC5', 'Q9BYG3', 'Q9BYT8', 'Q9BYX4', 'Q9BZA7', 'Q9BZE9', 'Q9BZL6', 'Q9BZR9', 'Q9BZV1', 'Q9BZZ2', 'Q9BZZ5', 'Q9C037', 'Q9C0A6', 'Q9C0B5', 'Q9C0C2', 'Q9C0C9', 'Q9C0F1', 'Q9C0H2', 'Q9C0J8', 'Q9GZM5', 'Q9GZN8', 'Q9GZP4', 'Q9GZR7', 'Q9GZS1', 'Q9GZS3', 'Q9GZT3', 'Q9GZY6', 'Q9GZY8', 'Q9H074', 'Q9H0A0', 'Q9H0B6', 'Q9H0C8', 'Q9H0D6', 'Q9H0E9', 'Q9H0H5', 'Q9H0K6', 'Q9H0R4', 'Q9H0R6', 'Q9H0S4', 'Q9H0U4', 'Q9H147', 'Q9H160', 'Q9H1A4', 'Q9H1D9', 'Q9H1K1', 'Q9H223', 'Q9H299', 'Q9H2C0', 'Q9H2G2', 'Q9H2G4', 'Q9H2P0', 'Q9H2P9', 'Q9H2U2', 'Q9H2W6', 'Q9H307', 'Q9H3H3', 'Q9H3K6', 'Q9H3N1', 'Q9H3Q1', 'Q9H3S7', 'Q9H444', 'Q9H488', 'Q9H4G8', 'Q9H5Q4', 'Q9H5X1', 'Q9H6F5', 'Q9H6R4', 'Q9H6R7', 'Q9H6S0', 'Q9H6T0', 'Q9H6T3', 'Q9H6U8', 'Q9H6W3', 'Q9H6Z4', 'Q9H773', 'Q9H792', 'Q9H7D0', 'Q9H7M6', 'Q9H814', 'Q9H832', 'Q9H840', 'Q9H900', 'Q9H910', 'Q9H967', 'Q9H974', 'Q9H9A6', 'Q9H9B4', 'Q9H9D4', 'Q9H9P8', 'Q9H9Q2', 'Q9HAB8', 'Q9HAN9', 'Q9HAU0', 'Q9HAV4', 'Q9HAV7', 'Q9HB07', 'Q9HB40', 'Q9HB71', 'Q9HB90', 'Q9HBV2', 'Q9HC38', 'Q9HC52', 'Q9HCD5', 'Q9HCE1', 'Q9HCI6', 'Q9HCK8', 'Q9HCN4', 'Q9HCN8', 'Q9HD15', 'Q9HD33', 'Q9HDC9', 'Q9NP61', 'Q9NP62', 'Q9NPD3', 'Q9NPD8', 'Q9NPE3', 'Q9NPJ6', 'Q9NPQ8', 'Q9NQ29', 'Q9NQ50', 'Q9NQ88', 'Q9NQC3', 'Q9NQG5', 'Q9NQR4', 'Q9NQW6', 'Q9NQX3', 'Q9NR12', 'Q9NR28', 'Q9NR30', 'Q9NR31', 'Q9NR45', 'Q9NR50', 'Q9NR99', 'Q9NRD9', 'Q9NRG0', 'Q9NRG1', 'Q9NRL2', 'Q9NRN7', 'Q9NRR5', 'Q9NRU3', 'Q9NRV9', 'Q9NRX1', 'Q9NRX4', 'Q9NS69', 'Q9NS87', 'Q9NSA3', 'Q9NSD9', 'Q9NSE4', 'Q9NSK0', 'Q9NSV4', 'Q9NT22', 'Q9NTI5', 'Q9NTJ3', 'Q9NTK5', 'Q9NTU7', 'Q9NTZ6', 'Q9NU22', 'Q9NUJ1', 'Q9NUQ2', 'Q9NUQ3', 'Q9NUQ6', 'Q9NUQ8', 'Q9NUQ9', 'Q9NUU7', 'Q9NVG8', 'Q9NVI7', 'Q9NVM9', 'Q9NVP1', 'Q9NVR5', 'Q9NVS2', 'Q9NVT9', 'Q9NW82', 'Q9NWB6', 'Q9NWH9', 'Q9NWT6', 'Q9NX46', 'Q9NX55', 'Q9NX62', 'Q9NXC5', 'Q9NXV6', 'Q9NY27', 'Q9NY93', 'Q9NYB9', 'Q9NYF8', 'Q9NYJ8', 'Q9NYL9', 'Q9NYU2', 'Q9NYV4', 'Q9NYZ3', 'Q9NZ09', 'Q9NZ32', 'Q9NZ63', 'Q9NZB2', 'Q9NZJ4', 'Q9NZJ6', 'Q9NZL4', 'Q9NZL9', 'Q9NZM1', 'Q9NZM3', 'Q9NZM5', 'Q9NZT2', 'Q9NZW5', 'Q9NZZ3', 'Q9P013', 'Q9P035', 'Q9P0J1', 'Q9P0J7', 'Q9P0L0', 'Q9P0V9', 'Q9P206', 'Q9P225', 'Q9P258', 'Q9P265', 'Q9P273', 'Q9P287', 'Q9P2B2', 'Q9P2D3', 'Q9P2E9', 'Q9P2K6', 'Q9P2M7', 'Q9P2N5', 'Q9UBB4', 'Q9UBB5', 'Q9UBE0', 'Q9UBF9', 'Q9UBG0', 'Q9UBQ5', 'Q9UBQ7', 'Q9UBS4', 'Q9UBS8', 'Q9UBT2', 'Q9UBU9', 'Q9UBV8', 'Q9UDT6', 'Q9UDY2', 'Q9UDY4', 'Q9UEE9', 'Q9UG63', 'Q9UGP8', 'Q9UGV2', 'Q9UHB9', 'Q9UHD1', 'Q9UHD8', 'Q9UHI6', 'Q9UHL4', 'Q9UHM6', 'Q9UHQ9', 'Q9UHR4', 'Q9UHR5', 'Q9UHV9', 'Q9UHY7', 'Q9UI12', 'Q9UI30', 'Q9UIG0', 'Q9UIJ7', 'Q9UIQ6', 'Q9UJA5', 'Q9UJM3', 'Q9UJU6', 'Q9UJW0', 'Q9UJX3', 'Q9UK45', 'Q9UK76', 'Q9UKD2', 'Q9UKF6', 'Q9UKL0', 'Q9UKN8', 'Q9UKV3', 'Q9UKV8', 'Q9UKX7', 'Q9UKY7', 'Q9UL25', 'Q9UL54', 'Q9ULC4', 'Q9ULH1', 'Q9ULH7', 'Q9ULL5', 'Q9ULW0', 'Q9ULX9', 'Q9UM07', 'Q9UMR2', 'Q9UMS4', 'Q9UMX0', 'Q9UMZ2', 'Q9UN37', 'Q9UNE7', 'Q9UNF1', 'Q9UNI6', 'Q9UNM6', 'Q9UNN5', 'Q9UNN8', 'Q9UNP9', 'Q9UNS2', 'Q9UNX4', 'Q9UNY4', 'Q9UNZ2', 'Q9UP95', 'Q9UQ35', 'Q9UQ80', 'Q9UQB8', 'Q9UQE7', 'Q9Y221', 'Q9Y224', 'Q9Y230', 'Q9Y262', 'Q9Y263', 'Q9Y265', 'Q9Y266', 'Q9Y277', 'Q9Y281', 'Q9Y295', 'Q9Y2A4', 'Q9Y2A7', 'Q9Y2C9', 'Q9Y2D5', 'Q9Y2D8', 'Q9Y2H9', 'Q9Y2L1', 'Q9Y2R4', 'Q9Y2T2', 'Q9Y2U8', 'Q9Y2W1', 'Q9Y2W2', 'Q9Y2X3', 'Q9Y2X7', 'Q9Y2Z0', 'Q9Y2Z4', 'Q9Y305', 'Q9Y333', 'Q9Y371', 'Q9Y383', 'Q9Y394', 'Q9Y399', 'Q9Y3A5', 'Q9Y3B4', 'Q9Y3B7', 'Q9Y3C1', 'Q9Y3C6', 'Q9Y3C8', 'Q9Y3D0', 'Q9Y3D8', 'Q9Y3E0', 'Q9Y3F4', 'Q9Y3I0', 'Q9Y3L5', 'Q9Y3P9', 'Q9Y3T9', 'Q9Y3U8', 'Q9Y3Z3', 'Q9Y450', 'Q9Y490', 'Q9Y496', 'Q9Y4B6', 'Q9Y4D7', 'Q9Y4E8', 'Q9Y4G6', 'Q9Y4L1', 'Q9Y4P8', 'Q9Y4Y9', 'Q9Y508', 'Q9Y520', 'Q9Y570', 'Q9Y575', 'Q9Y5A9', 'Q9Y5B9', 'Q9Y5I1', 'Q9Y5J1', 'Q9Y5K6', 'Q9Y5L4', 'Q9Y5M8', 'Q9Y5S9', 'Q9Y5T5', 'Q9Y5W3', 'Q9Y5X2', 'Q9Y5X3', 'Q9Y613', 'Q9Y615', 'Q9Y617', 'Q9Y676', 'Q9Y678', 'Q9Y696', 'Q9Y697', 'Q9Y6A5', 'Q9Y6B6', 'Q9Y6D5', 'Q9Y6D9', 'Q9Y6E2', 'Q9Y6G3', 'Q9Y6I3', 'Q9Y6M1', 'Q9Y6Q1', 'Q9Y6Q9', 'Q9Y6V0', 'Q9Y6Y8', 'V5IRT4', 'V9GY51', 'V9GYM8', 'V9GZ52', 'V9GZ56', 'X1WI28', 'X6R700', 'X6R922', 'X6RLX0', 'X6RM59']\n"
     ]
    }
   ],
   "source": [
    "protein_data = pd.read_csv(r\"C:\\Users\\marga\\Downloads\\output_all_noU2OS_fixed.csv\") # change for different pdresult outputs \n",
    "protein_ids = sorted(protein_data[\"protein_id\"].unique())\n",
    "print(protein_ids)"
   ]
  },
  {
   "cell_type": "code",
   "execution_count": 9,
   "metadata": {},
   "outputs": [
    {
     "name": "stderr",
     "output_type": "stream",
     "text": [
      "  0%|          | 0/2651 [00:00<?, ?it/s]"
     ]
    },
    {
     "name": "stderr",
     "output_type": "stream",
     "text": [
      " 10%|▉         | 257/2651 [00:10<01:33, 25.69it/s]\n"
     ]
    },
    {
     "ename": "KeyboardInterrupt",
     "evalue": "",
     "output_type": "error",
     "traceback": [
      "\u001b[1;31m---------------------------------------------------------------------------\u001b[0m",
      "\u001b[1;31mKeyboardInterrupt\u001b[0m                         Traceback (most recent call last)",
      "Cell \u001b[1;32mIn[9], line 1\u001b[0m\n\u001b[1;32m----> 1\u001b[0m valid_proteins_cif, invalid_proteins_cif, existing_proteins_cif \u001b[39m=\u001b[39m download_alphafold_cif(\n\u001b[0;32m      2\u001b[0m     proteins\u001b[39m=\u001b[39;49mprotein_ids,\n\u001b[0;32m      3\u001b[0m     out_folder\u001b[39m=\u001b[39;49mcif_dir)\n",
      "File \u001b[1;32m~\\AppData\\Roaming\\Python\\Python38\\site-packages\\structuremap\\processing.py:76\u001b[0m, in \u001b[0;36mdownload_alphafold_cif\u001b[1;34m(proteins, out_folder, out_format, alphafold_cif_url, timeout, verbose_log)\u001b[0m\n\u001b[0;32m     71\u001b[0m name_in \u001b[39m=\u001b[39m alphafold_cif_url\u001b[39m.\u001b[39mformat(protein)\n\u001b[0;32m     72\u001b[0m name_out \u001b[39m=\u001b[39m os\u001b[39m.\u001b[39mpath\u001b[39m.\u001b[39mjoin(\n\u001b[0;32m     73\u001b[0m     out_folder,\n\u001b[0;32m     74\u001b[0m     out_format\u001b[39m.\u001b[39mformat(protein)\n\u001b[0;32m     75\u001b[0m )\n\u001b[1;32m---> 76\u001b[0m \u001b[39mif\u001b[39;00m os\u001b[39m.\u001b[39;49mpath\u001b[39m.\u001b[39;49misfile(name_out):\n\u001b[0;32m     77\u001b[0m     existing_proteins\u001b[39m.\u001b[39mappend(protein)\n\u001b[0;32m     78\u001b[0m \u001b[39melse\u001b[39;00m:\n",
      "File \u001b[1;32mc:\\Users\\marga\\anaconda3\\envs\\test\\lib\\genericpath.py:30\u001b[0m, in \u001b[0;36misfile\u001b[1;34m(path)\u001b[0m\n\u001b[0;32m     28\u001b[0m \u001b[39m\u001b[39m\u001b[39m\"\"\"Test whether a path is a regular file\"\"\"\u001b[39;00m\n\u001b[0;32m     29\u001b[0m \u001b[39mtry\u001b[39;00m:\n\u001b[1;32m---> 30\u001b[0m     st \u001b[39m=\u001b[39m os\u001b[39m.\u001b[39;49mstat(path)\n\u001b[0;32m     31\u001b[0m \u001b[39mexcept\u001b[39;00m (\u001b[39mOSError\u001b[39;00m, \u001b[39mValueError\u001b[39;00m):\n\u001b[0;32m     32\u001b[0m     \u001b[39mreturn\u001b[39;00m \u001b[39mFalse\u001b[39;00m\n",
      "\u001b[1;31mKeyboardInterrupt\u001b[0m: "
     ]
    }
   ],
   "source": [
    "valid_proteins_cif, invalid_proteins_cif, existing_proteins_cif = download_alphafold_cif(\n",
    "    proteins=protein_ids,\n",
    "    out_folder=cif_dir)"
   ]
  },
  {
   "cell_type": "code",
   "execution_count": null,
   "metadata": {},
   "outputs": [
    {
     "name": "stderr",
     "output_type": "stream",
     "text": [
      "100%|██████████| 2721/2721 [14:15<00:00,  3.18it/s] "
     ]
    },
    {
     "name": "stdout",
     "output_type": "stream",
     "text": [
      "2023-08-14 12:59:48> Valid proteins: 5\n",
      "2023-08-14 12:59:48> Invalid proteins: 147\n",
      "2023-08-14 12:59:48> Existing proteins: 2569\n"
     ]
    },
    {
     "name": "stderr",
     "output_type": "stream",
     "text": [
      "\n"
     ]
    }
   ],
   "source": [
    "valid_proteins_pae, invalid_proteins_pae, existing_proteins_pae = download_alphafold_pae(\n",
    "    proteins=protein_ids,\n",
    "    out_folder=pae_dir, \n",
    "    )"
   ]
  },
  {
   "cell_type": "code",
   "execution_count": null,
   "metadata": {},
   "outputs": [
    {
     "name": "stdout",
     "output_type": "stream",
     "text": [
      "Number of unique proteins with cif and pae file:  20712\n"
     ]
    }
   ],
   "source": [
    "# Test if equal protein files available in cif and pae folder\n",
    "test_identical_ids('C:/Users/marga/OneDrive/Desktop/summer project/tutorial_cif',\n",
    "                   'C:/Users/marga/OneDrive/Desktop/summer project/tutorial_pae')"
   ]
  },
  {
   "cell_type": "markdown",
   "metadata": {},
   "source": [
    "# Format AlphaFold data"
   ]
  },
  {
   "cell_type": "code",
   "execution_count": null,
   "metadata": {},
   "outputs": [],
   "source": [
    "all_proteins = valid_proteins_cif + existing_proteins_cif\n",
    "all_proteins = list(set(all_proteins))"
   ]
  },
  {
   "cell_type": "code",
   "execution_count": null,
   "metadata": {},
   "outputs": [
    {
     "ename": "KeyboardInterrupt",
     "evalue": "",
     "output_type": "error",
     "traceback": [
      "\u001b[1;31m---------------------------------------------------------------------------\u001b[0m",
      "\u001b[1;31mKeyboardInterrupt\u001b[0m                         Traceback (most recent call last)",
      "Cell \u001b[1;32mIn[118], line 32\u001b[0m\n\u001b[0;32m     30\u001b[0m \u001b[39mif\u001b[39;00m \u001b[39m__name__\u001b[39m \u001b[39m==\u001b[39m \u001b[39m\"\u001b[39m\u001b[39m__main__\u001b[39m\u001b[39m\"\u001b[39m:\n\u001b[0;32m     31\u001b[0m     cif_directory \u001b[39m=\u001b[39m cif_dir  \u001b[39m# Replace with the actual path to the CIF directory\u001b[39;00m\n\u001b[1;32m---> 32\u001b[0m     main(cif_directory)\n",
      "Cell \u001b[1;32mIn[118], line 22\u001b[0m, in \u001b[0;36mmain\u001b[1;34m(directory)\u001b[0m\n\u001b[0;32m     20\u001b[0m \u001b[39mfor\u001b[39;00m cif_file \u001b[39min\u001b[39;00m cif_files:\n\u001b[0;32m     21\u001b[0m     cif_path \u001b[39m=\u001b[39m os\u001b[39m.\u001b[39mpath\u001b[39m.\u001b[39mjoin(directory, cif_file)\n\u001b[1;32m---> 22\u001b[0m     \u001b[39mif\u001b[39;00m check_cif_attributes(cif_path):\n\u001b[0;32m     23\u001b[0m         valid_files\u001b[39m.\u001b[39mappend(cif_file)\n\u001b[0;32m     24\u001b[0m         protein_ids\u001b[39m.\u001b[39mappend(cif_file)  \u001b[39m# Add the filename to protein_ids\u001b[39;00m\n",
      "Cell \u001b[1;32mIn[118], line 4\u001b[0m, in \u001b[0;36mcheck_cif_attributes\u001b[1;34m(filepath)\u001b[0m\n\u001b[0;32m      2\u001b[0m \u001b[39mdef\u001b[39;00m \u001b[39mcheck_cif_attributes\u001b[39m(filepath):\n\u001b[0;32m      3\u001b[0m     \u001b[39mtry\u001b[39;00m:\n\u001b[1;32m----> 4\u001b[0m         structure \u001b[39m=\u001b[39m Bio\u001b[39m.\u001b[39;49mPDB\u001b[39m.\u001b[39;49mMMCIF2Dict\u001b[39m.\u001b[39;49mMMCIF2Dict(filepath)\n\u001b[0;32m      5\u001b[0m         required_attributes \u001b[39m=\u001b[39m [\u001b[39m'\u001b[39m\u001b[39mprotein_id\u001b[39m\u001b[39m'\u001b[39m, \u001b[39m'\u001b[39m\u001b[39mAA\u001b[39m\u001b[39m'\u001b[39m, \u001b[39m'\u001b[39m\u001b[39mposition\u001b[39m\u001b[39m'\u001b[39m, \u001b[39m'\u001b[39m\u001b[39mquality\u001b[39m\u001b[39m'\u001b[39m, \u001b[39m'\u001b[39m\u001b[39matom_id\u001b[39m\u001b[39m'\u001b[39m, \u001b[39m'\u001b[39m\u001b[39mx_coord\u001b[39m\u001b[39m'\u001b[39m, \u001b[39m'\u001b[39m\u001b[39my_coord\u001b[39m\u001b[39m'\u001b[39m, \u001b[39m'\u001b[39m\u001b[39mz_coord\u001b[39m\u001b[39m'\u001b[39m]\n\u001b[0;32m      7\u001b[0m         \u001b[39mfor\u001b[39;00m attr \u001b[39min\u001b[39;00m required_attributes:\n",
      "File \u001b[1;32mc:\\Users\\marga\\anaconda3\\envs\\test\\lib\\site-packages\\Bio\\PDB\\MMCIF2Dict.py:37\u001b[0m, in \u001b[0;36mMMCIF2Dict.__init__\u001b[1;34m(self, filename)\u001b[0m\n\u001b[0;32m     35\u001b[0m i \u001b[39m=\u001b[39m \u001b[39m0\u001b[39m\n\u001b[0;32m     36\u001b[0m n \u001b[39m=\u001b[39m \u001b[39m0\u001b[39m\n\u001b[1;32m---> 37\u001b[0m \u001b[39mfor\u001b[39;00m token \u001b[39min\u001b[39;00m tokens:\n\u001b[0;32m     38\u001b[0m     \u001b[39mif\u001b[39;00m token\u001b[39m.\u001b[39mlower() \u001b[39m==\u001b[39m \u001b[39m\"\u001b[39m\u001b[39mloop_\u001b[39m\u001b[39m\"\u001b[39m:\n\u001b[0;32m     39\u001b[0m         loop_flag \u001b[39m=\u001b[39m \u001b[39mTrue\u001b[39;00m\n",
      "File \u001b[1;32mc:\\Users\\marga\\anaconda3\\envs\\test\\lib\\site-packages\\Bio\\PDB\\MMCIF2Dict.py:106\u001b[0m, in \u001b[0;36mMMCIF2Dict._tokenize\u001b[1;34m(self, handle)\u001b[0m\n\u001b[0;32m    104\u001b[0m \u001b[39mdef\u001b[39;00m \u001b[39m_tokenize\u001b[39m(\u001b[39mself\u001b[39m, handle):\n\u001b[0;32m    105\u001b[0m     empty \u001b[39m=\u001b[39m \u001b[39mTrue\u001b[39;00m\n\u001b[1;32m--> 106\u001b[0m     \u001b[39mfor\u001b[39;00m line \u001b[39min\u001b[39;00m handle:\n\u001b[0;32m    107\u001b[0m         empty \u001b[39m=\u001b[39m \u001b[39mFalse\u001b[39;00m\n\u001b[0;32m    108\u001b[0m         \u001b[39mif\u001b[39;00m line\u001b[39m.\u001b[39mstartswith(\u001b[39m\"\u001b[39m\u001b[39m#\u001b[39m\u001b[39m\"\u001b[39m):\n",
      "File \u001b[1;32mc:\\Users\\marga\\anaconda3\\envs\\test\\lib\\codecs.py:319\u001b[0m, in \u001b[0;36mBufferedIncrementalDecoder.decode\u001b[1;34m(self, input, final)\u001b[0m\n\u001b[0;32m    314\u001b[0m \u001b[39mdef\u001b[39;00m \u001b[39m_buffer_decode\u001b[39m(\u001b[39mself\u001b[39m, \u001b[39minput\u001b[39m, errors, final):\n\u001b[0;32m    315\u001b[0m     \u001b[39m# Overwrite this method in subclasses: It must decode input\u001b[39;00m\n\u001b[0;32m    316\u001b[0m     \u001b[39m# and return an (output, length consumed) tuple\u001b[39;00m\n\u001b[0;32m    317\u001b[0m     \u001b[39mraise\u001b[39;00m \u001b[39mNotImplementedError\u001b[39;00m\n\u001b[1;32m--> 319\u001b[0m \u001b[39mdef\u001b[39;00m \u001b[39mdecode\u001b[39m(\u001b[39mself\u001b[39m, \u001b[39minput\u001b[39m, final\u001b[39m=\u001b[39m\u001b[39mFalse\u001b[39;00m):\n\u001b[0;32m    320\u001b[0m     \u001b[39m# decode input (taking the buffer into account)\u001b[39;00m\n\u001b[0;32m    321\u001b[0m     data \u001b[39m=\u001b[39m \u001b[39mself\u001b[39m\u001b[39m.\u001b[39mbuffer \u001b[39m+\u001b[39m \u001b[39minput\u001b[39m\n\u001b[0;32m    322\u001b[0m     (result, consumed) \u001b[39m=\u001b[39m \u001b[39mself\u001b[39m\u001b[39m.\u001b[39m_buffer_decode(data, \u001b[39mself\u001b[39m\u001b[39m.\u001b[39merrors, final)\n",
      "\u001b[1;31mKeyboardInterrupt\u001b[0m: "
     ]
    }
   ],
   "source": [
    "import Bio.PDB.MMCIF2Dict\n",
    "def check_cif_attributes(filepath):\n",
    "    try:\n",
    "        structure = Bio.PDB.MMCIF2Dict.MMCIF2Dict(filepath)\n",
    "        required_attributes = ['protein_id', 'AA', 'position', 'quality', 'atom_id', 'x_coord', 'y_coord', 'z_coord']\n",
    "        \n",
    "        for attr in required_attributes:\n",
    "            if attr not in structure:\n",
    "                return False\n",
    "        return True\n",
    "    except Exception as e:\n",
    "        print(f\"Error processing {filepath}: {e}\")\n",
    "        return False\n",
    "\n",
    "def main(directory):\n",
    "    cif_files = [filename for filename in os.listdir(directory) if filename.endswith('.cif')]\n",
    "    valid_files = []\n",
    "    protein_ids = []\n",
    "    \n",
    "    for cif_file in cif_files:\n",
    "        cif_path = os.path.join(directory, cif_file)\n",
    "        if check_cif_attributes(cif_path):\n",
    "            valid_files.append(cif_file)\n",
    "            protein_ids.append(cif_file)  # Add the filename to protein_ids\n",
    "    \n",
    "    print(f\"Valid CIF files: {valid_files}\")\n",
    "    print(f\"Count of Valid Files: {len(valid_files)}\")\n",
    "    print(f\"Count of Protein IDs: {len(protein_ids)}\")\n",
    "\n",
    "if __name__ == \"__main__\":\n",
    "    cif_directory = cif_dir  # Replace with the actual path to the CIF directory\n",
    "    main(cif_directory)\n"
   ]
  },
  {
   "cell_type": "code",
   "execution_count": 12,
   "metadata": {},
   "outputs": [
    {
     "name": "stdout",
     "output_type": "stream",
     "text": [
      "['A0A7I2V453', 'P40227', 'P04844', 'Q8NBY1', 'Q14847', 'A0A2R8Y4T1', 'Q8NBS9', 'A0A096LNZ9', 'O75369', 'A0A8I5KP74', 'O75940', 'P62995', 'P26447', 'P04075', 'P43304', 'O15400', 'A0A8I5KUC3', 'P09525', 'A0A499FJY3', 'Q02224', 'J3KTL2', 'A0A7P0T9U7', 'Q13123', 'O95347', 'E9PNF7', 'Q9Y450', 'Q96EY1', 'Q16204', 'Q9BY44', 'H7BZ46', 'K7ER96', 'Q9NX62', 'P53621', 'Q9NZ32', 'P13796', 'Q5T1N2', 'Q2TAY7', 'Q9NTJ3', 'P53602', 'A0A494C108', 'P49755', 'A0A8I5KX85', 'Q66K74', 'O43707', 'P62258', 'E9PGW3', 'Q14320', 'K7ER00', 'O75083', 'Q9NSV4', 'A0A669KAU7', 'P40938', 'O95292', 'P61586', 'A0A494C0B4', 'E7ERK9', 'Q12765', 'A0A0C4DG63', 'F8VRV5', 'Q99622', 'P08237', 'E9PKG1', 'F5H5N1', 'G8JLB3', 'Q9BVC3', 'Q9UMX0', 'Q9UQE7', 'Q8TF05', 'Q9Y6Q1', 'Q86VS8', 'P30405', 'P49368', 'Q9Y383', 'Q13201', 'P61086', 'Q8TAQ2', 'P07954', 'P12429', 'A0A2U3TZL5', 'Q9UHI6', 'Q9H840', 'B4DDF4', 'Q9BR76', 'P53990', 'O76080', 'O15231', 'O60313', 'P04040', 'P48681', 'Q92614', 'Q5JPE7', 'E7EVG6', 'Q08209', 'X6RLX0', 'J3KRC4', 'E9PKP7', 'O43395', 'P51553', 'Q2NL82', 'A0A0G2JRX8', 'P00519', 'P32004', 'Q5T011', 'Q92878', 'P69905', 'O75844', 'P20839', 'P46779', 'Q68DW7', 'A0A0D9SFE4', 'Q8WYA6', 'Q99497', 'Q99543', 'Q3LXA3', 'P18583', 'Q14116', 'O15498', 'P36957', 'Q8TC07', 'P55265', 'A0A087WTF6', 'Q8TCA0', 'H7BZ55', 'P08865', 'P52306', 'P61088', 'Q13409', 'O00186', 'V9GYM8', 'P11142', 'P27361', 'Q5VWV2', 'O00567', 'E9PRR1', 'P49757', 'P36915', 'A0A8I5KYF1', 'O00566', 'P54886', 'Q15370', 'Q16643', 'P48739', 'O43684', 'A2ACR1', 'P16435', 'Q6UX04', 'Q96EE3', 'Q92667', 'Q9Y3B4', 'P04264', 'P31939', 'Q99961', 'Q9H9B4', 'Q9NZZ3', 'D6RBV2', 'Q8IVS2', 'P06748', 'P78527', 'D3DQV9', 'O75323', 'Q9H0H5', 'Q5W0B1', 'A0A087WT44', 'Q8IWE4', 'Q9Y2A7', 'G3V0E4', 'C9JIR6', 'Q9NSD9', 'E9PFP8', 'Q5JR04', 'Q9Y5W3', 'Q00059', 'Q9NYJ8', 'P22676', 'Q96ME1', 'A0A024R4E5', 'Q96LD4', 'P11388', 'P55010', 'Q9H488', 'P55809', 'Q9HAN9', 'A6NLP5', 'O60828', 'A0A7I2V2U6', 'Q5JU67', 'Q02790', 'Q96AC1', 'H0Y993', 'O75822', 'P14618', 'Q5QPL9', 'Q93009', 'Q5JSL0', 'H0YC66', 'P42126', 'Q96AT1', 'Q9C0C2', 'P42765', 'Q5T4S7', 'Q96AA8', 'Q9Y3T9', 'P78362', 'Q9Y3I0', 'Q15645', 'Q9BY67', 'Q8WUF5', 'B5MCF9', 'Q9HB90', 'P48147', 'Q9Y575', 'E9PRG8', 'P51397', 'P24666', 'P45985', 'A0A0G2JH37', 'Q9BVC5', 'Q9H6W3', 'P62495', 'P40926', 'Q8WZ82', 'Q969V3', 'Q9BQ70', 'P04080', 'A0A1W2PPZ5', 'O15091', 'P20290', 'P11182', 'F6RFD5', 'Q7Z408', 'P31150', 'Q9UK76', 'O00233', 'Q16831', 'Q96PK6', 'P21912', 'C9JXA5', 'H0Y7V4', 'Q9NSE4', 'P82664', 'Q9UM07', 'O95340', 'Q9Y5T5', 'Q99575', 'F8VR32', 'P12268', 'Q8TC92', 'Q6WRI0', 'F5H8D7', 'P32119', 'Q9H2C0', 'Q9BUF5', 'O75821', 'A0A494BZV2', 'Q8NFW8', 'P16152', 'Q9BY89', 'Q8NFH8', 'H3BNC9', 'Q6ZNA1', 'Q92783', 'Q96MW1', 'Q96RT1', 'Q9BWT7', 'Q9NP61', 'A6NL66', 'A0A7P0TB58', 'O15173', 'P31948', 'P62854', 'Q86X55', 'P28838', 'A0A087WX29', 'Q9UNN5', 'Q08945', 'P98179', 'Q14690', 'G3V4K3', 'O75223', 'Q9NR28', 'Q9Y2Z4', 'Q08170', 'Q15233', 'Q86YQ8', 'A0A1B0GUS1', 'A0A087X251', 'P11166', 'Q15738', 'B1AKR6', 'Q8IUI8', 'Q9UIG0', 'Q9Y371', 'E9PMI6', 'Q9H6T3', 'Q15417', 'Q70CQ2', 'Q14318', 'Q9HCE1', 'Q9H2P0', 'P27824', 'Q9P0V9', 'O14579', 'Q9H7D0', 'A0A0A0MQV3', 'P26196', 'P07858', 'Q8IZP0', 'P48634', 'Q9BRR6', 'Q9C037', 'Q9BYT8', 'A0A087WVZ9', 'P18859', 'Q96BR5', 'Q14457', 'Q9NZJ6', 'P22314', 'P16220', 'P31275', 'P02786', 'F5GY88', 'Q15773', 'A0A0A0MQT0', 'Q16698', 'A0A804HL31', 'Q96E11', 'Q96KX2', 'Q32MZ4', 'H3BLT8', 'M0QXT0', 'Q5U5X0', 'Q9NVG8', 'P82933', 'Q10570', 'P61289', 'Q15904', 'A0A1B0GVI3', 'Q8TC59', 'Q01469', 'Q6IAA8', 'Q9H9Q2', 'P63104', 'Q9UJM3', 'P12883', 'Q9NYL9', 'Q9Y5A9', 'Q16799', 'Q9BXI2', 'O14879', 'P29373', 'A0A590UK80', 'P21283', 'P15153', 'P17050', 'P25788', 'Q92934', 'P15927', 'Q8IYS1', 'P27816', 'Q9Y3L5', 'P51571', 'O43896', 'Q9GZS3', 'Q9H6F5', 'P30041', 'Q9NVM9', 'Q96A49', 'A0A087X1C5', 'P06733', 'H0Y714', 'O95816', 'A0A7I2V2U2', 'O75896', 'P54136', 'O14647', 'E9PJK4', 'A0A6Q8PHK0', 'Q9UBG0', 'Q674R7', 'A0A0A0MQV6', 'P08670', 'Q53H96', 'O95487', 'P09601', 'Q8N1F7', 'Q13263', 'Q8TB96', 'Q9NZT2', 'J3KP15', 'P49773', 'Q15751', 'Q86X76', 'B1AK63', 'P25445', 'A0A7I2V5N4', 'O43390', 'Q03252', 'P06744', 'P61158', 'Q9H1K1', 'A0A7P0T896', 'Q8NCN2', 'P26641', 'Q86XP3', 'O75874', 'Q96FS4', 'B7ZC38', 'Q9UBQ7', 'Q7Z2E3', 'Q9P265', 'Q14696', 'O75643', 'P30044', 'A0A7I2V649', 'Q9NZM1', 'C9J3F6', 'O43665', 'P67870', 'Q14324', 'O15371', 'A0A087WYT3', 'H0YDT6', 'Q9H5X1', 'A0A1B0GVW0', 'Q9BRJ6', 'Q9BV86', 'P18206', 'Q15459', 'Q9Y696', 'A0A3B3IRW6', 'P48444', 'P83916', 'P31930', 'E7EWK3', 'P33991', 'Q9H814', 'P07437', 'O15054', 'Q9BYX4', 'Q6PL24', 'Q9ULX9', 'Q7Z4V5', 'Q9HBV2', 'J3QL71', 'O94916', 'P34897', 'Q9NVP1', 'P42167', 'A0A087WY31', 'A0A669KBF5', 'Q08211', 'Q9H0C8', 'G3V3H7', 'Q9H0B6', 'A6NHJ8', 'P61019', 'Q14566', 'Q96FV9', 'A0A0C4DG89', 'G5E9L0', 'A0A804HKE8', 'E9PK91', 'E7EVJ4', 'F5GXF5', 'O60934', 'P21291', 'Q9Y520', 'Q8IUY3', 'Q9UHY7', 'P53816', 'P10606', 'P29317', 'Q8N5C6', 'Q9Y2D8', 'P08582', 'Q00796', 'P04406', 'Q5T7N2', 'A0A7I2YQG2', 'A8MYV0', 'P31040', 'Q9Y4D7', 'D6R954', 'P43121', 'H9ZYI9', 'C9IYN9', 'H0YMJ0', 'P08758', 'E9PC52', 'P06576', 'P09012', 'O15226', 'J3KRX5', 'H0Y4W2', 'Q13547', 'H3BUV7', 'P46937', 'C9JLU1', 'V9GZ56', 'P35249', 'Q9NQW6', 'Q86U44', 'P37837', 'Q9HB71', 'A0A804HJB7', 'P31937', 'Q01538', 'Q9Y4B6', 'Q8NFC6', 'A0A087WU57', 'P50502', 'O95336', 'D6REX3', 'O94763', 'Q6NXT6', 'Q9UDY4', 'Q16512', 'Q14151', 'O96013', 'Q9ULC4', 'Q5JTH9', 'Q8N8N7', 'Q99459', 'O60264', 'Q9NVT9', 'Q9GZR7', 'P26373', 'Q96ST2', 'P20073', 'P14635', 'X1WI28', 'Q14258', 'Q96JQ0', 'P49750', 'Q13541', 'A0A590UJS4', 'A0A2R8YEL6', 'Q15042', 'Q6P2S7', 'P30040', 'O75475', 'P68402', 'P04183', 'P84085', 'Q562R1', 'O15327', 'P48960', 'P17275', 'O43615', 'A0A0G2JLB3', 'Q14008', 'Q9Y5K6', 'O00273', 'O00148', 'Q9P035', 'P23511', 'P51116', 'Q9HB40', 'P17706', 'Q86VP6', 'Q9NPQ8', 'A0A8I5KZ68', 'P45877', 'Q8TDD1', 'P60893', 'Q9Y3D8', 'C9J384', 'Q99714', 'A0A804HKG9', 'Q86U28', 'Q14315', 'P07741', 'Q9NZB2', 'Q9Y2C9', 'P53350', 'P14550', 'P38159', 'Q9P2D3', 'Q96T76', 'Q9Y3C8', 'P36871', 'Q9BQE5', 'A0A804HJG7', 'P50570', 'Q6KB66', 'O00764', 'P62266', 'Q5W0H4', 'P45974', 'B1AKQ8', 'Q9UJW0', 'B1AKL4', 'G3V1B8', 'O75955', 'Q9UBV8', 'Q9BQ52', 'Q9NXC5', 'P39019', 'Q99661', 'O95639', 'Q99613', 'Q5T123', 'O00571', 'O15160', 'A0A087WYF8', 'Q9NUQ6', 'K7EPV0', 'Q14C86', 'H0YA82', 'Q9H2G2', 'H7C259', 'Q9BZR9', 'E2QRF9', 'Q96EY5', 'Q13237', 'C9J6A7', 'P22626', 'Q7Z692', 'O15460', 'Q9H3H3', 'O15355', 'O14964', 'A4D2P6', 'P46013', 'Q9Y2X7', 'G3V325', 'Q9H2P9', 'P14678', 'P04843', 'A0A0D9SGE8', 'Q96JC9', 'F8WCA0', 'F6T7Q3', 'P07237', 'Q13395', 'P05023', 'Q9Y6G3', 'Q9H0A0', 'Q9Y2Z0', 'Q9NZM5', 'P35520', 'A0A7I2YQT2', 'Q8N806', 'A0A5H1ZRQ2', 'Q9GZS1', 'Q86W92', 'E9PHY0', 'Q00403', 'Q96R06', 'P12277', 'P62269', 'P46459', 'Q92522', 'E9PFN5', 'Q9NVI7', 'Q9HAB8', 'O14979', 'Q9H9P8', 'P02549', 'Q13617', 'P29083', 'P08754', 'Q15007', 'Q32Q12', 'A0A0A6YYL4', 'Q9NTZ6', 'Q9Y6D9', 'P62877', 'V9GY51', 'P11766', 'Q92890', 'C9JA93', 'A0A0A0MR02', 'A0A2R8YDN7', 'Q8TF21', 'P26006', 'A0A494C1N8', 'Q92575', 'O00231', 'E7EUI6', 'Q15121', 'Q9H6S0', 'A0A7I2YQV1', 'A0A494C0U1', 'Q9NTU7', 'P63000', 'A0A7P0TA85', 'A0A669KBC2', 'A0A8I5KTZ9', 'A5D8V6', 'E9PC15', 'A0A6I8PU73', 'Q12931', 'Q9BPX3', 'Q92922', 'P15311', 'Q8N2F6', 'Q9UMS4', 'Q9Y676', 'Q13243', 'A0A087X0M4', 'H9KV75', 'A0A7P0T9C4', 'A0A0C4DFM1', 'P09960', 'P11387', 'Q15021', 'O95239', 'Q15056', 'H7BXJ4', 'Q6ZN50', 'E9PR49', 'P84090', 'F5H872', 'Q9ULW0', 'B4DLR8', 'Q96J01', 'O75962', 'P28066', 'Q15019', 'Q96A33', 'A0JLT2', 'P07737', 'Q5VZL5', 'Q9Y2L1', 'Q9NYZ3', 'P61224', 'Q9Y5X2', 'P78325', 'G5EA09', 'F8VRH0', 'P85037', 'Q13255', 'Q9NUQ8', 'Q8N5K1', 'Q9H3K6', 'Q9BXV9', 'O95218', 'Q9BZZ5', 'F5GZ97', 'P13639', 'Q9UNE7', 'O95235', 'O75386', 'Q9BTX1', 'P53384', 'B1ANG9', 'Q6P3W7', 'P52594', 'J3QR64', 'Q15437', 'H3BV55', 'P04818', 'O60701', 'P52788', 'Q7L8L6', 'P61020', 'O14646', 'A0A2R8Y702', 'P05386', 'Q5T8P6', 'Q9H0R4', 'Q9UDT6', 'P82921', 'Q9BUH6', 'Q9NZ63', 'Q96I24', 'Q96G03', 'A0A590UJM5', 'Q9Y394', 'O00116', 'O15145', 'H0Y5K5', 'G3XAJ6', 'Q06547', 'O00622', 'Q9NR30', 'Q86Y13', 'P31949', 'Q9BQP7', 'A0A2R8Y7Z0', 'Q14152', 'A0A590UJS9', 'Q12888', 'P55039', 'Q13751', 'Q9NRL2', 'F5H7W8', 'Q8IX12', 'Q9H0U4', 'Q13641', 'Q13442', 'A0A286YFF7', 'A0A8I5KQH9', 'Q9UK45', 'A0A087X142', 'J3QQ67', 'A0A1W2PR36', 'P51572', 'E9PPE7', 'O14744', 'P62847', 'H0YHX9', 'Q6NZI2', 'P38606', 'B1ALY0', 'P49792', 'Q13946', 'A0A3B3ITW3', 'Q6V1P9', 'P37802', 'Q14174', 'Q96S82', 'Q01581', 'P46821', 'Q6NVH7', 'Q9UBQ5', 'A0A087X0W8', 'P62899', 'P07305', 'Q9BRA2', 'Q8ND24', 'P13929', 'P55884', 'A0A7I2V4L7', 'F8WDS6', 'A0A5F9ZI73', 'Q9NR50', 'P61978', 'P30153', 'P49736', 'Q9H3N1', 'Q99436', 'A0A7P0TA35', 'P22234', 'P21333', 'O75179', 'P30825', 'F8VV52', 'F8VVU1', 'P15880', 'Q15006', 'A0A6I8PTT9', 'P49959', 'Q13283', 'B0QZ18', 'Q9NRN7', 'O60749', 'P60903', 'P12236', 'Q01970', 'P03952', 'Q16527', 'O14613', 'Q14974', 'A0A804CDA6', 'Q96IU4', 'O15260', 'A0A0G2JIW1', 'P35749', 'Q9NZW5', 'Q9BTU6', 'Q8TAT6', 'P12004', 'A0A1B0GVH5', 'Q9HC38', 'P27708', 'C9J2G0', 'A0A1B0GTG2', 'P67936', 'P62424', 'Q9Y305', 'H7BYX9', 'P32302', 'Q13753', 'Q96CN7', 'Q9H2U2', 'Q96RW7', 'Q9H773', 'A0A140T9T7', 'P51991', 'Q9NX46', 'A0A1W2PQV2', 'Q712K3', 'A0A3B3IUB5', 'O00592', 'O00625', 'Q07864', 'Q9BVP2', 'E5RFY4', 'P49411', 'P13674', 'P47897', 'P38432', 'Q8NEZ5', 'A0A7P0T9X2', 'O75340', 'A0A7I2V2H9', 'P00492', 'O60610', 'P20674', 'A0A5K1VW76', 'A0A6I8PIV1', 'P24928', 'Q99460', 'A0A494C0W0', 'F5H0R1', 'F8VZX2', 'Q14593', 'H0YIV4', 'Q9BZL6', 'Q14677', 'J3KQ48', 'A0A2R8YCX2', 'Q92598', 'O75607', 'Q96PU8', 'Q9UKF6', 'Q10567', 'A0A7P0TAR0', 'Q53GQ0', 'Q9GZP4', 'P62306', 'Q14694', 'P51665', 'P26038', 'P35998', 'P60709', 'Q12797', 'Q9ULH1', 'Q9H967', 'Q15434', 'P61221', 'Q9NP62', 'Q9NX55', 'A0A1B0GTL5', 'Q9NXV6', 'P18031', 'P04632', 'Q9UKD2', 'A6NDG6', 'Q9UNF1', 'Q01955', 'Q9H299', 'O75915', 'B7Z4K4', 'Q05397', 'Q9HAU0', 'G3V5T0', 'Q8IU60', 'Q5VT52', 'Q8IVM0', 'O95295', 'P10155', 'Q96I99', 'A0A087WVZ6', 'Q8TB72', 'A5YKK6', 'P61604', 'Q9H974', 'P40121', 'O60884', 'Q14137', 'Q96CF2', 'Q96RS0', 'H3BMM9', 'P40925', 'Q9H3S7', 'Q9UKV3', 'D3YTB1', 'Q4KMP7', 'Q8IVF2', 'M0QYZ3', 'Q9C0J8', 'Q9Y678', 'Q7RTS6', 'Q8N4Q0', 'Q5EBL4', 'Q9BWJ5', 'O75348', 'Q6P2S0', 'E9PK25', 'Q14676', 'Q86U90', 'A0A1W2PRL5', 'P10909', 'P52732', 'P17655', 'Q66K14', 'Q9Y3E0', 'O95155', 'Q5SRE5', 'P00367', 'A0A087X2I1', 'G8JLA2', 'O00299', 'P35268', 'Q86UK7', 'P50452', 'G3V200', 'P22087', 'Q92917', 'Q9ULH7', 'Q6P2E9', 'P60981', 'H0YNG3', 'Q96EL3', 'D3DPS3', 'Q14192', 'A0A0A0MQX8', 'Q16576', 'Q9NS69', 'Q04917', 'P62280', 'Q9Y6B6', 'A0A7I2V2S3', 'P08729', 'O60343', 'P19447', 'Q99598', 'Q8WVT3', 'A0A7I2SU25', 'Q6UWH4', 'E7EX17', 'Q8N2W9', 'H7C4F1', 'O15297', 'O43583', 'P16989', 'Q10713', 'Q13153', 'P49768', 'O15511', 'P20042', 'P38919', 'A6NMQ3', 'O43617', 'Q7L0J3', 'Q14527', 'C9JSZ1', 'P10768', 'Q14240', 'O14531', 'C9JPV8', 'P13010', 'I3L2L5', 'Q9BQE3', 'Q96S59', 'Q16658', 'I3L0A0', 'P27694', 'Q9Y5L4', 'Q9Y2T2', 'Q15942', 'P11413', 'A0A7I2V334', 'Q15836', 'H0YD13', 'Q5T440', 'Q15020', 'P51809', 'A0A0D9SFB1', 'P20618', 'A0A590UJ67', 'P54920', 'A0A804HKC5', 'O00217', 'P61758', 'Q86VY4', 'Q9P013', 'Q15334', 'P17676', 'Q5UIP0', 'Q8NC51', 'Q9BUQ8', 'Q16740', 'P09429', 'Q06203', 'C9JJV6', 'P50454', 'H0YMB0', 'O75947', 'P07384', 'O75934', 'P09417', 'E9PPA0', 'A0A0A0MSB8', 'Q92993', 'Q9Y399', 'A0A087X253', 'Q6PKG0', 'O14981', 'H0YFD6', 'P46199', 'Q5QPM7', 'P39656', 'P08243', 'Q9Y6V0', 'A0A1C7CYX9', 'Q7Z5K2', 'O60784', 'Q9NR45', 'A0A0A0MTL6', 'P50395', 'O75420', 'Q9BQK8', 'Q01518', 'Q9Y6A5', 'P61024', 'Q06830', 'Q9H074', 'Q9HAV4', 'B8ZWD1', 'B7Z2L0', 'Q7L1Q6', 'C9JQ90', 'A0A7I2V3R8', 'Q10471', 'F8W031', 'P30048', 'Q92597', 'Q96C01', 'C9JQD4', 'P13861', 'P07942', 'Q9NRU3', 'Q9P258', 'E9PEX6', 'Q07960', 'O75347', 'Q9Y6Y8', 'P17931', 'Q9BW72', 'P51153', 'K7EKE6', 'Q96A65', 'Q8TDI0', 'P08579', 'Q6ZRI0', 'Q5D0E6', 'Q14980', 'P35241', 'Q9Y613', 'E9PQX9', 'Q16181', 'P67809', 'A0A0A0MT68', 'H0YBZ4', 'K7ERY2', 'O60271', 'E9PJN9', 'O00151', 'P23396', 'H0YEH2', 'P47755', 'Q86TG1', 'Q9Y3Z3', 'P09874', 'Q96KP4', 'P52209', 'Q8N543', 'O60244', 'P19838', 'Q02127', 'Q6IBS0', 'P51452', 'I1YAP6', 'Q9BRX5', 'A0A8I5QKX1', 'P19338', 'K7EQH1', 'Q53S33', 'Q9HDC9', 'O75396', 'Q9H1D9', 'O43776', 'P62304', 'P29372', 'Q8N693', 'P47985', 'A0A2R8Y5A2', 'A0A2U3TZM0', 'Q9Y617', 'Q92576', 'Q13242', 'P05141', 'Q9HAV7', 'Q6NUK1', 'A0A0A0MT01', 'Q5BKZ1', 'O95221', 'P00505', 'P33316', 'A0A0U1RQV4', 'A0A7P0T890', 'A8MXZ9', 'P48047', 'Q2NKX8', 'P55263', 'P62829', 'P62834', 'P52597', 'Q15029', 'P63220', 'P30626', 'Q9BRT6', 'Q15907', 'Q9Y230', 'A0A7P0P278', 'Q9UHM6', 'Q8NHQ9', 'A0A6Q8PFH9', 'P05455', 'Q13151', 'Q92769', 'Q9Y3F4', 'P28070', 'P09172', 'Q7KZF4', 'P35270', 'Q9BPX5', 'C9JQZ7', 'Q9NUJ1', 'Q96TA2', 'Q9NWT6', 'Q9H0K6', 'O75330', 'A4D0V7', 'P43246', 'P61981', 'Q13596', 'P29590', 'Q58WW2', 'A0A087WYR0', 'P60660', 'M0R165', 'P49189', 'O95071', 'Q8TDQ7', 'O15305', 'Q92520', 'Q99747', 'Q9BRX2', 'O00442', 'H7BXQ8', 'P07900', 'P36404', 'P46109', 'O43913', 'Q6WKZ4', 'J3QL56', 'Q96EY7', 'E7ETH1', 'Q8WVJ2', 'Q8NDI1', 'H0YDU8', 'P31942', 'A8MXL6', 'A0A087WXM8', 'P31153', 'O60739', 'Q9H6Z4', 'Q96HC4', 'H3BQZ7', 'B7Z3Z9', 'Q9H910', 'Q96KA5', 'A0A7I2V5F1', 'Q8N7H5', 'Q9Y6M1', 'O00330', 'O00429', 'Q1JUQ5', 'Q92804', 'Q14997', 'Q9H223', 'Q6NVY1', 'P07814', 'Q14651', 'C9J2P0', 'P21980', 'Q16531', 'Q7Z5L9', 'G3V3H3', 'Q04837', 'Q9NVS2', 'Q9Y221', 'Q6P1X6', 'Q8TCU6', 'Q9UNX4', 'P49720', 'P60468', 'Q92538', 'Q9Y295', 'Q9BZA7', 'P62195', 'P21399', 'H0YM34', 'Q9Y262', 'Q8WWM7', 'Q9Y4L1', 'Q5RKV6', 'Q8WXI9', 'P14735', 'H3BLV9', 'Q14789', 'O43488', 'Q9NPE3', 'Q9NQ29', 'Q8IYT3', 'P36542', 'Q8WTT2', 'P18754', 'Q13564', 'P36543', 'P53365', 'E5RH53', 'A0A7P0T7V2', 'Q86Y82', 'Q8N6T3', 'P62805', 'Q13438', 'P53582', 'Q9UIJ7', 'P25705', 'O94903', 'Q6XZF7', 'O14737', 'Q9P2E9', 'Q68CZ2', 'Q9H792', 'E9PF32', 'D6RCP9', 'A1X283', 'P23497', 'P0DMU7', 'O43865', 'Q9NRD9', 'Q8WUH6', 'Q92609', 'P07195', 'A0A8I5KW59', 'Q13435', 'A0A6Q8PFI7', 'Q9NRX4', 'P25398', 'P08621', 'Q9UKX7', 'E9PRB9', 'P22102', 'O75146', 'Q99715', 'P50542', 'Q5JR08', 'Q14691', 'Q9C0F1', 'P02765', 'Q9H832', 'Q9Y697', 'F5GX30', 'Q76KX8', 'Q8TEQ6', 'Q8IZD4', 'A0A7P0TBP9', 'Q15819', 'H0YHG0', 'Q86TB9', 'Q8N4H5', 'O75717', 'Q9NU22', 'Q15293', 'P62937', 'P00558', 'P50914', 'E7EW84', 'P08133', 'O00154', 'H0Y8S5', 'A0A804HK65', 'F5GZ78', 'P0CG43', 'Q9UNP9', 'Q9BUP3', 'Q7Z460', 'O95219', 'P05787', 'P58546', 'Q9Y2W1', 'K7ESE9', 'A0A1W2PPV8', 'Q9UHR4', 'O94804', 'P51854', 'Q9UQ80', 'P62820', 'B1AM31', 'Q9BTT0', 'P30085', 'A0A6Q8PHE5', 'P11172', 'P68032', 'Q15025', 'O43148', 'P56537', 'B4DY08', 'Q14247', 'Q9UBF9', 'Q7Z3K3', 'Q9UBB4', 'Q9UHV9', 'O14950', 'Q07021', 'P56962', 'J3KTA4', 'Q9P2N5', 'Q86SX6', 'P42166', 'Q9UHR5', 'Q9C0H2', 'A0A7P0TBE2', 'P62753', 'Q99541', 'Q9BZE9', 'O95466', 'Q9Y266', 'Q9NR99', 'P16949', 'B1AXG1', 'P84095', 'Q8NBQ5', 'Q86UX7', 'V9GZ52', 'F8WJN3', 'P61353', 'P50990', 'P22061', 'P13073', 'Q93052', 'A0A0C4DGA2', 'Q15717', 'O00267', 'O95373', 'Q9BU23', 'Q96RP9', 'P62244', 'Q9NZ09', 'D6RA20', 'P62917', 'A0A2R8Y6Y7', 'P54727', 'Q9NTK5', 'P05091', 'P22570', 'Q12906', 'Q9H7M6', 'P61106', 'P26599', 'Q9NYB9', 'Q9C0C9', 'Q7LG56', 'Q9H5Q4', 'Q6F5E8', 'P50552', 'Q9BTE3', 'Q86YN6', 'Q01968', 'Q9BUJ2', 'H0Y907', 'Q4R9M9', 'A0A0G2JN84', 'Q92734', 'E5RKA3', 'I3L397', 'Q7Z7K0', 'A0A804F6T5', 'Q15393', 'A0A024RCR6', 'Q4VCS5', 'Q01085', 'B0QYK0', 'J3KNF4', 'P04792', 'P49903', 'Q8NGC7', 'E9PDP5', 'Q9NQX3', 'Q6DD88', 'Q99470', 'A2VEC9', 'Q53T59', 'P49321', 'Q9BRL6', 'A0A024QZ33', 'B4DJL6', 'Q6ZUJ8', 'Q96DI7', 'Q9HB07', 'O00287', 'H0YH40', 'O75113', 'Q9UHQ9', 'O95777', 'P30050', 'A0A3B3IUA2', 'A8CG34', 'Q969S3', 'Q9BTC0', 'Q9H6R7', 'P22033', 'P62316', 'F8W036', 'A0A0J9YYL3', 'Q7Z7H5', 'D6RF35', 'M0R0F0', 'A0A0A0MSA9', 'Q3KNS6', 'Q9NYV4', 'P49327', 'Q96N66', 'Q15365', 'Q96QC0', 'Q9NYF8', 'Q8IWR1', 'P10253', 'Q9Y3C6', 'A7XZE4', 'O95400', 'A0A1B0GVD3', 'P08559', 'X6R922', 'P23526', 'Q9GZT3', 'K7ENR6', 'Q9Y3D0', 'Q9H4G8', 'P63126', 'Q9Y263', 'P10599', 'Q9H9A6', 'A0A087X1R1', 'Q13200', 'P61160', 'Q8IUA7', 'Q9NR12', 'Q08752', 'M0R0F9', 'P20700', 'Q9Y281', 'Q13813', 'Q05048', 'P17813', 'Q13043', 'Q8TF01', 'Q96G46', 'Q13177', 'Q15424', 'Q15008', 'P12956', 'Q99757', 'E7EVX8', 'P62314', 'A0A804HL40', 'P54578', 'Q9P0L0', 'E5KLJ9', 'Q5VVV3', 'P46926', 'P35658', 'Q96KT7', 'P26639', 'Q9NRG1', 'P41091', 'Q96C19', 'Q9H3Q1', 'Q9HCK8', 'P53396', 'I3L116', 'Q96PZ0', 'Q14126', 'P54819', 'Q9NT22', 'Q9P225', 'P52907', 'O43264', 'H3BRG5', 'P00568', 'Q15149', 'P50479', 'Q86VV4', 'Q5SWX3', 'G3V3E8', 'Q9Y4E8', 'Q86UU1', 'Q9Y2R4', 'Q09666', 'A0A8I5KVV1', 'P53999', 'Q9UQB8', 'Q92547', 'Q9Y2W2', 'O43491', 'Q06124', 'Q13630', 'O60763', 'A0A6Q8PFY2', 'Q12874', 'Q9P273', 'Q8TCS8', 'Q9H2G4', 'P09104', 'Q15750', 'P25205', 'P25686', 'O14974', 'A0A087X0X3', 'O94760', 'Q9UKY7', 'P17987', 'Q9UN37', 'G5E9E7', 'A0A8I5KX71', 'Q9BVK6', 'Q16666', 'Q99733', 'P40189', 'O75306', 'P28062', 'P55060', 'A0A0U1RQR5', 'Q6P1M0', 'P00441', 'O94992', 'Q01082', 'Q9P0J1', 'Q9UL25', 'Q9NPD8', 'A0A7I2V539', 'Q7Z3Z3', 'Q92973', 'Q8WU58', 'Q9UBS4', 'A6NJI9', 'P35237', 'Q00534', 'Q13948', 'P02751', 'Q5TDH0', 'Q16836', 'C9JFR7', 'Q92665', 'O00487', 'Q8IYB7', 'Q92879', 'Q14684', 'Q9UNM6', 'O94925', 'Q9NR31', 'P54652', 'Q9UJA5', 'B3KWW1', 'O60318', 'Q9NQC3', 'Q13769', 'A0A1W2PPU6', 'A0A4W8VX11', 'A0A2R8YGH5', 'Q96K17', 'A0A087WWW9', 'P51532', 'Q6YN16', 'Q5QNY5', 'Q8IVD9', 'A6NEM2', 'Q13162', 'Q16629', 'Q5CZC0', 'Q2TBE0', 'D6RIE0', 'O75683', 'P33176', 'G3V1P5', 'P45983', 'P61163', 'F5H442', 'Q86YP4', 'Q13619', 'Q9HCN8', 'Q13867', 'P09211', 'Q9NTI5', 'P06756', 'Q86W56', 'Q9NZL9', 'Q9BSJ8', 'P24539', 'P30154', 'O43681', 'P31943', 'Q8IY81', 'Q5JQP4', 'A0A7I2RVZ4', 'O43847', 'Q5QPI9', 'H7C0S0', 'Q7Z2Z2', 'A0A669KB05', 'Q9BVG4', 'P35080', 'Q15398', 'C9JB30', 'P62249', 'O43823', 'A0A7I2V5Y5', 'P31947', 'P55084', 'Q14683', 'Q8IXQ6', 'P62857', 'P37108', 'F5H2F4', 'Q9NWB6', 'A0A1B0GU92', 'Q14943', 'Q6P5W5', 'P14324', 'D6REW7', 'O75400', 'O94776', 'Q9NQG5', 'Q13740', 'Q6P1N9', 'Q6PJT7', 'H3BU16', 'H0Y8P0', 'Q96B01', 'Q99536', 'Q8N6R0', 'O76095', 'Q13509', 'Q15043', 'A0A804HKH9', 'Q05639', 'Q460N5', 'A0A7P0TB04', 'P62140', 'Q17RW2', 'A0A7I2V5Z4', 'Q9Y4P8', 'K7ELL7', 'O15479', 'P25942', 'O43660', 'Q86XZ4', 'Q9BW04', 'A0A0A0MRJ3', 'O60841', 'P11233', 'Q9BU61', 'J3KMZ9', 'Q16401', 'P46063', 'P28330', 'D6RBZ0', 'Q8IZQ1', 'Q6ZTR5', 'Q01433', 'Q14157', 'P37173', 'Q5T0N5', 'P01034', 'E9PB61', 'Q86V48', 'Q14692', 'Q9NZJ4', 'O60879', 'Q9P2K6', 'Q8TBX8', 'Q6P3X3', 'P51148', 'G5E9F5', 'P35250', 'P04350', 'O95831', 'A0A2C9F2M9', 'Q8NBJ7', 'Q53FT3', 'Q14469', 'Q9GZY8', 'Q9Y224', 'Q9H147', 'Q8WX93', 'Q9UKN8', 'Q6JQN1', 'P31946', 'P52701', 'A0A8I5KUR0', 'P52565', 'G3V167', 'Q9NUQ9', 'Q9NY27', 'P29084', 'P49458', 'Q96EP5', 'Q6Y7W6', 'A0A024R571', 'P05026', 'Q9BXJ9', 'Q08J23', 'P09497', 'Q9BWD1', 'Q16513', 'A0A804HL54', 'Q13416', 'Q13823', 'Q96SB4', 'O15067', 'O00264', 'P26022', 'Q96AE4', 'E9PK47', 'Q16881', 'Q9P206', 'Q9Y333', 'Q02809', 'E9PN89', 'Q9UBE0', 'Q9BWH6', 'P23368', 'Q6P587', 'O15446', 'O75718', 'Q9H900', 'A0A8I5QKM3', 'Q9NRG0', 'Q9UNZ2', 'P83731', 'Q9H6T0', 'P54278', 'Q07812', 'D6R9H2', 'P19367', 'Q8TEX9', 'Q8WZA9', 'P21281', 'P28331', 'P14625', 'E5RGN3', 'P62875', 'Q15102', 'Q8NHV4', 'Q96BN8', 'C9J2Y9', 'O43175', 'Q96GK7', 'Q9BXW7', 'Q8IYB8', 'O75150', 'P32418', 'Q9NUQ3', 'P11021', 'F8VQE1', 'P82909', 'P07919', 'Q969H8', 'A0A804HJ86', 'F8W1J4', 'Q9NUU7', 'P98194', 'Q13885', 'Q9UQ35', 'P51149', 'P15374', 'Q96SI9', 'A0A0B4J2D5', 'O60927', 'Q9C0B5', 'D5H3J5', 'Q9NZL4', 'P06132', 'P43356', 'Q14103', 'Q9UJU6', 'P20340', 'Q8IWE2', 'Q9NWH9', 'O00422', 'Q7Z7H3', 'Q8NE71', 'P05387', 'Q7Z478', 'E7EPM6', 'Q3KNV8', 'Q16222', 'Q15075', 'Q9Y5X3', 'Q9UMR2', 'P10620', 'Q5VTR2', 'J3KQ49', 'Q969T9', 'Q9UIQ6', 'F8VQX7', 'P18615', 'C9JDL2', 'A0A096LP25', 'P56192', 'P22695', 'O43852', 'Q13526', 'Q12904', 'Q9GZN8', 'Q96KB5', 'Q13838', 'P84101', 'A0A8C8KBL6', 'Q9NZM3', 'Q96ME7', 'Q96JY6', 'P40429', 'P30305', 'P48643', 'Q86UP2', 'P81133', 'P12270', 'Q9UDY2', 'Q7Z6Z7', 'Q9UGV2', 'P36578', 'P41227', 'A0AVT1', 'P18669', 'H3BNR6', 'D6RBW1', 'P34932', 'O75131', 'P09382', 'Q13423', 'P46781', 'P60866', 'P62487', 'Q7L0Y3', 'Q53FA7', 'M0QXB5', 'P46087', 'A0A7P0T9I9', 'P46940', 'Q9Y5B9', 'A0A2R8Y595', 'A0A7P0T8N8', 'H7C1N3', 'Q8N3D4', 'Q9BY77', 'Q00653', 'Q9Y5J1', 'A0A0A0MQW0', 'P30086', 'O96019', 'A0A7I2V5T6', 'Q13573', 'Q96L91', 'P01857', 'P26640', 'Q96I15', 'A0A087WVQ6', 'A0A0A0MRM8', 'Q9Y265', 'D6REJ4', 'P11216', 'P33151', 'P46778', 'Q9Y3C1', 'A0A7I2V5Q5', 'B7ZM99', 'Q9NVR5', 'Q16543', 'C9J622', 'O94886', 'P54577', 'Q13085', 'B4E1N1', 'E7EN96', 'P29353', 'A0A8C8KBE9', 'F8W860', 'Q8NFQ8', 'Q9UI12', 'P26583', 'P06493', 'O60832', 'P16615', 'H8Y6P7', 'E9PLK3', 'Q86TS9', 'A8MXP9', 'P00338', 'A0A8I5KYD6', 'Q99426', 'Q15648', 'P62166', 'H7BYT1', 'Q92541', 'Q9GZM5', 'Q8N1G4', 'A0A0A0MRA6', 'X6R700', 'Q9H0R6', 'O76021', 'A3KFL5', 'P33993', 'E9PBY3', 'Q99623', 'P40763', 'P62241', 'Q9BXB4', 'P62701', 'Q99832', 'P29218', 'F8WCJ7', 'P21127', 'Q6UN15', 'Q16706', 'Q8NFV4', 'Q96QR8', 'P26368', 'Q13098', 'Q9NPD3', 'O00178', 'Q9UJX3', 'P12931', 'Q13576', 'Q14558', 'P17812', 'E7EU96', 'O60925', 'E7ESJ6', 'Q02818', 'Q07666', 'P62851', 'Q06323', 'A6NK97', 'A0A6Q8PGR9', 'Q02543', 'A0A2R8Y811', 'Q9H444', 'Q86WJ1', 'Q6ZUT6', 'Q969Z0', 'Q9UNY4', 'Q96AY3', 'Q9HC52', 'X6RM59', 'H7C3V2', 'P24534', 'Q9UGP8', 'P07910', 'Q49AN9', 'P32322', 'Q49AR2', 'P11441', 'O75531', 'Q9BZV1', 'Q9HCI6', 'Q9ULL5', 'Q9BQR3', 'O75663', 'Q01995', 'Q96RF0', 'P29401', 'P07911', 'Q6IN84', 'Q9H6U8', 'P15170', 'Q92616', 'A0A8I5KVB5', 'Q9UKV8', 'O75436', 'O15347', 'Q9BSW2', 'Q9H1A4', 'P18124', 'A0A7I2V4F0', 'P21796', 'P40818', 'Q9Y277', 'Q96FQ6', 'P19784', 'P80303', 'Q14966', 'Q5SYB0', 'H0Y368', 'O60256', 'Q9P287', 'Q99567', 'J3QRU7', 'O15042', 'O75175', 'E9PIB2', 'P80217', 'Q53ET0', 'Q15833', 'Q12789', 'P60953', 'Q09028', 'P45954', 'Q8N635', 'G3XAC6', 'A0A8I5KW09', 'Q15181', 'P13797', 'B1AK88', 'Q96EN8', 'P19525', 'A6NCN8', 'P23381', 'P02768', 'Q13561', 'Q8NI27', 'O75506', 'P01111', 'B1AHH6', 'Q08AD1', 'O43242', 'P60880', 'D6RIY6', 'P09110', 'Q92945', 'M0R0P8', 'Q02952', 'Q9UHD1', 'Q9Y2D5', 'Q8WU90', 'Q9NRR5', 'P17301', 'Q9Y5M8', 'O75534', 'P05388', 'Q9H0E9', 'P41567', 'M0R2C3', 'A0A8I5IG87', 'C9J4X5', 'F8WFB6', 'Q9UKL0', 'O95881', 'Q5T760', 'J3KN16', 'P30530', 'A0A3B3ISJ3', 'Q00688', 'Q07973', 'Q9NS87', 'Q6PK04', 'A0A0C4DGC9', 'A0A7I2V2Y5', 'M0QYA2', 'Q9Y3B7', 'P31323', 'A0A6Q8PHA5', 'Q9Y5S9', 'Q5VYS8', 'P05198', 'O15031', 'C9JPC9', 'Q7Z6E9', 'Q9GZY6', 'Q13011', 'G3V4W4', 'P04083', 'Q16775', 'P82675', 'B3KS98', 'Q14331', 'P11717', 'Q9UI30', 'Q99590', 'O95169', 'Q9C0A6', 'A0A0U1RRL8', 'Q9Y508', 'O96018', 'P55795', 'A0A7P0Z469', 'P51858', 'Q9UBS8', 'O43252', 'Q15034', 'Q9UBB5', 'Q9NQR4', 'P22307', 'P52292', 'P62318', 'A0A087X1Z3', 'Q7Z417', 'H7C3C4', 'P56182', 'P49748', 'Q7KZ85', 'Q9H160', 'Q96Q11', 'A0A804HIK0', 'A0A7P0T9A7', 'P46776', 'P09914', 'Q14195', 'Q86V21', 'A0A8I5KZ13', 'P17858', 'O43837', 'P00491', 'Q9Y3P9', 'Q9NPJ6', 'E9PKZ4', 'A0A8I5KRS9', 'P10109', 'O76031', 'P15121', 'A0A0U1RRM6', 'Q9UBT2', 'P24752', 'Q9H0S4', 'B3GLJ2', 'P36551', 'A0A0J9YWM9', 'Q8IYJ3', 'D6RCB9', 'Q53EL6', 'Q7Z7L7', 'Q9Y570', 'Q9Y490', 'P06850', 'O14686', 'P42285', 'Q9NQ50', 'F8VZV4', 'P78417', 'P42566', 'H3BP35', 'P50991', 'E9PG35', 'Q96P70', 'O00410', 'Q12849', 'B4DN07', 'P51948', 'A1A5B4', 'Q96C55', 'P17980', 'O14929', 'A0A804HKA6', 'P78371', 'Q13017', 'P27797', 'O15144', 'P16383', 'O60504', 'Q9UNI6', 'Q9P2M7', 'Q8IZT6', 'Q7RTP6', 'O60232', 'A0A0B4J1R7', 'P42224', 'Q709C8', 'P78318', 'Q6PCB5', 'Q9UBU9', 'Q6PI78', 'Q00169', 'Q9NYU2', 'O60664', 'Q9P2B2', 'F6TDL0', 'P51114', 'P23258', 'Q9HD33', 'Q96JJ7', 'Q9BYG3', 'Q14CX7', 'Q96GC9', 'Q9UG63', 'Q9NSK0', 'A0A2R8Y6H1', 'Q96RS6', 'P53634', 'P27986', 'P35813', 'Q15024', 'H7C4A0', 'Q9Y6E2', 'Q9Y2X3', 'E9PNK6', 'E7EM64', 'P08238', 'O60216', 'Q9BYC5', 'Q9Y4Y9', 'O75694', 'Q9Y6D5', 'O96005', 'Q92620', 'Q5T8I3', 'A0A8I5KYP7', 'D6RCP5', 'P41208', 'Q9NQ88', 'E7EUC7', 'P61201', 'E7EXA3', 'H3BPJ9', 'Q96JM3', 'O75533', 'H3BTP8', 'P35580', 'P39023', 'Q86X51', 'P32321', 'F8W8M4', 'Q8NGR2', 'A0A087X2D5', 'Q9H9D4', 'I3L533', 'P49756', 'Q5JSZ5', 'Q9UNN8', 'Q8N3V7', 'E9PD50', 'Q71RC2', 'D2CGD1', 'Q6IN85', 'P33240', 'P46783', 'P40222', 'P46777', 'J3QKW7', 'A8MQ02', 'O43237', 'P62906', 'Q16763', 'G5EA29', 'P10644', 'Q8N2E2', 'P43686', 'P0DP25', 'Q96LT6', 'O43399', 'J3QR07', 'A0A5F9ZHT0', 'Q9UHL4', 'H7C074', 'Q9Y6I3', 'A0A5F9ZHW5', 'Q6UXN9', 'A0A7P0Z497', 'B4DY09', 'Q01813', 'A6QL63', 'E7EX44', 'P14868', 'P49770', 'P86790', 'P62191', 'Q9H6R4', 'P60842', 'Q13287', 'A0A7P0T865', 'P35579', 'Q96TA1', 'Q13185', 'Q96AZ6', 'F6U1T9', 'P68104', 'Q9Y2A4', 'P32969', 'Q29RF7', 'Q9BWM7', 'Q7Z624', 'J3KPT4', 'P62750', 'Q9NY93', 'O14777', 'P04424', 'E9PEI0', 'P05771', 'Q5T371', 'Q96MX6', 'P23246', 'Q15274', 'O75116', 'H7C131', 'P46939', 'P51508', 'Q15691', 'A0A6Q8PGN3', 'P35269', 'Q9Y3A5', 'Q9BPX7', 'O60568', 'Q9BT73', 'Q15785', 'Q14764', 'A0A1W2PNP0', 'P40937', 'P32856', 'P27348', 'P54687', 'Q9Y2U8', 'Q8TDB6', 'Q9UHD8', 'P61204', 'Q08257', 'Q15027', 'K7ELB8', 'P60983', 'P11177', 'Q9Y4G6', 'P48637', 'P0CG12', 'Q8N163', 'P0CG24', 'E9PG32', 'B7ZBM3', 'P13667', 'Q9UHB9', 'P14927', 'J3QKW3', 'Q8WXA9', 'A0A0A0MRY0', 'Q07065', 'P29692', 'Q9Y496', 'Q9Y2H9', 'O75381', 'P38646', 'Q8IX90', 'Q8TBY9', 'O00399', 'Q9BVS4', 'P07332', 'P61011', 'Q6VMQ6', 'Q96B97', 'Q13439', 'Q14444', 'O94826', 'E9PHA2', 'Q9HCN4', 'O00232', 'P30084', 'Q7L4I2', 'A0A1W2PNX8', 'H0Y938', 'A0A0A0MRM9', 'P14859', 'P06703', 'P25685', 'P09132', 'Q9NUQ2', 'Q9HD15', 'P43897', 'Q8IYB3', 'A0A7I2V3F9', 'Q15428', 'Q9UL54', 'Q96RL1', 'P43487', 'P53597', 'O14965', 'A0A8I5KSD1', 'Q96HS1', 'Q9BT78', 'Q8WXF1', 'Q6VEQ5', 'K7ES25', 'E5RI99', 'Q9UNS2', 'P43358', 'F5H092', 'O43719', 'Q96LR5', 'Q99798', 'A0A3B3ITJ4', 'Q9H0D6', 'Q96EQ0', 'A0A7I2V2G2', 'A0A7P0T9K5', 'Q9UEE9', 'Q9BTE6', 'Q5VZE5', 'P31350', 'Q6EEV4', 'O95793', 'Q8WUM4', 'Q96I23', 'P08240', 'Q92900', 'Q92688', 'Q00839', 'O95372', 'Q96T88', 'Q12996', 'P10809', 'A0A0G2JMX7', 'P39687', 'A0A087X0P9', 'P60174', 'B7Z6Z4', 'Q8TD17', 'A0A494C1J1', 'Q1ED39', 'Q53SF7', 'K7ERC8', 'P31689', 'P13051', 'P82673', 'H0YAR2', 'G3V3R7', 'P05783', 'Q96KR1', 'P18077', 'P07355', 'P98175', 'Q9H307', 'V5IRT4', 'P14174', 'J3QQZ9', 'Q99653', 'P50995', 'A0A087WZ13', 'Q96CS3', 'P62841', 'O14745', 'O43318', 'Q6P9B6', 'H3BPC4', 'A0A0C4DFX9', 'O95782', 'O14936', 'P63208', 'Q9BZZ2', 'P35221', 'P61769', 'Q15435', 'O43143', 'Q68D10', 'Q96GM8', 'E9PDF2', 'P55072', 'Q8IZU8', 'Q6ZVC0', 'Q9BY42', 'Q9Y5I1', 'P11047', 'Q12972', 'Q96HE7', 'A4D1B5', 'C9JQQ2', 'P13798', 'Q7Z3B4', 'O95801', 'Q6AI25', 'P40123', 'Q13895', 'Q8NHH9', 'O95202', 'O95433', 'P49915', 'Q15369', 'Q9NRX1', 'C9JQ41', 'B5MDF5', 'E5RIA4', 'Q9NRV9', 'B7Z7B0', 'O95817', 'P30043', 'J3KT13', 'P35251', 'O00193', 'A0A804CAZ4', 'Q96C36', 'Q96K30', 'Q9Y615', 'P46060', 'P33992', 'Q8IWJ2', 'P22888', 'P53618', 'Q9Y6Q9', 'Q15046', 'Q9NW82', 'I3L0L0', 'Q9UP95', 'O14562', 'O75380', 'Q6PEW3', 'Q96F86', 'O43290', 'P50579', 'Q6P2Q9', 'F8W6N3', 'P39748', 'Q00341', 'Q96QE4', 'Q9P0J7', 'A0A7P0TA76', 'Q9NSA3', 'P09972', 'Q5C9Z4', 'Q92905', 'Q13126', 'Q52LJ0', 'Q9BXP5', 'A0A2R8YG73', 'O60825', 'P30837', 'P41250', 'Q14674', 'Q9H2W6', 'Q9Y3U8', 'Q96DL1', 'G3V5P6', 'A0A2R8Y701', 'E9PNM1', 'P61247', 'Q7L2H7', 'A0A087WT92', 'P48507', 'Q04760', 'Q86SQ0', 'Q06210', 'Q04323', 'Q8TCG1', 'Q5T5C7', 'Q99471', 'P63244', 'O15066', 'P41440', 'C9JZR2', 'P25786', 'Q06546', 'Q9BSL1', 'P62873', 'Q32P28', 'P20339', 'Q9HCD5', 'Q8WUX9', 'O75390', 'A0A3B3IRR6', 'Q9UMZ2', 'P49257']\n"
     ]
    },
    {
     "data": {
      "text/plain": [
       "2651"
      ]
     },
     "execution_count": 12,
     "metadata": {},
     "output_type": "execute_result"
    }
   ],
   "source": [
    "protein_ids= list(set(protein_ids))\n",
    "len(protein_ids)\n",
    "\n",
    "# Extract the first part before the comma for each item\n",
    "protein_names = [item.split(',')[0] for item in protein_ids]\n",
    "\n",
    "print(protein_names)\n",
    "\n",
    "len(protein_names)"
   ]
  },
  {
   "cell_type": "code",
   "execution_count": 13,
   "metadata": {},
   "outputs": [
    {
     "name": "stderr",
     "output_type": "stream",
     "text": [
      "  0%|          | 1/20712 [00:00<2:20:08,  2.46it/s]"
     ]
    },
    {
     "name": "stderr",
     "output_type": "stream",
     "text": [
      "100%|██████████| 20712/20712 [16:09<00:00, 21.35it/s] \n"
     ]
    },
    {
     "name": "stdout",
     "output_type": "stream",
     "text": [
      "CPU times: total: 6min 48s\n",
      "Wall time: 16min 15s\n"
     ]
    }
   ],
   "source": [
    "%%time\n",
    "alphafold_annotation = format_alphafold_data(directory=cif_dir, \n",
    "                                             protein_ids=protein_names)"
   ]
  },
  {
   "cell_type": "code",
   "execution_count": 15,
   "metadata": {},
   "outputs": [],
   "source": [
    "alphafold_annotation.to_csv('c:/Users/marga/OneDrive/Desktop/summer project/alphafold_data/alphafold_annotation_own.csv', index=False)"
   ]
  },
  {
   "cell_type": "code",
   "execution_count": 16,
   "metadata": {},
   "outputs": [],
   "source": [
    "# alphafold_annotation = pd.read_csv('data/alphafold_data/alphafold_annotation.csv')"
   ]
  },
  {
   "cell_type": "code",
   "execution_count": 17,
   "metadata": {},
   "outputs": [
    {
     "data": {
      "text/plain": [
       "Index(['protein_id', 'protein_number', 'AA', 'position', 'quality',\n",
       "       'x_coord_c', 'x_coord_ca', 'x_coord_cb', 'x_coord_n', 'y_coord_c',\n",
       "       'y_coord_ca', 'y_coord_cb', 'y_coord_n', 'z_coord_c', 'z_coord_ca',\n",
       "       'z_coord_cb', 'z_coord_n', 'secondary_structure', 'structure_group',\n",
       "       'BEND', 'HELX', 'STRN', 'TURN', 'unstructured'],\n",
       "      dtype='object')"
      ]
     },
     "execution_count": 17,
     "metadata": {},
     "output_type": "execute_result"
    }
   ],
   "source": [
    "alphafold_annotation.columns"
   ]
  },
  {
   "cell_type": "markdown",
   "metadata": {},
   "source": [
    "# Annotate amino acid exposure metric"
   ]
  },
  {
   "cell_type": "markdown",
   "metadata": {},
   "source": [
    "### Full sphere exposure"
   ]
  },
  {
   "cell_type": "code",
   "execution_count": 18,
   "metadata": {},
   "outputs": [
    {
     "name": "stderr",
     "output_type": "stream",
     "text": [
      "100%|██████████| 2493/2493 [01:53<00:00, 21.90it/s]\n"
     ]
    },
    {
     "name": "stdout",
     "output_type": "stream",
     "text": [
      "CPU times: total: 38.1 s\n",
      "Wall time: 1min 54s\n"
     ]
    }
   ],
   "source": [
    "%%time\n",
    "full_sphere_exposure = annotate_accessibility(\n",
    "    df=alphafold_annotation, \n",
    "    max_dist=24, \n",
    "    max_angle=180, \n",
    "    error_dir=pae_dir)"
   ]
  },
  {
   "cell_type": "code",
   "execution_count": 19,
   "metadata": {},
   "outputs": [],
   "source": [
    "full_sphere_exposure.to_csv('c:/Users/marga/OneDrive/Desktop/summer project/alphafold_data/full_sphere_exposure_own.csv', index=False)"
   ]
  },
  {
   "cell_type": "code",
   "execution_count": 20,
   "metadata": {},
   "outputs": [],
   "source": [
    "# full_sphere_exposure = pd.read_csv('data/alphafold_data/full_sphere_exposure.csv')"
   ]
  },
  {
   "cell_type": "code",
   "execution_count": 21,
   "metadata": {},
   "outputs": [],
   "source": [
    "alphafold_accessibility = alphafold_annotation.merge(\n",
    "    full_sphere_exposure, how='left', on=['protein_id','AA','position'])"
   ]
  },
  {
   "cell_type": "markdown",
   "metadata": {},
   "source": [
    "### Half sphere exposure"
   ]
  },
  {
   "cell_type": "code",
   "execution_count": 22,
   "metadata": {},
   "outputs": [
    {
     "name": "stderr",
     "output_type": "stream",
     "text": [
      "100%|██████████| 2493/2493 [00:56<00:00, 44.20it/s] \n"
     ]
    },
    {
     "name": "stdout",
     "output_type": "stream",
     "text": [
      "CPU times: total: 17 s\n",
      "Wall time: 57.9 s\n"
     ]
    }
   ],
   "source": [
    "%%time\n",
    "half_sphere_exposure = annotate_accessibility(\n",
    "    df=alphafold_annotation, \n",
    "    max_dist=12, \n",
    "    max_angle=70, \n",
    "    error_dir=pae_dir)"
   ]
  },
  {
   "cell_type": "code",
   "execution_count": 23,
   "metadata": {},
   "outputs": [],
   "source": [
    "half_sphere_exposure.to_csv('c:/Users/marga/OneDrive/Desktop/summer project/alphafold_data/half_sphere_exposure_own.csv', index=False)"
   ]
  },
  {
   "cell_type": "code",
   "execution_count": 24,
   "metadata": {},
   "outputs": [],
   "source": [
    "# half_sphere_exposure = pd.read_csv('data/alphafold_data/half_sphere_exposure.csv')"
   ]
  },
  {
   "cell_type": "code",
   "execution_count": 25,
   "metadata": {},
   "outputs": [],
   "source": [
    "alphafold_accessibility = alphafold_accessibility.merge(\n",
    "    half_sphere_exposure, how='left', on=['protein_id','AA','position'])"
   ]
  },
  {
   "cell_type": "code",
   "execution_count": 26,
   "metadata": {},
   "outputs": [],
   "source": [
    "alphafold_accessibility['high_acc_5'] = np.where(alphafold_accessibility.nAA_12_70_pae <= 5, 1, 0)\n",
    "alphafold_accessibility['low_acc_5'] = np.where(alphafold_accessibility.nAA_12_70_pae > 5, 1, 0)"
   ]
  },
  {
   "cell_type": "markdown",
   "metadata": {},
   "source": [
    "# Smooth scores for unstructured regions"
   ]
  },
  {
   "cell_type": "code",
   "execution_count": 27,
   "metadata": {},
   "outputs": [
    {
     "name": "stderr",
     "output_type": "stream",
     "text": [
      "100%|██████████| 2493/2493 [00:09<00:00, 259.69it/s]\n"
     ]
    }
   ],
   "source": [
    "alphafold_accessibility_smooth = get_smooth_score(alphafold_accessibility, \n",
    "                                                  np.array(['quality', 'nAA_24_180_pae']), \n",
    "                                                  [10])"
   ]
  },
  {
   "cell_type": "markdown",
   "metadata": {},
   "source": [
    "# Annotate IDRs >> IDR_benchmark notebook"
   ]
  },
  {
   "cell_type": "code",
   "execution_count": 28,
   "metadata": {},
   "outputs": [],
   "source": [
    "alphafold_accessibility_smooth['IDR'] = np.where(alphafold_accessibility_smooth['nAA_24_180_pae_smooth10']<=34.27, 1, 0)"
   ]
  },
  {
   "cell_type": "markdown",
   "metadata": {},
   "source": [
    "### Visualize pPAE cutoff"
   ]
  },
  {
   "cell_type": "code",
   "execution_count": 29,
   "metadata": {},
   "outputs": [],
   "source": [
    "bincount = np.unique(alphafold_accessibility_smooth[alphafold_accessibility_smooth.IDR==0].nAA_12_70_pae.values, return_counts=True) # \n",
    "bincount_df = pd.DataFrame({'pPSE':bincount[0],'count':bincount[1]})\n",
    "bincount_df['cutoff'] = np.where(bincount_df.pPSE<=5, 'high exposure', 'low exposure')"
   ]
  },
  {
   "cell_type": "code",
   "execution_count": 30,
   "metadata": {},
   "outputs": [],
   "source": [
    "bincount_df.to_csv('c:/Users/marga/OneDrive/Desktop/summer project/alphafold_data/pPSE_bincount_df_own.csv', index=False)"
   ]
  },
  {
   "cell_type": "code",
   "execution_count": 31,
   "metadata": {},
   "outputs": [
    {
     "data": {
      "application/vnd.plotly.v1+json": {
       "config": {
        "plotlyServerURL": "https://plot.ly",
        "toImageButtonOptions": {
         "filename": "pPAE_cutoff",
         "format": "svg"
        }
       },
       "data": [
        {
         "alignmentgroup": "True",
         "hovertemplate": "cutoff=high exposure<br>pPSE=%{x}<br>count=%{y}<extra></extra>",
         "legendgroup": "high exposure",
         "marker": {
          "color": "rgb(177, 63, 100)"
         },
         "name": "high exposure",
         "offsetgroup": "high exposure",
         "orientation": "v",
         "showlegend": true,
         "textposition": "auto",
         "type": "bar",
         "x": [
          0,
          1,
          2,
          3,
          4,
          5
         ],
         "xaxis": "x",
         "y": [
          162098,
          102513,
          101406,
          88832,
          74849,
          64795
         ],
         "yaxis": "y"
        },
        {
         "alignmentgroup": "True",
         "hovertemplate": "cutoff=low exposure<br>pPSE=%{x}<br>count=%{y}<extra></extra>",
         "legendgroup": "low exposure",
         "marker": {
          "color": "grey"
         },
         "name": "low exposure",
         "offsetgroup": "low exposure",
         "orientation": "v",
         "showlegend": true,
         "textposition": "auto",
         "type": "bar",
         "x": [
          6,
          7,
          8,
          9,
          10,
          11,
          12,
          13,
          14,
          15,
          16,
          17,
          18,
          19,
          20,
          21,
          22
         ],
         "xaxis": "x",
         "y": [
          59416,
          54580,
          47614,
          40253,
          33159,
          26051,
          19859,
          13517,
          8646,
          4832,
          2599,
          1171,
          461,
          173,
          38,
          9,
          1
         ],
         "yaxis": "y"
        }
       ],
       "layout": {
        "barmode": "relative",
        "height": 300,
        "legend": {
         "title": {
          "text": ""
         },
         "tracegroupgap": 0,
         "x": 0.99,
         "xanchor": "right",
         "y": 0.99,
         "yanchor": "top"
        },
        "margin": {
         "t": 60
        },
        "template": {
         "data": {
          "bar": [
           {
            "error_x": {
             "color": "rgb(36,36,36)"
            },
            "error_y": {
             "color": "rgb(36,36,36)"
            },
            "marker": {
             "line": {
              "color": "white",
              "width": 0.5
             }
            },
            "type": "bar"
           }
          ],
          "barpolar": [
           {
            "marker": {
             "line": {
              "color": "white",
              "width": 0.5
             }
            },
            "type": "barpolar"
           }
          ],
          "carpet": [
           {
            "aaxis": {
             "endlinecolor": "rgb(36,36,36)",
             "gridcolor": "white",
             "linecolor": "white",
             "minorgridcolor": "white",
             "startlinecolor": "rgb(36,36,36)"
            },
            "baxis": {
             "endlinecolor": "rgb(36,36,36)",
             "gridcolor": "white",
             "linecolor": "white",
             "minorgridcolor": "white",
             "startlinecolor": "rgb(36,36,36)"
            },
            "type": "carpet"
           }
          ],
          "choropleth": [
           {
            "colorbar": {
             "outlinewidth": 1,
             "tickcolor": "rgb(36,36,36)",
             "ticks": "outside"
            },
            "type": "choropleth"
           }
          ],
          "contour": [
           {
            "colorbar": {
             "outlinewidth": 1,
             "tickcolor": "rgb(36,36,36)",
             "ticks": "outside"
            },
            "colorscale": [
             [
              0,
              "#440154"
             ],
             [
              0.1111111111111111,
              "#482878"
             ],
             [
              0.2222222222222222,
              "#3e4989"
             ],
             [
              0.3333333333333333,
              "#31688e"
             ],
             [
              0.4444444444444444,
              "#26828e"
             ],
             [
              0.5555555555555556,
              "#1f9e89"
             ],
             [
              0.6666666666666666,
              "#35b779"
             ],
             [
              0.7777777777777778,
              "#6ece58"
             ],
             [
              0.8888888888888888,
              "#b5de2b"
             ],
             [
              1,
              "#fde725"
             ]
            ],
            "type": "contour"
           }
          ],
          "contourcarpet": [
           {
            "colorbar": {
             "outlinewidth": 1,
             "tickcolor": "rgb(36,36,36)",
             "ticks": "outside"
            },
            "type": "contourcarpet"
           }
          ],
          "heatmap": [
           {
            "colorbar": {
             "outlinewidth": 1,
             "tickcolor": "rgb(36,36,36)",
             "ticks": "outside"
            },
            "colorscale": [
             [
              0,
              "#440154"
             ],
             [
              0.1111111111111111,
              "#482878"
             ],
             [
              0.2222222222222222,
              "#3e4989"
             ],
             [
              0.3333333333333333,
              "#31688e"
             ],
             [
              0.4444444444444444,
              "#26828e"
             ],
             [
              0.5555555555555556,
              "#1f9e89"
             ],
             [
              0.6666666666666666,
              "#35b779"
             ],
             [
              0.7777777777777778,
              "#6ece58"
             ],
             [
              0.8888888888888888,
              "#b5de2b"
             ],
             [
              1,
              "#fde725"
             ]
            ],
            "type": "heatmap"
           }
          ],
          "heatmapgl": [
           {
            "colorbar": {
             "outlinewidth": 1,
             "tickcolor": "rgb(36,36,36)",
             "ticks": "outside"
            },
            "colorscale": [
             [
              0,
              "#440154"
             ],
             [
              0.1111111111111111,
              "#482878"
             ],
             [
              0.2222222222222222,
              "#3e4989"
             ],
             [
              0.3333333333333333,
              "#31688e"
             ],
             [
              0.4444444444444444,
              "#26828e"
             ],
             [
              0.5555555555555556,
              "#1f9e89"
             ],
             [
              0.6666666666666666,
              "#35b779"
             ],
             [
              0.7777777777777778,
              "#6ece58"
             ],
             [
              0.8888888888888888,
              "#b5de2b"
             ],
             [
              1,
              "#fde725"
             ]
            ],
            "type": "heatmapgl"
           }
          ],
          "histogram": [
           {
            "marker": {
             "line": {
              "color": "white",
              "width": 0.6
             }
            },
            "type": "histogram"
           }
          ],
          "histogram2d": [
           {
            "colorbar": {
             "outlinewidth": 1,
             "tickcolor": "rgb(36,36,36)",
             "ticks": "outside"
            },
            "colorscale": [
             [
              0,
              "#440154"
             ],
             [
              0.1111111111111111,
              "#482878"
             ],
             [
              0.2222222222222222,
              "#3e4989"
             ],
             [
              0.3333333333333333,
              "#31688e"
             ],
             [
              0.4444444444444444,
              "#26828e"
             ],
             [
              0.5555555555555556,
              "#1f9e89"
             ],
             [
              0.6666666666666666,
              "#35b779"
             ],
             [
              0.7777777777777778,
              "#6ece58"
             ],
             [
              0.8888888888888888,
              "#b5de2b"
             ],
             [
              1,
              "#fde725"
             ]
            ],
            "type": "histogram2d"
           }
          ],
          "histogram2dcontour": [
           {
            "colorbar": {
             "outlinewidth": 1,
             "tickcolor": "rgb(36,36,36)",
             "ticks": "outside"
            },
            "colorscale": [
             [
              0,
              "#440154"
             ],
             [
              0.1111111111111111,
              "#482878"
             ],
             [
              0.2222222222222222,
              "#3e4989"
             ],
             [
              0.3333333333333333,
              "#31688e"
             ],
             [
              0.4444444444444444,
              "#26828e"
             ],
             [
              0.5555555555555556,
              "#1f9e89"
             ],
             [
              0.6666666666666666,
              "#35b779"
             ],
             [
              0.7777777777777778,
              "#6ece58"
             ],
             [
              0.8888888888888888,
              "#b5de2b"
             ],
             [
              1,
              "#fde725"
             ]
            ],
            "type": "histogram2dcontour"
           }
          ],
          "mesh3d": [
           {
            "colorbar": {
             "outlinewidth": 1,
             "tickcolor": "rgb(36,36,36)",
             "ticks": "outside"
            },
            "type": "mesh3d"
           }
          ],
          "parcoords": [
           {
            "line": {
             "colorbar": {
              "outlinewidth": 1,
              "tickcolor": "rgb(36,36,36)",
              "ticks": "outside"
             }
            },
            "type": "parcoords"
           }
          ],
          "pie": [
           {
            "automargin": true,
            "type": "pie"
           }
          ],
          "scatter": [
           {
            "marker": {
             "colorbar": {
              "outlinewidth": 1,
              "tickcolor": "rgb(36,36,36)",
              "ticks": "outside"
             }
            },
            "type": "scatter"
           }
          ],
          "scatter3d": [
           {
            "line": {
             "colorbar": {
              "outlinewidth": 1,
              "tickcolor": "rgb(36,36,36)",
              "ticks": "outside"
             }
            },
            "marker": {
             "colorbar": {
              "outlinewidth": 1,
              "tickcolor": "rgb(36,36,36)",
              "ticks": "outside"
             }
            },
            "type": "scatter3d"
           }
          ],
          "scattercarpet": [
           {
            "marker": {
             "colorbar": {
              "outlinewidth": 1,
              "tickcolor": "rgb(36,36,36)",
              "ticks": "outside"
             }
            },
            "type": "scattercarpet"
           }
          ],
          "scattergeo": [
           {
            "marker": {
             "colorbar": {
              "outlinewidth": 1,
              "tickcolor": "rgb(36,36,36)",
              "ticks": "outside"
             }
            },
            "type": "scattergeo"
           }
          ],
          "scattergl": [
           {
            "marker": {
             "colorbar": {
              "outlinewidth": 1,
              "tickcolor": "rgb(36,36,36)",
              "ticks": "outside"
             }
            },
            "type": "scattergl"
           }
          ],
          "scattermapbox": [
           {
            "marker": {
             "colorbar": {
              "outlinewidth": 1,
              "tickcolor": "rgb(36,36,36)",
              "ticks": "outside"
             }
            },
            "type": "scattermapbox"
           }
          ],
          "scatterpolar": [
           {
            "marker": {
             "colorbar": {
              "outlinewidth": 1,
              "tickcolor": "rgb(36,36,36)",
              "ticks": "outside"
             }
            },
            "type": "scatterpolar"
           }
          ],
          "scatterpolargl": [
           {
            "marker": {
             "colorbar": {
              "outlinewidth": 1,
              "tickcolor": "rgb(36,36,36)",
              "ticks": "outside"
             }
            },
            "type": "scatterpolargl"
           }
          ],
          "scatterternary": [
           {
            "marker": {
             "colorbar": {
              "outlinewidth": 1,
              "tickcolor": "rgb(36,36,36)",
              "ticks": "outside"
             }
            },
            "type": "scatterternary"
           }
          ],
          "surface": [
           {
            "colorbar": {
             "outlinewidth": 1,
             "tickcolor": "rgb(36,36,36)",
             "ticks": "outside"
            },
            "colorscale": [
             [
              0,
              "#440154"
             ],
             [
              0.1111111111111111,
              "#482878"
             ],
             [
              0.2222222222222222,
              "#3e4989"
             ],
             [
              0.3333333333333333,
              "#31688e"
             ],
             [
              0.4444444444444444,
              "#26828e"
             ],
             [
              0.5555555555555556,
              "#1f9e89"
             ],
             [
              0.6666666666666666,
              "#35b779"
             ],
             [
              0.7777777777777778,
              "#6ece58"
             ],
             [
              0.8888888888888888,
              "#b5de2b"
             ],
             [
              1,
              "#fde725"
             ]
            ],
            "type": "surface"
           }
          ],
          "table": [
           {
            "cells": {
             "fill": {
              "color": "rgb(237,237,237)"
             },
             "line": {
              "color": "white"
             }
            },
            "header": {
             "fill": {
              "color": "rgb(217,217,217)"
             },
             "line": {
              "color": "white"
             }
            },
            "type": "table"
           }
          ]
         },
         "layout": {
          "annotationdefaults": {
           "arrowhead": 0,
           "arrowwidth": 1
          },
          "coloraxis": {
           "colorbar": {
            "outlinewidth": 1,
            "tickcolor": "rgb(36,36,36)",
            "ticks": "outside"
           }
          },
          "colorscale": {
           "diverging": [
            [
             0,
             "rgb(103,0,31)"
            ],
            [
             0.1,
             "rgb(178,24,43)"
            ],
            [
             0.2,
             "rgb(214,96,77)"
            ],
            [
             0.3,
             "rgb(244,165,130)"
            ],
            [
             0.4,
             "rgb(253,219,199)"
            ],
            [
             0.5,
             "rgb(247,247,247)"
            ],
            [
             0.6,
             "rgb(209,229,240)"
            ],
            [
             0.7,
             "rgb(146,197,222)"
            ],
            [
             0.8,
             "rgb(67,147,195)"
            ],
            [
             0.9,
             "rgb(33,102,172)"
            ],
            [
             1,
             "rgb(5,48,97)"
            ]
           ],
           "sequential": [
            [
             0,
             "#440154"
            ],
            [
             0.1111111111111111,
             "#482878"
            ],
            [
             0.2222222222222222,
             "#3e4989"
            ],
            [
             0.3333333333333333,
             "#31688e"
            ],
            [
             0.4444444444444444,
             "#26828e"
            ],
            [
             0.5555555555555556,
             "#1f9e89"
            ],
            [
             0.6666666666666666,
             "#35b779"
            ],
            [
             0.7777777777777778,
             "#6ece58"
            ],
            [
             0.8888888888888888,
             "#b5de2b"
            ],
            [
             1,
             "#fde725"
            ]
           ],
           "sequentialminus": [
            [
             0,
             "#440154"
            ],
            [
             0.1111111111111111,
             "#482878"
            ],
            [
             0.2222222222222222,
             "#3e4989"
            ],
            [
             0.3333333333333333,
             "#31688e"
            ],
            [
             0.4444444444444444,
             "#26828e"
            ],
            [
             0.5555555555555556,
             "#1f9e89"
            ],
            [
             0.6666666666666666,
             "#35b779"
            ],
            [
             0.7777777777777778,
             "#6ece58"
            ],
            [
             0.8888888888888888,
             "#b5de2b"
            ],
            [
             1,
             "#fde725"
            ]
           ]
          },
          "colorway": [
           "#1F77B4",
           "#FF7F0E",
           "#2CA02C",
           "#D62728",
           "#9467BD",
           "#8C564B",
           "#E377C2",
           "#7F7F7F",
           "#BCBD22",
           "#17BECF"
          ],
          "font": {
           "color": "rgb(36,36,36)"
          },
          "geo": {
           "bgcolor": "white",
           "lakecolor": "white",
           "landcolor": "white",
           "showlakes": true,
           "showland": true,
           "subunitcolor": "white"
          },
          "hoverlabel": {
           "align": "left"
          },
          "hovermode": "closest",
          "mapbox": {
           "style": "light"
          },
          "paper_bgcolor": "white",
          "plot_bgcolor": "white",
          "polar": {
           "angularaxis": {
            "gridcolor": "rgb(232,232,232)",
            "linecolor": "rgb(36,36,36)",
            "showgrid": false,
            "showline": true,
            "ticks": "outside"
           },
           "bgcolor": "white",
           "radialaxis": {
            "gridcolor": "rgb(232,232,232)",
            "linecolor": "rgb(36,36,36)",
            "showgrid": false,
            "showline": true,
            "ticks": "outside"
           }
          },
          "scene": {
           "xaxis": {
            "backgroundcolor": "white",
            "gridcolor": "rgb(232,232,232)",
            "gridwidth": 2,
            "linecolor": "rgb(36,36,36)",
            "showbackground": true,
            "showgrid": false,
            "showline": true,
            "ticks": "outside",
            "zeroline": false,
            "zerolinecolor": "rgb(36,36,36)"
           },
           "yaxis": {
            "backgroundcolor": "white",
            "gridcolor": "rgb(232,232,232)",
            "gridwidth": 2,
            "linecolor": "rgb(36,36,36)",
            "showbackground": true,
            "showgrid": false,
            "showline": true,
            "ticks": "outside",
            "zeroline": false,
            "zerolinecolor": "rgb(36,36,36)"
           },
           "zaxis": {
            "backgroundcolor": "white",
            "gridcolor": "rgb(232,232,232)",
            "gridwidth": 2,
            "linecolor": "rgb(36,36,36)",
            "showbackground": true,
            "showgrid": false,
            "showline": true,
            "ticks": "outside",
            "zeroline": false,
            "zerolinecolor": "rgb(36,36,36)"
           }
          },
          "shapedefaults": {
           "fillcolor": "black",
           "line": {
            "width": 0
           },
           "opacity": 0.3
          },
          "ternary": {
           "aaxis": {
            "gridcolor": "rgb(232,232,232)",
            "linecolor": "rgb(36,36,36)",
            "showgrid": false,
            "showline": true,
            "ticks": "outside"
           },
           "baxis": {
            "gridcolor": "rgb(232,232,232)",
            "linecolor": "rgb(36,36,36)",
            "showgrid": false,
            "showline": true,
            "ticks": "outside"
           },
           "bgcolor": "white",
           "caxis": {
            "gridcolor": "rgb(232,232,232)",
            "linecolor": "rgb(36,36,36)",
            "showgrid": false,
            "showline": true,
            "ticks": "outside"
           }
          },
          "title": {
           "x": 0.05
          },
          "xaxis": {
           "automargin": true,
           "gridcolor": "rgb(232,232,232)",
           "linecolor": "rgb(36,36,36)",
           "showgrid": false,
           "showline": true,
           "ticks": "outside",
           "title": {
            "standoff": 15
           },
           "zeroline": false,
           "zerolinecolor": "rgb(36,36,36)"
          },
          "yaxis": {
           "automargin": true,
           "gridcolor": "rgb(232,232,232)",
           "linecolor": "rgb(36,36,36)",
           "showgrid": false,
           "showline": true,
           "ticks": "outside",
           "title": {
            "standoff": 15
           },
           "zeroline": false,
           "zerolinecolor": "rgb(36,36,36)"
          }
         }
        },
        "width": 500,
        "xaxis": {
         "anchor": "y",
         "domain": [
          0,
          1
         ],
         "title": {
          "text": "pPSE"
         }
        },
        "yaxis": {
         "anchor": "x",
         "domain": [
          0,
          1
         ],
         "title": {
          "text": "count"
         }
        }
       }
      }
     },
     "metadata": {},
     "output_type": "display_data"
    }
   ],
   "source": [
    "pPSE_cut = px.bar(bincount_df, x='pPSE',y='count', color='cutoff', \n",
    "                  color_discrete_map={'high exposure':'rgb(177, 63, 100)',\n",
    "                                      'low exposure':'grey'}, \n",
    "                  template=\"simple_white\",\n",
    "                  width=500, height=300)\n",
    "pPSE_cut = pPSE_cut.update_layout(legend=dict(\n",
    "    title='',\n",
    "    yanchor=\"top\",\n",
    "    y=0.99,\n",
    "    xanchor=\"right\",\n",
    "    x=0.99\n",
    "))\n",
    "config={'toImageButtonOptions': {'format': 'svg', 'filename':'pPAE_cutoff'}}\n",
    "\n",
    "pPSE_cut.show(config=config)"
   ]
  },
  {
   "cell_type": "markdown",
   "metadata": {},
   "source": [
    "# Find short unstructured regions within large folded domains"
   ]
  },
  {
   "cell_type": "code",
   "execution_count": 32,
   "metadata": {},
   "outputs": [
    {
     "name": "stderr",
     "output_type": "stream",
     "text": [
      "100%|██████████| 2493/2493 [00:07<00:00, 343.23it/s]\n"
     ]
    }
   ],
   "source": [
    "alphafold_accessibility_smooth_pattern = annotate_proteins_with_idr_pattern(alphafold_accessibility_smooth,\n",
    "                                                min_structured_length = 80, \n",
    "                                                max_unstructured_length = 20)"
   ]
  },
  {
   "cell_type": "code",
   "execution_count": 33,
   "metadata": {},
   "outputs": [
    {
     "name": "stderr",
     "output_type": "stream",
     "text": [
      "100%|██████████| 2493/2493 [00:07<00:00, 339.36it/s]\n"
     ]
    }
   ],
   "source": [
    "alphafold_accessibility_smooth_pattern_ext = get_extended_flexible_pattern(\n",
    "    alphafold_accessibility_smooth_pattern, \n",
    "    ['flexible_pattern'], [5])"
   ]
  },
  {
   "cell_type": "code",
   "execution_count": 34,
   "metadata": {},
   "outputs": [
    {
     "data": {
      "text/html": [
       "<div>\n",
       "<style scoped>\n",
       "    .dataframe tbody tr th:only-of-type {\n",
       "        vertical-align: middle;\n",
       "    }\n",
       "\n",
       "    .dataframe tbody tr th {\n",
       "        vertical-align: top;\n",
       "    }\n",
       "\n",
       "    .dataframe thead th {\n",
       "        text-align: right;\n",
       "    }\n",
       "</style>\n",
       "<table border=\"1\" class=\"dataframe\">\n",
       "  <thead>\n",
       "    <tr style=\"text-align: right;\">\n",
       "      <th></th>\n",
       "      <th>protein_id</th>\n",
       "      <th>protein_number</th>\n",
       "      <th>AA</th>\n",
       "      <th>position</th>\n",
       "      <th>quality</th>\n",
       "      <th>x_coord_c</th>\n",
       "      <th>x_coord_ca</th>\n",
       "      <th>x_coord_cb</th>\n",
       "      <th>x_coord_n</th>\n",
       "      <th>y_coord_c</th>\n",
       "      <th>...</th>\n",
       "      <th>unstructured</th>\n",
       "      <th>nAA_24_180_pae</th>\n",
       "      <th>nAA_12_70_pae</th>\n",
       "      <th>high_acc_5</th>\n",
       "      <th>low_acc_5</th>\n",
       "      <th>quality_smooth10</th>\n",
       "      <th>nAA_24_180_pae_smooth10</th>\n",
       "      <th>IDR</th>\n",
       "      <th>flexible_pattern</th>\n",
       "      <th>flexible_pattern_extended_5</th>\n",
       "    </tr>\n",
       "  </thead>\n",
       "  <tbody>\n",
       "    <tr>\n",
       "      <th>0</th>\n",
       "      <td>A0A024QZ33</td>\n",
       "      <td>1</td>\n",
       "      <td>M</td>\n",
       "      <td>1</td>\n",
       "      <td>62.81</td>\n",
       "      <td>29.208</td>\n",
       "      <td>28.215</td>\n",
       "      <td>27.418</td>\n",
       "      <td>28.792</td>\n",
       "      <td>-9.402</td>\n",
       "      <td>...</td>\n",
       "      <td>1</td>\n",
       "      <td>8</td>\n",
       "      <td>0</td>\n",
       "      <td>1</td>\n",
       "      <td>0</td>\n",
       "      <td>84.091818</td>\n",
       "      <td>18.000000</td>\n",
       "      <td>1</td>\n",
       "      <td>0</td>\n",
       "      <td>0</td>\n",
       "    </tr>\n",
       "    <tr>\n",
       "      <th>1</th>\n",
       "      <td>A0A024QZ33</td>\n",
       "      <td>1</td>\n",
       "      <td>K</td>\n",
       "      <td>2</td>\n",
       "      <td>78.75</td>\n",
       "      <td>32.264</td>\n",
       "      <td>31.377</td>\n",
       "      <td>32.209</td>\n",
       "      <td>30.346</td>\n",
       "      <td>-9.984</td>\n",
       "      <td>...</td>\n",
       "      <td>1</td>\n",
       "      <td>12</td>\n",
       "      <td>0</td>\n",
       "      <td>1</td>\n",
       "      <td>0</td>\n",
       "      <td>84.412500</td>\n",
       "      <td>18.416667</td>\n",
       "      <td>1</td>\n",
       "      <td>0</td>\n",
       "      <td>0</td>\n",
       "    </tr>\n",
       "    <tr>\n",
       "      <th>2</th>\n",
       "      <td>A0A024QZ33</td>\n",
       "      <td>1</td>\n",
       "      <td>Q</td>\n",
       "      <td>3</td>\n",
       "      <td>85.62</td>\n",
       "      <td>32.948</td>\n",
       "      <td>33.644</td>\n",
       "      <td>33.977</td>\n",
       "      <td>32.818</td>\n",
       "      <td>-7.963</td>\n",
       "      <td>...</td>\n",
       "      <td>0</td>\n",
       "      <td>16</td>\n",
       "      <td>0</td>\n",
       "      <td>1</td>\n",
       "      <td>0</td>\n",
       "      <td>84.568462</td>\n",
       "      <td>18.692308</td>\n",
       "      <td>1</td>\n",
       "      <td>0</td>\n",
       "      <td>0</td>\n",
       "    </tr>\n",
       "  </tbody>\n",
       "</table>\n",
       "<p>3 rows × 33 columns</p>\n",
       "</div>"
      ],
      "text/plain": [
       "   protein_id  protein_number AA  position  quality  x_coord_c  x_coord_ca  \\\n",
       "0  A0A024QZ33               1  M         1    62.81     29.208      28.215   \n",
       "1  A0A024QZ33               1  K         2    78.75     32.264      31.377   \n",
       "2  A0A024QZ33               1  Q         3    85.62     32.948      33.644   \n",
       "\n",
       "   x_coord_cb  x_coord_n  y_coord_c  ...  unstructured  nAA_24_180_pae  \\\n",
       "0      27.418     28.792     -9.402  ...             1               8   \n",
       "1      32.209     30.346     -9.984  ...             1              12   \n",
       "2      33.977     32.818     -7.963  ...             0              16   \n",
       "\n",
       "   nAA_12_70_pae  high_acc_5  low_acc_5  quality_smooth10  \\\n",
       "0              0           1          0         84.091818   \n",
       "1              0           1          0         84.412500   \n",
       "2              0           1          0         84.568462   \n",
       "\n",
       "   nAA_24_180_pae_smooth10 IDR flexible_pattern  flexible_pattern_extended_5  \n",
       "0                18.000000   1                0                            0  \n",
       "1                18.416667   1                0                            0  \n",
       "2                18.692308   1                0                            0  \n",
       "\n",
       "[3 rows x 33 columns]"
      ]
     },
     "execution_count": 34,
     "metadata": {},
     "output_type": "execute_result"
    }
   ],
   "source": [
    "alphafold_accessibility_smooth_pattern_ext[0:3]"
   ]
  },
  {
   "cell_type": "code",
   "execution_count": 35,
   "metadata": {},
   "outputs": [],
   "source": [
    "proteins_with_pattern = alphafold_accessibility_smooth_pattern_ext[alphafold_accessibility_smooth_pattern_ext.flexible_pattern==1].protein_id.unique()\n",
    "\n",
    "textfile = open(\"c:/Users/marga/OneDrive/Desktop/summer project/short_idrs/proteins_with_pattern.txt\", \"w\")\n",
    "for element in proteins_with_pattern:\n",
    "    textfile.write(element + \"\\n\") \n",
    "\n",
    "all_proteins = alphafold_accessibility_smooth_pattern_ext.protein_id.unique()\n",
    "\n",
    "textfile = open(\"c:/Users/marga/OneDrive/Desktop/summer project/short_idrs/all_proteins.txt\", \"w\")\n",
    "for element in all_proteins:\n",
    "    textfile.write(element + \"\\n\")\n",
    "textfile.close()"
   ]
  },
  {
   "cell_type": "code",
   "execution_count": 36,
   "metadata": {
    "scrolled": true
   },
   "outputs": [
    {
     "name": "stdout",
     "output_type": "stream",
     "text": [
      "335\n"
     ]
    }
   ],
   "source": [
    "print(len(proteins_with_pattern))"
   ]
  },
  {
   "cell_type": "code",
   "execution_count": 37,
   "metadata": {},
   "outputs": [
    {
     "name": "stdout",
     "output_type": "stream",
     "text": [
      "2493\n"
     ]
    }
   ],
   "source": [
    "print(len(all_proteins))"
   ]
  },
  {
   "cell_type": "markdown",
   "metadata": {},
   "source": [
    "# Kinase loop annotation"
   ]
  },
  {
   "cell_type": "markdown",
   "metadata": {},
   "source": [
    "Here we read kinase substructures annotated in [KinaseMD](https://doi.org/10.1093/nar/gkaa945). \n",
    "\n",
    "https://bioinfo.uth.edu/kmd/"
   ]
  },
  {
   "cell_type": "code",
   "execution_count": 40,
   "metadata": {},
   "outputs": [],
   "source": [
    "loop_info = pd.read_csv('c:/Users/marga/OneDrive/Desktop/summer project/kinase_substructures/kinasemd_substrucutres.tsv', sep='\\t')\n"
   ]
  },
  {
   "cell_type": "code",
   "execution_count": 41,
   "metadata": {},
   "outputs": [
    {
     "data": {
      "text/plain": [
       "388"
      ]
     },
     "execution_count": 41,
     "metadata": {},
     "output_type": "execute_result"
    }
   ],
   "source": [
    "len(loop_info.uniprot_id.unique())"
   ]
  },
  {
   "cell_type": "code",
   "execution_count": 42,
   "metadata": {},
   "outputs": [],
   "source": [
    "loop_list = extract_loop_annotation(loop_info)"
   ]
  },
  {
   "cell_type": "code",
   "execution_count": 43,
   "metadata": {},
   "outputs": [],
   "source": [
    "alphafold_loops = alphafold_accessibility_smooth_pattern_ext.copy(deep=True)\n",
    "\n",
    "for l in loop_list:\n",
    "    alphafold_loops = alphafold_loops.merge(l, how='left', on=['protein_id','position'])\n",
    "    \n",
    "alphafold_loops = alphafold_loops.fillna(0)\n"
   ]
  },
  {
   "cell_type": "code",
   "execution_count": 44,
   "metadata": {},
   "outputs": [
    {
     "data": {
      "text/html": [
       "<div>\n",
       "<style scoped>\n",
       "    .dataframe tbody tr th:only-of-type {\n",
       "        vertical-align: middle;\n",
       "    }\n",
       "\n",
       "    .dataframe tbody tr th {\n",
       "        vertical-align: top;\n",
       "    }\n",
       "\n",
       "    .dataframe thead th {\n",
       "        text-align: right;\n",
       "    }\n",
       "</style>\n",
       "<table border=\"1\" class=\"dataframe\">\n",
       "  <thead>\n",
       "    <tr style=\"text-align: right;\">\n",
       "      <th></th>\n",
       "      <th>protein_id</th>\n",
       "      <th>protein_number</th>\n",
       "      <th>AA</th>\n",
       "      <th>position</th>\n",
       "      <th>quality</th>\n",
       "      <th>x_coord_c</th>\n",
       "      <th>x_coord_ca</th>\n",
       "      <th>x_coord_cb</th>\n",
       "      <th>x_coord_n</th>\n",
       "      <th>y_coord_c</th>\n",
       "      <th>...</th>\n",
       "      <th>high_acc_5</th>\n",
       "      <th>low_acc_5</th>\n",
       "      <th>quality_smooth10</th>\n",
       "      <th>nAA_24_180_pae_smooth10</th>\n",
       "      <th>IDR</th>\n",
       "      <th>flexible_pattern</th>\n",
       "      <th>flexible_pattern_extended_5</th>\n",
       "      <th>gloop</th>\n",
       "      <th>aloop</th>\n",
       "      <th>achelix</th>\n",
       "    </tr>\n",
       "  </thead>\n",
       "  <tbody>\n",
       "    <tr>\n",
       "      <th>0</th>\n",
       "      <td>A0A024QZ33</td>\n",
       "      <td>1</td>\n",
       "      <td>M</td>\n",
       "      <td>1</td>\n",
       "      <td>62.81</td>\n",
       "      <td>29.208</td>\n",
       "      <td>28.215</td>\n",
       "      <td>27.418</td>\n",
       "      <td>28.792</td>\n",
       "      <td>-9.402</td>\n",
       "      <td>...</td>\n",
       "      <td>1</td>\n",
       "      <td>0</td>\n",
       "      <td>84.091818</td>\n",
       "      <td>18.000000</td>\n",
       "      <td>1</td>\n",
       "      <td>0</td>\n",
       "      <td>0</td>\n",
       "      <td>0.0</td>\n",
       "      <td>0.0</td>\n",
       "      <td>0.0</td>\n",
       "    </tr>\n",
       "    <tr>\n",
       "      <th>1</th>\n",
       "      <td>A0A024QZ33</td>\n",
       "      <td>1</td>\n",
       "      <td>K</td>\n",
       "      <td>2</td>\n",
       "      <td>78.75</td>\n",
       "      <td>32.264</td>\n",
       "      <td>31.377</td>\n",
       "      <td>32.209</td>\n",
       "      <td>30.346</td>\n",
       "      <td>-9.984</td>\n",
       "      <td>...</td>\n",
       "      <td>1</td>\n",
       "      <td>0</td>\n",
       "      <td>84.412500</td>\n",
       "      <td>18.416667</td>\n",
       "      <td>1</td>\n",
       "      <td>0</td>\n",
       "      <td>0</td>\n",
       "      <td>0.0</td>\n",
       "      <td>0.0</td>\n",
       "      <td>0.0</td>\n",
       "    </tr>\n",
       "    <tr>\n",
       "      <th>2</th>\n",
       "      <td>A0A024QZ33</td>\n",
       "      <td>1</td>\n",
       "      <td>Q</td>\n",
       "      <td>3</td>\n",
       "      <td>85.62</td>\n",
       "      <td>32.948</td>\n",
       "      <td>33.644</td>\n",
       "      <td>33.977</td>\n",
       "      <td>32.818</td>\n",
       "      <td>-7.963</td>\n",
       "      <td>...</td>\n",
       "      <td>1</td>\n",
       "      <td>0</td>\n",
       "      <td>84.568462</td>\n",
       "      <td>18.692308</td>\n",
       "      <td>1</td>\n",
       "      <td>0</td>\n",
       "      <td>0</td>\n",
       "      <td>0.0</td>\n",
       "      <td>0.0</td>\n",
       "      <td>0.0</td>\n",
       "    </tr>\n",
       "  </tbody>\n",
       "</table>\n",
       "<p>3 rows × 36 columns</p>\n",
       "</div>"
      ],
      "text/plain": [
       "   protein_id  protein_number AA  position  quality  x_coord_c  x_coord_ca  \\\n",
       "0  A0A024QZ33               1  M         1    62.81     29.208      28.215   \n",
       "1  A0A024QZ33               1  K         2    78.75     32.264      31.377   \n",
       "2  A0A024QZ33               1  Q         3    85.62     32.948      33.644   \n",
       "\n",
       "   x_coord_cb  x_coord_n  y_coord_c  ...  high_acc_5  low_acc_5  \\\n",
       "0      27.418     28.792     -9.402  ...           1          0   \n",
       "1      32.209     30.346     -9.984  ...           1          0   \n",
       "2      33.977     32.818     -7.963  ...           1          0   \n",
       "\n",
       "   quality_smooth10  nAA_24_180_pae_smooth10  IDR  flexible_pattern  \\\n",
       "0         84.091818                18.000000    1                 0   \n",
       "1         84.412500                18.416667    1                 0   \n",
       "2         84.568462                18.692308    1                 0   \n",
       "\n",
       "   flexible_pattern_extended_5 gloop aloop  achelix  \n",
       "0                            0   0.0   0.0      0.0  \n",
       "1                            0   0.0   0.0      0.0  \n",
       "2                            0   0.0   0.0      0.0  \n",
       "\n",
       "[3 rows x 36 columns]"
      ]
     },
     "execution_count": 44,
     "metadata": {},
     "output_type": "execute_result"
    }
   ],
   "source": [
    "alphafold_loops[0:3]"
   ]
  },
  {
   "cell_type": "markdown",
   "metadata": {},
   "source": [
    "# Annotate PTM data"
   ]
  },
  {
   "cell_type": "code",
   "execution_count": 46,
   "metadata": {},
   "outputs": [
    {
     "name": "stdout",
     "output_type": "stream",
     "text": [
      "         protein_id  protein_number AA  position  quality  x_coord_c  \\\n",
      "0        A0A024QZ33               1  M         1    62.81     29.208   \n",
      "1        A0A024QZ33               1  K         2    78.75     32.264   \n",
      "2        A0A024QZ33               1  Q         3    85.62     32.948   \n",
      "3        A0A024QZ33               1  T         4    84.56     30.678   \n",
      "4        A0A024QZ33               1  K         5    84.69     31.980   \n",
      "...             ...             ... ..       ...      ...        ...   \n",
      "1439642      X6RM59            2493  L       327    98.44     -9.367   \n",
      "1439643      X6RM59            2493  Q       328    97.31    -11.690   \n",
      "1439644      X6RM59            2493  K       329    96.50    -11.700   \n",
      "1439645      X6RM59            2493  I       330    97.31     -8.548   \n",
      "1439646      X6RM59            2493  L       331    95.81     -7.460   \n",
      "\n",
      "         x_coord_ca  x_coord_cb  x_coord_n  y_coord_c  ...  \\\n",
      "0            28.215      27.418     28.792     -9.402  ...   \n",
      "1            31.377      32.209     30.346     -9.984  ...   \n",
      "2            33.644      33.977     32.818     -7.963  ...   \n",
      "3            30.868      29.492     31.720     -8.666  ...   \n",
      "4            30.642      30.135     30.707    -11.523  ...   \n",
      "...             ...         ...        ...        ...  ...   \n",
      "1439642      -8.905      -7.831    -10.025      9.540  ...   \n",
      "1439643     -11.015     -11.940    -10.415     11.027  ...   \n",
      "1439644     -12.738     -13.839    -12.150      8.754  ...   \n",
      "1439645      -9.534      -8.783    -10.590      8.634  ...   \n",
      "1439646      -7.015      -6.093     -8.131     11.926  ...   \n",
      "\n",
      "         flexible_pattern_extended_5  gloop  aloop  achelix  \\\n",
      "0                                  0    0.0    0.0      0.0   \n",
      "1                                  0    0.0    0.0      0.0   \n",
      "2                                  0    0.0    0.0      0.0   \n",
      "3                                  0    0.0    0.0      0.0   \n",
      "4                                  0    0.0    0.0      0.0   \n",
      "...                              ...    ...    ...      ...   \n",
      "1439642                            0    0.0    0.0      0.0   \n",
      "1439643                            0    0.0    0.0      0.0   \n",
      "1439644                            0    0.0    0.0      0.0   \n",
      "1439645                            0    0.0    0.0      0.0   \n",
      "1439646                            0    0.0    0.0      0.0   \n",
      "\n",
      "         Glutathionylation  Oxidation  Phosphorylation Carbamyl Nitrosyl  \\\n",
      "0                      0.0        0.0              0.0      0.0      0.0   \n",
      "1                      0.0        0.0              0.0      0.0      0.0   \n",
      "2                      0.0        0.0              0.0      0.0      0.0   \n",
      "3                      0.0        0.0              0.0      0.0      0.0   \n",
      "4                      0.0        0.0              0.0      0.0      0.0   \n",
      "...                    ...        ...              ...      ...      ...   \n",
      "1439642                0.0        0.0              0.0      0.0      0.0   \n",
      "1439643                0.0        0.0              0.0      0.0      0.0   \n",
      "1439644                0.0        0.0              0.0      0.0      0.0   \n",
      "1439645                0.0        0.0              0.0      0.0      0.0   \n",
      "1439646                0.0        0.0              0.0      0.0      0.0   \n",
      "\n",
      "         Cysteinyl  \n",
      "0              0.0  \n",
      "1              0.0  \n",
      "2              0.0  \n",
      "3              0.0  \n",
      "4              0.0  \n",
      "...            ...  \n",
      "1439642        0.0  \n",
      "1439643        0.0  \n",
      "1439644        0.0  \n",
      "1439645        0.0  \n",
      "1439646        0.0  \n",
      "\n",
      "[1439647 rows x 42 columns]\n"
     ]
    }
   ],
   "source": [
    "def annotate_ptm_data(alphafold_data: pd.DataFrame) -> pd.DataFrame:\n",
    "\n",
    "    alphafold_data_annotated = alphafold_data.copy(deep=True)\n",
    "    ptm_file = pd.read_csv(r\"C:\\Users\\marga\\Downloads\\output_all_noU2OS_fixed.csv\")\n",
    "    alphafold_data_annotated = alphafold_data_annotated.merge(ptm_file, how='left', on=['protein_id','position'])\n",
    "    alphafold_data_annotated = alphafold_data_annotated.fillna(0)\n",
    "    return(alphafold_data_annotated)\n",
    "\n",
    "alphafold_ptms = annotate_ptm_data(alphafold_loops)\n",
    "\n",
    "column_to_remove = 'AA_y'\n",
    "alphafold_ptms.drop(column_to_remove, axis=1, inplace=True)  # axis=1 indicates columns, inplace=True modifies the DataFrame in place\n",
    "#print(alphafold_ptms)\n",
    "current_column_name = 'AA_x'\n",
    "new_column_name = 'AA'\n",
    "alphafold_ptms.rename(columns={current_column_name: new_column_name}, inplace=True)\n",
    "print(alphafold_ptms)\n",
    "alphafold_ptms.to_csv(r\"c:\\Users\\marga\\OneDrive\\Desktop\\summer project\\alphafold_ptms.csv\")"
   ]
  },
  {
   "cell_type": "code",
   "execution_count": 13,
   "metadata": {},
   "outputs": [
    {
     "name": "stdout",
     "output_type": "stream",
     "text": [
      "Glutathionylation\n"
     ]
    },
    {
     "data": {
      "application/vnd.plotly.v1+json": {
       "config": {
        "plotlyServerURL": "https://plot.ly",
        "toImageButtonOptions": {
         "filename": "pPAE_cutoff_glu",
         "format": "svg"
        }
       },
       "data": [
        {
         "alignmentgroup": "True",
         "hovertemplate": "cutoff=high exposure<br>pPSE=%{x}<br>count=%{y}<extra></extra>",
         "legendgroup": "high exposure",
         "marker": {
          "color": "rgb(177, 63, 100)"
         },
         "name": "high exposure",
         "offsetgroup": "high exposure",
         "orientation": "v",
         "showlegend": true,
         "textposition": "auto",
         "type": "bar",
         "x": [
          0,
          1,
          2,
          3,
          4,
          5
         ],
         "xaxis": "x",
         "y": [
          1136,
          479,
          365,
          317,
          245,
          202
         ],
         "yaxis": "y"
        },
        {
         "alignmentgroup": "True",
         "hovertemplate": "cutoff=low exposure<br>pPSE=%{x}<br>count=%{y}<extra></extra>",
         "legendgroup": "low exposure",
         "marker": {
          "color": "grey"
         },
         "name": "low exposure",
         "offsetgroup": "low exposure",
         "orientation": "v",
         "showlegend": true,
         "textposition": "auto",
         "type": "bar",
         "x": [
          6,
          7,
          8,
          9,
          10,
          11,
          12,
          13,
          14,
          15,
          16,
          17,
          18
         ],
         "xaxis": "x",
         "y": [
          243,
          156,
          144,
          159,
          113,
          78,
          88,
          78,
          35,
          4,
          10,
          3,
          2
         ],
         "yaxis": "y"
        }
       ],
       "layout": {
        "barmode": "relative",
        "height": 300,
        "legend": {
         "title": {
          "text": ""
         },
         "tracegroupgap": 0,
         "x": 0.99,
         "xanchor": "right",
         "y": 0.99,
         "yanchor": "top"
        },
        "margin": {
         "t": 60
        },
        "template": {
         "data": {
          "bar": [
           {
            "error_x": {
             "color": "rgb(36,36,36)"
            },
            "error_y": {
             "color": "rgb(36,36,36)"
            },
            "marker": {
             "line": {
              "color": "white",
              "width": 0.5
             }
            },
            "type": "bar"
           }
          ],
          "barpolar": [
           {
            "marker": {
             "line": {
              "color": "white",
              "width": 0.5
             }
            },
            "type": "barpolar"
           }
          ],
          "carpet": [
           {
            "aaxis": {
             "endlinecolor": "rgb(36,36,36)",
             "gridcolor": "white",
             "linecolor": "white",
             "minorgridcolor": "white",
             "startlinecolor": "rgb(36,36,36)"
            },
            "baxis": {
             "endlinecolor": "rgb(36,36,36)",
             "gridcolor": "white",
             "linecolor": "white",
             "minorgridcolor": "white",
             "startlinecolor": "rgb(36,36,36)"
            },
            "type": "carpet"
           }
          ],
          "choropleth": [
           {
            "colorbar": {
             "outlinewidth": 1,
             "tickcolor": "rgb(36,36,36)",
             "ticks": "outside"
            },
            "type": "choropleth"
           }
          ],
          "contour": [
           {
            "colorbar": {
             "outlinewidth": 1,
             "tickcolor": "rgb(36,36,36)",
             "ticks": "outside"
            },
            "colorscale": [
             [
              0,
              "#440154"
             ],
             [
              0.1111111111111111,
              "#482878"
             ],
             [
              0.2222222222222222,
              "#3e4989"
             ],
             [
              0.3333333333333333,
              "#31688e"
             ],
             [
              0.4444444444444444,
              "#26828e"
             ],
             [
              0.5555555555555556,
              "#1f9e89"
             ],
             [
              0.6666666666666666,
              "#35b779"
             ],
             [
              0.7777777777777778,
              "#6ece58"
             ],
             [
              0.8888888888888888,
              "#b5de2b"
             ],
             [
              1,
              "#fde725"
             ]
            ],
            "type": "contour"
           }
          ],
          "contourcarpet": [
           {
            "colorbar": {
             "outlinewidth": 1,
             "tickcolor": "rgb(36,36,36)",
             "ticks": "outside"
            },
            "type": "contourcarpet"
           }
          ],
          "heatmap": [
           {
            "colorbar": {
             "outlinewidth": 1,
             "tickcolor": "rgb(36,36,36)",
             "ticks": "outside"
            },
            "colorscale": [
             [
              0,
              "#440154"
             ],
             [
              0.1111111111111111,
              "#482878"
             ],
             [
              0.2222222222222222,
              "#3e4989"
             ],
             [
              0.3333333333333333,
              "#31688e"
             ],
             [
              0.4444444444444444,
              "#26828e"
             ],
             [
              0.5555555555555556,
              "#1f9e89"
             ],
             [
              0.6666666666666666,
              "#35b779"
             ],
             [
              0.7777777777777778,
              "#6ece58"
             ],
             [
              0.8888888888888888,
              "#b5de2b"
             ],
             [
              1,
              "#fde725"
             ]
            ],
            "type": "heatmap"
           }
          ],
          "heatmapgl": [
           {
            "colorbar": {
             "outlinewidth": 1,
             "tickcolor": "rgb(36,36,36)",
             "ticks": "outside"
            },
            "colorscale": [
             [
              0,
              "#440154"
             ],
             [
              0.1111111111111111,
              "#482878"
             ],
             [
              0.2222222222222222,
              "#3e4989"
             ],
             [
              0.3333333333333333,
              "#31688e"
             ],
             [
              0.4444444444444444,
              "#26828e"
             ],
             [
              0.5555555555555556,
              "#1f9e89"
             ],
             [
              0.6666666666666666,
              "#35b779"
             ],
             [
              0.7777777777777778,
              "#6ece58"
             ],
             [
              0.8888888888888888,
              "#b5de2b"
             ],
             [
              1,
              "#fde725"
             ]
            ],
            "type": "heatmapgl"
           }
          ],
          "histogram": [
           {
            "marker": {
             "line": {
              "color": "white",
              "width": 0.6
             }
            },
            "type": "histogram"
           }
          ],
          "histogram2d": [
           {
            "colorbar": {
             "outlinewidth": 1,
             "tickcolor": "rgb(36,36,36)",
             "ticks": "outside"
            },
            "colorscale": [
             [
              0,
              "#440154"
             ],
             [
              0.1111111111111111,
              "#482878"
             ],
             [
              0.2222222222222222,
              "#3e4989"
             ],
             [
              0.3333333333333333,
              "#31688e"
             ],
             [
              0.4444444444444444,
              "#26828e"
             ],
             [
              0.5555555555555556,
              "#1f9e89"
             ],
             [
              0.6666666666666666,
              "#35b779"
             ],
             [
              0.7777777777777778,
              "#6ece58"
             ],
             [
              0.8888888888888888,
              "#b5de2b"
             ],
             [
              1,
              "#fde725"
             ]
            ],
            "type": "histogram2d"
           }
          ],
          "histogram2dcontour": [
           {
            "colorbar": {
             "outlinewidth": 1,
             "tickcolor": "rgb(36,36,36)",
             "ticks": "outside"
            },
            "colorscale": [
             [
              0,
              "#440154"
             ],
             [
              0.1111111111111111,
              "#482878"
             ],
             [
              0.2222222222222222,
              "#3e4989"
             ],
             [
              0.3333333333333333,
              "#31688e"
             ],
             [
              0.4444444444444444,
              "#26828e"
             ],
             [
              0.5555555555555556,
              "#1f9e89"
             ],
             [
              0.6666666666666666,
              "#35b779"
             ],
             [
              0.7777777777777778,
              "#6ece58"
             ],
             [
              0.8888888888888888,
              "#b5de2b"
             ],
             [
              1,
              "#fde725"
             ]
            ],
            "type": "histogram2dcontour"
           }
          ],
          "mesh3d": [
           {
            "colorbar": {
             "outlinewidth": 1,
             "tickcolor": "rgb(36,36,36)",
             "ticks": "outside"
            },
            "type": "mesh3d"
           }
          ],
          "parcoords": [
           {
            "line": {
             "colorbar": {
              "outlinewidth": 1,
              "tickcolor": "rgb(36,36,36)",
              "ticks": "outside"
             }
            },
            "type": "parcoords"
           }
          ],
          "pie": [
           {
            "automargin": true,
            "type": "pie"
           }
          ],
          "scatter": [
           {
            "marker": {
             "colorbar": {
              "outlinewidth": 1,
              "tickcolor": "rgb(36,36,36)",
              "ticks": "outside"
             }
            },
            "type": "scatter"
           }
          ],
          "scatter3d": [
           {
            "line": {
             "colorbar": {
              "outlinewidth": 1,
              "tickcolor": "rgb(36,36,36)",
              "ticks": "outside"
             }
            },
            "marker": {
             "colorbar": {
              "outlinewidth": 1,
              "tickcolor": "rgb(36,36,36)",
              "ticks": "outside"
             }
            },
            "type": "scatter3d"
           }
          ],
          "scattercarpet": [
           {
            "marker": {
             "colorbar": {
              "outlinewidth": 1,
              "tickcolor": "rgb(36,36,36)",
              "ticks": "outside"
             }
            },
            "type": "scattercarpet"
           }
          ],
          "scattergeo": [
           {
            "marker": {
             "colorbar": {
              "outlinewidth": 1,
              "tickcolor": "rgb(36,36,36)",
              "ticks": "outside"
             }
            },
            "type": "scattergeo"
           }
          ],
          "scattergl": [
           {
            "marker": {
             "colorbar": {
              "outlinewidth": 1,
              "tickcolor": "rgb(36,36,36)",
              "ticks": "outside"
             }
            },
            "type": "scattergl"
           }
          ],
          "scattermapbox": [
           {
            "marker": {
             "colorbar": {
              "outlinewidth": 1,
              "tickcolor": "rgb(36,36,36)",
              "ticks": "outside"
             }
            },
            "type": "scattermapbox"
           }
          ],
          "scatterpolar": [
           {
            "marker": {
             "colorbar": {
              "outlinewidth": 1,
              "tickcolor": "rgb(36,36,36)",
              "ticks": "outside"
             }
            },
            "type": "scatterpolar"
           }
          ],
          "scatterpolargl": [
           {
            "marker": {
             "colorbar": {
              "outlinewidth": 1,
              "tickcolor": "rgb(36,36,36)",
              "ticks": "outside"
             }
            },
            "type": "scatterpolargl"
           }
          ],
          "scatterternary": [
           {
            "marker": {
             "colorbar": {
              "outlinewidth": 1,
              "tickcolor": "rgb(36,36,36)",
              "ticks": "outside"
             }
            },
            "type": "scatterternary"
           }
          ],
          "surface": [
           {
            "colorbar": {
             "outlinewidth": 1,
             "tickcolor": "rgb(36,36,36)",
             "ticks": "outside"
            },
            "colorscale": [
             [
              0,
              "#440154"
             ],
             [
              0.1111111111111111,
              "#482878"
             ],
             [
              0.2222222222222222,
              "#3e4989"
             ],
             [
              0.3333333333333333,
              "#31688e"
             ],
             [
              0.4444444444444444,
              "#26828e"
             ],
             [
              0.5555555555555556,
              "#1f9e89"
             ],
             [
              0.6666666666666666,
              "#35b779"
             ],
             [
              0.7777777777777778,
              "#6ece58"
             ],
             [
              0.8888888888888888,
              "#b5de2b"
             ],
             [
              1,
              "#fde725"
             ]
            ],
            "type": "surface"
           }
          ],
          "table": [
           {
            "cells": {
             "fill": {
              "color": "rgb(237,237,237)"
             },
             "line": {
              "color": "white"
             }
            },
            "header": {
             "fill": {
              "color": "rgb(217,217,217)"
             },
             "line": {
              "color": "white"
             }
            },
            "type": "table"
           }
          ]
         },
         "layout": {
          "annotationdefaults": {
           "arrowhead": 0,
           "arrowwidth": 1
          },
          "coloraxis": {
           "colorbar": {
            "outlinewidth": 1,
            "tickcolor": "rgb(36,36,36)",
            "ticks": "outside"
           }
          },
          "colorscale": {
           "diverging": [
            [
             0,
             "rgb(103,0,31)"
            ],
            [
             0.1,
             "rgb(178,24,43)"
            ],
            [
             0.2,
             "rgb(214,96,77)"
            ],
            [
             0.3,
             "rgb(244,165,130)"
            ],
            [
             0.4,
             "rgb(253,219,199)"
            ],
            [
             0.5,
             "rgb(247,247,247)"
            ],
            [
             0.6,
             "rgb(209,229,240)"
            ],
            [
             0.7,
             "rgb(146,197,222)"
            ],
            [
             0.8,
             "rgb(67,147,195)"
            ],
            [
             0.9,
             "rgb(33,102,172)"
            ],
            [
             1,
             "rgb(5,48,97)"
            ]
           ],
           "sequential": [
            [
             0,
             "#440154"
            ],
            [
             0.1111111111111111,
             "#482878"
            ],
            [
             0.2222222222222222,
             "#3e4989"
            ],
            [
             0.3333333333333333,
             "#31688e"
            ],
            [
             0.4444444444444444,
             "#26828e"
            ],
            [
             0.5555555555555556,
             "#1f9e89"
            ],
            [
             0.6666666666666666,
             "#35b779"
            ],
            [
             0.7777777777777778,
             "#6ece58"
            ],
            [
             0.8888888888888888,
             "#b5de2b"
            ],
            [
             1,
             "#fde725"
            ]
           ],
           "sequentialminus": [
            [
             0,
             "#440154"
            ],
            [
             0.1111111111111111,
             "#482878"
            ],
            [
             0.2222222222222222,
             "#3e4989"
            ],
            [
             0.3333333333333333,
             "#31688e"
            ],
            [
             0.4444444444444444,
             "#26828e"
            ],
            [
             0.5555555555555556,
             "#1f9e89"
            ],
            [
             0.6666666666666666,
             "#35b779"
            ],
            [
             0.7777777777777778,
             "#6ece58"
            ],
            [
             0.8888888888888888,
             "#b5de2b"
            ],
            [
             1,
             "#fde725"
            ]
           ]
          },
          "colorway": [
           "#1F77B4",
           "#FF7F0E",
           "#2CA02C",
           "#D62728",
           "#9467BD",
           "#8C564B",
           "#E377C2",
           "#7F7F7F",
           "#BCBD22",
           "#17BECF"
          ],
          "font": {
           "color": "rgb(36,36,36)"
          },
          "geo": {
           "bgcolor": "white",
           "lakecolor": "white",
           "landcolor": "white",
           "showlakes": true,
           "showland": true,
           "subunitcolor": "white"
          },
          "hoverlabel": {
           "align": "left"
          },
          "hovermode": "closest",
          "mapbox": {
           "style": "light"
          },
          "paper_bgcolor": "white",
          "plot_bgcolor": "white",
          "polar": {
           "angularaxis": {
            "gridcolor": "rgb(232,232,232)",
            "linecolor": "rgb(36,36,36)",
            "showgrid": false,
            "showline": true,
            "ticks": "outside"
           },
           "bgcolor": "white",
           "radialaxis": {
            "gridcolor": "rgb(232,232,232)",
            "linecolor": "rgb(36,36,36)",
            "showgrid": false,
            "showline": true,
            "ticks": "outside"
           }
          },
          "scene": {
           "xaxis": {
            "backgroundcolor": "white",
            "gridcolor": "rgb(232,232,232)",
            "gridwidth": 2,
            "linecolor": "rgb(36,36,36)",
            "showbackground": true,
            "showgrid": false,
            "showline": true,
            "ticks": "outside",
            "zeroline": false,
            "zerolinecolor": "rgb(36,36,36)"
           },
           "yaxis": {
            "backgroundcolor": "white",
            "gridcolor": "rgb(232,232,232)",
            "gridwidth": 2,
            "linecolor": "rgb(36,36,36)",
            "showbackground": true,
            "showgrid": false,
            "showline": true,
            "ticks": "outside",
            "zeroline": false,
            "zerolinecolor": "rgb(36,36,36)"
           },
           "zaxis": {
            "backgroundcolor": "white",
            "gridcolor": "rgb(232,232,232)",
            "gridwidth": 2,
            "linecolor": "rgb(36,36,36)",
            "showbackground": true,
            "showgrid": false,
            "showline": true,
            "ticks": "outside",
            "zeroline": false,
            "zerolinecolor": "rgb(36,36,36)"
           }
          },
          "shapedefaults": {
           "fillcolor": "black",
           "line": {
            "width": 0
           },
           "opacity": 0.3
          },
          "ternary": {
           "aaxis": {
            "gridcolor": "rgb(232,232,232)",
            "linecolor": "rgb(36,36,36)",
            "showgrid": false,
            "showline": true,
            "ticks": "outside"
           },
           "baxis": {
            "gridcolor": "rgb(232,232,232)",
            "linecolor": "rgb(36,36,36)",
            "showgrid": false,
            "showline": true,
            "ticks": "outside"
           },
           "bgcolor": "white",
           "caxis": {
            "gridcolor": "rgb(232,232,232)",
            "linecolor": "rgb(36,36,36)",
            "showgrid": false,
            "showline": true,
            "ticks": "outside"
           }
          },
          "title": {
           "x": 0.05
          },
          "xaxis": {
           "automargin": true,
           "gridcolor": "rgb(232,232,232)",
           "linecolor": "rgb(36,36,36)",
           "showgrid": false,
           "showline": true,
           "ticks": "outside",
           "title": {
            "standoff": 15
           },
           "zeroline": false,
           "zerolinecolor": "rgb(36,36,36)"
          },
          "yaxis": {
           "automargin": true,
           "gridcolor": "rgb(232,232,232)",
           "linecolor": "rgb(36,36,36)",
           "showgrid": false,
           "showline": true,
           "ticks": "outside",
           "title": {
            "standoff": 15
           },
           "zeroline": false,
           "zerolinecolor": "rgb(36,36,36)"
          }
         }
        },
        "width": 500,
        "xaxis": {
         "anchor": "y",
         "domain": [
          0,
          1
         ],
         "title": {
          "text": "pPSE"
         }
        },
        "yaxis": {
         "anchor": "x",
         "domain": [
          0,
          1
         ],
         "title": {
          "text": "count"
         }
        }
       }
      }
     },
     "metadata": {},
     "output_type": "display_data"
    },
    {
     "name": "stdout",
     "output_type": "stream",
     "text": [
      "Oxidation\n"
     ]
    },
    {
     "data": {
      "application/vnd.plotly.v1+json": {
       "config": {
        "plotlyServerURL": "https://plot.ly",
        "toImageButtonOptions": {
         "filename": "pPAE_cutoff_ox",
         "format": "svg"
        }
       },
       "data": [
        {
         "alignmentgroup": "True",
         "hovertemplate": "cutoff=high exposure<br>pPSE=%{x}<br>count=%{y}<extra></extra>",
         "legendgroup": "high exposure",
         "marker": {
          "color": "rgb(177, 63, 100)"
         },
         "name": "high exposure",
         "offsetgroup": "high exposure",
         "orientation": "v",
         "showlegend": true,
         "textposition": "auto",
         "type": "bar",
         "x": [
          0,
          1,
          2,
          3,
          4,
          5
         ],
         "xaxis": "x",
         "y": [
          5023,
          2757,
          2524,
          2131,
          1249,
          1092
         ],
         "yaxis": "y"
        },
        {
         "alignmentgroup": "True",
         "hovertemplate": "cutoff=low exposure<br>pPSE=%{x}<br>count=%{y}<extra></extra>",
         "legendgroup": "low exposure",
         "marker": {
          "color": "grey"
         },
         "name": "low exposure",
         "offsetgroup": "low exposure",
         "orientation": "v",
         "showlegend": true,
         "textposition": "auto",
         "type": "bar",
         "x": [
          6,
          7,
          8,
          9,
          10,
          11,
          12,
          13,
          14,
          15,
          16,
          17,
          18
         ],
         "xaxis": "x",
         "y": [
          913,
          938,
          819,
          565,
          618,
          477,
          294,
          343,
          249,
          124,
          56,
          16,
          15
         ],
         "yaxis": "y"
        }
       ],
       "layout": {
        "barmode": "relative",
        "height": 300,
        "legend": {
         "title": {
          "text": ""
         },
         "tracegroupgap": 0,
         "x": 0.99,
         "xanchor": "right",
         "y": 0.99,
         "yanchor": "top"
        },
        "margin": {
         "t": 60
        },
        "template": {
         "data": {
          "bar": [
           {
            "error_x": {
             "color": "rgb(36,36,36)"
            },
            "error_y": {
             "color": "rgb(36,36,36)"
            },
            "marker": {
             "line": {
              "color": "white",
              "width": 0.5
             }
            },
            "type": "bar"
           }
          ],
          "barpolar": [
           {
            "marker": {
             "line": {
              "color": "white",
              "width": 0.5
             }
            },
            "type": "barpolar"
           }
          ],
          "carpet": [
           {
            "aaxis": {
             "endlinecolor": "rgb(36,36,36)",
             "gridcolor": "white",
             "linecolor": "white",
             "minorgridcolor": "white",
             "startlinecolor": "rgb(36,36,36)"
            },
            "baxis": {
             "endlinecolor": "rgb(36,36,36)",
             "gridcolor": "white",
             "linecolor": "white",
             "minorgridcolor": "white",
             "startlinecolor": "rgb(36,36,36)"
            },
            "type": "carpet"
           }
          ],
          "choropleth": [
           {
            "colorbar": {
             "outlinewidth": 1,
             "tickcolor": "rgb(36,36,36)",
             "ticks": "outside"
            },
            "type": "choropleth"
           }
          ],
          "contour": [
           {
            "colorbar": {
             "outlinewidth": 1,
             "tickcolor": "rgb(36,36,36)",
             "ticks": "outside"
            },
            "colorscale": [
             [
              0,
              "#440154"
             ],
             [
              0.1111111111111111,
              "#482878"
             ],
             [
              0.2222222222222222,
              "#3e4989"
             ],
             [
              0.3333333333333333,
              "#31688e"
             ],
             [
              0.4444444444444444,
              "#26828e"
             ],
             [
              0.5555555555555556,
              "#1f9e89"
             ],
             [
              0.6666666666666666,
              "#35b779"
             ],
             [
              0.7777777777777778,
              "#6ece58"
             ],
             [
              0.8888888888888888,
              "#b5de2b"
             ],
             [
              1,
              "#fde725"
             ]
            ],
            "type": "contour"
           }
          ],
          "contourcarpet": [
           {
            "colorbar": {
             "outlinewidth": 1,
             "tickcolor": "rgb(36,36,36)",
             "ticks": "outside"
            },
            "type": "contourcarpet"
           }
          ],
          "heatmap": [
           {
            "colorbar": {
             "outlinewidth": 1,
             "tickcolor": "rgb(36,36,36)",
             "ticks": "outside"
            },
            "colorscale": [
             [
              0,
              "#440154"
             ],
             [
              0.1111111111111111,
              "#482878"
             ],
             [
              0.2222222222222222,
              "#3e4989"
             ],
             [
              0.3333333333333333,
              "#31688e"
             ],
             [
              0.4444444444444444,
              "#26828e"
             ],
             [
              0.5555555555555556,
              "#1f9e89"
             ],
             [
              0.6666666666666666,
              "#35b779"
             ],
             [
              0.7777777777777778,
              "#6ece58"
             ],
             [
              0.8888888888888888,
              "#b5de2b"
             ],
             [
              1,
              "#fde725"
             ]
            ],
            "type": "heatmap"
           }
          ],
          "heatmapgl": [
           {
            "colorbar": {
             "outlinewidth": 1,
             "tickcolor": "rgb(36,36,36)",
             "ticks": "outside"
            },
            "colorscale": [
             [
              0,
              "#440154"
             ],
             [
              0.1111111111111111,
              "#482878"
             ],
             [
              0.2222222222222222,
              "#3e4989"
             ],
             [
              0.3333333333333333,
              "#31688e"
             ],
             [
              0.4444444444444444,
              "#26828e"
             ],
             [
              0.5555555555555556,
              "#1f9e89"
             ],
             [
              0.6666666666666666,
              "#35b779"
             ],
             [
              0.7777777777777778,
              "#6ece58"
             ],
             [
              0.8888888888888888,
              "#b5de2b"
             ],
             [
              1,
              "#fde725"
             ]
            ],
            "type": "heatmapgl"
           }
          ],
          "histogram": [
           {
            "marker": {
             "line": {
              "color": "white",
              "width": 0.6
             }
            },
            "type": "histogram"
           }
          ],
          "histogram2d": [
           {
            "colorbar": {
             "outlinewidth": 1,
             "tickcolor": "rgb(36,36,36)",
             "ticks": "outside"
            },
            "colorscale": [
             [
              0,
              "#440154"
             ],
             [
              0.1111111111111111,
              "#482878"
             ],
             [
              0.2222222222222222,
              "#3e4989"
             ],
             [
              0.3333333333333333,
              "#31688e"
             ],
             [
              0.4444444444444444,
              "#26828e"
             ],
             [
              0.5555555555555556,
              "#1f9e89"
             ],
             [
              0.6666666666666666,
              "#35b779"
             ],
             [
              0.7777777777777778,
              "#6ece58"
             ],
             [
              0.8888888888888888,
              "#b5de2b"
             ],
             [
              1,
              "#fde725"
             ]
            ],
            "type": "histogram2d"
           }
          ],
          "histogram2dcontour": [
           {
            "colorbar": {
             "outlinewidth": 1,
             "tickcolor": "rgb(36,36,36)",
             "ticks": "outside"
            },
            "colorscale": [
             [
              0,
              "#440154"
             ],
             [
              0.1111111111111111,
              "#482878"
             ],
             [
              0.2222222222222222,
              "#3e4989"
             ],
             [
              0.3333333333333333,
              "#31688e"
             ],
             [
              0.4444444444444444,
              "#26828e"
             ],
             [
              0.5555555555555556,
              "#1f9e89"
             ],
             [
              0.6666666666666666,
              "#35b779"
             ],
             [
              0.7777777777777778,
              "#6ece58"
             ],
             [
              0.8888888888888888,
              "#b5de2b"
             ],
             [
              1,
              "#fde725"
             ]
            ],
            "type": "histogram2dcontour"
           }
          ],
          "mesh3d": [
           {
            "colorbar": {
             "outlinewidth": 1,
             "tickcolor": "rgb(36,36,36)",
             "ticks": "outside"
            },
            "type": "mesh3d"
           }
          ],
          "parcoords": [
           {
            "line": {
             "colorbar": {
              "outlinewidth": 1,
              "tickcolor": "rgb(36,36,36)",
              "ticks": "outside"
             }
            },
            "type": "parcoords"
           }
          ],
          "pie": [
           {
            "automargin": true,
            "type": "pie"
           }
          ],
          "scatter": [
           {
            "marker": {
             "colorbar": {
              "outlinewidth": 1,
              "tickcolor": "rgb(36,36,36)",
              "ticks": "outside"
             }
            },
            "type": "scatter"
           }
          ],
          "scatter3d": [
           {
            "line": {
             "colorbar": {
              "outlinewidth": 1,
              "tickcolor": "rgb(36,36,36)",
              "ticks": "outside"
             }
            },
            "marker": {
             "colorbar": {
              "outlinewidth": 1,
              "tickcolor": "rgb(36,36,36)",
              "ticks": "outside"
             }
            },
            "type": "scatter3d"
           }
          ],
          "scattercarpet": [
           {
            "marker": {
             "colorbar": {
              "outlinewidth": 1,
              "tickcolor": "rgb(36,36,36)",
              "ticks": "outside"
             }
            },
            "type": "scattercarpet"
           }
          ],
          "scattergeo": [
           {
            "marker": {
             "colorbar": {
              "outlinewidth": 1,
              "tickcolor": "rgb(36,36,36)",
              "ticks": "outside"
             }
            },
            "type": "scattergeo"
           }
          ],
          "scattergl": [
           {
            "marker": {
             "colorbar": {
              "outlinewidth": 1,
              "tickcolor": "rgb(36,36,36)",
              "ticks": "outside"
             }
            },
            "type": "scattergl"
           }
          ],
          "scattermapbox": [
           {
            "marker": {
             "colorbar": {
              "outlinewidth": 1,
              "tickcolor": "rgb(36,36,36)",
              "ticks": "outside"
             }
            },
            "type": "scattermapbox"
           }
          ],
          "scatterpolar": [
           {
            "marker": {
             "colorbar": {
              "outlinewidth": 1,
              "tickcolor": "rgb(36,36,36)",
              "ticks": "outside"
             }
            },
            "type": "scatterpolar"
           }
          ],
          "scatterpolargl": [
           {
            "marker": {
             "colorbar": {
              "outlinewidth": 1,
              "tickcolor": "rgb(36,36,36)",
              "ticks": "outside"
             }
            },
            "type": "scatterpolargl"
           }
          ],
          "scatterternary": [
           {
            "marker": {
             "colorbar": {
              "outlinewidth": 1,
              "tickcolor": "rgb(36,36,36)",
              "ticks": "outside"
             }
            },
            "type": "scatterternary"
           }
          ],
          "surface": [
           {
            "colorbar": {
             "outlinewidth": 1,
             "tickcolor": "rgb(36,36,36)",
             "ticks": "outside"
            },
            "colorscale": [
             [
              0,
              "#440154"
             ],
             [
              0.1111111111111111,
              "#482878"
             ],
             [
              0.2222222222222222,
              "#3e4989"
             ],
             [
              0.3333333333333333,
              "#31688e"
             ],
             [
              0.4444444444444444,
              "#26828e"
             ],
             [
              0.5555555555555556,
              "#1f9e89"
             ],
             [
              0.6666666666666666,
              "#35b779"
             ],
             [
              0.7777777777777778,
              "#6ece58"
             ],
             [
              0.8888888888888888,
              "#b5de2b"
             ],
             [
              1,
              "#fde725"
             ]
            ],
            "type": "surface"
           }
          ],
          "table": [
           {
            "cells": {
             "fill": {
              "color": "rgb(237,237,237)"
             },
             "line": {
              "color": "white"
             }
            },
            "header": {
             "fill": {
              "color": "rgb(217,217,217)"
             },
             "line": {
              "color": "white"
             }
            },
            "type": "table"
           }
          ]
         },
         "layout": {
          "annotationdefaults": {
           "arrowhead": 0,
           "arrowwidth": 1
          },
          "coloraxis": {
           "colorbar": {
            "outlinewidth": 1,
            "tickcolor": "rgb(36,36,36)",
            "ticks": "outside"
           }
          },
          "colorscale": {
           "diverging": [
            [
             0,
             "rgb(103,0,31)"
            ],
            [
             0.1,
             "rgb(178,24,43)"
            ],
            [
             0.2,
             "rgb(214,96,77)"
            ],
            [
             0.3,
             "rgb(244,165,130)"
            ],
            [
             0.4,
             "rgb(253,219,199)"
            ],
            [
             0.5,
             "rgb(247,247,247)"
            ],
            [
             0.6,
             "rgb(209,229,240)"
            ],
            [
             0.7,
             "rgb(146,197,222)"
            ],
            [
             0.8,
             "rgb(67,147,195)"
            ],
            [
             0.9,
             "rgb(33,102,172)"
            ],
            [
             1,
             "rgb(5,48,97)"
            ]
           ],
           "sequential": [
            [
             0,
             "#440154"
            ],
            [
             0.1111111111111111,
             "#482878"
            ],
            [
             0.2222222222222222,
             "#3e4989"
            ],
            [
             0.3333333333333333,
             "#31688e"
            ],
            [
             0.4444444444444444,
             "#26828e"
            ],
            [
             0.5555555555555556,
             "#1f9e89"
            ],
            [
             0.6666666666666666,
             "#35b779"
            ],
            [
             0.7777777777777778,
             "#6ece58"
            ],
            [
             0.8888888888888888,
             "#b5de2b"
            ],
            [
             1,
             "#fde725"
            ]
           ],
           "sequentialminus": [
            [
             0,
             "#440154"
            ],
            [
             0.1111111111111111,
             "#482878"
            ],
            [
             0.2222222222222222,
             "#3e4989"
            ],
            [
             0.3333333333333333,
             "#31688e"
            ],
            [
             0.4444444444444444,
             "#26828e"
            ],
            [
             0.5555555555555556,
             "#1f9e89"
            ],
            [
             0.6666666666666666,
             "#35b779"
            ],
            [
             0.7777777777777778,
             "#6ece58"
            ],
            [
             0.8888888888888888,
             "#b5de2b"
            ],
            [
             1,
             "#fde725"
            ]
           ]
          },
          "colorway": [
           "#1F77B4",
           "#FF7F0E",
           "#2CA02C",
           "#D62728",
           "#9467BD",
           "#8C564B",
           "#E377C2",
           "#7F7F7F",
           "#BCBD22",
           "#17BECF"
          ],
          "font": {
           "color": "rgb(36,36,36)"
          },
          "geo": {
           "bgcolor": "white",
           "lakecolor": "white",
           "landcolor": "white",
           "showlakes": true,
           "showland": true,
           "subunitcolor": "white"
          },
          "hoverlabel": {
           "align": "left"
          },
          "hovermode": "closest",
          "mapbox": {
           "style": "light"
          },
          "paper_bgcolor": "white",
          "plot_bgcolor": "white",
          "polar": {
           "angularaxis": {
            "gridcolor": "rgb(232,232,232)",
            "linecolor": "rgb(36,36,36)",
            "showgrid": false,
            "showline": true,
            "ticks": "outside"
           },
           "bgcolor": "white",
           "radialaxis": {
            "gridcolor": "rgb(232,232,232)",
            "linecolor": "rgb(36,36,36)",
            "showgrid": false,
            "showline": true,
            "ticks": "outside"
           }
          },
          "scene": {
           "xaxis": {
            "backgroundcolor": "white",
            "gridcolor": "rgb(232,232,232)",
            "gridwidth": 2,
            "linecolor": "rgb(36,36,36)",
            "showbackground": true,
            "showgrid": false,
            "showline": true,
            "ticks": "outside",
            "zeroline": false,
            "zerolinecolor": "rgb(36,36,36)"
           },
           "yaxis": {
            "backgroundcolor": "white",
            "gridcolor": "rgb(232,232,232)",
            "gridwidth": 2,
            "linecolor": "rgb(36,36,36)",
            "showbackground": true,
            "showgrid": false,
            "showline": true,
            "ticks": "outside",
            "zeroline": false,
            "zerolinecolor": "rgb(36,36,36)"
           },
           "zaxis": {
            "backgroundcolor": "white",
            "gridcolor": "rgb(232,232,232)",
            "gridwidth": 2,
            "linecolor": "rgb(36,36,36)",
            "showbackground": true,
            "showgrid": false,
            "showline": true,
            "ticks": "outside",
            "zeroline": false,
            "zerolinecolor": "rgb(36,36,36)"
           }
          },
          "shapedefaults": {
           "fillcolor": "black",
           "line": {
            "width": 0
           },
           "opacity": 0.3
          },
          "ternary": {
           "aaxis": {
            "gridcolor": "rgb(232,232,232)",
            "linecolor": "rgb(36,36,36)",
            "showgrid": false,
            "showline": true,
            "ticks": "outside"
           },
           "baxis": {
            "gridcolor": "rgb(232,232,232)",
            "linecolor": "rgb(36,36,36)",
            "showgrid": false,
            "showline": true,
            "ticks": "outside"
           },
           "bgcolor": "white",
           "caxis": {
            "gridcolor": "rgb(232,232,232)",
            "linecolor": "rgb(36,36,36)",
            "showgrid": false,
            "showline": true,
            "ticks": "outside"
           }
          },
          "title": {
           "x": 0.05
          },
          "xaxis": {
           "automargin": true,
           "gridcolor": "rgb(232,232,232)",
           "linecolor": "rgb(36,36,36)",
           "showgrid": false,
           "showline": true,
           "ticks": "outside",
           "title": {
            "standoff": 15
           },
           "zeroline": false,
           "zerolinecolor": "rgb(36,36,36)"
          },
          "yaxis": {
           "automargin": true,
           "gridcolor": "rgb(232,232,232)",
           "linecolor": "rgb(36,36,36)",
           "showgrid": false,
           "showline": true,
           "ticks": "outside",
           "title": {
            "standoff": 15
           },
           "zeroline": false,
           "zerolinecolor": "rgb(36,36,36)"
          }
         }
        },
        "width": 500,
        "xaxis": {
         "anchor": "y",
         "domain": [
          0,
          1
         ],
         "title": {
          "text": "pPSE"
         }
        },
        "yaxis": {
         "anchor": "x",
         "domain": [
          0,
          1
         ],
         "title": {
          "text": "count"
         }
        }
       }
      }
     },
     "metadata": {},
     "output_type": "display_data"
    },
    {
     "name": "stdout",
     "output_type": "stream",
     "text": [
      "Phosphorylation\n"
     ]
    },
    {
     "data": {
      "application/vnd.plotly.v1+json": {
       "config": {
        "plotlyServerURL": "https://plot.ly",
        "toImageButtonOptions": {
         "filename": "pPAE_cutoff_phos",
         "format": "svg"
        }
       },
       "data": [
        {
         "alignmentgroup": "True",
         "hovertemplate": "cutoff=high exposure<br>pPSE=%{x}<br>count=%{y}<extra></extra>",
         "legendgroup": "high exposure",
         "marker": {
          "color": "rgb(177, 63, 100)"
         },
         "name": "high exposure",
         "offsetgroup": "high exposure",
         "orientation": "v",
         "showlegend": true,
         "textposition": "auto",
         "type": "bar",
         "x": [
          0,
          1,
          2,
          3,
          4,
          5
         ],
         "xaxis": "x",
         "y": [
          269,
          29,
          18,
          16,
          7,
          4
         ],
         "yaxis": "y"
        },
        {
         "alignmentgroup": "True",
         "hovertemplate": "cutoff=low exposure<br>pPSE=%{x}<br>count=%{y}<extra></extra>",
         "legendgroup": "low exposure",
         "marker": {
          "color": "grey"
         },
         "name": "low exposure",
         "offsetgroup": "low exposure",
         "orientation": "v",
         "showlegend": true,
         "textposition": "auto",
         "type": "bar",
         "x": [
          6,
          7,
          8,
          9,
          10,
          11,
          12
         ],
         "xaxis": "x",
         "y": [
          3,
          5,
          4,
          3,
          1,
          9,
          1
         ],
         "yaxis": "y"
        }
       ],
       "layout": {
        "barmode": "relative",
        "height": 300,
        "legend": {
         "title": {
          "text": ""
         },
         "tracegroupgap": 0,
         "x": 0.99,
         "xanchor": "right",
         "y": 0.99,
         "yanchor": "top"
        },
        "margin": {
         "t": 60
        },
        "template": {
         "data": {
          "bar": [
           {
            "error_x": {
             "color": "rgb(36,36,36)"
            },
            "error_y": {
             "color": "rgb(36,36,36)"
            },
            "marker": {
             "line": {
              "color": "white",
              "width": 0.5
             }
            },
            "type": "bar"
           }
          ],
          "barpolar": [
           {
            "marker": {
             "line": {
              "color": "white",
              "width": 0.5
             }
            },
            "type": "barpolar"
           }
          ],
          "carpet": [
           {
            "aaxis": {
             "endlinecolor": "rgb(36,36,36)",
             "gridcolor": "white",
             "linecolor": "white",
             "minorgridcolor": "white",
             "startlinecolor": "rgb(36,36,36)"
            },
            "baxis": {
             "endlinecolor": "rgb(36,36,36)",
             "gridcolor": "white",
             "linecolor": "white",
             "minorgridcolor": "white",
             "startlinecolor": "rgb(36,36,36)"
            },
            "type": "carpet"
           }
          ],
          "choropleth": [
           {
            "colorbar": {
             "outlinewidth": 1,
             "tickcolor": "rgb(36,36,36)",
             "ticks": "outside"
            },
            "type": "choropleth"
           }
          ],
          "contour": [
           {
            "colorbar": {
             "outlinewidth": 1,
             "tickcolor": "rgb(36,36,36)",
             "ticks": "outside"
            },
            "colorscale": [
             [
              0,
              "#440154"
             ],
             [
              0.1111111111111111,
              "#482878"
             ],
             [
              0.2222222222222222,
              "#3e4989"
             ],
             [
              0.3333333333333333,
              "#31688e"
             ],
             [
              0.4444444444444444,
              "#26828e"
             ],
             [
              0.5555555555555556,
              "#1f9e89"
             ],
             [
              0.6666666666666666,
              "#35b779"
             ],
             [
              0.7777777777777778,
              "#6ece58"
             ],
             [
              0.8888888888888888,
              "#b5de2b"
             ],
             [
              1,
              "#fde725"
             ]
            ],
            "type": "contour"
           }
          ],
          "contourcarpet": [
           {
            "colorbar": {
             "outlinewidth": 1,
             "tickcolor": "rgb(36,36,36)",
             "ticks": "outside"
            },
            "type": "contourcarpet"
           }
          ],
          "heatmap": [
           {
            "colorbar": {
             "outlinewidth": 1,
             "tickcolor": "rgb(36,36,36)",
             "ticks": "outside"
            },
            "colorscale": [
             [
              0,
              "#440154"
             ],
             [
              0.1111111111111111,
              "#482878"
             ],
             [
              0.2222222222222222,
              "#3e4989"
             ],
             [
              0.3333333333333333,
              "#31688e"
             ],
             [
              0.4444444444444444,
              "#26828e"
             ],
             [
              0.5555555555555556,
              "#1f9e89"
             ],
             [
              0.6666666666666666,
              "#35b779"
             ],
             [
              0.7777777777777778,
              "#6ece58"
             ],
             [
              0.8888888888888888,
              "#b5de2b"
             ],
             [
              1,
              "#fde725"
             ]
            ],
            "type": "heatmap"
           }
          ],
          "heatmapgl": [
           {
            "colorbar": {
             "outlinewidth": 1,
             "tickcolor": "rgb(36,36,36)",
             "ticks": "outside"
            },
            "colorscale": [
             [
              0,
              "#440154"
             ],
             [
              0.1111111111111111,
              "#482878"
             ],
             [
              0.2222222222222222,
              "#3e4989"
             ],
             [
              0.3333333333333333,
              "#31688e"
             ],
             [
              0.4444444444444444,
              "#26828e"
             ],
             [
              0.5555555555555556,
              "#1f9e89"
             ],
             [
              0.6666666666666666,
              "#35b779"
             ],
             [
              0.7777777777777778,
              "#6ece58"
             ],
             [
              0.8888888888888888,
              "#b5de2b"
             ],
             [
              1,
              "#fde725"
             ]
            ],
            "type": "heatmapgl"
           }
          ],
          "histogram": [
           {
            "marker": {
             "line": {
              "color": "white",
              "width": 0.6
             }
            },
            "type": "histogram"
           }
          ],
          "histogram2d": [
           {
            "colorbar": {
             "outlinewidth": 1,
             "tickcolor": "rgb(36,36,36)",
             "ticks": "outside"
            },
            "colorscale": [
             [
              0,
              "#440154"
             ],
             [
              0.1111111111111111,
              "#482878"
             ],
             [
              0.2222222222222222,
              "#3e4989"
             ],
             [
              0.3333333333333333,
              "#31688e"
             ],
             [
              0.4444444444444444,
              "#26828e"
             ],
             [
              0.5555555555555556,
              "#1f9e89"
             ],
             [
              0.6666666666666666,
              "#35b779"
             ],
             [
              0.7777777777777778,
              "#6ece58"
             ],
             [
              0.8888888888888888,
              "#b5de2b"
             ],
             [
              1,
              "#fde725"
             ]
            ],
            "type": "histogram2d"
           }
          ],
          "histogram2dcontour": [
           {
            "colorbar": {
             "outlinewidth": 1,
             "tickcolor": "rgb(36,36,36)",
             "ticks": "outside"
            },
            "colorscale": [
             [
              0,
              "#440154"
             ],
             [
              0.1111111111111111,
              "#482878"
             ],
             [
              0.2222222222222222,
              "#3e4989"
             ],
             [
              0.3333333333333333,
              "#31688e"
             ],
             [
              0.4444444444444444,
              "#26828e"
             ],
             [
              0.5555555555555556,
              "#1f9e89"
             ],
             [
              0.6666666666666666,
              "#35b779"
             ],
             [
              0.7777777777777778,
              "#6ece58"
             ],
             [
              0.8888888888888888,
              "#b5de2b"
             ],
             [
              1,
              "#fde725"
             ]
            ],
            "type": "histogram2dcontour"
           }
          ],
          "mesh3d": [
           {
            "colorbar": {
             "outlinewidth": 1,
             "tickcolor": "rgb(36,36,36)",
             "ticks": "outside"
            },
            "type": "mesh3d"
           }
          ],
          "parcoords": [
           {
            "line": {
             "colorbar": {
              "outlinewidth": 1,
              "tickcolor": "rgb(36,36,36)",
              "ticks": "outside"
             }
            },
            "type": "parcoords"
           }
          ],
          "pie": [
           {
            "automargin": true,
            "type": "pie"
           }
          ],
          "scatter": [
           {
            "marker": {
             "colorbar": {
              "outlinewidth": 1,
              "tickcolor": "rgb(36,36,36)",
              "ticks": "outside"
             }
            },
            "type": "scatter"
           }
          ],
          "scatter3d": [
           {
            "line": {
             "colorbar": {
              "outlinewidth": 1,
              "tickcolor": "rgb(36,36,36)",
              "ticks": "outside"
             }
            },
            "marker": {
             "colorbar": {
              "outlinewidth": 1,
              "tickcolor": "rgb(36,36,36)",
              "ticks": "outside"
             }
            },
            "type": "scatter3d"
           }
          ],
          "scattercarpet": [
           {
            "marker": {
             "colorbar": {
              "outlinewidth": 1,
              "tickcolor": "rgb(36,36,36)",
              "ticks": "outside"
             }
            },
            "type": "scattercarpet"
           }
          ],
          "scattergeo": [
           {
            "marker": {
             "colorbar": {
              "outlinewidth": 1,
              "tickcolor": "rgb(36,36,36)",
              "ticks": "outside"
             }
            },
            "type": "scattergeo"
           }
          ],
          "scattergl": [
           {
            "marker": {
             "colorbar": {
              "outlinewidth": 1,
              "tickcolor": "rgb(36,36,36)",
              "ticks": "outside"
             }
            },
            "type": "scattergl"
           }
          ],
          "scattermapbox": [
           {
            "marker": {
             "colorbar": {
              "outlinewidth": 1,
              "tickcolor": "rgb(36,36,36)",
              "ticks": "outside"
             }
            },
            "type": "scattermapbox"
           }
          ],
          "scatterpolar": [
           {
            "marker": {
             "colorbar": {
              "outlinewidth": 1,
              "tickcolor": "rgb(36,36,36)",
              "ticks": "outside"
             }
            },
            "type": "scatterpolar"
           }
          ],
          "scatterpolargl": [
           {
            "marker": {
             "colorbar": {
              "outlinewidth": 1,
              "tickcolor": "rgb(36,36,36)",
              "ticks": "outside"
             }
            },
            "type": "scatterpolargl"
           }
          ],
          "scatterternary": [
           {
            "marker": {
             "colorbar": {
              "outlinewidth": 1,
              "tickcolor": "rgb(36,36,36)",
              "ticks": "outside"
             }
            },
            "type": "scatterternary"
           }
          ],
          "surface": [
           {
            "colorbar": {
             "outlinewidth": 1,
             "tickcolor": "rgb(36,36,36)",
             "ticks": "outside"
            },
            "colorscale": [
             [
              0,
              "#440154"
             ],
             [
              0.1111111111111111,
              "#482878"
             ],
             [
              0.2222222222222222,
              "#3e4989"
             ],
             [
              0.3333333333333333,
              "#31688e"
             ],
             [
              0.4444444444444444,
              "#26828e"
             ],
             [
              0.5555555555555556,
              "#1f9e89"
             ],
             [
              0.6666666666666666,
              "#35b779"
             ],
             [
              0.7777777777777778,
              "#6ece58"
             ],
             [
              0.8888888888888888,
              "#b5de2b"
             ],
             [
              1,
              "#fde725"
             ]
            ],
            "type": "surface"
           }
          ],
          "table": [
           {
            "cells": {
             "fill": {
              "color": "rgb(237,237,237)"
             },
             "line": {
              "color": "white"
             }
            },
            "header": {
             "fill": {
              "color": "rgb(217,217,217)"
             },
             "line": {
              "color": "white"
             }
            },
            "type": "table"
           }
          ]
         },
         "layout": {
          "annotationdefaults": {
           "arrowhead": 0,
           "arrowwidth": 1
          },
          "coloraxis": {
           "colorbar": {
            "outlinewidth": 1,
            "tickcolor": "rgb(36,36,36)",
            "ticks": "outside"
           }
          },
          "colorscale": {
           "diverging": [
            [
             0,
             "rgb(103,0,31)"
            ],
            [
             0.1,
             "rgb(178,24,43)"
            ],
            [
             0.2,
             "rgb(214,96,77)"
            ],
            [
             0.3,
             "rgb(244,165,130)"
            ],
            [
             0.4,
             "rgb(253,219,199)"
            ],
            [
             0.5,
             "rgb(247,247,247)"
            ],
            [
             0.6,
             "rgb(209,229,240)"
            ],
            [
             0.7,
             "rgb(146,197,222)"
            ],
            [
             0.8,
             "rgb(67,147,195)"
            ],
            [
             0.9,
             "rgb(33,102,172)"
            ],
            [
             1,
             "rgb(5,48,97)"
            ]
           ],
           "sequential": [
            [
             0,
             "#440154"
            ],
            [
             0.1111111111111111,
             "#482878"
            ],
            [
             0.2222222222222222,
             "#3e4989"
            ],
            [
             0.3333333333333333,
             "#31688e"
            ],
            [
             0.4444444444444444,
             "#26828e"
            ],
            [
             0.5555555555555556,
             "#1f9e89"
            ],
            [
             0.6666666666666666,
             "#35b779"
            ],
            [
             0.7777777777777778,
             "#6ece58"
            ],
            [
             0.8888888888888888,
             "#b5de2b"
            ],
            [
             1,
             "#fde725"
            ]
           ],
           "sequentialminus": [
            [
             0,
             "#440154"
            ],
            [
             0.1111111111111111,
             "#482878"
            ],
            [
             0.2222222222222222,
             "#3e4989"
            ],
            [
             0.3333333333333333,
             "#31688e"
            ],
            [
             0.4444444444444444,
             "#26828e"
            ],
            [
             0.5555555555555556,
             "#1f9e89"
            ],
            [
             0.6666666666666666,
             "#35b779"
            ],
            [
             0.7777777777777778,
             "#6ece58"
            ],
            [
             0.8888888888888888,
             "#b5de2b"
            ],
            [
             1,
             "#fde725"
            ]
           ]
          },
          "colorway": [
           "#1F77B4",
           "#FF7F0E",
           "#2CA02C",
           "#D62728",
           "#9467BD",
           "#8C564B",
           "#E377C2",
           "#7F7F7F",
           "#BCBD22",
           "#17BECF"
          ],
          "font": {
           "color": "rgb(36,36,36)"
          },
          "geo": {
           "bgcolor": "white",
           "lakecolor": "white",
           "landcolor": "white",
           "showlakes": true,
           "showland": true,
           "subunitcolor": "white"
          },
          "hoverlabel": {
           "align": "left"
          },
          "hovermode": "closest",
          "mapbox": {
           "style": "light"
          },
          "paper_bgcolor": "white",
          "plot_bgcolor": "white",
          "polar": {
           "angularaxis": {
            "gridcolor": "rgb(232,232,232)",
            "linecolor": "rgb(36,36,36)",
            "showgrid": false,
            "showline": true,
            "ticks": "outside"
           },
           "bgcolor": "white",
           "radialaxis": {
            "gridcolor": "rgb(232,232,232)",
            "linecolor": "rgb(36,36,36)",
            "showgrid": false,
            "showline": true,
            "ticks": "outside"
           }
          },
          "scene": {
           "xaxis": {
            "backgroundcolor": "white",
            "gridcolor": "rgb(232,232,232)",
            "gridwidth": 2,
            "linecolor": "rgb(36,36,36)",
            "showbackground": true,
            "showgrid": false,
            "showline": true,
            "ticks": "outside",
            "zeroline": false,
            "zerolinecolor": "rgb(36,36,36)"
           },
           "yaxis": {
            "backgroundcolor": "white",
            "gridcolor": "rgb(232,232,232)",
            "gridwidth": 2,
            "linecolor": "rgb(36,36,36)",
            "showbackground": true,
            "showgrid": false,
            "showline": true,
            "ticks": "outside",
            "zeroline": false,
            "zerolinecolor": "rgb(36,36,36)"
           },
           "zaxis": {
            "backgroundcolor": "white",
            "gridcolor": "rgb(232,232,232)",
            "gridwidth": 2,
            "linecolor": "rgb(36,36,36)",
            "showbackground": true,
            "showgrid": false,
            "showline": true,
            "ticks": "outside",
            "zeroline": false,
            "zerolinecolor": "rgb(36,36,36)"
           }
          },
          "shapedefaults": {
           "fillcolor": "black",
           "line": {
            "width": 0
           },
           "opacity": 0.3
          },
          "ternary": {
           "aaxis": {
            "gridcolor": "rgb(232,232,232)",
            "linecolor": "rgb(36,36,36)",
            "showgrid": false,
            "showline": true,
            "ticks": "outside"
           },
           "baxis": {
            "gridcolor": "rgb(232,232,232)",
            "linecolor": "rgb(36,36,36)",
            "showgrid": false,
            "showline": true,
            "ticks": "outside"
           },
           "bgcolor": "white",
           "caxis": {
            "gridcolor": "rgb(232,232,232)",
            "linecolor": "rgb(36,36,36)",
            "showgrid": false,
            "showline": true,
            "ticks": "outside"
           }
          },
          "title": {
           "x": 0.05
          },
          "xaxis": {
           "automargin": true,
           "gridcolor": "rgb(232,232,232)",
           "linecolor": "rgb(36,36,36)",
           "showgrid": false,
           "showline": true,
           "ticks": "outside",
           "title": {
            "standoff": 15
           },
           "zeroline": false,
           "zerolinecolor": "rgb(36,36,36)"
          },
          "yaxis": {
           "automargin": true,
           "gridcolor": "rgb(232,232,232)",
           "linecolor": "rgb(36,36,36)",
           "showgrid": false,
           "showline": true,
           "ticks": "outside",
           "title": {
            "standoff": 15
           },
           "zeroline": false,
           "zerolinecolor": "rgb(36,36,36)"
          }
         }
        },
        "width": 500,
        "xaxis": {
         "anchor": "y",
         "domain": [
          0,
          1
         ],
         "title": {
          "text": "pPSE"
         }
        },
        "yaxis": {
         "anchor": "x",
         "domain": [
          0,
          1
         ],
         "title": {
          "text": "count"
         }
        }
       }
      }
     },
     "metadata": {},
     "output_type": "display_data"
    },
    {
     "name": "stdout",
     "output_type": "stream",
     "text": [
      "Carbamylation\n"
     ]
    },
    {
     "data": {
      "application/vnd.plotly.v1+json": {
       "config": {
        "plotlyServerURL": "https://plot.ly",
        "toImageButtonOptions": {
         "filename": "pPAE_cutoff_carb",
         "format": "svg"
        }
       },
       "data": [
        {
         "alignmentgroup": "True",
         "hovertemplate": "cutoff=high exposure<br>pPSE=%{x}<br>count=%{y}<extra></extra>",
         "legendgroup": "high exposure",
         "marker": {
          "color": "rgb(177, 63, 100)"
         },
         "name": "high exposure",
         "offsetgroup": "high exposure",
         "orientation": "v",
         "showlegend": true,
         "textposition": "auto",
         "type": "bar",
         "x": [
          0,
          1,
          2,
          4
         ],
         "xaxis": "x",
         "y": [
          866,
          11,
          23,
          1
         ],
         "yaxis": "y"
        }
       ],
       "layout": {
        "barmode": "relative",
        "height": 300,
        "legend": {
         "title": {
          "text": ""
         },
         "tracegroupgap": 0,
         "x": 0.99,
         "xanchor": "right",
         "y": 0.99,
         "yanchor": "top"
        },
        "margin": {
         "t": 60
        },
        "template": {
         "data": {
          "bar": [
           {
            "error_x": {
             "color": "rgb(36,36,36)"
            },
            "error_y": {
             "color": "rgb(36,36,36)"
            },
            "marker": {
             "line": {
              "color": "white",
              "width": 0.5
             }
            },
            "type": "bar"
           }
          ],
          "barpolar": [
           {
            "marker": {
             "line": {
              "color": "white",
              "width": 0.5
             }
            },
            "type": "barpolar"
           }
          ],
          "carpet": [
           {
            "aaxis": {
             "endlinecolor": "rgb(36,36,36)",
             "gridcolor": "white",
             "linecolor": "white",
             "minorgridcolor": "white",
             "startlinecolor": "rgb(36,36,36)"
            },
            "baxis": {
             "endlinecolor": "rgb(36,36,36)",
             "gridcolor": "white",
             "linecolor": "white",
             "minorgridcolor": "white",
             "startlinecolor": "rgb(36,36,36)"
            },
            "type": "carpet"
           }
          ],
          "choropleth": [
           {
            "colorbar": {
             "outlinewidth": 1,
             "tickcolor": "rgb(36,36,36)",
             "ticks": "outside"
            },
            "type": "choropleth"
           }
          ],
          "contour": [
           {
            "colorbar": {
             "outlinewidth": 1,
             "tickcolor": "rgb(36,36,36)",
             "ticks": "outside"
            },
            "colorscale": [
             [
              0,
              "#440154"
             ],
             [
              0.1111111111111111,
              "#482878"
             ],
             [
              0.2222222222222222,
              "#3e4989"
             ],
             [
              0.3333333333333333,
              "#31688e"
             ],
             [
              0.4444444444444444,
              "#26828e"
             ],
             [
              0.5555555555555556,
              "#1f9e89"
             ],
             [
              0.6666666666666666,
              "#35b779"
             ],
             [
              0.7777777777777778,
              "#6ece58"
             ],
             [
              0.8888888888888888,
              "#b5de2b"
             ],
             [
              1,
              "#fde725"
             ]
            ],
            "type": "contour"
           }
          ],
          "contourcarpet": [
           {
            "colorbar": {
             "outlinewidth": 1,
             "tickcolor": "rgb(36,36,36)",
             "ticks": "outside"
            },
            "type": "contourcarpet"
           }
          ],
          "heatmap": [
           {
            "colorbar": {
             "outlinewidth": 1,
             "tickcolor": "rgb(36,36,36)",
             "ticks": "outside"
            },
            "colorscale": [
             [
              0,
              "#440154"
             ],
             [
              0.1111111111111111,
              "#482878"
             ],
             [
              0.2222222222222222,
              "#3e4989"
             ],
             [
              0.3333333333333333,
              "#31688e"
             ],
             [
              0.4444444444444444,
              "#26828e"
             ],
             [
              0.5555555555555556,
              "#1f9e89"
             ],
             [
              0.6666666666666666,
              "#35b779"
             ],
             [
              0.7777777777777778,
              "#6ece58"
             ],
             [
              0.8888888888888888,
              "#b5de2b"
             ],
             [
              1,
              "#fde725"
             ]
            ],
            "type": "heatmap"
           }
          ],
          "heatmapgl": [
           {
            "colorbar": {
             "outlinewidth": 1,
             "tickcolor": "rgb(36,36,36)",
             "ticks": "outside"
            },
            "colorscale": [
             [
              0,
              "#440154"
             ],
             [
              0.1111111111111111,
              "#482878"
             ],
             [
              0.2222222222222222,
              "#3e4989"
             ],
             [
              0.3333333333333333,
              "#31688e"
             ],
             [
              0.4444444444444444,
              "#26828e"
             ],
             [
              0.5555555555555556,
              "#1f9e89"
             ],
             [
              0.6666666666666666,
              "#35b779"
             ],
             [
              0.7777777777777778,
              "#6ece58"
             ],
             [
              0.8888888888888888,
              "#b5de2b"
             ],
             [
              1,
              "#fde725"
             ]
            ],
            "type": "heatmapgl"
           }
          ],
          "histogram": [
           {
            "marker": {
             "line": {
              "color": "white",
              "width": 0.6
             }
            },
            "type": "histogram"
           }
          ],
          "histogram2d": [
           {
            "colorbar": {
             "outlinewidth": 1,
             "tickcolor": "rgb(36,36,36)",
             "ticks": "outside"
            },
            "colorscale": [
             [
              0,
              "#440154"
             ],
             [
              0.1111111111111111,
              "#482878"
             ],
             [
              0.2222222222222222,
              "#3e4989"
             ],
             [
              0.3333333333333333,
              "#31688e"
             ],
             [
              0.4444444444444444,
              "#26828e"
             ],
             [
              0.5555555555555556,
              "#1f9e89"
             ],
             [
              0.6666666666666666,
              "#35b779"
             ],
             [
              0.7777777777777778,
              "#6ece58"
             ],
             [
              0.8888888888888888,
              "#b5de2b"
             ],
             [
              1,
              "#fde725"
             ]
            ],
            "type": "histogram2d"
           }
          ],
          "histogram2dcontour": [
           {
            "colorbar": {
             "outlinewidth": 1,
             "tickcolor": "rgb(36,36,36)",
             "ticks": "outside"
            },
            "colorscale": [
             [
              0,
              "#440154"
             ],
             [
              0.1111111111111111,
              "#482878"
             ],
             [
              0.2222222222222222,
              "#3e4989"
             ],
             [
              0.3333333333333333,
              "#31688e"
             ],
             [
              0.4444444444444444,
              "#26828e"
             ],
             [
              0.5555555555555556,
              "#1f9e89"
             ],
             [
              0.6666666666666666,
              "#35b779"
             ],
             [
              0.7777777777777778,
              "#6ece58"
             ],
             [
              0.8888888888888888,
              "#b5de2b"
             ],
             [
              1,
              "#fde725"
             ]
            ],
            "type": "histogram2dcontour"
           }
          ],
          "mesh3d": [
           {
            "colorbar": {
             "outlinewidth": 1,
             "tickcolor": "rgb(36,36,36)",
             "ticks": "outside"
            },
            "type": "mesh3d"
           }
          ],
          "parcoords": [
           {
            "line": {
             "colorbar": {
              "outlinewidth": 1,
              "tickcolor": "rgb(36,36,36)",
              "ticks": "outside"
             }
            },
            "type": "parcoords"
           }
          ],
          "pie": [
           {
            "automargin": true,
            "type": "pie"
           }
          ],
          "scatter": [
           {
            "marker": {
             "colorbar": {
              "outlinewidth": 1,
              "tickcolor": "rgb(36,36,36)",
              "ticks": "outside"
             }
            },
            "type": "scatter"
           }
          ],
          "scatter3d": [
           {
            "line": {
             "colorbar": {
              "outlinewidth": 1,
              "tickcolor": "rgb(36,36,36)",
              "ticks": "outside"
             }
            },
            "marker": {
             "colorbar": {
              "outlinewidth": 1,
              "tickcolor": "rgb(36,36,36)",
              "ticks": "outside"
             }
            },
            "type": "scatter3d"
           }
          ],
          "scattercarpet": [
           {
            "marker": {
             "colorbar": {
              "outlinewidth": 1,
              "tickcolor": "rgb(36,36,36)",
              "ticks": "outside"
             }
            },
            "type": "scattercarpet"
           }
          ],
          "scattergeo": [
           {
            "marker": {
             "colorbar": {
              "outlinewidth": 1,
              "tickcolor": "rgb(36,36,36)",
              "ticks": "outside"
             }
            },
            "type": "scattergeo"
           }
          ],
          "scattergl": [
           {
            "marker": {
             "colorbar": {
              "outlinewidth": 1,
              "tickcolor": "rgb(36,36,36)",
              "ticks": "outside"
             }
            },
            "type": "scattergl"
           }
          ],
          "scattermapbox": [
           {
            "marker": {
             "colorbar": {
              "outlinewidth": 1,
              "tickcolor": "rgb(36,36,36)",
              "ticks": "outside"
             }
            },
            "type": "scattermapbox"
           }
          ],
          "scatterpolar": [
           {
            "marker": {
             "colorbar": {
              "outlinewidth": 1,
              "tickcolor": "rgb(36,36,36)",
              "ticks": "outside"
             }
            },
            "type": "scatterpolar"
           }
          ],
          "scatterpolargl": [
           {
            "marker": {
             "colorbar": {
              "outlinewidth": 1,
              "tickcolor": "rgb(36,36,36)",
              "ticks": "outside"
             }
            },
            "type": "scatterpolargl"
           }
          ],
          "scatterternary": [
           {
            "marker": {
             "colorbar": {
              "outlinewidth": 1,
              "tickcolor": "rgb(36,36,36)",
              "ticks": "outside"
             }
            },
            "type": "scatterternary"
           }
          ],
          "surface": [
           {
            "colorbar": {
             "outlinewidth": 1,
             "tickcolor": "rgb(36,36,36)",
             "ticks": "outside"
            },
            "colorscale": [
             [
              0,
              "#440154"
             ],
             [
              0.1111111111111111,
              "#482878"
             ],
             [
              0.2222222222222222,
              "#3e4989"
             ],
             [
              0.3333333333333333,
              "#31688e"
             ],
             [
              0.4444444444444444,
              "#26828e"
             ],
             [
              0.5555555555555556,
              "#1f9e89"
             ],
             [
              0.6666666666666666,
              "#35b779"
             ],
             [
              0.7777777777777778,
              "#6ece58"
             ],
             [
              0.8888888888888888,
              "#b5de2b"
             ],
             [
              1,
              "#fde725"
             ]
            ],
            "type": "surface"
           }
          ],
          "table": [
           {
            "cells": {
             "fill": {
              "color": "rgb(237,237,237)"
             },
             "line": {
              "color": "white"
             }
            },
            "header": {
             "fill": {
              "color": "rgb(217,217,217)"
             },
             "line": {
              "color": "white"
             }
            },
            "type": "table"
           }
          ]
         },
         "layout": {
          "annotationdefaults": {
           "arrowhead": 0,
           "arrowwidth": 1
          },
          "coloraxis": {
           "colorbar": {
            "outlinewidth": 1,
            "tickcolor": "rgb(36,36,36)",
            "ticks": "outside"
           }
          },
          "colorscale": {
           "diverging": [
            [
             0,
             "rgb(103,0,31)"
            ],
            [
             0.1,
             "rgb(178,24,43)"
            ],
            [
             0.2,
             "rgb(214,96,77)"
            ],
            [
             0.3,
             "rgb(244,165,130)"
            ],
            [
             0.4,
             "rgb(253,219,199)"
            ],
            [
             0.5,
             "rgb(247,247,247)"
            ],
            [
             0.6,
             "rgb(209,229,240)"
            ],
            [
             0.7,
             "rgb(146,197,222)"
            ],
            [
             0.8,
             "rgb(67,147,195)"
            ],
            [
             0.9,
             "rgb(33,102,172)"
            ],
            [
             1,
             "rgb(5,48,97)"
            ]
           ],
           "sequential": [
            [
             0,
             "#440154"
            ],
            [
             0.1111111111111111,
             "#482878"
            ],
            [
             0.2222222222222222,
             "#3e4989"
            ],
            [
             0.3333333333333333,
             "#31688e"
            ],
            [
             0.4444444444444444,
             "#26828e"
            ],
            [
             0.5555555555555556,
             "#1f9e89"
            ],
            [
             0.6666666666666666,
             "#35b779"
            ],
            [
             0.7777777777777778,
             "#6ece58"
            ],
            [
             0.8888888888888888,
             "#b5de2b"
            ],
            [
             1,
             "#fde725"
            ]
           ],
           "sequentialminus": [
            [
             0,
             "#440154"
            ],
            [
             0.1111111111111111,
             "#482878"
            ],
            [
             0.2222222222222222,
             "#3e4989"
            ],
            [
             0.3333333333333333,
             "#31688e"
            ],
            [
             0.4444444444444444,
             "#26828e"
            ],
            [
             0.5555555555555556,
             "#1f9e89"
            ],
            [
             0.6666666666666666,
             "#35b779"
            ],
            [
             0.7777777777777778,
             "#6ece58"
            ],
            [
             0.8888888888888888,
             "#b5de2b"
            ],
            [
             1,
             "#fde725"
            ]
           ]
          },
          "colorway": [
           "#1F77B4",
           "#FF7F0E",
           "#2CA02C",
           "#D62728",
           "#9467BD",
           "#8C564B",
           "#E377C2",
           "#7F7F7F",
           "#BCBD22",
           "#17BECF"
          ],
          "font": {
           "color": "rgb(36,36,36)"
          },
          "geo": {
           "bgcolor": "white",
           "lakecolor": "white",
           "landcolor": "white",
           "showlakes": true,
           "showland": true,
           "subunitcolor": "white"
          },
          "hoverlabel": {
           "align": "left"
          },
          "hovermode": "closest",
          "mapbox": {
           "style": "light"
          },
          "paper_bgcolor": "white",
          "plot_bgcolor": "white",
          "polar": {
           "angularaxis": {
            "gridcolor": "rgb(232,232,232)",
            "linecolor": "rgb(36,36,36)",
            "showgrid": false,
            "showline": true,
            "ticks": "outside"
           },
           "bgcolor": "white",
           "radialaxis": {
            "gridcolor": "rgb(232,232,232)",
            "linecolor": "rgb(36,36,36)",
            "showgrid": false,
            "showline": true,
            "ticks": "outside"
           }
          },
          "scene": {
           "xaxis": {
            "backgroundcolor": "white",
            "gridcolor": "rgb(232,232,232)",
            "gridwidth": 2,
            "linecolor": "rgb(36,36,36)",
            "showbackground": true,
            "showgrid": false,
            "showline": true,
            "ticks": "outside",
            "zeroline": false,
            "zerolinecolor": "rgb(36,36,36)"
           },
           "yaxis": {
            "backgroundcolor": "white",
            "gridcolor": "rgb(232,232,232)",
            "gridwidth": 2,
            "linecolor": "rgb(36,36,36)",
            "showbackground": true,
            "showgrid": false,
            "showline": true,
            "ticks": "outside",
            "zeroline": false,
            "zerolinecolor": "rgb(36,36,36)"
           },
           "zaxis": {
            "backgroundcolor": "white",
            "gridcolor": "rgb(232,232,232)",
            "gridwidth": 2,
            "linecolor": "rgb(36,36,36)",
            "showbackground": true,
            "showgrid": false,
            "showline": true,
            "ticks": "outside",
            "zeroline": false,
            "zerolinecolor": "rgb(36,36,36)"
           }
          },
          "shapedefaults": {
           "fillcolor": "black",
           "line": {
            "width": 0
           },
           "opacity": 0.3
          },
          "ternary": {
           "aaxis": {
            "gridcolor": "rgb(232,232,232)",
            "linecolor": "rgb(36,36,36)",
            "showgrid": false,
            "showline": true,
            "ticks": "outside"
           },
           "baxis": {
            "gridcolor": "rgb(232,232,232)",
            "linecolor": "rgb(36,36,36)",
            "showgrid": false,
            "showline": true,
            "ticks": "outside"
           },
           "bgcolor": "white",
           "caxis": {
            "gridcolor": "rgb(232,232,232)",
            "linecolor": "rgb(36,36,36)",
            "showgrid": false,
            "showline": true,
            "ticks": "outside"
           }
          },
          "title": {
           "x": 0.05
          },
          "xaxis": {
           "automargin": true,
           "gridcolor": "rgb(232,232,232)",
           "linecolor": "rgb(36,36,36)",
           "showgrid": false,
           "showline": true,
           "ticks": "outside",
           "title": {
            "standoff": 15
           },
           "zeroline": false,
           "zerolinecolor": "rgb(36,36,36)"
          },
          "yaxis": {
           "automargin": true,
           "gridcolor": "rgb(232,232,232)",
           "linecolor": "rgb(36,36,36)",
           "showgrid": false,
           "showline": true,
           "ticks": "outside",
           "title": {
            "standoff": 15
           },
           "zeroline": false,
           "zerolinecolor": "rgb(36,36,36)"
          }
         }
        },
        "width": 500,
        "xaxis": {
         "anchor": "y",
         "domain": [
          0,
          1
         ],
         "title": {
          "text": "pPSE"
         }
        },
        "yaxis": {
         "anchor": "x",
         "domain": [
          0,
          1
         ],
         "title": {
          "text": "count"
         }
        }
       }
      }
     },
     "metadata": {},
     "output_type": "display_data"
    },
    {
     "name": "stdout",
     "output_type": "stream",
     "text": [
      "Nitrosylation\n"
     ]
    },
    {
     "data": {
      "application/vnd.plotly.v1+json": {
       "config": {
        "plotlyServerURL": "https://plot.ly",
        "toImageButtonOptions": {
         "filename": "pPAE_cutoff_nitro",
         "format": "svg"
        }
       },
       "data": [
        {
         "alignmentgroup": "True",
         "hovertemplate": "cutoff=high exposure<br>pPSE=%{x}<br>count=%{y}<extra></extra>",
         "legendgroup": "high exposure",
         "marker": {
          "color": "rgb(177, 63, 100)"
         },
         "name": "high exposure",
         "offsetgroup": "high exposure",
         "orientation": "v",
         "showlegend": true,
         "textposition": "auto",
         "type": "bar",
         "x": [
          0,
          1,
          2,
          3,
          4,
          5
         ],
         "xaxis": "x",
         "y": [
          26,
          10,
          5,
          4,
          3,
          4
         ],
         "yaxis": "y"
        },
        {
         "alignmentgroup": "True",
         "hovertemplate": "cutoff=low exposure<br>pPSE=%{x}<br>count=%{y}<extra></extra>",
         "legendgroup": "low exposure",
         "marker": {
          "color": "grey"
         },
         "name": "low exposure",
         "offsetgroup": "low exposure",
         "orientation": "v",
         "showlegend": true,
         "textposition": "auto",
         "type": "bar",
         "x": [
          6,
          7,
          9,
          10,
          11,
          14
         ],
         "xaxis": "x",
         "y": [
          4,
          2,
          2,
          1,
          2,
          1
         ],
         "yaxis": "y"
        }
       ],
       "layout": {
        "barmode": "relative",
        "height": 300,
        "legend": {
         "title": {
          "text": ""
         },
         "tracegroupgap": 0,
         "x": 0.99,
         "xanchor": "right",
         "y": 0.99,
         "yanchor": "top"
        },
        "margin": {
         "t": 60
        },
        "template": {
         "data": {
          "bar": [
           {
            "error_x": {
             "color": "rgb(36,36,36)"
            },
            "error_y": {
             "color": "rgb(36,36,36)"
            },
            "marker": {
             "line": {
              "color": "white",
              "width": 0.5
             }
            },
            "type": "bar"
           }
          ],
          "barpolar": [
           {
            "marker": {
             "line": {
              "color": "white",
              "width": 0.5
             }
            },
            "type": "barpolar"
           }
          ],
          "carpet": [
           {
            "aaxis": {
             "endlinecolor": "rgb(36,36,36)",
             "gridcolor": "white",
             "linecolor": "white",
             "minorgridcolor": "white",
             "startlinecolor": "rgb(36,36,36)"
            },
            "baxis": {
             "endlinecolor": "rgb(36,36,36)",
             "gridcolor": "white",
             "linecolor": "white",
             "minorgridcolor": "white",
             "startlinecolor": "rgb(36,36,36)"
            },
            "type": "carpet"
           }
          ],
          "choropleth": [
           {
            "colorbar": {
             "outlinewidth": 1,
             "tickcolor": "rgb(36,36,36)",
             "ticks": "outside"
            },
            "type": "choropleth"
           }
          ],
          "contour": [
           {
            "colorbar": {
             "outlinewidth": 1,
             "tickcolor": "rgb(36,36,36)",
             "ticks": "outside"
            },
            "colorscale": [
             [
              0,
              "#440154"
             ],
             [
              0.1111111111111111,
              "#482878"
             ],
             [
              0.2222222222222222,
              "#3e4989"
             ],
             [
              0.3333333333333333,
              "#31688e"
             ],
             [
              0.4444444444444444,
              "#26828e"
             ],
             [
              0.5555555555555556,
              "#1f9e89"
             ],
             [
              0.6666666666666666,
              "#35b779"
             ],
             [
              0.7777777777777778,
              "#6ece58"
             ],
             [
              0.8888888888888888,
              "#b5de2b"
             ],
             [
              1,
              "#fde725"
             ]
            ],
            "type": "contour"
           }
          ],
          "contourcarpet": [
           {
            "colorbar": {
             "outlinewidth": 1,
             "tickcolor": "rgb(36,36,36)",
             "ticks": "outside"
            },
            "type": "contourcarpet"
           }
          ],
          "heatmap": [
           {
            "colorbar": {
             "outlinewidth": 1,
             "tickcolor": "rgb(36,36,36)",
             "ticks": "outside"
            },
            "colorscale": [
             [
              0,
              "#440154"
             ],
             [
              0.1111111111111111,
              "#482878"
             ],
             [
              0.2222222222222222,
              "#3e4989"
             ],
             [
              0.3333333333333333,
              "#31688e"
             ],
             [
              0.4444444444444444,
              "#26828e"
             ],
             [
              0.5555555555555556,
              "#1f9e89"
             ],
             [
              0.6666666666666666,
              "#35b779"
             ],
             [
              0.7777777777777778,
              "#6ece58"
             ],
             [
              0.8888888888888888,
              "#b5de2b"
             ],
             [
              1,
              "#fde725"
             ]
            ],
            "type": "heatmap"
           }
          ],
          "heatmapgl": [
           {
            "colorbar": {
             "outlinewidth": 1,
             "tickcolor": "rgb(36,36,36)",
             "ticks": "outside"
            },
            "colorscale": [
             [
              0,
              "#440154"
             ],
             [
              0.1111111111111111,
              "#482878"
             ],
             [
              0.2222222222222222,
              "#3e4989"
             ],
             [
              0.3333333333333333,
              "#31688e"
             ],
             [
              0.4444444444444444,
              "#26828e"
             ],
             [
              0.5555555555555556,
              "#1f9e89"
             ],
             [
              0.6666666666666666,
              "#35b779"
             ],
             [
              0.7777777777777778,
              "#6ece58"
             ],
             [
              0.8888888888888888,
              "#b5de2b"
             ],
             [
              1,
              "#fde725"
             ]
            ],
            "type": "heatmapgl"
           }
          ],
          "histogram": [
           {
            "marker": {
             "line": {
              "color": "white",
              "width": 0.6
             }
            },
            "type": "histogram"
           }
          ],
          "histogram2d": [
           {
            "colorbar": {
             "outlinewidth": 1,
             "tickcolor": "rgb(36,36,36)",
             "ticks": "outside"
            },
            "colorscale": [
             [
              0,
              "#440154"
             ],
             [
              0.1111111111111111,
              "#482878"
             ],
             [
              0.2222222222222222,
              "#3e4989"
             ],
             [
              0.3333333333333333,
              "#31688e"
             ],
             [
              0.4444444444444444,
              "#26828e"
             ],
             [
              0.5555555555555556,
              "#1f9e89"
             ],
             [
              0.6666666666666666,
              "#35b779"
             ],
             [
              0.7777777777777778,
              "#6ece58"
             ],
             [
              0.8888888888888888,
              "#b5de2b"
             ],
             [
              1,
              "#fde725"
             ]
            ],
            "type": "histogram2d"
           }
          ],
          "histogram2dcontour": [
           {
            "colorbar": {
             "outlinewidth": 1,
             "tickcolor": "rgb(36,36,36)",
             "ticks": "outside"
            },
            "colorscale": [
             [
              0,
              "#440154"
             ],
             [
              0.1111111111111111,
              "#482878"
             ],
             [
              0.2222222222222222,
              "#3e4989"
             ],
             [
              0.3333333333333333,
              "#31688e"
             ],
             [
              0.4444444444444444,
              "#26828e"
             ],
             [
              0.5555555555555556,
              "#1f9e89"
             ],
             [
              0.6666666666666666,
              "#35b779"
             ],
             [
              0.7777777777777778,
              "#6ece58"
             ],
             [
              0.8888888888888888,
              "#b5de2b"
             ],
             [
              1,
              "#fde725"
             ]
            ],
            "type": "histogram2dcontour"
           }
          ],
          "mesh3d": [
           {
            "colorbar": {
             "outlinewidth": 1,
             "tickcolor": "rgb(36,36,36)",
             "ticks": "outside"
            },
            "type": "mesh3d"
           }
          ],
          "parcoords": [
           {
            "line": {
             "colorbar": {
              "outlinewidth": 1,
              "tickcolor": "rgb(36,36,36)",
              "ticks": "outside"
             }
            },
            "type": "parcoords"
           }
          ],
          "pie": [
           {
            "automargin": true,
            "type": "pie"
           }
          ],
          "scatter": [
           {
            "marker": {
             "colorbar": {
              "outlinewidth": 1,
              "tickcolor": "rgb(36,36,36)",
              "ticks": "outside"
             }
            },
            "type": "scatter"
           }
          ],
          "scatter3d": [
           {
            "line": {
             "colorbar": {
              "outlinewidth": 1,
              "tickcolor": "rgb(36,36,36)",
              "ticks": "outside"
             }
            },
            "marker": {
             "colorbar": {
              "outlinewidth": 1,
              "tickcolor": "rgb(36,36,36)",
              "ticks": "outside"
             }
            },
            "type": "scatter3d"
           }
          ],
          "scattercarpet": [
           {
            "marker": {
             "colorbar": {
              "outlinewidth": 1,
              "tickcolor": "rgb(36,36,36)",
              "ticks": "outside"
             }
            },
            "type": "scattercarpet"
           }
          ],
          "scattergeo": [
           {
            "marker": {
             "colorbar": {
              "outlinewidth": 1,
              "tickcolor": "rgb(36,36,36)",
              "ticks": "outside"
             }
            },
            "type": "scattergeo"
           }
          ],
          "scattergl": [
           {
            "marker": {
             "colorbar": {
              "outlinewidth": 1,
              "tickcolor": "rgb(36,36,36)",
              "ticks": "outside"
             }
            },
            "type": "scattergl"
           }
          ],
          "scattermapbox": [
           {
            "marker": {
             "colorbar": {
              "outlinewidth": 1,
              "tickcolor": "rgb(36,36,36)",
              "ticks": "outside"
             }
            },
            "type": "scattermapbox"
           }
          ],
          "scatterpolar": [
           {
            "marker": {
             "colorbar": {
              "outlinewidth": 1,
              "tickcolor": "rgb(36,36,36)",
              "ticks": "outside"
             }
            },
            "type": "scatterpolar"
           }
          ],
          "scatterpolargl": [
           {
            "marker": {
             "colorbar": {
              "outlinewidth": 1,
              "tickcolor": "rgb(36,36,36)",
              "ticks": "outside"
             }
            },
            "type": "scatterpolargl"
           }
          ],
          "scatterternary": [
           {
            "marker": {
             "colorbar": {
              "outlinewidth": 1,
              "tickcolor": "rgb(36,36,36)",
              "ticks": "outside"
             }
            },
            "type": "scatterternary"
           }
          ],
          "surface": [
           {
            "colorbar": {
             "outlinewidth": 1,
             "tickcolor": "rgb(36,36,36)",
             "ticks": "outside"
            },
            "colorscale": [
             [
              0,
              "#440154"
             ],
             [
              0.1111111111111111,
              "#482878"
             ],
             [
              0.2222222222222222,
              "#3e4989"
             ],
             [
              0.3333333333333333,
              "#31688e"
             ],
             [
              0.4444444444444444,
              "#26828e"
             ],
             [
              0.5555555555555556,
              "#1f9e89"
             ],
             [
              0.6666666666666666,
              "#35b779"
             ],
             [
              0.7777777777777778,
              "#6ece58"
             ],
             [
              0.8888888888888888,
              "#b5de2b"
             ],
             [
              1,
              "#fde725"
             ]
            ],
            "type": "surface"
           }
          ],
          "table": [
           {
            "cells": {
             "fill": {
              "color": "rgb(237,237,237)"
             },
             "line": {
              "color": "white"
             }
            },
            "header": {
             "fill": {
              "color": "rgb(217,217,217)"
             },
             "line": {
              "color": "white"
             }
            },
            "type": "table"
           }
          ]
         },
         "layout": {
          "annotationdefaults": {
           "arrowhead": 0,
           "arrowwidth": 1
          },
          "coloraxis": {
           "colorbar": {
            "outlinewidth": 1,
            "tickcolor": "rgb(36,36,36)",
            "ticks": "outside"
           }
          },
          "colorscale": {
           "diverging": [
            [
             0,
             "rgb(103,0,31)"
            ],
            [
             0.1,
             "rgb(178,24,43)"
            ],
            [
             0.2,
             "rgb(214,96,77)"
            ],
            [
             0.3,
             "rgb(244,165,130)"
            ],
            [
             0.4,
             "rgb(253,219,199)"
            ],
            [
             0.5,
             "rgb(247,247,247)"
            ],
            [
             0.6,
             "rgb(209,229,240)"
            ],
            [
             0.7,
             "rgb(146,197,222)"
            ],
            [
             0.8,
             "rgb(67,147,195)"
            ],
            [
             0.9,
             "rgb(33,102,172)"
            ],
            [
             1,
             "rgb(5,48,97)"
            ]
           ],
           "sequential": [
            [
             0,
             "#440154"
            ],
            [
             0.1111111111111111,
             "#482878"
            ],
            [
             0.2222222222222222,
             "#3e4989"
            ],
            [
             0.3333333333333333,
             "#31688e"
            ],
            [
             0.4444444444444444,
             "#26828e"
            ],
            [
             0.5555555555555556,
             "#1f9e89"
            ],
            [
             0.6666666666666666,
             "#35b779"
            ],
            [
             0.7777777777777778,
             "#6ece58"
            ],
            [
             0.8888888888888888,
             "#b5de2b"
            ],
            [
             1,
             "#fde725"
            ]
           ],
           "sequentialminus": [
            [
             0,
             "#440154"
            ],
            [
             0.1111111111111111,
             "#482878"
            ],
            [
             0.2222222222222222,
             "#3e4989"
            ],
            [
             0.3333333333333333,
             "#31688e"
            ],
            [
             0.4444444444444444,
             "#26828e"
            ],
            [
             0.5555555555555556,
             "#1f9e89"
            ],
            [
             0.6666666666666666,
             "#35b779"
            ],
            [
             0.7777777777777778,
             "#6ece58"
            ],
            [
             0.8888888888888888,
             "#b5de2b"
            ],
            [
             1,
             "#fde725"
            ]
           ]
          },
          "colorway": [
           "#1F77B4",
           "#FF7F0E",
           "#2CA02C",
           "#D62728",
           "#9467BD",
           "#8C564B",
           "#E377C2",
           "#7F7F7F",
           "#BCBD22",
           "#17BECF"
          ],
          "font": {
           "color": "rgb(36,36,36)"
          },
          "geo": {
           "bgcolor": "white",
           "lakecolor": "white",
           "landcolor": "white",
           "showlakes": true,
           "showland": true,
           "subunitcolor": "white"
          },
          "hoverlabel": {
           "align": "left"
          },
          "hovermode": "closest",
          "mapbox": {
           "style": "light"
          },
          "paper_bgcolor": "white",
          "plot_bgcolor": "white",
          "polar": {
           "angularaxis": {
            "gridcolor": "rgb(232,232,232)",
            "linecolor": "rgb(36,36,36)",
            "showgrid": false,
            "showline": true,
            "ticks": "outside"
           },
           "bgcolor": "white",
           "radialaxis": {
            "gridcolor": "rgb(232,232,232)",
            "linecolor": "rgb(36,36,36)",
            "showgrid": false,
            "showline": true,
            "ticks": "outside"
           }
          },
          "scene": {
           "xaxis": {
            "backgroundcolor": "white",
            "gridcolor": "rgb(232,232,232)",
            "gridwidth": 2,
            "linecolor": "rgb(36,36,36)",
            "showbackground": true,
            "showgrid": false,
            "showline": true,
            "ticks": "outside",
            "zeroline": false,
            "zerolinecolor": "rgb(36,36,36)"
           },
           "yaxis": {
            "backgroundcolor": "white",
            "gridcolor": "rgb(232,232,232)",
            "gridwidth": 2,
            "linecolor": "rgb(36,36,36)",
            "showbackground": true,
            "showgrid": false,
            "showline": true,
            "ticks": "outside",
            "zeroline": false,
            "zerolinecolor": "rgb(36,36,36)"
           },
           "zaxis": {
            "backgroundcolor": "white",
            "gridcolor": "rgb(232,232,232)",
            "gridwidth": 2,
            "linecolor": "rgb(36,36,36)",
            "showbackground": true,
            "showgrid": false,
            "showline": true,
            "ticks": "outside",
            "zeroline": false,
            "zerolinecolor": "rgb(36,36,36)"
           }
          },
          "shapedefaults": {
           "fillcolor": "black",
           "line": {
            "width": 0
           },
           "opacity": 0.3
          },
          "ternary": {
           "aaxis": {
            "gridcolor": "rgb(232,232,232)",
            "linecolor": "rgb(36,36,36)",
            "showgrid": false,
            "showline": true,
            "ticks": "outside"
           },
           "baxis": {
            "gridcolor": "rgb(232,232,232)",
            "linecolor": "rgb(36,36,36)",
            "showgrid": false,
            "showline": true,
            "ticks": "outside"
           },
           "bgcolor": "white",
           "caxis": {
            "gridcolor": "rgb(232,232,232)",
            "linecolor": "rgb(36,36,36)",
            "showgrid": false,
            "showline": true,
            "ticks": "outside"
           }
          },
          "title": {
           "x": 0.05
          },
          "xaxis": {
           "automargin": true,
           "gridcolor": "rgb(232,232,232)",
           "linecolor": "rgb(36,36,36)",
           "showgrid": false,
           "showline": true,
           "ticks": "outside",
           "title": {
            "standoff": 15
           },
           "zeroline": false,
           "zerolinecolor": "rgb(36,36,36)"
          },
          "yaxis": {
           "automargin": true,
           "gridcolor": "rgb(232,232,232)",
           "linecolor": "rgb(36,36,36)",
           "showgrid": false,
           "showline": true,
           "ticks": "outside",
           "title": {
            "standoff": 15
           },
           "zeroline": false,
           "zerolinecolor": "rgb(36,36,36)"
          }
         }
        },
        "width": 500,
        "xaxis": {
         "anchor": "y",
         "domain": [
          0,
          1
         ],
         "title": {
          "text": "pPSE"
         }
        },
        "yaxis": {
         "anchor": "x",
         "domain": [
          0,
          1
         ],
         "title": {
          "text": "count"
         }
        }
       }
      }
     },
     "metadata": {},
     "output_type": "display_data"
    },
    {
     "name": "stdout",
     "output_type": "stream",
     "text": [
      "Cysteinylation\n"
     ]
    },
    {
     "data": {
      "application/vnd.plotly.v1+json": {
       "config": {
        "plotlyServerURL": "https://plot.ly",
        "toImageButtonOptions": {
         "filename": "pPAE_cutoff_cys",
         "format": "svg"
        }
       },
       "data": [
        {
         "alignmentgroup": "True",
         "hovertemplate": "cutoff=high exposure<br>pPSE=%{x}<br>count=%{y}<extra></extra>",
         "legendgroup": "high exposure",
         "marker": {
          "color": "rgb(177, 63, 100)"
         },
         "name": "high exposure",
         "offsetgroup": "high exposure",
         "orientation": "v",
         "showlegend": true,
         "textposition": "auto",
         "type": "bar",
         "x": [
          0,
          1,
          2,
          3,
          4,
          5
         ],
         "xaxis": "x",
         "y": [
          41,
          29,
          11,
          9,
          10,
          12
         ],
         "yaxis": "y"
        },
        {
         "alignmentgroup": "True",
         "hovertemplate": "cutoff=low exposure<br>pPSE=%{x}<br>count=%{y}<extra></extra>",
         "legendgroup": "low exposure",
         "marker": {
          "color": "grey"
         },
         "name": "low exposure",
         "offsetgroup": "low exposure",
         "orientation": "v",
         "showlegend": true,
         "textposition": "auto",
         "type": "bar",
         "x": [
          6,
          7,
          8,
          9,
          10,
          11,
          12,
          13,
          14
         ],
         "xaxis": "x",
         "y": [
          5,
          6,
          7,
          4,
          5,
          6,
          3,
          4,
          3
         ],
         "yaxis": "y"
        }
       ],
       "layout": {
        "barmode": "relative",
        "height": 300,
        "legend": {
         "title": {
          "text": ""
         },
         "tracegroupgap": 0,
         "x": 0.99,
         "xanchor": "right",
         "y": 0.99,
         "yanchor": "top"
        },
        "margin": {
         "t": 60
        },
        "template": {
         "data": {
          "bar": [
           {
            "error_x": {
             "color": "rgb(36,36,36)"
            },
            "error_y": {
             "color": "rgb(36,36,36)"
            },
            "marker": {
             "line": {
              "color": "white",
              "width": 0.5
             }
            },
            "type": "bar"
           }
          ],
          "barpolar": [
           {
            "marker": {
             "line": {
              "color": "white",
              "width": 0.5
             }
            },
            "type": "barpolar"
           }
          ],
          "carpet": [
           {
            "aaxis": {
             "endlinecolor": "rgb(36,36,36)",
             "gridcolor": "white",
             "linecolor": "white",
             "minorgridcolor": "white",
             "startlinecolor": "rgb(36,36,36)"
            },
            "baxis": {
             "endlinecolor": "rgb(36,36,36)",
             "gridcolor": "white",
             "linecolor": "white",
             "minorgridcolor": "white",
             "startlinecolor": "rgb(36,36,36)"
            },
            "type": "carpet"
           }
          ],
          "choropleth": [
           {
            "colorbar": {
             "outlinewidth": 1,
             "tickcolor": "rgb(36,36,36)",
             "ticks": "outside"
            },
            "type": "choropleth"
           }
          ],
          "contour": [
           {
            "colorbar": {
             "outlinewidth": 1,
             "tickcolor": "rgb(36,36,36)",
             "ticks": "outside"
            },
            "colorscale": [
             [
              0,
              "#440154"
             ],
             [
              0.1111111111111111,
              "#482878"
             ],
             [
              0.2222222222222222,
              "#3e4989"
             ],
             [
              0.3333333333333333,
              "#31688e"
             ],
             [
              0.4444444444444444,
              "#26828e"
             ],
             [
              0.5555555555555556,
              "#1f9e89"
             ],
             [
              0.6666666666666666,
              "#35b779"
             ],
             [
              0.7777777777777778,
              "#6ece58"
             ],
             [
              0.8888888888888888,
              "#b5de2b"
             ],
             [
              1,
              "#fde725"
             ]
            ],
            "type": "contour"
           }
          ],
          "contourcarpet": [
           {
            "colorbar": {
             "outlinewidth": 1,
             "tickcolor": "rgb(36,36,36)",
             "ticks": "outside"
            },
            "type": "contourcarpet"
           }
          ],
          "heatmap": [
           {
            "colorbar": {
             "outlinewidth": 1,
             "tickcolor": "rgb(36,36,36)",
             "ticks": "outside"
            },
            "colorscale": [
             [
              0,
              "#440154"
             ],
             [
              0.1111111111111111,
              "#482878"
             ],
             [
              0.2222222222222222,
              "#3e4989"
             ],
             [
              0.3333333333333333,
              "#31688e"
             ],
             [
              0.4444444444444444,
              "#26828e"
             ],
             [
              0.5555555555555556,
              "#1f9e89"
             ],
             [
              0.6666666666666666,
              "#35b779"
             ],
             [
              0.7777777777777778,
              "#6ece58"
             ],
             [
              0.8888888888888888,
              "#b5de2b"
             ],
             [
              1,
              "#fde725"
             ]
            ],
            "type": "heatmap"
           }
          ],
          "heatmapgl": [
           {
            "colorbar": {
             "outlinewidth": 1,
             "tickcolor": "rgb(36,36,36)",
             "ticks": "outside"
            },
            "colorscale": [
             [
              0,
              "#440154"
             ],
             [
              0.1111111111111111,
              "#482878"
             ],
             [
              0.2222222222222222,
              "#3e4989"
             ],
             [
              0.3333333333333333,
              "#31688e"
             ],
             [
              0.4444444444444444,
              "#26828e"
             ],
             [
              0.5555555555555556,
              "#1f9e89"
             ],
             [
              0.6666666666666666,
              "#35b779"
             ],
             [
              0.7777777777777778,
              "#6ece58"
             ],
             [
              0.8888888888888888,
              "#b5de2b"
             ],
             [
              1,
              "#fde725"
             ]
            ],
            "type": "heatmapgl"
           }
          ],
          "histogram": [
           {
            "marker": {
             "line": {
              "color": "white",
              "width": 0.6
             }
            },
            "type": "histogram"
           }
          ],
          "histogram2d": [
           {
            "colorbar": {
             "outlinewidth": 1,
             "tickcolor": "rgb(36,36,36)",
             "ticks": "outside"
            },
            "colorscale": [
             [
              0,
              "#440154"
             ],
             [
              0.1111111111111111,
              "#482878"
             ],
             [
              0.2222222222222222,
              "#3e4989"
             ],
             [
              0.3333333333333333,
              "#31688e"
             ],
             [
              0.4444444444444444,
              "#26828e"
             ],
             [
              0.5555555555555556,
              "#1f9e89"
             ],
             [
              0.6666666666666666,
              "#35b779"
             ],
             [
              0.7777777777777778,
              "#6ece58"
             ],
             [
              0.8888888888888888,
              "#b5de2b"
             ],
             [
              1,
              "#fde725"
             ]
            ],
            "type": "histogram2d"
           }
          ],
          "histogram2dcontour": [
           {
            "colorbar": {
             "outlinewidth": 1,
             "tickcolor": "rgb(36,36,36)",
             "ticks": "outside"
            },
            "colorscale": [
             [
              0,
              "#440154"
             ],
             [
              0.1111111111111111,
              "#482878"
             ],
             [
              0.2222222222222222,
              "#3e4989"
             ],
             [
              0.3333333333333333,
              "#31688e"
             ],
             [
              0.4444444444444444,
              "#26828e"
             ],
             [
              0.5555555555555556,
              "#1f9e89"
             ],
             [
              0.6666666666666666,
              "#35b779"
             ],
             [
              0.7777777777777778,
              "#6ece58"
             ],
             [
              0.8888888888888888,
              "#b5de2b"
             ],
             [
              1,
              "#fde725"
             ]
            ],
            "type": "histogram2dcontour"
           }
          ],
          "mesh3d": [
           {
            "colorbar": {
             "outlinewidth": 1,
             "tickcolor": "rgb(36,36,36)",
             "ticks": "outside"
            },
            "type": "mesh3d"
           }
          ],
          "parcoords": [
           {
            "line": {
             "colorbar": {
              "outlinewidth": 1,
              "tickcolor": "rgb(36,36,36)",
              "ticks": "outside"
             }
            },
            "type": "parcoords"
           }
          ],
          "pie": [
           {
            "automargin": true,
            "type": "pie"
           }
          ],
          "scatter": [
           {
            "marker": {
             "colorbar": {
              "outlinewidth": 1,
              "tickcolor": "rgb(36,36,36)",
              "ticks": "outside"
             }
            },
            "type": "scatter"
           }
          ],
          "scatter3d": [
           {
            "line": {
             "colorbar": {
              "outlinewidth": 1,
              "tickcolor": "rgb(36,36,36)",
              "ticks": "outside"
             }
            },
            "marker": {
             "colorbar": {
              "outlinewidth": 1,
              "tickcolor": "rgb(36,36,36)",
              "ticks": "outside"
             }
            },
            "type": "scatter3d"
           }
          ],
          "scattercarpet": [
           {
            "marker": {
             "colorbar": {
              "outlinewidth": 1,
              "tickcolor": "rgb(36,36,36)",
              "ticks": "outside"
             }
            },
            "type": "scattercarpet"
           }
          ],
          "scattergeo": [
           {
            "marker": {
             "colorbar": {
              "outlinewidth": 1,
              "tickcolor": "rgb(36,36,36)",
              "ticks": "outside"
             }
            },
            "type": "scattergeo"
           }
          ],
          "scattergl": [
           {
            "marker": {
             "colorbar": {
              "outlinewidth": 1,
              "tickcolor": "rgb(36,36,36)",
              "ticks": "outside"
             }
            },
            "type": "scattergl"
           }
          ],
          "scattermapbox": [
           {
            "marker": {
             "colorbar": {
              "outlinewidth": 1,
              "tickcolor": "rgb(36,36,36)",
              "ticks": "outside"
             }
            },
            "type": "scattermapbox"
           }
          ],
          "scatterpolar": [
           {
            "marker": {
             "colorbar": {
              "outlinewidth": 1,
              "tickcolor": "rgb(36,36,36)",
              "ticks": "outside"
             }
            },
            "type": "scatterpolar"
           }
          ],
          "scatterpolargl": [
           {
            "marker": {
             "colorbar": {
              "outlinewidth": 1,
              "tickcolor": "rgb(36,36,36)",
              "ticks": "outside"
             }
            },
            "type": "scatterpolargl"
           }
          ],
          "scatterternary": [
           {
            "marker": {
             "colorbar": {
              "outlinewidth": 1,
              "tickcolor": "rgb(36,36,36)",
              "ticks": "outside"
             }
            },
            "type": "scatterternary"
           }
          ],
          "surface": [
           {
            "colorbar": {
             "outlinewidth": 1,
             "tickcolor": "rgb(36,36,36)",
             "ticks": "outside"
            },
            "colorscale": [
             [
              0,
              "#440154"
             ],
             [
              0.1111111111111111,
              "#482878"
             ],
             [
              0.2222222222222222,
              "#3e4989"
             ],
             [
              0.3333333333333333,
              "#31688e"
             ],
             [
              0.4444444444444444,
              "#26828e"
             ],
             [
              0.5555555555555556,
              "#1f9e89"
             ],
             [
              0.6666666666666666,
              "#35b779"
             ],
             [
              0.7777777777777778,
              "#6ece58"
             ],
             [
              0.8888888888888888,
              "#b5de2b"
             ],
             [
              1,
              "#fde725"
             ]
            ],
            "type": "surface"
           }
          ],
          "table": [
           {
            "cells": {
             "fill": {
              "color": "rgb(237,237,237)"
             },
             "line": {
              "color": "white"
             }
            },
            "header": {
             "fill": {
              "color": "rgb(217,217,217)"
             },
             "line": {
              "color": "white"
             }
            },
            "type": "table"
           }
          ]
         },
         "layout": {
          "annotationdefaults": {
           "arrowhead": 0,
           "arrowwidth": 1
          },
          "coloraxis": {
           "colorbar": {
            "outlinewidth": 1,
            "tickcolor": "rgb(36,36,36)",
            "ticks": "outside"
           }
          },
          "colorscale": {
           "diverging": [
            [
             0,
             "rgb(103,0,31)"
            ],
            [
             0.1,
             "rgb(178,24,43)"
            ],
            [
             0.2,
             "rgb(214,96,77)"
            ],
            [
             0.3,
             "rgb(244,165,130)"
            ],
            [
             0.4,
             "rgb(253,219,199)"
            ],
            [
             0.5,
             "rgb(247,247,247)"
            ],
            [
             0.6,
             "rgb(209,229,240)"
            ],
            [
             0.7,
             "rgb(146,197,222)"
            ],
            [
             0.8,
             "rgb(67,147,195)"
            ],
            [
             0.9,
             "rgb(33,102,172)"
            ],
            [
             1,
             "rgb(5,48,97)"
            ]
           ],
           "sequential": [
            [
             0,
             "#440154"
            ],
            [
             0.1111111111111111,
             "#482878"
            ],
            [
             0.2222222222222222,
             "#3e4989"
            ],
            [
             0.3333333333333333,
             "#31688e"
            ],
            [
             0.4444444444444444,
             "#26828e"
            ],
            [
             0.5555555555555556,
             "#1f9e89"
            ],
            [
             0.6666666666666666,
             "#35b779"
            ],
            [
             0.7777777777777778,
             "#6ece58"
            ],
            [
             0.8888888888888888,
             "#b5de2b"
            ],
            [
             1,
             "#fde725"
            ]
           ],
           "sequentialminus": [
            [
             0,
             "#440154"
            ],
            [
             0.1111111111111111,
             "#482878"
            ],
            [
             0.2222222222222222,
             "#3e4989"
            ],
            [
             0.3333333333333333,
             "#31688e"
            ],
            [
             0.4444444444444444,
             "#26828e"
            ],
            [
             0.5555555555555556,
             "#1f9e89"
            ],
            [
             0.6666666666666666,
             "#35b779"
            ],
            [
             0.7777777777777778,
             "#6ece58"
            ],
            [
             0.8888888888888888,
             "#b5de2b"
            ],
            [
             1,
             "#fde725"
            ]
           ]
          },
          "colorway": [
           "#1F77B4",
           "#FF7F0E",
           "#2CA02C",
           "#D62728",
           "#9467BD",
           "#8C564B",
           "#E377C2",
           "#7F7F7F",
           "#BCBD22",
           "#17BECF"
          ],
          "font": {
           "color": "rgb(36,36,36)"
          },
          "geo": {
           "bgcolor": "white",
           "lakecolor": "white",
           "landcolor": "white",
           "showlakes": true,
           "showland": true,
           "subunitcolor": "white"
          },
          "hoverlabel": {
           "align": "left"
          },
          "hovermode": "closest",
          "mapbox": {
           "style": "light"
          },
          "paper_bgcolor": "white",
          "plot_bgcolor": "white",
          "polar": {
           "angularaxis": {
            "gridcolor": "rgb(232,232,232)",
            "linecolor": "rgb(36,36,36)",
            "showgrid": false,
            "showline": true,
            "ticks": "outside"
           },
           "bgcolor": "white",
           "radialaxis": {
            "gridcolor": "rgb(232,232,232)",
            "linecolor": "rgb(36,36,36)",
            "showgrid": false,
            "showline": true,
            "ticks": "outside"
           }
          },
          "scene": {
           "xaxis": {
            "backgroundcolor": "white",
            "gridcolor": "rgb(232,232,232)",
            "gridwidth": 2,
            "linecolor": "rgb(36,36,36)",
            "showbackground": true,
            "showgrid": false,
            "showline": true,
            "ticks": "outside",
            "zeroline": false,
            "zerolinecolor": "rgb(36,36,36)"
           },
           "yaxis": {
            "backgroundcolor": "white",
            "gridcolor": "rgb(232,232,232)",
            "gridwidth": 2,
            "linecolor": "rgb(36,36,36)",
            "showbackground": true,
            "showgrid": false,
            "showline": true,
            "ticks": "outside",
            "zeroline": false,
            "zerolinecolor": "rgb(36,36,36)"
           },
           "zaxis": {
            "backgroundcolor": "white",
            "gridcolor": "rgb(232,232,232)",
            "gridwidth": 2,
            "linecolor": "rgb(36,36,36)",
            "showbackground": true,
            "showgrid": false,
            "showline": true,
            "ticks": "outside",
            "zeroline": false,
            "zerolinecolor": "rgb(36,36,36)"
           }
          },
          "shapedefaults": {
           "fillcolor": "black",
           "line": {
            "width": 0
           },
           "opacity": 0.3
          },
          "ternary": {
           "aaxis": {
            "gridcolor": "rgb(232,232,232)",
            "linecolor": "rgb(36,36,36)",
            "showgrid": false,
            "showline": true,
            "ticks": "outside"
           },
           "baxis": {
            "gridcolor": "rgb(232,232,232)",
            "linecolor": "rgb(36,36,36)",
            "showgrid": false,
            "showline": true,
            "ticks": "outside"
           },
           "bgcolor": "white",
           "caxis": {
            "gridcolor": "rgb(232,232,232)",
            "linecolor": "rgb(36,36,36)",
            "showgrid": false,
            "showline": true,
            "ticks": "outside"
           }
          },
          "title": {
           "x": 0.05
          },
          "xaxis": {
           "automargin": true,
           "gridcolor": "rgb(232,232,232)",
           "linecolor": "rgb(36,36,36)",
           "showgrid": false,
           "showline": true,
           "ticks": "outside",
           "title": {
            "standoff": 15
           },
           "zeroline": false,
           "zerolinecolor": "rgb(36,36,36)"
          },
          "yaxis": {
           "automargin": true,
           "gridcolor": "rgb(232,232,232)",
           "linecolor": "rgb(36,36,36)",
           "showgrid": false,
           "showline": true,
           "ticks": "outside",
           "title": {
            "standoff": 15
           },
           "zeroline": false,
           "zerolinecolor": "rgb(36,36,36)"
          }
         }
        },
        "width": 500,
        "xaxis": {
         "anchor": "y",
         "domain": [
          0,
          1
         ],
         "title": {
          "text": "pPSE"
         }
        },
        "yaxis": {
         "anchor": "x",
         "domain": [
          0,
          1
         ],
         "title": {
          "text": "count"
         }
        }
       }
      }
     },
     "metadata": {},
     "output_type": "display_data"
    }
   ],
   "source": [
    "#pPSE for residues which have PTMs\n",
    "alphafold_ptms=pd.read_csv(r\"c:\\Users\\marga\\OneDrive\\Desktop\\summer project\\alphafold_ptms.csv\")\n",
    "# Plot for glu PTMs \n",
    "glu_data = alphafold_ptms[alphafold_ptms[\"Glutathionylation\"]==1]\n",
    "glu_cont_prot= glu_data[\"protein_id\"]\n",
    "glu_cont_prot.to_csv(r\"C:\\Users\\marga\\Desktop\\glu_cont_prot.csv\")\n",
    "glu_bincount = np.unique(glu_data['nAA_12_70_pae'].values, return_counts=True)\n",
    "glu_bincount_df = pd.DataFrame({'pPSE': glu_bincount[0], 'count': glu_bincount[1]})\n",
    "glu_bincount_df['cutoff'] = np.where(glu_bincount_df.pPSE <= 5, 'high exposure', 'low exposure')\n",
    "pPSE_cut_glu = px.bar(glu_bincount_df, x='pPSE', y='count', color='cutoff',\n",
    "                      color_discrete_map={'high exposure': 'rgb(177, 63, 100)', 'low exposure': 'grey'},\n",
    "                      template=\"simple_white\", width=500, height=300)\n",
    "pPSE_cut_glu = pPSE_cut_glu.update_layout(legend=dict(title='', yanchor=\"top\", y=0.99, xanchor=\"right\", x=0.99))\n",
    "config_glu = {'toImageButtonOptions': {'format': 'svg', 'filename': 'pPAE_cutoff_glu'}}\n",
    "print(\"Glutathionylation\")\n",
    "pPSE_cut_glu.show(config=config_glu)\n",
    "# Plot for ox PTM\n",
    "ox_data = alphafold_ptms[alphafold_ptms[\"Oxidation\"]==1]\n",
    "ox_bincount = np.unique(ox_data['nAA_12_70_pae'].values, return_counts=True)\n",
    "ox_bincount_df = pd.DataFrame({'pPSE': ox_bincount[0], 'count': ox_bincount[1]})\n",
    "ox_bincount_df['cutoff'] = np.where(ox_bincount_df.pPSE <= 5, 'high exposure', 'low exposure')\n",
    "pPSE_cut_ox = px.bar(ox_bincount_df, x='pPSE', y='count', color='cutoff',\n",
    "                     color_discrete_map={'high exposure': 'rgb(177, 63, 100)', 'low exposure': 'grey'},\n",
    "                     template=\"simple_white\", width=500, height=300)\n",
    "pPSE_cut_ox = pPSE_cut_ox.update_layout(legend=dict(title='', yanchor=\"top\", y=0.99, xanchor=\"right\", x=0.99))\n",
    "config_ox = {'toImageButtonOptions': {'format': 'svg', 'filename': 'pPAE_cutoff_ox'}}\n",
    "print(\"Oxidation\")\n",
    "pPSE_cut_ox.show(config=config_ox)\n",
    "# Plot for phos PTM\n",
    "phos_data = alphafold_ptms[(alphafold_ptms['Phosphorylation'] == 1)]\n",
    "phos_bincount = np.unique(phos_data['nAA_12_70_pae'].values, return_counts=True)\n",
    "phos_bincount_df = pd.DataFrame({'pPSE': phos_bincount[0], 'count': phos_bincount[1]})\n",
    "phos_bincount_df['cutoff'] = np.where(phos_bincount_df.pPSE <= 5, 'high exposure', 'low exposure')\n",
    "pPSE_cut_phos = px.bar(phos_bincount_df, x='pPSE', y='count', color='cutoff',\n",
    "                     color_discrete_map={'high exposure': 'rgb(177, 63, 100)', 'low exposure': 'grey'},\n",
    "                     template=\"simple_white\", width=500, height=300)\n",
    "pPSE_cut_phos = pPSE_cut_phos.update_layout(legend=dict(title='', yanchor=\"top\", y=0.99, xanchor=\"right\", x=0.99))\n",
    "config_phos = {'toImageButtonOptions': {'format': 'svg', 'filename': 'pPAE_cutoff_phos'}}\n",
    "print(\"Phosphorylation\")\n",
    "pPSE_cut_phos.show(config=config_phos)\n",
    "#N-term carbamyl\n",
    "carb_data = alphafold_ptms[(alphafold_ptms['Carbamyl'] == 1)]\n",
    "carb_bincount = np.unique(carb_data['nAA_12_70_pae'].values, return_counts=True)\n",
    "carb_bincount_df = pd.DataFrame({'pPSE': carb_bincount[0], 'count': carb_bincount[1]})\n",
    "carb_bincount_df['cutoff'] = np.where(carb_bincount_df.pPSE <= 5, 'high exposure', 'low exposure')\n",
    "pPSE_cut_carb = px.bar(carb_bincount_df, x='pPSE', y='count', color='cutoff',\n",
    "                     color_discrete_map={'high exposure': 'rgb(177, 63, 100)', 'low exposure': 'grey'},\n",
    "                     template=\"simple_white\", width=500, height=300)\n",
    "pPSE_cut_carb = pPSE_cut_carb.update_layout(legend=dict(title='', yanchor=\"top\", y=0.99, xanchor=\"right\", x=0.99))\n",
    "config_carb = {'toImageButtonOptions': {'format': 'svg', 'filename': 'pPAE_cutoff_carb'}}\n",
    "print(\"Carbamylation\")\n",
    "pPSE_cut_carb.show(config=config_carb)\n",
    "# nitrosyl\n",
    "nitro_data = alphafold_ptms[(alphafold_ptms['Nitrosyl'] == 1)]\n",
    "nitro_bincount = np.unique(nitro_data['nAA_12_70_pae'].values, return_counts=True)\n",
    "nitro_bincount_df = pd.DataFrame({'pPSE': nitro_bincount[0], 'count': nitro_bincount[1]})\n",
    "nitro_bincount_df['cutoff'] = np.where(nitro_bincount_df.pPSE <= 5, 'high exposure', 'low exposure')\n",
    "pPSE_cut_nitro = px.bar(nitro_bincount_df, x='pPSE', y='count', color='cutoff',\n",
    "                     color_discrete_map={'high exposure': 'rgb(177, 63, 100)', 'low exposure': 'grey'},\n",
    "                     template=\"simple_white\", width=500, height=300)\n",
    "pPSE_cut_nitro = pPSE_cut_nitro.update_layout(legend=dict(title='', yanchor=\"top\", y=0.99, xanchor=\"right\", x=0.99))\n",
    "config_nitro = {'toImageButtonOptions': {'format': 'svg', 'filename': 'pPAE_cutoff_nitro'}}\n",
    "print(\"Nitrosylation\")\n",
    "pPSE_cut_nitro.show(config=config_nitro)\n",
    "# Cysteinylation\n",
    "cys_data = alphafold_ptms[alphafold_ptms[\"Cysteinyl\"]==1]\n",
    "cys_bincount = np.unique(cys_data['nAA_12_70_pae'].values, return_counts=True)\n",
    "cys_bincount_df = pd.DataFrame({'pPSE': cys_bincount[0], 'count': cys_bincount[1]})\n",
    "cys_bincount_df['cutoff'] = np.where(cys_bincount_df.pPSE <= 5, 'high exposure', 'low exposure')\n",
    "pPSE_cut_cys = px.bar(cys_bincount_df, x='pPSE', y='count', color='cutoff',\n",
    "                     color_discrete_map={'high exposure': 'rgb(177, 63, 100)', 'low exposure': 'grey'},\n",
    "                     template=\"simple_white\", width=500, height=300)\n",
    "pPSE_cut_cys = pPSE_cut_cys.update_layout(legend=dict(title='', yanchor=\"top\", y=0.99, xanchor=\"right\", x=0.99))\n",
    "config_cys = {'toImageButtonOptions': {'format': 'svg', 'filename': 'pPAE_cutoff_cys'}}\n",
    "print(\"Cysteinylation\")\n",
    "pPSE_cut_cys.show(config=config_cys)"
   ]
  },
  {
   "cell_type": "markdown",
   "metadata": {},
   "source": [
    "# Assess kinase annotations"
   ]
  },
  {
   "cell_type": "markdown",
   "metadata": {},
   "source": [
    "Kinases with structural annotation that have an alphafold structure"
   ]
  },
  {
   "cell_type": "code",
   "execution_count": 69,
   "metadata": {},
   "outputs": [
    {
     "data": {
      "text/plain": [
       "31"
      ]
     },
     "execution_count": 69,
     "metadata": {},
     "output_type": "execute_result"
    }
   ],
   "source": [
    "len(alphafold_ptms[(alphafold_ptms.gloop==1) | (alphafold_ptms.aloop==1) | (alphafold_ptms.achelix==1)].protein_id.unique())"
   ]
  },
  {
   "cell_type": "markdown",
   "metadata": {},
   "source": [
    "Gloops"
   ]
  },
  {
   "cell_type": "code",
   "execution_count": 70,
   "metadata": {},
   "outputs": [
    {
     "data": {
      "text/plain": [
       "22"
      ]
     },
     "execution_count": 70,
     "metadata": {},
     "output_type": "execute_result"
    }
   ],
   "source": [
    "len(alphafold_ptms[(alphafold_ptms.gloop==1)].protein_id.unique())"
   ]
  },
  {
   "cell_type": "code",
   "execution_count": 71,
   "metadata": {},
   "outputs": [
    {
     "data": {
      "text/plain": [
       "0"
      ]
     },
     "execution_count": 71,
     "metadata": {},
     "output_type": "execute_result"
    }
   ],
   "source": [
    "len(alphafold_ptms[(alphafold_ptms.gloop==1) & (alphafold_ptms.flexible_pattern==1)].protein_id.unique())"
   ]
  },
  {
   "cell_type": "code",
   "execution_count": 72,
   "metadata": {},
   "outputs": [
    {
     "data": {
      "text/plain": [
       "0"
      ]
     },
     "execution_count": 72,
     "metadata": {},
     "output_type": "execute_result"
    }
   ],
   "source": [
    "len(alphafold_ptms[(alphafold_ptms.gloop==1) & (alphafold_ptms.flexible_pattern_extended_5==1)].protein_id.unique())"
   ]
  },
  {
   "cell_type": "markdown",
   "metadata": {},
   "source": [
    "Calpha-Helix"
   ]
  },
  {
   "cell_type": "code",
   "execution_count": 73,
   "metadata": {},
   "outputs": [
    {
     "data": {
      "text/plain": [
       "28"
      ]
     },
     "execution_count": 73,
     "metadata": {},
     "output_type": "execute_result"
    }
   ],
   "source": [
    "len(alphafold_ptms[(alphafold_ptms.achelix==1)].protein_id.unique())"
   ]
  },
  {
   "cell_type": "code",
   "execution_count": 74,
   "metadata": {},
   "outputs": [
    {
     "data": {
      "text/plain": [
       "0"
      ]
     },
     "execution_count": 74,
     "metadata": {},
     "output_type": "execute_result"
    }
   ],
   "source": [
    "len(alphafold_ptms[(alphafold_ptms.achelix==1) & (alphafold_ptms.flexible_pattern==1)].protein_id.unique())"
   ]
  },
  {
   "cell_type": "code",
   "execution_count": 75,
   "metadata": {
    "scrolled": true
   },
   "outputs": [
    {
     "data": {
      "text/plain": [
       "0"
      ]
     },
     "execution_count": 75,
     "metadata": {},
     "output_type": "execute_result"
    }
   ],
   "source": [
    "len(alphafold_ptms[(alphafold_ptms.achelix==1) & (alphafold_ptms.flexible_pattern_extended_5==1)].protein_id.unique())"
   ]
  },
  {
   "cell_type": "markdown",
   "metadata": {},
   "source": [
    "Aloops"
   ]
  },
  {
   "cell_type": "code",
   "execution_count": 76,
   "metadata": {},
   "outputs": [
    {
     "data": {
      "text/plain": [
       "27"
      ]
     },
     "execution_count": 76,
     "metadata": {},
     "output_type": "execute_result"
    }
   ],
   "source": [
    "len(alphafold_ptms[(alphafold_ptms.aloop==1)].protein_id.unique())"
   ]
  },
  {
   "cell_type": "code",
   "execution_count": 77,
   "metadata": {},
   "outputs": [
    {
     "data": {
      "text/plain": [
       "4"
      ]
     },
     "execution_count": 77,
     "metadata": {},
     "output_type": "execute_result"
    }
   ],
   "source": [
    "len(alphafold_ptms[(alphafold_ptms.aloop==1) & (alphafold_ptms.flexible_pattern==1)].protein_id.unique())"
   ]
  },
  {
   "cell_type": "code",
   "execution_count": 78,
   "metadata": {},
   "outputs": [
    {
     "data": {
      "text/plain": [
       "5"
      ]
     },
     "execution_count": 78,
     "metadata": {},
     "output_type": "execute_result"
    }
   ],
   "source": [
    "len(alphafold_ptms[(alphafold_ptms.aloop==1) & (alphafold_ptms.flexible_pattern_extended_5==1)].protein_id.unique())"
   ]
  },
  {
   "cell_type": "code",
   "execution_count": 79,
   "metadata": {},
   "outputs": [
    {
     "name": "stdout",
     "output_type": "stream",
     "text": [
      "Proteins with overlap between Aloop and extended short IDR with phosphosites:\n",
      "Number of phosphosites in the overlap:\n"
     ]
    }
   ],
   "source": [
    "print('Proteins with overlap between Aloop and extended short IDR with phosphosites:')\n",
    "len(alphafold_ptms[(alphafold_ptms.aloop==1) & (alphafold_ptms.flexible_pattern_extended_5==1) & (alphafold_ptms.Phosphorylation == 1)].protein_id.unique())\n",
    "print('Number of phosphosites in the overlap:')\n",
    "alphafold_ptms[(alphafold_ptms.aloop==1) & (alphafold_ptms.flexible_pattern_extended_5==1) & (alphafold_ptms.Phosphorylation == 1)].shape[0]\n",
    "# Count the total number of occurrences with Phosphorylation\n",
    "total_phosphorylation_occurrences = alphafold_ptms[alphafold_ptms.Phosphorylation == 1].shape[0]\n",
    "\n",
    "# Count the number of occurrences with overlap between Aloop and extended short IDR with Phosphorylation\n",
    "overlap_phosphorylation_occurrences = alphafold_ptms[(alphafold_ptms.aloop == 1) & \n",
    "                                                     (alphafold_ptms.flexible_pattern_extended_5 == 1) & \n",
    "                                                     (alphafold_ptms.Phosphorylation == 1)].shape[0]\n",
    "\n",
    "# ratio = overlap_phosphorylation_occurrences / total_phosphorylation_occurrences\n",
    "# print(f'Ratio of Phosphorylation occurrences in the overlap: {ratio:.2f}')\n"
   ]
  },
  {
   "cell_type": "code",
   "execution_count": 80,
   "metadata": {},
   "outputs": [
    {
     "name": "stdout",
     "output_type": "stream",
     "text": [
      "Proteins with overlap between Aloop and extended short IDR with glut:\n",
      "Number of glut in the overlap:\n",
      "Ratio of Glutathionylation occurrences in the overlap: 0.00\n"
     ]
    }
   ],
   "source": [
    "print('Proteins with overlap between Aloop and extended short IDR with glut:')\n",
    "len(alphafold_ptms[(alphafold_ptms.aloop==1) & (alphafold_ptms.flexible_pattern_extended_5==1) & (alphafold_ptms.Glutathionylation == 1)].protein_id.unique())\n",
    "\n",
    "print('Number of glut in the overlap:')\n",
    "alphafold_ptms[(alphafold_ptms.aloop==1) & (alphafold_ptms.flexible_pattern_extended_5==1) & (alphafold_ptms.Glutathionylation == 1)].shape[0]\n",
    "# Count the total number of occurrences with Glutathionylation\n",
    "total_glutathionylation_occurrences = alphafold_ptms[alphafold_ptms.Glutathionylation == 1].shape[0]\n",
    "\n",
    "# Count the number of occurrences with overlap between Aloop and extended short IDR with Glutathionylation\n",
    "overlap_glutathionylation_occurrences = alphafold_ptms[(alphafold_ptms.aloop == 1) & \n",
    "                                                       (alphafold_ptms.flexible_pattern_extended_5 == 1) & \n",
    "                                                       (alphafold_ptms.Glutathionylation == 1)].shape[0]\n",
    "\n",
    "# Calculate the ratio\n",
    "ratio = overlap_glutathionylation_occurrences / total_glutathionylation_occurrences\n",
    "\n",
    "print(f'Ratio of Glutathionylation occurrences in the overlap: {ratio:.2f}')\n"
   ]
  },
  {
   "cell_type": "code",
   "execution_count": 81,
   "metadata": {},
   "outputs": [
    {
     "name": "stdout",
     "output_type": "stream",
     "text": [
      "Proteins with overlap between Aloop and extended short IDR with carb:\n",
      "Number of carb in the overlap:\n",
      "Ratio of Carbamyl occurrences in the overlap: 0.00\n"
     ]
    }
   ],
   "source": [
    "print('Proteins with overlap between Aloop and extended short IDR with carb:')\n",
    "len(alphafold_ptms[(alphafold_ptms.aloop==1) & (alphafold_ptms.flexible_pattern_extended_5==1) & (alphafold_ptms.Carbamyl == 1)].protein_id.unique())\n",
    "\n",
    "print('Number of carb in the overlap:')\n",
    "alphafold_ptms[(alphafold_ptms.aloop==1) & (alphafold_ptms.flexible_pattern_extended_5==1) & (alphafold_ptms.Carbamyl == 1)].shape[0]\n",
    "# Count the total number of occurrences with Carbamyl\n",
    "total_carbamyl_occurrences = alphafold_ptms[alphafold_ptms.Carbamyl == 1].shape[0]\n",
    "\n",
    "# Count the number of occurrences with overlap between Aloop and extended short IDR with Carbamyl\n",
    "overlap_carbamyl_occurrences = alphafold_ptms[(alphafold_ptms.aloop == 1) & \n",
    "                                              (alphafold_ptms.flexible_pattern_extended_5 == 1) & \n",
    "                                              (alphafold_ptms.Carbamyl == 1)].shape[0]\n",
    "\n",
    "# Calculate the ratio\n",
    "ratio = overlap_carbamyl_occurrences / total_carbamyl_occurrences\n",
    "\n",
    "print(f'Ratio of Carbamyl occurrences in the overlap: {ratio:.2f}')"
   ]
  },
  {
   "cell_type": "code",
   "execution_count": 82,
   "metadata": {},
   "outputs": [
    {
     "name": "stdout",
     "output_type": "stream",
     "text": [
      "Proteins with overlap between Aloop and extended short IDR with ox:\n",
      "Number of ox in the overlap:\n",
      "Ratio of Oxidation occurrences in the overlap: 0.00\n"
     ]
    }
   ],
   "source": [
    "print('Proteins with overlap between Aloop and extended short IDR with ox:')\n",
    "len(alphafold_ptms[(alphafold_ptms.aloop==1) & (alphafold_ptms.flexible_pattern_extended_5==1) & (alphafold_ptms.Oxidation == 1)].protein_id.unique())\n",
    "\n",
    "print('Number of ox in the overlap:')\n",
    "alphafold_ptms[(alphafold_ptms.aloop==1) & (alphafold_ptms.flexible_pattern_extended_5==1) & (alphafold_ptms.Oxidation == 1)].shape[0]\n",
    "# Count the total number of occurrences with Oxidation\n",
    "total_oxidation_occurrences = alphafold_ptms[alphafold_ptms.Oxidation == 1].shape[0]\n",
    "\n",
    "# Count the number of occurrences with overlap between Aloop and extended short IDR with Oxidation\n",
    "overlap_oxidation_occurrences = alphafold_ptms[(alphafold_ptms.aloop == 1) & \n",
    "                                                (alphafold_ptms.flexible_pattern_extended_5 == 1) & \n",
    "                                                (alphafold_ptms.Oxidation == 1)].shape[0]\n",
    "\n",
    "# Calculate the ratio\n",
    "ratio = overlap_oxidation_occurrences / total_oxidation_occurrences\n",
    "\n",
    "print(f'Ratio of Oxidation occurrences in the overlap: {ratio:.2f}')"
   ]
  },
  {
   "cell_type": "code",
   "execution_count": null,
   "metadata": {},
   "outputs": [],
   "source": [
    "print('Proteins with overlap between Aloop and extended short IDR with nitrosyl:')\n",
    "len(alphafold_ptms[(alphafold_ptms.aloop==1) & (alphafold_ptms.flexible_pattern_extended_5==1) & (alphafold_ptms.Nitrosyl == 1)].protein_id.unique())\n",
    "\n",
    "print('Number of nitro in the overlap:')\n",
    "alphafold_ptms[(alphafold_ptms.aloop==1) & (alphafold_ptms.flexible_pattern_extended_5==1) & (alphafold_ptms.Nitrosyl == 1)].shape[0]\n",
    "# Count the total number of occurrences with Oxidation\n",
    "total_nitro_occurrences = alphafold_ptms[alphafold_ptms.Nitrosyl == 1].shape[0]\n",
    "\n",
    "# Count the number of occurrences with overlap between Aloop and extended short IDR with Oxidation\n",
    "overlap_nitro_occurrences = alphafold_ptms[(alphafold_ptms.aloop == 1) & \n",
    "                                                (alphafold_ptms.flexible_pattern_extended_5 == 1) & \n",
    "                                                (alphafold_ptms.Nitrosyl == 1)].shape[0]\n",
    "\n",
    "# Calculate the ratio\n",
    "ratio = overlap_nitro_occurrences / total_nitro_occurrences\n",
    "\n",
    "print(f'Ratio of Nitrosyl occurrences in the overlap: {ratio:.2f}')\n"
   ]
  },
  {
   "cell_type": "code",
   "execution_count": null,
   "metadata": {},
   "outputs": [],
   "source": [
    "print('Proteins with overlap between Aloop and extended short IDR with cys:')\n",
    "len(alphafold_ptms[(alphafold_ptms.aloop==1) & (alphafold_ptms.flexible_pattern_extended_5==1) & (alphafold_ptms.Cysteinyl == 1)].protein_id.unique())\n",
    "\n",
    "print('Number of cys in the overlap:')\n",
    "alphafold_ptms[(alphafold_ptms.aloop==1) & (alphafold_ptms.flexible_pattern_extended_5==1) & (alphafold_ptms.Cysteinyl == 1)].shape[0]\n",
    "# Count the total number of occurrences with Oxidation\n",
    "total_cys_occurrences = alphafold_ptms[alphafold_ptms.Cysteinyl == 1].shape[0]\n",
    "\n",
    "# Count the number of occurrences with overlap between Aloop and extended short IDR with Oxidation\n",
    "overlap_cys_occurrences = alphafold_ptms[(alphafold_ptms.aloop == 1) & \n",
    "                                                (alphafold_ptms.flexible_pattern_extended_5 == 1) & \n",
    "                                                (alphafold_ptms.Cysteinyl == 1)].shape[0]\n",
    "\n",
    "# Calculate the ratio\n",
    "ratio = overlap_cys_occurrences / total_cys_occurrences\n",
    "\n",
    "print(f'Ratio of Cysteinyl occurrences in the overlap: {ratio:.2f}')\n"
   ]
  },
  {
   "cell_type": "markdown",
   "metadata": {},
   "source": [
    "### Get list of all PTMs in short IDRs"
   ]
  },
  {
   "cell_type": "code",
   "execution_count": 83,
   "metadata": {},
   "outputs": [],
   "source": [
    "potentially_interesting_sites = alphafold_ptms[(alphafold_ptms.flexible_pattern_extended_5==1) & \n",
    "                                               ((alphafold_ptms.Phosphorylation==1) | (alphafold_ptms.Nitrosyl==1) | \n",
    "                                                (alphafold_ptms.Glutathionylation==1) | \n",
    "                                                (alphafold_ptms.Carbamyl==1)|(alphafold_ptms.Cysteinyl))][[\n",
    "    'protein_id','position','IDR', 'flexible_pattern','flexible_pattern_extended_5','aloop',\n",
    "    \"Phosphorylation\", \"Glutathionylation\", 'Carbamyl', \"Nitrosyl\", \"Cysteinyl\"]].reset_index(drop=True)"
   ]
  },
  {
   "cell_type": "code",
   "execution_count": 84,
   "metadata": {},
   "outputs": [
    {
     "data": {
      "text/html": [
       "<div>\n",
       "<style scoped>\n",
       "    .dataframe tbody tr th:only-of-type {\n",
       "        vertical-align: middle;\n",
       "    }\n",
       "\n",
       "    .dataframe tbody tr th {\n",
       "        vertical-align: top;\n",
       "    }\n",
       "\n",
       "    .dataframe thead th {\n",
       "        text-align: right;\n",
       "    }\n",
       "</style>\n",
       "<table border=\"1\" class=\"dataframe\">\n",
       "  <thead>\n",
       "    <tr style=\"text-align: right;\">\n",
       "      <th></th>\n",
       "      <th>protein_id</th>\n",
       "      <th>position</th>\n",
       "      <th>IDR</th>\n",
       "      <th>flexible_pattern</th>\n",
       "      <th>flexible_pattern_extended_5</th>\n",
       "      <th>aloop</th>\n",
       "      <th>Phosphorylation</th>\n",
       "      <th>Glutathionylation</th>\n",
       "      <th>Carbamyl</th>\n",
       "      <th>Nitrosyl</th>\n",
       "      <th>Cysteinyl</th>\n",
       "    </tr>\n",
       "  </thead>\n",
       "  <tbody>\n",
       "    <tr>\n",
       "      <th>0</th>\n",
       "      <td>A0A087X1C5</td>\n",
       "      <td>338</td>\n",
       "      <td>1</td>\n",
       "      <td>1</td>\n",
       "      <td>1</td>\n",
       "      <td>0.0</td>\n",
       "      <td>0.0</td>\n",
       "      <td>0.0</td>\n",
       "      <td>0.0</td>\n",
       "      <td>1.0</td>\n",
       "      <td>0.0</td>\n",
       "    </tr>\n",
       "    <tr>\n",
       "      <th>1</th>\n",
       "      <td>O75369</td>\n",
       "      <td>2502</td>\n",
       "      <td>1</td>\n",
       "      <td>1</td>\n",
       "      <td>1</td>\n",
       "      <td>0.0</td>\n",
       "      <td>0.0</td>\n",
       "      <td>1.0</td>\n",
       "      <td>0.0</td>\n",
       "      <td>0.0</td>\n",
       "      <td>0.0</td>\n",
       "    </tr>\n",
       "    <tr>\n",
       "      <th>2</th>\n",
       "      <td>O75369</td>\n",
       "      <td>2502</td>\n",
       "      <td>1</td>\n",
       "      <td>1</td>\n",
       "      <td>1</td>\n",
       "      <td>0.0</td>\n",
       "      <td>0.0</td>\n",
       "      <td>1.0</td>\n",
       "      <td>0.0</td>\n",
       "      <td>0.0</td>\n",
       "      <td>0.0</td>\n",
       "    </tr>\n",
       "  </tbody>\n",
       "</table>\n",
       "</div>"
      ],
      "text/plain": [
       "   protein_id  position  IDR  flexible_pattern  flexible_pattern_extended_5  \\\n",
       "0  A0A087X1C5       338    1                 1                            1   \n",
       "1      O75369      2502    1                 1                            1   \n",
       "2      O75369      2502    1                 1                            1   \n",
       "\n",
       "   aloop  Phosphorylation  Glutathionylation  Carbamyl  Nitrosyl  Cysteinyl  \n",
       "0    0.0              0.0                0.0       0.0       1.0        0.0  \n",
       "1    0.0              0.0                1.0       0.0       0.0        0.0  \n",
       "2    0.0              0.0                1.0       0.0       0.0        0.0  "
      ]
     },
     "execution_count": 84,
     "metadata": {},
     "output_type": "execute_result"
    }
   ],
   "source": [
    "potentially_interesting_sites[0:3]"
   ]
  },
  {
   "cell_type": "code",
   "execution_count": 85,
   "metadata": {},
   "outputs": [],
   "source": [
    "potentially_interesting_sites.to_csv('c:/Users/marga/OneDrive/Desktop/summer project/mods_in_short_idrs/potentially_interesting_sites_own.tsv',\n",
    "                                     sep='\\t', index=False)"
   ]
  },
  {
   "cell_type": "markdown",
   "metadata": {},
   "source": [
    "### Get list of all short IDRs"
   ]
  },
  {
   "cell_type": "code",
   "execution_count": 86,
   "metadata": {},
   "outputs": [
    {
     "data": {
      "text/html": [
       "<div>\n",
       "<style scoped>\n",
       "    .dataframe tbody tr th:only-of-type {\n",
       "        vertical-align: middle;\n",
       "    }\n",
       "\n",
       "    .dataframe tbody tr th {\n",
       "        vertical-align: top;\n",
       "    }\n",
       "\n",
       "    .dataframe thead th {\n",
       "        text-align: right;\n",
       "    }\n",
       "</style>\n",
       "<table border=\"1\" class=\"dataframe\">\n",
       "  <thead>\n",
       "    <tr style=\"text-align: right;\">\n",
       "      <th></th>\n",
       "      <th>protein_id</th>\n",
       "      <th>IDR_start</th>\n",
       "      <th>IDR_end</th>\n",
       "      <th>sequence</th>\n",
       "    </tr>\n",
       "  </thead>\n",
       "  <tbody>\n",
       "    <tr>\n",
       "      <th>0</th>\n",
       "      <td>A0A087WU57</td>\n",
       "      <td>174</td>\n",
       "      <td>187</td>\n",
       "      <td>LTQAAIMEKLVAYS</td>\n",
       "    </tr>\n",
       "    <tr>\n",
       "      <th>1</th>\n",
       "      <td>A0A087X1C5</td>\n",
       "      <td>332</td>\n",
       "      <td>345</td>\n",
       "      <td>RVSPGCPIVGTHVC</td>\n",
       "    </tr>\n",
       "    <tr>\n",
       "      <th>2</th>\n",
       "      <td>A0A0A0MRM8</td>\n",
       "      <td>623</td>\n",
       "      <td>639</td>\n",
       "      <td>SSTNNNKDTKQKAGKLS</td>\n",
       "    </tr>\n",
       "    <tr>\n",
       "      <th>3</th>\n",
       "      <td>A0A0C4DFM1</td>\n",
       "      <td>129</td>\n",
       "      <td>143</td>\n",
       "      <td>LYSNRDSDDKKKEKD</td>\n",
       "    </tr>\n",
       "  </tbody>\n",
       "</table>\n",
       "</div>"
      ],
      "text/plain": [
       "   protein_id  IDR_start  IDR_end           sequence\n",
       "0  A0A087WU57        174      187     LTQAAIMEKLVAYS\n",
       "1  A0A087X1C5        332      345     RVSPGCPIVGTHVC\n",
       "2  A0A0A0MRM8        623      639  SSTNNNKDTKQKAGKLS\n",
       "3  A0A0C4DFM1        129      143    LYSNRDSDDKKKEKD"
      ]
     },
     "execution_count": 86,
     "metadata": {},
     "output_type": "execute_result"
    }
   ],
   "source": [
    "short_idr_info = extract_short_IDR_info(alphafold_ptms)\n",
    "short_idr_info[0:4]"
   ]
  },
  {
   "cell_type": "code",
   "execution_count": 87,
   "metadata": {},
   "outputs": [],
   "source": [
    "short_idr_info.to_csv('c:/Users/marga/OneDrive/Desktop/summer project/mods_in_short_idrs/short_idr_info_own.tsv',\n",
    "                      sep='\\t', index=False)\n"
   ]
  },
  {
   "cell_type": "markdown",
   "metadata": {},
   "source": [
    "## Visualization of short IDRs, activation loops and phosphosites"
   ]
  },
  {
   "cell_type": "code",
   "execution_count": 88,
   "metadata": {},
   "outputs": [
    {
     "ename": "KeyError",
     "evalue": "'p_reg'",
     "output_type": "error",
     "traceback": [
      "\u001b[1;31m---------------------------------------------------------------------------\u001b[0m",
      "\u001b[1;31mKeyError\u001b[0m                                  Traceback (most recent call last)",
      "File \u001b[1;32m~\\AppData\\Roaming\\Python\\Python38\\site-packages\\pandas\\core\\indexes\\base.py:3621\u001b[0m, in \u001b[0;36mIndex.get_loc\u001b[1;34m(self, key, method, tolerance)\u001b[0m\n\u001b[0;32m   3620\u001b[0m \u001b[39mtry\u001b[39;00m:\n\u001b[1;32m-> 3621\u001b[0m     \u001b[39mreturn\u001b[39;00m \u001b[39mself\u001b[39;49m\u001b[39m.\u001b[39;49m_engine\u001b[39m.\u001b[39;49mget_loc(casted_key)\n\u001b[0;32m   3622\u001b[0m \u001b[39mexcept\u001b[39;00m \u001b[39mKeyError\u001b[39;00m \u001b[39mas\u001b[39;00m err:\n",
      "File \u001b[1;32m~\\AppData\\Roaming\\Python\\Python38\\site-packages\\pandas\\_libs\\index.pyx:136\u001b[0m, in \u001b[0;36mpandas._libs.index.IndexEngine.get_loc\u001b[1;34m()\u001b[0m\n",
      "File \u001b[1;32m~\\AppData\\Roaming\\Python\\Python38\\site-packages\\pandas\\_libs\\index.pyx:163\u001b[0m, in \u001b[0;36mpandas._libs.index.IndexEngine.get_loc\u001b[1;34m()\u001b[0m\n",
      "File \u001b[1;32mpandas\\_libs\\hashtable_class_helper.pxi:5198\u001b[0m, in \u001b[0;36mpandas._libs.hashtable.PyObjectHashTable.get_item\u001b[1;34m()\u001b[0m\n",
      "File \u001b[1;32mpandas\\_libs\\hashtable_class_helper.pxi:5206\u001b[0m, in \u001b[0;36mpandas._libs.hashtable.PyObjectHashTable.get_item\u001b[1;34m()\u001b[0m\n",
      "\u001b[1;31mKeyError\u001b[0m: 'p_reg'",
      "\nThe above exception was the direct cause of the following exception:\n",
      "\u001b[1;31mKeyError\u001b[0m                                  Traceback (most recent call last)",
      "Cell \u001b[1;32mIn[88], line 1\u001b[0m\n\u001b[1;32m----> 1\u001b[0m plot_shortIDR_activationLoop(df\u001b[39m=\u001b[39;49malphafold_ptms, kinase\u001b[39m=\u001b[39;49m\u001b[39m'\u001b[39;49m\u001b[39mP29320\u001b[39;49m\u001b[39m'\u001b[39;49m) \u001b[39m# Ephrin type-A receptor 3 (EPHA3: P29320)\u001b[39;00m\n",
      "File \u001b[1;32mc:\\Users\\marga\\OneDrive\\Desktop\\summer project\\accessory_functions.py:160\u001b[0m, in \u001b[0;36mplot_shortIDR_activationLoop\u001b[1;34m(df, kinase)\u001b[0m\n\u001b[0;32m    154\u001b[0m ripk2 \u001b[39m=\u001b[39m ripk2\u001b[39m.\u001b[39massign(\n\u001b[0;32m    155\u001b[0m     pep_sym\u001b[39m=\u001b[39m\u001b[39m'\u001b[39m\u001b[39msquare\u001b[39m\u001b[39m'\u001b[39m,\n\u001b[0;32m    156\u001b[0m     p_sym\u001b[39m=\u001b[39m\u001b[39m'\u001b[39m\u001b[39mcircle\u001b[39m\u001b[39m'\u001b[39m,\n\u001b[0;32m    157\u001b[0m     idr_y \u001b[39m=\u001b[39m \u001b[39m0\u001b[39m)\n\u001b[0;32m    159\u001b[0m ripk2[\u001b[39m'\u001b[39m\u001b[39mIDR_col\u001b[39m\u001b[39m'\u001b[39m] \u001b[39m=\u001b[39m np\u001b[39m.\u001b[39mwhere((ripk2[\u001b[39m'\u001b[39m\u001b[39mIDR\u001b[39m\u001b[39m'\u001b[39m]\u001b[39m==\u001b[39m\u001b[39m1\u001b[39m), \u001b[39m'\u001b[39m\u001b[39midr\u001b[39m\u001b[39m'\u001b[39m, \u001b[39m'\u001b[39m\u001b[39mstructured\u001b[39m\u001b[39m'\u001b[39m)\n\u001b[1;32m--> 160\u001b[0m ripk2[\u001b[39m'\u001b[39m\u001b[39mp_reg_col\u001b[39m\u001b[39m'\u001b[39m] \u001b[39m=\u001b[39m np\u001b[39m.\u001b[39mwhere((ripk2[\u001b[39m'\u001b[39;49m\u001b[39mp_reg\u001b[39;49m\u001b[39m'\u001b[39;49m]\u001b[39m==\u001b[39m\u001b[39m1\u001b[39m), \u001b[39m'\u001b[39m\u001b[39mregulatory\u001b[39m\u001b[39m'\u001b[39m, \u001b[39m'\u001b[39m\u001b[39munknown\u001b[39m\u001b[39m'\u001b[39m)\n\u001b[0;32m    161\u001b[0m ripk2[\u001b[39m'\u001b[39m\u001b[39mp_reg_y\u001b[39m\u001b[39m'\u001b[39m] \u001b[39m=\u001b[39m np\u001b[39m.\u001b[39mwhere((ripk2[\u001b[39m'\u001b[39m\u001b[39mp_reg\u001b[39m\u001b[39m'\u001b[39m]\u001b[39m==\u001b[39m\u001b[39m1\u001b[39m), \u001b[39m0.2\u001b[39m, \u001b[39m0.12\u001b[39m)\n\u001b[0;32m    163\u001b[0m ripk2[\u001b[39m'\u001b[39m\u001b[39midr_count\u001b[39m\u001b[39m'\u001b[39m] \u001b[39m=\u001b[39m \u001b[39m0\u001b[39m\n",
      "File \u001b[1;32m~\\AppData\\Roaming\\Python\\Python38\\site-packages\\pandas\\core\\frame.py:3506\u001b[0m, in \u001b[0;36mDataFrame.__getitem__\u001b[1;34m(self, key)\u001b[0m\n\u001b[0;32m   3504\u001b[0m \u001b[39mif\u001b[39;00m \u001b[39mself\u001b[39m\u001b[39m.\u001b[39mcolumns\u001b[39m.\u001b[39mnlevels \u001b[39m>\u001b[39m \u001b[39m1\u001b[39m:\n\u001b[0;32m   3505\u001b[0m     \u001b[39mreturn\u001b[39;00m \u001b[39mself\u001b[39m\u001b[39m.\u001b[39m_getitem_multilevel(key)\n\u001b[1;32m-> 3506\u001b[0m indexer \u001b[39m=\u001b[39m \u001b[39mself\u001b[39;49m\u001b[39m.\u001b[39;49mcolumns\u001b[39m.\u001b[39;49mget_loc(key)\n\u001b[0;32m   3507\u001b[0m \u001b[39mif\u001b[39;00m is_integer(indexer):\n\u001b[0;32m   3508\u001b[0m     indexer \u001b[39m=\u001b[39m [indexer]\n",
      "File \u001b[1;32m~\\AppData\\Roaming\\Python\\Python38\\site-packages\\pandas\\core\\indexes\\base.py:3623\u001b[0m, in \u001b[0;36mIndex.get_loc\u001b[1;34m(self, key, method, tolerance)\u001b[0m\n\u001b[0;32m   3621\u001b[0m     \u001b[39mreturn\u001b[39;00m \u001b[39mself\u001b[39m\u001b[39m.\u001b[39m_engine\u001b[39m.\u001b[39mget_loc(casted_key)\n\u001b[0;32m   3622\u001b[0m \u001b[39mexcept\u001b[39;00m \u001b[39mKeyError\u001b[39;00m \u001b[39mas\u001b[39;00m err:\n\u001b[1;32m-> 3623\u001b[0m     \u001b[39mraise\u001b[39;00m \u001b[39mKeyError\u001b[39;00m(key) \u001b[39mfrom\u001b[39;00m \u001b[39merr\u001b[39;00m\n\u001b[0;32m   3624\u001b[0m \u001b[39mexcept\u001b[39;00m \u001b[39mTypeError\u001b[39;00m:\n\u001b[0;32m   3625\u001b[0m     \u001b[39m# If we have a listlike key, _check_indexing_error will raise\u001b[39;00m\n\u001b[0;32m   3626\u001b[0m     \u001b[39m#  InvalidIndexError. Otherwise we fall through and re-raise\u001b[39;00m\n\u001b[0;32m   3627\u001b[0m     \u001b[39m#  the TypeError.\u001b[39;00m\n\u001b[0;32m   3628\u001b[0m     \u001b[39mself\u001b[39m\u001b[39m.\u001b[39m_check_indexing_error(key)\n",
      "\u001b[1;31mKeyError\u001b[0m: 'p_reg'"
     ]
    }
   ],
   "source": [
    "plot_shortIDR_activationLoop(df=alphafold_ptms, kinase='P29320') # Ephrin type-A receptor 3 (EPHA3: P29320)"
   ]
  },
  {
   "cell_type": "markdown",
   "metadata": {},
   "source": [
    "# Get hotlist of PTMs in short IDRs"
   ]
  },
  {
   "cell_type": "code",
   "execution_count": 93,
   "metadata": {},
   "outputs": [],
   "source": [
    "res = list()\n",
    "for ptm_type in [\"Phosphorylation\", \"Oxidation\", \"Glutathionylation\",'Carbamyl', \"Nitrosyl\", \"Cysteinyl\"]:\n",
    "                 #'ub','ub_reg','ac','ac_reg','m','m_reg','sm','sm_reg','gl','gl_reg','ga']:\n",
    "    n_in_shortIDR = alphafold_ptms[(alphafold_ptms.flexible_pattern==1) & (alphafold_ptms[ptm_type]==1)].shape[0]\n",
    "    n_in_shortIDRextention = alphafold_ptms[(alphafold_ptms.flexible_pattern==0) & (alphafold_ptms.flexible_pattern_extended_5==1) & (alphafold_ptms[ptm_type]==1)].shape[0]\n",
    "    res.append([ptm_type, n_in_shortIDR, n_in_shortIDRextention])\n",
    "res = pd.DataFrame(res, columns=['ptm','Short IDR','5 AA extension'])\n",
    "res = pd.melt(res, id_vars=['ptm'], value_vars=['Short IDR','5 AA extension'])\n",
    "\n",
    "col_map = dict({'Short IDR':\"#66985E\",'5 AA extension':\"#b2cbae\"})"
   ]
  },
  {
   "cell_type": "code",
   "execution_count": 94,
   "metadata": {},
   "outputs": [],
   "source": [
    "res.to_csv(\"c:/Users/marga/OneDrive/Desktop/summer project/mods_in_short_idrs/short_idr_site_summary_own.tsv\", sep='\\t', index=False)"
   ]
  },
  {
   "cell_type": "code",
   "execution_count": 95,
   "metadata": {},
   "outputs": [
    {
     "data": {
      "application/vnd.plotly.v1+json": {
       "config": {
        "plotlyServerURL": "https://plot.ly",
        "toImageButtonOptions": {
         "filename": "ptms_in_shortIDRs",
         "format": "svg"
        }
       },
       "data": [
        {
         "alignmentgroup": "True",
         "cliponaxis": false,
         "hovertemplate": "variable=Short IDR<br>ptm=%{x}<br>value=%{text}<extra></extra>",
         "legendgroup": "Short IDR",
         "marker": {
          "color": "#66985E"
         },
         "name": "Short IDR",
         "offsetgroup": "Short IDR",
         "orientation": "v",
         "showlegend": true,
         "text": [
          1,
          49,
          16,
          0,
          1,
          0
         ],
         "textangle": 0,
         "textfont": {
          "size": 8
         },
         "textposition": "outside",
         "type": "bar",
         "x": [
          "Phosphorylation",
          "Oxidation",
          "Glutathionylation",
          "Carbamyl",
          "Nitrosyl",
          "Cysteinyl"
         ],
         "xaxis": "x",
         "y": [
          1,
          49,
          16,
          0,
          1,
          0
         ],
         "yaxis": "y"
        },
        {
         "alignmentgroup": "True",
         "cliponaxis": false,
         "hovertemplate": "variable=5 AA extension<br>ptm=%{x}<br>value=%{text}<extra></extra>",
         "legendgroup": "5 AA extension",
         "marker": {
          "color": "#b2cbae"
         },
         "name": "5 AA extension",
         "offsetgroup": "5 AA extension",
         "orientation": "v",
         "showlegend": true,
         "text": [
          0,
          44,
          2,
          0,
          0,
          1
         ],
         "textangle": 0,
         "textfont": {
          "size": 8
         },
         "textposition": "outside",
         "type": "bar",
         "x": [
          "Phosphorylation",
          "Oxidation",
          "Glutathionylation",
          "Carbamyl",
          "Nitrosyl",
          "Cysteinyl"
         ],
         "xaxis": "x",
         "y": [
          0,
          44,
          2,
          0,
          0,
          1
         ],
         "yaxis": "y"
        }
       ],
       "layout": {
        "barmode": "group",
        "height": 350,
        "legend": {
         "title": {
          "text": "variable"
         },
         "tracegroupgap": 0
        },
        "margin": {
         "t": 60
        },
        "template": {
         "data": {
          "bar": [
           {
            "error_x": {
             "color": "rgb(36,36,36)"
            },
            "error_y": {
             "color": "rgb(36,36,36)"
            },
            "marker": {
             "line": {
              "color": "white",
              "width": 0.5
             }
            },
            "type": "bar"
           }
          ],
          "barpolar": [
           {
            "marker": {
             "line": {
              "color": "white",
              "width": 0.5
             }
            },
            "type": "barpolar"
           }
          ],
          "carpet": [
           {
            "aaxis": {
             "endlinecolor": "rgb(36,36,36)",
             "gridcolor": "white",
             "linecolor": "white",
             "minorgridcolor": "white",
             "startlinecolor": "rgb(36,36,36)"
            },
            "baxis": {
             "endlinecolor": "rgb(36,36,36)",
             "gridcolor": "white",
             "linecolor": "white",
             "minorgridcolor": "white",
             "startlinecolor": "rgb(36,36,36)"
            },
            "type": "carpet"
           }
          ],
          "choropleth": [
           {
            "colorbar": {
             "outlinewidth": 1,
             "tickcolor": "rgb(36,36,36)",
             "ticks": "outside"
            },
            "type": "choropleth"
           }
          ],
          "contour": [
           {
            "colorbar": {
             "outlinewidth": 1,
             "tickcolor": "rgb(36,36,36)",
             "ticks": "outside"
            },
            "colorscale": [
             [
              0,
              "#440154"
             ],
             [
              0.1111111111111111,
              "#482878"
             ],
             [
              0.2222222222222222,
              "#3e4989"
             ],
             [
              0.3333333333333333,
              "#31688e"
             ],
             [
              0.4444444444444444,
              "#26828e"
             ],
             [
              0.5555555555555556,
              "#1f9e89"
             ],
             [
              0.6666666666666666,
              "#35b779"
             ],
             [
              0.7777777777777778,
              "#6ece58"
             ],
             [
              0.8888888888888888,
              "#b5de2b"
             ],
             [
              1,
              "#fde725"
             ]
            ],
            "type": "contour"
           }
          ],
          "contourcarpet": [
           {
            "colorbar": {
             "outlinewidth": 1,
             "tickcolor": "rgb(36,36,36)",
             "ticks": "outside"
            },
            "type": "contourcarpet"
           }
          ],
          "heatmap": [
           {
            "colorbar": {
             "outlinewidth": 1,
             "tickcolor": "rgb(36,36,36)",
             "ticks": "outside"
            },
            "colorscale": [
             [
              0,
              "#440154"
             ],
             [
              0.1111111111111111,
              "#482878"
             ],
             [
              0.2222222222222222,
              "#3e4989"
             ],
             [
              0.3333333333333333,
              "#31688e"
             ],
             [
              0.4444444444444444,
              "#26828e"
             ],
             [
              0.5555555555555556,
              "#1f9e89"
             ],
             [
              0.6666666666666666,
              "#35b779"
             ],
             [
              0.7777777777777778,
              "#6ece58"
             ],
             [
              0.8888888888888888,
              "#b5de2b"
             ],
             [
              1,
              "#fde725"
             ]
            ],
            "type": "heatmap"
           }
          ],
          "heatmapgl": [
           {
            "colorbar": {
             "outlinewidth": 1,
             "tickcolor": "rgb(36,36,36)",
             "ticks": "outside"
            },
            "colorscale": [
             [
              0,
              "#440154"
             ],
             [
              0.1111111111111111,
              "#482878"
             ],
             [
              0.2222222222222222,
              "#3e4989"
             ],
             [
              0.3333333333333333,
              "#31688e"
             ],
             [
              0.4444444444444444,
              "#26828e"
             ],
             [
              0.5555555555555556,
              "#1f9e89"
             ],
             [
              0.6666666666666666,
              "#35b779"
             ],
             [
              0.7777777777777778,
              "#6ece58"
             ],
             [
              0.8888888888888888,
              "#b5de2b"
             ],
             [
              1,
              "#fde725"
             ]
            ],
            "type": "heatmapgl"
           }
          ],
          "histogram": [
           {
            "marker": {
             "line": {
              "color": "white",
              "width": 0.6
             }
            },
            "type": "histogram"
           }
          ],
          "histogram2d": [
           {
            "colorbar": {
             "outlinewidth": 1,
             "tickcolor": "rgb(36,36,36)",
             "ticks": "outside"
            },
            "colorscale": [
             [
              0,
              "#440154"
             ],
             [
              0.1111111111111111,
              "#482878"
             ],
             [
              0.2222222222222222,
              "#3e4989"
             ],
             [
              0.3333333333333333,
              "#31688e"
             ],
             [
              0.4444444444444444,
              "#26828e"
             ],
             [
              0.5555555555555556,
              "#1f9e89"
             ],
             [
              0.6666666666666666,
              "#35b779"
             ],
             [
              0.7777777777777778,
              "#6ece58"
             ],
             [
              0.8888888888888888,
              "#b5de2b"
             ],
             [
              1,
              "#fde725"
             ]
            ],
            "type": "histogram2d"
           }
          ],
          "histogram2dcontour": [
           {
            "colorbar": {
             "outlinewidth": 1,
             "tickcolor": "rgb(36,36,36)",
             "ticks": "outside"
            },
            "colorscale": [
             [
              0,
              "#440154"
             ],
             [
              0.1111111111111111,
              "#482878"
             ],
             [
              0.2222222222222222,
              "#3e4989"
             ],
             [
              0.3333333333333333,
              "#31688e"
             ],
             [
              0.4444444444444444,
              "#26828e"
             ],
             [
              0.5555555555555556,
              "#1f9e89"
             ],
             [
              0.6666666666666666,
              "#35b779"
             ],
             [
              0.7777777777777778,
              "#6ece58"
             ],
             [
              0.8888888888888888,
              "#b5de2b"
             ],
             [
              1,
              "#fde725"
             ]
            ],
            "type": "histogram2dcontour"
           }
          ],
          "mesh3d": [
           {
            "colorbar": {
             "outlinewidth": 1,
             "tickcolor": "rgb(36,36,36)",
             "ticks": "outside"
            },
            "type": "mesh3d"
           }
          ],
          "parcoords": [
           {
            "line": {
             "colorbar": {
              "outlinewidth": 1,
              "tickcolor": "rgb(36,36,36)",
              "ticks": "outside"
             }
            },
            "type": "parcoords"
           }
          ],
          "pie": [
           {
            "automargin": true,
            "type": "pie"
           }
          ],
          "scatter": [
           {
            "marker": {
             "colorbar": {
              "outlinewidth": 1,
              "tickcolor": "rgb(36,36,36)",
              "ticks": "outside"
             }
            },
            "type": "scatter"
           }
          ],
          "scatter3d": [
           {
            "line": {
             "colorbar": {
              "outlinewidth": 1,
              "tickcolor": "rgb(36,36,36)",
              "ticks": "outside"
             }
            },
            "marker": {
             "colorbar": {
              "outlinewidth": 1,
              "tickcolor": "rgb(36,36,36)",
              "ticks": "outside"
             }
            },
            "type": "scatter3d"
           }
          ],
          "scattercarpet": [
           {
            "marker": {
             "colorbar": {
              "outlinewidth": 1,
              "tickcolor": "rgb(36,36,36)",
              "ticks": "outside"
             }
            },
            "type": "scattercarpet"
           }
          ],
          "scattergeo": [
           {
            "marker": {
             "colorbar": {
              "outlinewidth": 1,
              "tickcolor": "rgb(36,36,36)",
              "ticks": "outside"
             }
            },
            "type": "scattergeo"
           }
          ],
          "scattergl": [
           {
            "marker": {
             "colorbar": {
              "outlinewidth": 1,
              "tickcolor": "rgb(36,36,36)",
              "ticks": "outside"
             }
            },
            "type": "scattergl"
           }
          ],
          "scattermapbox": [
           {
            "marker": {
             "colorbar": {
              "outlinewidth": 1,
              "tickcolor": "rgb(36,36,36)",
              "ticks": "outside"
             }
            },
            "type": "scattermapbox"
           }
          ],
          "scatterpolar": [
           {
            "marker": {
             "colorbar": {
              "outlinewidth": 1,
              "tickcolor": "rgb(36,36,36)",
              "ticks": "outside"
             }
            },
            "type": "scatterpolar"
           }
          ],
          "scatterpolargl": [
           {
            "marker": {
             "colorbar": {
              "outlinewidth": 1,
              "tickcolor": "rgb(36,36,36)",
              "ticks": "outside"
             }
            },
            "type": "scatterpolargl"
           }
          ],
          "scatterternary": [
           {
            "marker": {
             "colorbar": {
              "outlinewidth": 1,
              "tickcolor": "rgb(36,36,36)",
              "ticks": "outside"
             }
            },
            "type": "scatterternary"
           }
          ],
          "surface": [
           {
            "colorbar": {
             "outlinewidth": 1,
             "tickcolor": "rgb(36,36,36)",
             "ticks": "outside"
            },
            "colorscale": [
             [
              0,
              "#440154"
             ],
             [
              0.1111111111111111,
              "#482878"
             ],
             [
              0.2222222222222222,
              "#3e4989"
             ],
             [
              0.3333333333333333,
              "#31688e"
             ],
             [
              0.4444444444444444,
              "#26828e"
             ],
             [
              0.5555555555555556,
              "#1f9e89"
             ],
             [
              0.6666666666666666,
              "#35b779"
             ],
             [
              0.7777777777777778,
              "#6ece58"
             ],
             [
              0.8888888888888888,
              "#b5de2b"
             ],
             [
              1,
              "#fde725"
             ]
            ],
            "type": "surface"
           }
          ],
          "table": [
           {
            "cells": {
             "fill": {
              "color": "rgb(237,237,237)"
             },
             "line": {
              "color": "white"
             }
            },
            "header": {
             "fill": {
              "color": "rgb(217,217,217)"
             },
             "line": {
              "color": "white"
             }
            },
            "type": "table"
           }
          ]
         },
         "layout": {
          "annotationdefaults": {
           "arrowhead": 0,
           "arrowwidth": 1
          },
          "coloraxis": {
           "colorbar": {
            "outlinewidth": 1,
            "tickcolor": "rgb(36,36,36)",
            "ticks": "outside"
           }
          },
          "colorscale": {
           "diverging": [
            [
             0,
             "rgb(103,0,31)"
            ],
            [
             0.1,
             "rgb(178,24,43)"
            ],
            [
             0.2,
             "rgb(214,96,77)"
            ],
            [
             0.3,
             "rgb(244,165,130)"
            ],
            [
             0.4,
             "rgb(253,219,199)"
            ],
            [
             0.5,
             "rgb(247,247,247)"
            ],
            [
             0.6,
             "rgb(209,229,240)"
            ],
            [
             0.7,
             "rgb(146,197,222)"
            ],
            [
             0.8,
             "rgb(67,147,195)"
            ],
            [
             0.9,
             "rgb(33,102,172)"
            ],
            [
             1,
             "rgb(5,48,97)"
            ]
           ],
           "sequential": [
            [
             0,
             "#440154"
            ],
            [
             0.1111111111111111,
             "#482878"
            ],
            [
             0.2222222222222222,
             "#3e4989"
            ],
            [
             0.3333333333333333,
             "#31688e"
            ],
            [
             0.4444444444444444,
             "#26828e"
            ],
            [
             0.5555555555555556,
             "#1f9e89"
            ],
            [
             0.6666666666666666,
             "#35b779"
            ],
            [
             0.7777777777777778,
             "#6ece58"
            ],
            [
             0.8888888888888888,
             "#b5de2b"
            ],
            [
             1,
             "#fde725"
            ]
           ],
           "sequentialminus": [
            [
             0,
             "#440154"
            ],
            [
             0.1111111111111111,
             "#482878"
            ],
            [
             0.2222222222222222,
             "#3e4989"
            ],
            [
             0.3333333333333333,
             "#31688e"
            ],
            [
             0.4444444444444444,
             "#26828e"
            ],
            [
             0.5555555555555556,
             "#1f9e89"
            ],
            [
             0.6666666666666666,
             "#35b779"
            ],
            [
             0.7777777777777778,
             "#6ece58"
            ],
            [
             0.8888888888888888,
             "#b5de2b"
            ],
            [
             1,
             "#fde725"
            ]
           ]
          },
          "colorway": [
           "#1F77B4",
           "#FF7F0E",
           "#2CA02C",
           "#D62728",
           "#9467BD",
           "#8C564B",
           "#E377C2",
           "#7F7F7F",
           "#BCBD22",
           "#17BECF"
          ],
          "font": {
           "color": "rgb(36,36,36)"
          },
          "geo": {
           "bgcolor": "white",
           "lakecolor": "white",
           "landcolor": "white",
           "showlakes": true,
           "showland": true,
           "subunitcolor": "white"
          },
          "hoverlabel": {
           "align": "left"
          },
          "hovermode": "closest",
          "mapbox": {
           "style": "light"
          },
          "paper_bgcolor": "white",
          "plot_bgcolor": "white",
          "polar": {
           "angularaxis": {
            "gridcolor": "rgb(232,232,232)",
            "linecolor": "rgb(36,36,36)",
            "showgrid": false,
            "showline": true,
            "ticks": "outside"
           },
           "bgcolor": "white",
           "radialaxis": {
            "gridcolor": "rgb(232,232,232)",
            "linecolor": "rgb(36,36,36)",
            "showgrid": false,
            "showline": true,
            "ticks": "outside"
           }
          },
          "scene": {
           "xaxis": {
            "backgroundcolor": "white",
            "gridcolor": "rgb(232,232,232)",
            "gridwidth": 2,
            "linecolor": "rgb(36,36,36)",
            "showbackground": true,
            "showgrid": false,
            "showline": true,
            "ticks": "outside",
            "zeroline": false,
            "zerolinecolor": "rgb(36,36,36)"
           },
           "yaxis": {
            "backgroundcolor": "white",
            "gridcolor": "rgb(232,232,232)",
            "gridwidth": 2,
            "linecolor": "rgb(36,36,36)",
            "showbackground": true,
            "showgrid": false,
            "showline": true,
            "ticks": "outside",
            "zeroline": false,
            "zerolinecolor": "rgb(36,36,36)"
           },
           "zaxis": {
            "backgroundcolor": "white",
            "gridcolor": "rgb(232,232,232)",
            "gridwidth": 2,
            "linecolor": "rgb(36,36,36)",
            "showbackground": true,
            "showgrid": false,
            "showline": true,
            "ticks": "outside",
            "zeroline": false,
            "zerolinecolor": "rgb(36,36,36)"
           }
          },
          "shapedefaults": {
           "fillcolor": "black",
           "line": {
            "width": 0
           },
           "opacity": 0.3
          },
          "ternary": {
           "aaxis": {
            "gridcolor": "rgb(232,232,232)",
            "linecolor": "rgb(36,36,36)",
            "showgrid": false,
            "showline": true,
            "ticks": "outside"
           },
           "baxis": {
            "gridcolor": "rgb(232,232,232)",
            "linecolor": "rgb(36,36,36)",
            "showgrid": false,
            "showline": true,
            "ticks": "outside"
           },
           "bgcolor": "white",
           "caxis": {
            "gridcolor": "rgb(232,232,232)",
            "linecolor": "rgb(36,36,36)",
            "showgrid": false,
            "showline": true,
            "ticks": "outside"
           }
          },
          "title": {
           "x": 0.05
          },
          "xaxis": {
           "automargin": true,
           "gridcolor": "rgb(232,232,232)",
           "linecolor": "rgb(36,36,36)",
           "showgrid": false,
           "showline": true,
           "ticks": "outside",
           "title": {
            "standoff": 15
           },
           "zeroline": false,
           "zerolinecolor": "rgb(36,36,36)"
          },
          "yaxis": {
           "automargin": true,
           "gridcolor": "rgb(232,232,232)",
           "linecolor": "rgb(36,36,36)",
           "showgrid": false,
           "showline": true,
           "ticks": "outside",
           "title": {
            "standoff": 15
           },
           "zeroline": false,
           "zerolinecolor": "rgb(36,36,36)"
          }
         }
        },
        "width": 800,
        "xaxis": {
         "anchor": "y",
         "domain": [
          0,
          1
         ],
         "title": {
          "text": ""
         }
        },
        "yaxis": {
         "anchor": "x",
         "domain": [
          0,
          1
         ],
         "title": {
          "text": "count"
         }
        }
       }
      }
     },
     "metadata": {},
     "output_type": "display_data"
    }
   ],
   "source": [
    "fig = px.bar(res,x='ptm',y='value', color='variable', text='value',\n",
    "             color_discrete_map=col_map,\n",
    "            barmode='group')\n",
    "fig = fig.update_traces(textfont_size=8, textangle=0, \n",
    "                        textposition=\"outside\", #['inside', 'outside', 'auto', 'none']\n",
    "                        cliponaxis=False)\n",
    "fig = fig.update_yaxes(col=1, title='count')\n",
    "fig = fig.update_yaxes(matches=None,showticklabels=True, col=2)\n",
    "fig = fig.update_xaxes(matches=None, title='')\n",
    "fig = fig.update_layout(template=\"simple_white\", \n",
    "                        width=800, height=350, \n",
    "                       )\n",
    "\n",
    "config={'toImageButtonOptions': {'format': 'svg', 'filename':'ptms_in_shortIDRs'}}\n",
    "\n",
    "fig.show(config=config)"
   ]
  },
  {
   "cell_type": "code",
   "execution_count": null,
   "metadata": {},
   "outputs": [
    {
     "data": {
      "text/plain": [
       "1"
      ]
     },
     "execution_count": 97,
     "metadata": {},
     "output_type": "execute_result"
    }
   ],
   "source": [
    "alphafold_ptms[(alphafold_ptms.flexible_pattern_extended_5==1) & (alphafold_ptms.Phosphorylation==1)].shape[0]"
   ]
  },
  {
   "cell_type": "code",
   "execution_count": null,
   "metadata": {},
   "outputs": [],
   "source": [
    "#alphafold_ptms[(alphafold_ptms.flexible_pattern_extended_5==1) & (alphafold_ptms.functional_score>0)].shape[0]"
   ]
  },
  {
   "cell_type": "code",
   "execution_count": 99,
   "metadata": {},
   "outputs": [],
   "source": [
    "#alphafold_ptms[(alphafold_ptms.flexible_pattern_extended_5==1) & (alphafold_ptms.functional_score>0.5)].shape[0]"
   ]
  },
  {
   "cell_type": "code",
   "execution_count": 100,
   "metadata": {},
   "outputs": [
    {
     "data": {
      "text/plain": [
       "18"
      ]
     },
     "execution_count": 100,
     "metadata": {},
     "output_type": "execute_result"
    }
   ],
   "source": [
    "alphafold_ptms[(alphafold_ptms.flexible_pattern_extended_5==1) & (alphafold_ptms.Glutathionylation==1)].shape[0]"
   ]
  },
  {
   "cell_type": "code",
   "execution_count": 101,
   "metadata": {},
   "outputs": [
    {
     "data": {
      "text/plain": [
       "93"
      ]
     },
     "execution_count": 101,
     "metadata": {},
     "output_type": "execute_result"
    }
   ],
   "source": [
    "alphafold_ptms[(alphafold_ptms.flexible_pattern_extended_5==1) & (alphafold_ptms.Oxidation==1)].shape[0]"
   ]
  },
  {
   "cell_type": "code",
   "execution_count": 102,
   "metadata": {},
   "outputs": [
    {
     "data": {
      "text/plain": [
       "0"
      ]
     },
     "execution_count": 102,
     "metadata": {},
     "output_type": "execute_result"
    }
   ],
   "source": [
    "alphafold_ptms[(alphafold_ptms.flexible_pattern_extended_5==1) & (alphafold_ptms.Carbamyl==1)].shape[0]"
   ]
  },
  {
   "cell_type": "code",
   "execution_count": 103,
   "metadata": {},
   "outputs": [
    {
     "data": {
      "text/plain": [
       "1"
      ]
     },
     "execution_count": 103,
     "metadata": {},
     "output_type": "execute_result"
    }
   ],
   "source": [
    "alphafold_ptms[(alphafold_ptms.flexible_pattern_extended_5==1) & (alphafold_ptms.Nitrosyl==1)].shape[0]"
   ]
  },
  {
   "cell_type": "code",
   "execution_count": 104,
   "metadata": {},
   "outputs": [
    {
     "data": {
      "text/plain": [
       "1"
      ]
     },
     "execution_count": 104,
     "metadata": {},
     "output_type": "execute_result"
    }
   ],
   "source": [
    "alphafold_ptms[(alphafold_ptms.flexible_pattern_extended_5==1) & (alphafold_ptms.Cysteinyl==1)].shape[0]"
   ]
  },
  {
   "cell_type": "markdown",
   "metadata": {},
   "source": [
    "# Generate PTM site dict"
   ]
  },
  {
   "cell_type": "code",
   "execution_count": 119,
   "metadata": {},
   "outputs": [],
   "source": [
    "def generate_ptm_site_dict(alphafold_df):\n",
    "    all_ptm_datasets = ['Phosphorylation', 'Glutathionylation', 'Carbamyl', \n",
    "    'Oxidation', \"Nitrosyl\", \"Cysteinyl\"]\n",
    "    ptm_dict = {}\n",
    "    for d in all_ptm_datasets:\n",
    "        df_d = alphafold_df[alphafold_df[d] == 1]\n",
    "        unique_aa = list(np.unique(df_d.AA.values))\n",
    "        ptm_dict.update({d: unique_aa})\n",
    "\n",
    "    return(ptm_dict)"
   ]
  },
  {
   "cell_type": "code",
   "execution_count": 120,
   "metadata": {},
   "outputs": [
    {
     "name": "stdout",
     "output_type": "stream",
     "text": [
      "         protein_id  protein_number AA  position  quality  x_coord_c  \\\n",
      "0        A0A024QZ33               1  M         1    62.81     29.208   \n",
      "1        A0A024QZ33               1  K         2    78.75     32.264   \n",
      "2        A0A024QZ33               1  Q         3    85.62     32.948   \n",
      "3        A0A024QZ33               1  T         4    84.56     30.678   \n",
      "4        A0A024QZ33               1  K         5    84.69     31.980   \n",
      "...             ...             ... ..       ...      ...        ...   \n",
      "1439642      X6RM59            2493  L       327    98.44     -9.367   \n",
      "1439643      X6RM59            2493  Q       328    97.31    -11.690   \n",
      "1439644      X6RM59            2493  K       329    96.50    -11.700   \n",
      "1439645      X6RM59            2493  I       330    97.31     -8.548   \n",
      "1439646      X6RM59            2493  L       331    95.81     -7.460   \n",
      "\n",
      "         x_coord_ca  x_coord_cb  x_coord_n  y_coord_c  ...  \\\n",
      "0            28.215      27.418     28.792     -9.402  ...   \n",
      "1            31.377      32.209     30.346     -9.984  ...   \n",
      "2            33.644      33.977     32.818     -7.963  ...   \n",
      "3            30.868      29.492     31.720     -8.666  ...   \n",
      "4            30.642      30.135     30.707    -11.523  ...   \n",
      "...             ...         ...        ...        ...  ...   \n",
      "1439642      -8.905      -7.831    -10.025      9.540  ...   \n",
      "1439643     -11.015     -11.940    -10.415     11.027  ...   \n",
      "1439644     -12.738     -13.839    -12.150      8.754  ...   \n",
      "1439645      -9.534      -8.783    -10.590      8.634  ...   \n",
      "1439646      -7.015      -6.093     -8.131     11.926  ...   \n",
      "\n",
      "         flexible_pattern_extended_5  gloop  aloop  achelix  \\\n",
      "0                                  0    0.0    0.0      0.0   \n",
      "1                                  0    0.0    0.0      0.0   \n",
      "2                                  0    0.0    0.0      0.0   \n",
      "3                                  0    0.0    0.0      0.0   \n",
      "4                                  0    0.0    0.0      0.0   \n",
      "...                              ...    ...    ...      ...   \n",
      "1439642                            0    0.0    0.0      0.0   \n",
      "1439643                            0    0.0    0.0      0.0   \n",
      "1439644                            0    0.0    0.0      0.0   \n",
      "1439645                            0    0.0    0.0      0.0   \n",
      "1439646                            0    0.0    0.0      0.0   \n",
      "\n",
      "         Glutathionylation  Oxidation  Phosphorylation Carbamyl Nitrosyl  \\\n",
      "0                      0.0        0.0              0.0      0.0      0.0   \n",
      "1                      0.0        0.0              0.0      0.0      0.0   \n",
      "2                      0.0        0.0              0.0      0.0      0.0   \n",
      "3                      0.0        0.0              0.0      0.0      0.0   \n",
      "4                      0.0        0.0              0.0      0.0      0.0   \n",
      "...                    ...        ...              ...      ...      ...   \n",
      "1439642                0.0        0.0              0.0      0.0      0.0   \n",
      "1439643                0.0        0.0              0.0      0.0      0.0   \n",
      "1439644                0.0        0.0              0.0      0.0      0.0   \n",
      "1439645                0.0        0.0              0.0      0.0      0.0   \n",
      "1439646                0.0        0.0              0.0      0.0      0.0   \n",
      "\n",
      "         Cysteinyl  \n",
      "0              0.0  \n",
      "1              0.0  \n",
      "2              0.0  \n",
      "3              0.0  \n",
      "4              0.0  \n",
      "...            ...  \n",
      "1439642        0.0  \n",
      "1439643        0.0  \n",
      "1439644        0.0  \n",
      "1439645        0.0  \n",
      "1439646        0.0  \n",
      "\n",
      "[1439647 rows x 42 columns]\n"
     ]
    }
   ],
   "source": [
    "print(alphafold_ptms)"
   ]
  },
  {
   "cell_type": "code",
   "execution_count": 121,
   "metadata": {},
   "outputs": [],
   "source": [
    "#column_to_remove = 'AA_y'\n",
    "#alphafold_ptms.drop(column_to_remove, axis=1, inplace=True)  # axis=1 indicates columns, inplace=True modifies the DataFrame in place\n",
    "#current_column_name = 'AA_x'\n",
    "#new_column_name = 'AA'\n",
    "#alphafold_ptms.rename(columns={current_column_name: new_column_name}, inplace=True)\n"
   ]
  },
  {
   "cell_type": "code",
   "execution_count": 122,
   "metadata": {},
   "outputs": [
    {
     "data": {
      "text/plain": [
       "{'Phosphorylation': ['A',\n",
       "  'C',\n",
       "  'D',\n",
       "  'E',\n",
       "  'F',\n",
       "  'G',\n",
       "  'H',\n",
       "  'I',\n",
       "  'K',\n",
       "  'L',\n",
       "  'M',\n",
       "  'N',\n",
       "  'P',\n",
       "  'Q',\n",
       "  'R',\n",
       "  'S',\n",
       "  'T',\n",
       "  'V'],\n",
       " 'Glutathionylation': ['A',\n",
       "  'C',\n",
       "  'D',\n",
       "  'E',\n",
       "  'F',\n",
       "  'G',\n",
       "  'H',\n",
       "  'I',\n",
       "  'K',\n",
       "  'L',\n",
       "  'M',\n",
       "  'N',\n",
       "  'P',\n",
       "  'Q',\n",
       "  'R',\n",
       "  'S',\n",
       "  'T',\n",
       "  'V',\n",
       "  'W',\n",
       "  'Y'],\n",
       " 'Carbamyl': ['E', 'G', 'M'],\n",
       " 'Oxidation': ['A',\n",
       "  'C',\n",
       "  'D',\n",
       "  'E',\n",
       "  'F',\n",
       "  'G',\n",
       "  'H',\n",
       "  'I',\n",
       "  'K',\n",
       "  'L',\n",
       "  'M',\n",
       "  'N',\n",
       "  'P',\n",
       "  'Q',\n",
       "  'R',\n",
       "  'S',\n",
       "  'T',\n",
       "  'V',\n",
       "  'W',\n",
       "  'Y'],\n",
       " 'Nitrosyl': ['A',\n",
       "  'C',\n",
       "  'D',\n",
       "  'E',\n",
       "  'F',\n",
       "  'G',\n",
       "  'H',\n",
       "  'I',\n",
       "  'K',\n",
       "  'L',\n",
       "  'M',\n",
       "  'N',\n",
       "  'P',\n",
       "  'Q',\n",
       "  'R',\n",
       "  'S',\n",
       "  'T',\n",
       "  'V',\n",
       "  'Y'],\n",
       " 'Cysteinyl': ['A',\n",
       "  'D',\n",
       "  'E',\n",
       "  'F',\n",
       "  'G',\n",
       "  'H',\n",
       "  'I',\n",
       "  'K',\n",
       "  'L',\n",
       "  'M',\n",
       "  'N',\n",
       "  'P',\n",
       "  'Q',\n",
       "  'R',\n",
       "  'S',\n",
       "  'T',\n",
       "  'V',\n",
       "  'W',\n",
       "  'Y']}"
      ]
     },
     "execution_count": 122,
     "metadata": {},
     "output_type": "execute_result"
    }
   ],
   "source": [
    "ptm_site_dict = generate_ptm_site_dict(alphafold_ptms)\n",
    "\n",
    "ptm_site_dict\n"
   ]
  },
  {
   "cell_type": "markdown",
   "metadata": {},
   "source": [
    "# Perform enrichment analysis"
   ]
  },
  {
   "cell_type": "code",
   "execution_count": 138,
   "metadata": {},
   "outputs": [
    {
     "data": {
      "text/html": [
       "<div>\n",
       "<style scoped>\n",
       "    .dataframe tbody tr th:only-of-type {\n",
       "        vertical-align: middle;\n",
       "    }\n",
       "\n",
       "    .dataframe tbody tr th {\n",
       "        vertical-align: top;\n",
       "    }\n",
       "\n",
       "    .dataframe thead th {\n",
       "        text-align: right;\n",
       "    }\n",
       "</style>\n",
       "<table border=\"1\" class=\"dataframe\">\n",
       "  <thead>\n",
       "    <tr style=\"text-align: right;\">\n",
       "      <th></th>\n",
       "      <th>quality_cutoff</th>\n",
       "      <th>ptm</th>\n",
       "      <th>roi</th>\n",
       "      <th>n_aa_ptm</th>\n",
       "      <th>n_aa_roi</th>\n",
       "      <th>n_ptm_in_roi</th>\n",
       "      <th>n_ptm_not_in_roi</th>\n",
       "      <th>n_naked_in_roi</th>\n",
       "      <th>n_naked_not_in_roi</th>\n",
       "      <th>oddsr</th>\n",
       "      <th>p</th>\n",
       "      <th>p_adj_bf</th>\n",
       "      <th>p_adj_bh</th>\n",
       "    </tr>\n",
       "  </thead>\n",
       "  <tbody>\n",
       "    <tr>\n",
       "      <th>0</th>\n",
       "      <td>0</td>\n",
       "      <td>Phosphorylation</td>\n",
       "      <td>IDR</td>\n",
       "      <td>369</td>\n",
       "      <td>507092</td>\n",
       "      <td>273</td>\n",
       "      <td>96</td>\n",
       "      <td>506819</td>\n",
       "      <td>882144</td>\n",
       "      <td>4.949690</td>\n",
       "      <td>2.788372e-48</td>\n",
       "      <td>1.673023e-47</td>\n",
       "      <td>5.576745e-48</td>\n",
       "    </tr>\n",
       "    <tr>\n",
       "      <th>0</th>\n",
       "      <td>0</td>\n",
       "      <td>Glutathionylation</td>\n",
       "      <td>IDR</td>\n",
       "      <td>3857</td>\n",
       "      <td>518633</td>\n",
       "      <td>832</td>\n",
       "      <td>3025</td>\n",
       "      <td>517801</td>\n",
       "      <td>917989</td>\n",
       "      <td>0.487610</td>\n",
       "      <td>1.622217e-84</td>\n",
       "      <td>9.733301e-84</td>\n",
       "      <td>4.866650e-84</td>\n",
       "    </tr>\n",
       "    <tr>\n",
       "      <th>0</th>\n",
       "      <td>0</td>\n",
       "      <td>Carbamyl</td>\n",
       "      <td>IDR</td>\n",
       "      <td>901</td>\n",
       "      <td>98608</td>\n",
       "      <td>491</td>\n",
       "      <td>410</td>\n",
       "      <td>98117</td>\n",
       "      <td>145422</td>\n",
       "      <td>1.774939</td>\n",
       "      <td>1.106426e-17</td>\n",
       "      <td>6.638555e-17</td>\n",
       "      <td>1.659639e-17</td>\n",
       "    </tr>\n",
       "    <tr>\n",
       "      <th>0</th>\n",
       "      <td>0</td>\n",
       "      <td>Oxidation</td>\n",
       "      <td>IDR</td>\n",
       "      <td>20203</td>\n",
       "      <td>518633</td>\n",
       "      <td>4828</td>\n",
       "      <td>15375</td>\n",
       "      <td>513805</td>\n",
       "      <td>905639</td>\n",
       "      <td>0.553489</td>\n",
       "      <td>8.150693e-305</td>\n",
       "      <td>4.890416e-304</td>\n",
       "      <td>4.890416e-304</td>\n",
       "    </tr>\n",
       "    <tr>\n",
       "      <th>0</th>\n",
       "      <td>0</td>\n",
       "      <td>Nitrosyl</td>\n",
       "      <td>IDR</td>\n",
       "      <td>64</td>\n",
       "      <td>515383</td>\n",
       "      <td>16</td>\n",
       "      <td>48</td>\n",
       "      <td>515367</td>\n",
       "      <td>910370</td>\n",
       "      <td>0.588817</td>\n",
       "      <td>6.869444e-02</td>\n",
       "      <td>4.121666e-01</td>\n",
       "      <td>6.869444e-02</td>\n",
       "    </tr>\n",
       "    <tr>\n",
       "      <th>0</th>\n",
       "      <td>0</td>\n",
       "      <td>Cysteinyl</td>\n",
       "      <td>IDR</td>\n",
       "      <td>155</td>\n",
       "      <td>513884</td>\n",
       "      <td>29</td>\n",
       "      <td>126</td>\n",
       "      <td>513855</td>\n",
       "      <td>902561</td>\n",
       "      <td>0.404262</td>\n",
       "      <td>2.265636e-06</td>\n",
       "      <td>1.359382e-05</td>\n",
       "      <td>2.718764e-06</td>\n",
       "    </tr>\n",
       "  </tbody>\n",
       "</table>\n",
       "</div>"
      ],
      "text/plain": [
       "   quality_cutoff                ptm  roi  n_aa_ptm  n_aa_roi  n_ptm_in_roi  \\\n",
       "0               0    Phosphorylation  IDR       369    507092           273   \n",
       "0               0  Glutathionylation  IDR      3857    518633           832   \n",
       "0               0           Carbamyl  IDR       901     98608           491   \n",
       "0               0          Oxidation  IDR     20203    518633          4828   \n",
       "0               0           Nitrosyl  IDR        64    515383            16   \n",
       "0               0          Cysteinyl  IDR       155    513884            29   \n",
       "\n",
       "   n_ptm_not_in_roi  n_naked_in_roi  n_naked_not_in_roi     oddsr  \\\n",
       "0                96          506819              882144  4.949690   \n",
       "0              3025          517801              917989  0.487610   \n",
       "0               410           98117              145422  1.774939   \n",
       "0             15375          513805              905639  0.553489   \n",
       "0                48          515367              910370  0.588817   \n",
       "0               126          513855              902561  0.404262   \n",
       "\n",
       "               p       p_adj_bf       p_adj_bh  \n",
       "0   2.788372e-48   1.673023e-47   5.576745e-48  \n",
       "0   1.622217e-84   9.733301e-84   4.866650e-84  \n",
       "0   1.106426e-17   6.638555e-17   1.659639e-17  \n",
       "0  8.150693e-305  4.890416e-304  4.890416e-304  \n",
       "0   6.869444e-02   4.121666e-01   6.869444e-02  \n",
       "0   2.265636e-06   1.359382e-05   2.718764e-06  "
      ]
     },
     "execution_count": 138,
     "metadata": {},
     "output_type": "execute_result"
    }
   ],
   "source": [
    "enrichment_res = perform_enrichment_analysis(\n",
    "    df=alphafold_ptms, \n",
    "    ptm_types=list(ptm_site_dict.keys()), \n",
    "    rois=['IDR'], \n",
    "    quality_cutoffs=[0],\n",
    "    ptm_site_dict=ptm_site_dict)\n",
    "enrichment_res\n"
   ]
  },
  {
   "cell_type": "code",
   "execution_count": 124,
   "metadata": {},
   "outputs": [
    {
     "data": {
      "text/plain": [
       "array([0.78428831])"
      ]
     },
     "execution_count": 124,
     "metadata": {},
     "output_type": "execute_result"
    }
   ],
   "source": [
    "# Get % glu in IDRs\n",
    "res_glu_t = enrichment_res[enrichment_res.ptm==\"Glutathionylation\"]\n",
    "res_glu_t.n_ptm_not_in_roi.values/res_glu_t.n_aa_ptm.values"
   ]
  },
  {
   "cell_type": "code",
   "execution_count": 137,
   "metadata": {},
   "outputs": [
    {
     "ename": "KeyError",
     "evalue": "'roi'",
     "output_type": "error",
     "traceback": [
      "\u001b[1;31m---------------------------------------------------------------------------\u001b[0m",
      "\u001b[1;31mKeyError\u001b[0m                                  Traceback (most recent call last)",
      "Cell \u001b[1;32mIn[137], line 1\u001b[0m\n\u001b[1;32m----> 1\u001b[0m plot_enrichment(data\u001b[39m=\u001b[39;49menrichment_res,\n\u001b[0;32m      2\u001b[0m                 ptm_select\u001b[39m=\u001b[39;49m[\u001b[39m\"\u001b[39;49m\u001b[39mPhosphorylation\u001b[39;49m\u001b[39m\"\u001b[39;49m, \u001b[39m'\u001b[39;49m\u001b[39mGlutathionylation\u001b[39;49m\u001b[39m'\u001b[39;49m,\u001b[39m'\u001b[39;49m\u001b[39mOxidation\u001b[39;49m\u001b[39m'\u001b[39;49m,\u001b[39m'\u001b[39;49m\u001b[39mCarbamyl\u001b[39;49m\u001b[39m'\u001b[39;49m, \u001b[39m\"\u001b[39;49m\u001b[39mNitrosyl\u001b[39;49m\u001b[39m\"\u001b[39;49m, \u001b[39m\"\u001b[39;49m\u001b[39mCysteinyl\u001b[39;49m\u001b[39m\"\u001b[39;49m],\n\u001b[0;32m      3\u001b[0m                 roi_select\u001b[39m=\u001b[39;49m[\u001b[39m'\u001b[39;49m\u001b[39mIDR\u001b[39;49m\u001b[39m'\u001b[39;49m])\n",
      "File \u001b[1;32m~\\AppData\\Roaming\\Python\\Python38\\site-packages\\structuremap\\plotting.py:98\u001b[0m, in \u001b[0;36mplot_enrichment\u001b[1;34m(data, ptm_select, roi_select, plot_width, plot_height)\u001b[0m\n\u001b[0;32m     89\u001b[0m category_dict[\u001b[39m'\u001b[39m\u001b[39mneg_log_adj_p_round\u001b[39m\u001b[39m'\u001b[39m] \u001b[39m=\u001b[39m \u001b[39mlist\u001b[39m(\u001b[39mreversed\u001b[39m([\n\u001b[0;32m     90\u001b[0m     \u001b[39m'\u001b[39m\u001b[39m> 1000\u001b[39m\u001b[39m'\u001b[39m, \u001b[39m'\u001b[39m\u001b[39m> 100\u001b[39m\u001b[39m'\u001b[39m, \u001b[39m'\u001b[39m\u001b[39m> 50\u001b[39m\u001b[39m'\u001b[39m, \u001b[39m'\u001b[39m\u001b[39m> 10\u001b[39m\u001b[39m'\u001b[39m, \u001b[39m'\u001b[39m\u001b[39m> 5\u001b[39m\u001b[39m'\u001b[39m, \u001b[39m'\u001b[39m\u001b[39m> 2\u001b[39m\u001b[39m'\u001b[39m, \u001b[39m'\u001b[39m\u001b[39m> 0\u001b[39m\u001b[39m'\u001b[39m]))\n\u001b[0;32m     91\u001b[0m color_dict \u001b[39m=\u001b[39m {\u001b[39m'\u001b[39m\u001b[39m> 1000\u001b[39m\u001b[39m'\u001b[39m: \u001b[39m'\u001b[39m\u001b[39mrgb(120,0,0)\u001b[39m\u001b[39m'\u001b[39m,\n\u001b[0;32m     92\u001b[0m               \u001b[39m'\u001b[39m\u001b[39m> 100\u001b[39m\u001b[39m'\u001b[39m: \u001b[39m'\u001b[39m\u001b[39mrgb(177, 63, 100)\u001b[39m\u001b[39m'\u001b[39m,\n\u001b[0;32m     93\u001b[0m               \u001b[39m'\u001b[39m\u001b[39m> 50\u001b[39m\u001b[39m'\u001b[39m: \u001b[39m'\u001b[39m\u001b[39mrgb(221, 104, 108)\u001b[39m\u001b[39m'\u001b[39m,\n\u001b[1;32m   (...)\u001b[0m\n\u001b[0;32m     96\u001b[0m               \u001b[39m'\u001b[39m\u001b[39m> 2\u001b[39m\u001b[39m'\u001b[39m: \u001b[39m'\u001b[39m\u001b[39mrgb(246, 210, 169)\u001b[39m\u001b[39m'\u001b[39m,\n\u001b[0;32m     97\u001b[0m               \u001b[39m'\u001b[39m\u001b[39m> 0\u001b[39m\u001b[39m'\u001b[39m: \u001b[39m'\u001b[39m\u001b[39mgrey\u001b[39m\u001b[39m'\u001b[39m}\n\u001b[1;32m---> 98\u001b[0m fig \u001b[39m=\u001b[39m px\u001b[39m.\u001b[39;49mbar(df,\n\u001b[0;32m     99\u001b[0m              x\u001b[39m=\u001b[39;49m\u001b[39m'\u001b[39;49m\u001b[39mptm\u001b[39;49m\u001b[39m'\u001b[39;49m,\n\u001b[0;32m    100\u001b[0m              y\u001b[39m=\u001b[39;49m\u001b[39m'\u001b[39;49m\u001b[39mlog_odds_ratio\u001b[39;49m\u001b[39m'\u001b[39;49m,\n\u001b[0;32m    101\u001b[0m              labels\u001b[39m=\u001b[39;49m\u001b[39mdict\u001b[39;49m({\u001b[39m'\u001b[39;49m\u001b[39mptm\u001b[39;49m\u001b[39m'\u001b[39;49m: \u001b[39m'\u001b[39;49m\u001b[39mPTM\u001b[39;49m\u001b[39m'\u001b[39;49m,\n\u001b[0;32m    102\u001b[0m                           \u001b[39m'\u001b[39;49m\u001b[39mlog_odds_ratio\u001b[39;49m\u001b[39m'\u001b[39;49m: \u001b[39m'\u001b[39;49m\u001b[39mlog odds ratio\u001b[39;49m\u001b[39m'\u001b[39;49m,\n\u001b[0;32m    103\u001b[0m                           \u001b[39m'\u001b[39;49m\u001b[39mneg_log_adj_p_round\u001b[39;49m\u001b[39m'\u001b[39;49m: \u001b[39m'\u001b[39;49m\u001b[39m-log10 (adj. p-value)\u001b[39;49m\u001b[39m'\u001b[39;49m}),\n\u001b[0;32m    104\u001b[0m              color\u001b[39m=\u001b[39;49m\u001b[39m'\u001b[39;49m\u001b[39mneg_log_adj_p_round\u001b[39;49m\u001b[39m'\u001b[39;49m,\n\u001b[0;32m    105\u001b[0m              facet_col\u001b[39m=\u001b[39;49m\u001b[39m'\u001b[39;49m\u001b[39mroi\u001b[39;49m\u001b[39m'\u001b[39;49m,\n\u001b[0;32m    106\u001b[0m              hover_data\u001b[39m=\u001b[39;49m[\u001b[39m'\u001b[39;49m\u001b[39moddsr\u001b[39;49m\u001b[39m'\u001b[39;49m, \u001b[39m'\u001b[39;49m\u001b[39mp_adj_bh\u001b[39;49m\u001b[39m'\u001b[39;49m],\n\u001b[0;32m    107\u001b[0m              category_orders\u001b[39m=\u001b[39;49mcategory_dict,\n\u001b[0;32m    108\u001b[0m              color_discrete_map\u001b[39m=\u001b[39;49mcolor_dict,\n\u001b[0;32m    109\u001b[0m              template\u001b[39m=\u001b[39;49m\u001b[39m\"\u001b[39;49m\u001b[39msimple_white\u001b[39;49m\u001b[39m\"\u001b[39;49m,\n\u001b[0;32m    110\u001b[0m              )\n\u001b[0;32m    111\u001b[0m \u001b[39mif\u001b[39;00m plot_width \u001b[39mis\u001b[39;00m \u001b[39mNone\u001b[39;00m:\n\u001b[0;32m    112\u001b[0m     p_width \u001b[39m=\u001b[39m \u001b[39m400\u001b[39m\u001b[39m+\u001b[39m(\u001b[39mlen\u001b[39m(df\u001b[39m.\u001b[39mptm\u001b[39m.\u001b[39munique())\u001b[39m*\u001b[39m\u001b[39m20\u001b[39m)\n",
      "File \u001b[1;32m~\\AppData\\Roaming\\Python\\Python38\\site-packages\\plotly\\express\\_chart_types.py:350\u001b[0m, in \u001b[0;36mbar\u001b[1;34m(data_frame, x, y, color, facet_row, facet_col, facet_col_wrap, facet_row_spacing, facet_col_spacing, hover_name, hover_data, custom_data, text, base, error_x, error_x_minus, error_y, error_y_minus, animation_frame, animation_group, category_orders, labels, color_discrete_sequence, color_discrete_map, color_continuous_scale, range_color, color_continuous_midpoint, opacity, orientation, barmode, log_x, log_y, range_x, range_y, title, template, width, height)\u001b[0m\n\u001b[0;32m    306\u001b[0m \u001b[39mdef\u001b[39;00m \u001b[39mbar\u001b[39m(\n\u001b[0;32m    307\u001b[0m     data_frame\u001b[39m=\u001b[39m\u001b[39mNone\u001b[39;00m,\n\u001b[0;32m    308\u001b[0m     x\u001b[39m=\u001b[39m\u001b[39mNone\u001b[39;00m,\n\u001b[1;32m   (...)\u001b[0m\n\u001b[0;32m    344\u001b[0m     height\u001b[39m=\u001b[39m\u001b[39mNone\u001b[39;00m,\n\u001b[0;32m    345\u001b[0m ):\n\u001b[0;32m    346\u001b[0m \u001b[39m    \u001b[39m\u001b[39m\"\"\"\u001b[39;00m\n\u001b[0;32m    347\u001b[0m \u001b[39m    In a bar plot, each row of `data_frame` is represented as a rectangular\u001b[39;00m\n\u001b[0;32m    348\u001b[0m \u001b[39m    mark.\u001b[39;00m\n\u001b[0;32m    349\u001b[0m \u001b[39m    \"\"\"\u001b[39;00m\n\u001b[1;32m--> 350\u001b[0m     \u001b[39mreturn\u001b[39;00m make_figure(\n\u001b[0;32m    351\u001b[0m         args\u001b[39m=\u001b[39;49m\u001b[39mlocals\u001b[39;49m(),\n\u001b[0;32m    352\u001b[0m         constructor\u001b[39m=\u001b[39;49mgo\u001b[39m.\u001b[39;49mBar,\n\u001b[0;32m    353\u001b[0m         trace_patch\u001b[39m=\u001b[39;49m\u001b[39mdict\u001b[39;49m(textposition\u001b[39m=\u001b[39;49m\u001b[39m\"\u001b[39;49m\u001b[39mauto\u001b[39;49m\u001b[39m\"\u001b[39;49m),\n\u001b[0;32m    354\u001b[0m         layout_patch\u001b[39m=\u001b[39;49m\u001b[39mdict\u001b[39;49m(barmode\u001b[39m=\u001b[39;49mbarmode),\n\u001b[0;32m    355\u001b[0m     )\n",
      "File \u001b[1;32m~\\AppData\\Roaming\\Python\\Python38\\site-packages\\plotly\\express\\_core.py:1850\u001b[0m, in \u001b[0;36mmake_figure\u001b[1;34m(args, constructor, trace_patch, layout_patch)\u001b[0m\n\u001b[0;32m   1848\u001b[0m \u001b[39mif\u001b[39;00m m\u001b[39m.\u001b[39mfacet \u001b[39m==\u001b[39m \u001b[39m\"\u001b[39m\u001b[39mcol\u001b[39m\u001b[39m\"\u001b[39m:\n\u001b[0;32m   1849\u001b[0m     prefix \u001b[39m=\u001b[39m get_label(args, args[\u001b[39m\"\u001b[39m\u001b[39mfacet_col\u001b[39m\u001b[39m\"\u001b[39m]) \u001b[39m+\u001b[39m \u001b[39m\"\u001b[39m\u001b[39m=\u001b[39m\u001b[39m\"\u001b[39m\n\u001b[1;32m-> 1850\u001b[0m     col_labels \u001b[39m=\u001b[39m [prefix \u001b[39m+\u001b[39m \u001b[39mstr\u001b[39m(s) \u001b[39mfor\u001b[39;00m s \u001b[39min\u001b[39;00m sorted_group_values[m\u001b[39m.\u001b[39;49mgrouper]]\n\u001b[0;32m   1851\u001b[0m \u001b[39mif\u001b[39;00m m\u001b[39m.\u001b[39mfacet \u001b[39m==\u001b[39m \u001b[39m\"\u001b[39m\u001b[39mrow\u001b[39m\u001b[39m\"\u001b[39m:\n\u001b[0;32m   1852\u001b[0m     prefix \u001b[39m=\u001b[39m get_label(args, args[\u001b[39m\"\u001b[39m\u001b[39mfacet_row\u001b[39m\u001b[39m\"\u001b[39m]) \u001b[39m+\u001b[39m \u001b[39m\"\u001b[39m\u001b[39m=\u001b[39m\u001b[39m\"\u001b[39m\n",
      "\u001b[1;31mKeyError\u001b[0m: 'roi'"
     ]
    }
   ],
   "source": [
    "plot_enrichment(data=enrichment_res,\n",
    "                ptm_select=[\"Phosphorylation\", 'Glutathionylation','Oxidation','Carbamyl', \"Nitrosyl\", \"Cysteinyl\"],\n",
    "                roi_select=['IDR'])"
   ]
  },
  {
   "cell_type": "code",
   "execution_count": 126,
   "metadata": {},
   "outputs": [],
   "source": [
    "enrichment_res.to_csv(\"C:/Users/marga/OneDrive/Desktop/summer project/ptm_enrichment/ptm_enrichment_idrs_own.tsv\", sep=\"\\t\", index=False)"
   ]
  },
  {
   "cell_type": "code",
   "execution_count": 127,
   "metadata": {},
   "outputs": [],
   "source": [
    "enrichment_res = perform_enrichment_analysis(\n",
    "    df=alphafold_ptms[alphafold_ptms.IDR==0], \n",
    "    ptm_types=list(ptm_site_dict.keys()), \n",
    "    rois=['high_acc_5'], \n",
    "    quality_cutoffs=[0],\n",
    "    ptm_site_dict=ptm_site_dict)"
   ]
  },
  {
   "cell_type": "code",
   "execution_count": 128,
   "metadata": {},
   "outputs": [
    {
     "data": {
      "application/vnd.plotly.v1+json": {
       "config": {
        "plotlyServerURL": "https://plot.ly",
        "toImageButtonOptions": {
         "filename": "structure ptm enrichment",
         "format": "svg"
        }
       },
       "data": [
        {
         "alignmentgroup": "True",
         "customdata": [
          [
           1.4433360004923985,
           0.1954863530471118
          ],
          [
           0.9050753444785073,
           0.02595373485710965
          ],
          [
           0.9655143811684721,
           0.0799896435092109
          ]
         ],
         "hovertemplate": "-log10 (adj. p-value)=> 0<br>roi=high_acc_5<br>PTM=%{x}<br>log odds ratio=%{y}<br>oddsr=%{customdata[0]}<br>p_adj_bh=%{customdata[1]}<extra></extra>",
         "legendgroup": "> 0",
         "marker": {
          "color": "grey"
         },
         "name": "> 0",
         "offsetgroup": "> 0",
         "orientation": "v",
         "showlegend": true,
         "textposition": "auto",
         "type": "bar",
         "x": [
          "Phosphorylation",
          "Glutathionylation",
          "Oxidation"
         ],
         "xaxis": "x",
         "y": [
          0.36695710126079284,
          -0.0997370851801854,
          -0.03509428217688323
         ],
         "yaxis": "y"
        }
       ],
       "layout": {
        "annotations": [
         {
          "font": {},
          "showarrow": false,
          "text": "roi=high_acc_5",
          "x": 0.5,
          "xanchor": "center",
          "xref": "paper",
          "y": 1,
          "yanchor": "bottom",
          "yref": "paper"
         }
        ],
        "autosize": false,
        "barmode": "relative",
        "height": 500,
        "legend": {
         "title": {
          "text": "-log10 (adj. p-value)"
         },
         "tracegroupgap": 0
        },
        "margin": {
         "autoexpand": false,
         "b": 150,
         "l": 100,
         "r": 150,
         "t": 50
        },
        "template": {
         "data": {
          "bar": [
           {
            "error_x": {
             "color": "rgb(36,36,36)"
            },
            "error_y": {
             "color": "rgb(36,36,36)"
            },
            "marker": {
             "line": {
              "color": "white",
              "width": 0.5
             }
            },
            "type": "bar"
           }
          ],
          "barpolar": [
           {
            "marker": {
             "line": {
              "color": "white",
              "width": 0.5
             }
            },
            "type": "barpolar"
           }
          ],
          "carpet": [
           {
            "aaxis": {
             "endlinecolor": "rgb(36,36,36)",
             "gridcolor": "white",
             "linecolor": "white",
             "minorgridcolor": "white",
             "startlinecolor": "rgb(36,36,36)"
            },
            "baxis": {
             "endlinecolor": "rgb(36,36,36)",
             "gridcolor": "white",
             "linecolor": "white",
             "minorgridcolor": "white",
             "startlinecolor": "rgb(36,36,36)"
            },
            "type": "carpet"
           }
          ],
          "choropleth": [
           {
            "colorbar": {
             "outlinewidth": 1,
             "tickcolor": "rgb(36,36,36)",
             "ticks": "outside"
            },
            "type": "choropleth"
           }
          ],
          "contour": [
           {
            "colorbar": {
             "outlinewidth": 1,
             "tickcolor": "rgb(36,36,36)",
             "ticks": "outside"
            },
            "colorscale": [
             [
              0,
              "#440154"
             ],
             [
              0.1111111111111111,
              "#482878"
             ],
             [
              0.2222222222222222,
              "#3e4989"
             ],
             [
              0.3333333333333333,
              "#31688e"
             ],
             [
              0.4444444444444444,
              "#26828e"
             ],
             [
              0.5555555555555556,
              "#1f9e89"
             ],
             [
              0.6666666666666666,
              "#35b779"
             ],
             [
              0.7777777777777778,
              "#6ece58"
             ],
             [
              0.8888888888888888,
              "#b5de2b"
             ],
             [
              1,
              "#fde725"
             ]
            ],
            "type": "contour"
           }
          ],
          "contourcarpet": [
           {
            "colorbar": {
             "outlinewidth": 1,
             "tickcolor": "rgb(36,36,36)",
             "ticks": "outside"
            },
            "type": "contourcarpet"
           }
          ],
          "heatmap": [
           {
            "colorbar": {
             "outlinewidth": 1,
             "tickcolor": "rgb(36,36,36)",
             "ticks": "outside"
            },
            "colorscale": [
             [
              0,
              "#440154"
             ],
             [
              0.1111111111111111,
              "#482878"
             ],
             [
              0.2222222222222222,
              "#3e4989"
             ],
             [
              0.3333333333333333,
              "#31688e"
             ],
             [
              0.4444444444444444,
              "#26828e"
             ],
             [
              0.5555555555555556,
              "#1f9e89"
             ],
             [
              0.6666666666666666,
              "#35b779"
             ],
             [
              0.7777777777777778,
              "#6ece58"
             ],
             [
              0.8888888888888888,
              "#b5de2b"
             ],
             [
              1,
              "#fde725"
             ]
            ],
            "type": "heatmap"
           }
          ],
          "heatmapgl": [
           {
            "colorbar": {
             "outlinewidth": 1,
             "tickcolor": "rgb(36,36,36)",
             "ticks": "outside"
            },
            "colorscale": [
             [
              0,
              "#440154"
             ],
             [
              0.1111111111111111,
              "#482878"
             ],
             [
              0.2222222222222222,
              "#3e4989"
             ],
             [
              0.3333333333333333,
              "#31688e"
             ],
             [
              0.4444444444444444,
              "#26828e"
             ],
             [
              0.5555555555555556,
              "#1f9e89"
             ],
             [
              0.6666666666666666,
              "#35b779"
             ],
             [
              0.7777777777777778,
              "#6ece58"
             ],
             [
              0.8888888888888888,
              "#b5de2b"
             ],
             [
              1,
              "#fde725"
             ]
            ],
            "type": "heatmapgl"
           }
          ],
          "histogram": [
           {
            "marker": {
             "line": {
              "color": "white",
              "width": 0.6
             }
            },
            "type": "histogram"
           }
          ],
          "histogram2d": [
           {
            "colorbar": {
             "outlinewidth": 1,
             "tickcolor": "rgb(36,36,36)",
             "ticks": "outside"
            },
            "colorscale": [
             [
              0,
              "#440154"
             ],
             [
              0.1111111111111111,
              "#482878"
             ],
             [
              0.2222222222222222,
              "#3e4989"
             ],
             [
              0.3333333333333333,
              "#31688e"
             ],
             [
              0.4444444444444444,
              "#26828e"
             ],
             [
              0.5555555555555556,
              "#1f9e89"
             ],
             [
              0.6666666666666666,
              "#35b779"
             ],
             [
              0.7777777777777778,
              "#6ece58"
             ],
             [
              0.8888888888888888,
              "#b5de2b"
             ],
             [
              1,
              "#fde725"
             ]
            ],
            "type": "histogram2d"
           }
          ],
          "histogram2dcontour": [
           {
            "colorbar": {
             "outlinewidth": 1,
             "tickcolor": "rgb(36,36,36)",
             "ticks": "outside"
            },
            "colorscale": [
             [
              0,
              "#440154"
             ],
             [
              0.1111111111111111,
              "#482878"
             ],
             [
              0.2222222222222222,
              "#3e4989"
             ],
             [
              0.3333333333333333,
              "#31688e"
             ],
             [
              0.4444444444444444,
              "#26828e"
             ],
             [
              0.5555555555555556,
              "#1f9e89"
             ],
             [
              0.6666666666666666,
              "#35b779"
             ],
             [
              0.7777777777777778,
              "#6ece58"
             ],
             [
              0.8888888888888888,
              "#b5de2b"
             ],
             [
              1,
              "#fde725"
             ]
            ],
            "type": "histogram2dcontour"
           }
          ],
          "mesh3d": [
           {
            "colorbar": {
             "outlinewidth": 1,
             "tickcolor": "rgb(36,36,36)",
             "ticks": "outside"
            },
            "type": "mesh3d"
           }
          ],
          "parcoords": [
           {
            "line": {
             "colorbar": {
              "outlinewidth": 1,
              "tickcolor": "rgb(36,36,36)",
              "ticks": "outside"
             }
            },
            "type": "parcoords"
           }
          ],
          "pie": [
           {
            "automargin": true,
            "type": "pie"
           }
          ],
          "scatter": [
           {
            "marker": {
             "colorbar": {
              "outlinewidth": 1,
              "tickcolor": "rgb(36,36,36)",
              "ticks": "outside"
             }
            },
            "type": "scatter"
           }
          ],
          "scatter3d": [
           {
            "line": {
             "colorbar": {
              "outlinewidth": 1,
              "tickcolor": "rgb(36,36,36)",
              "ticks": "outside"
             }
            },
            "marker": {
             "colorbar": {
              "outlinewidth": 1,
              "tickcolor": "rgb(36,36,36)",
              "ticks": "outside"
             }
            },
            "type": "scatter3d"
           }
          ],
          "scattercarpet": [
           {
            "marker": {
             "colorbar": {
              "outlinewidth": 1,
              "tickcolor": "rgb(36,36,36)",
              "ticks": "outside"
             }
            },
            "type": "scattercarpet"
           }
          ],
          "scattergeo": [
           {
            "marker": {
             "colorbar": {
              "outlinewidth": 1,
              "tickcolor": "rgb(36,36,36)",
              "ticks": "outside"
             }
            },
            "type": "scattergeo"
           }
          ],
          "scattergl": [
           {
            "marker": {
             "colorbar": {
              "outlinewidth": 1,
              "tickcolor": "rgb(36,36,36)",
              "ticks": "outside"
             }
            },
            "type": "scattergl"
           }
          ],
          "scattermapbox": [
           {
            "marker": {
             "colorbar": {
              "outlinewidth": 1,
              "tickcolor": "rgb(36,36,36)",
              "ticks": "outside"
             }
            },
            "type": "scattermapbox"
           }
          ],
          "scatterpolar": [
           {
            "marker": {
             "colorbar": {
              "outlinewidth": 1,
              "tickcolor": "rgb(36,36,36)",
              "ticks": "outside"
             }
            },
            "type": "scatterpolar"
           }
          ],
          "scatterpolargl": [
           {
            "marker": {
             "colorbar": {
              "outlinewidth": 1,
              "tickcolor": "rgb(36,36,36)",
              "ticks": "outside"
             }
            },
            "type": "scatterpolargl"
           }
          ],
          "scatterternary": [
           {
            "marker": {
             "colorbar": {
              "outlinewidth": 1,
              "tickcolor": "rgb(36,36,36)",
              "ticks": "outside"
             }
            },
            "type": "scatterternary"
           }
          ],
          "surface": [
           {
            "colorbar": {
             "outlinewidth": 1,
             "tickcolor": "rgb(36,36,36)",
             "ticks": "outside"
            },
            "colorscale": [
             [
              0,
              "#440154"
             ],
             [
              0.1111111111111111,
              "#482878"
             ],
             [
              0.2222222222222222,
              "#3e4989"
             ],
             [
              0.3333333333333333,
              "#31688e"
             ],
             [
              0.4444444444444444,
              "#26828e"
             ],
             [
              0.5555555555555556,
              "#1f9e89"
             ],
             [
              0.6666666666666666,
              "#35b779"
             ],
             [
              0.7777777777777778,
              "#6ece58"
             ],
             [
              0.8888888888888888,
              "#b5de2b"
             ],
             [
              1,
              "#fde725"
             ]
            ],
            "type": "surface"
           }
          ],
          "table": [
           {
            "cells": {
             "fill": {
              "color": "rgb(237,237,237)"
             },
             "line": {
              "color": "white"
             }
            },
            "header": {
             "fill": {
              "color": "rgb(217,217,217)"
             },
             "line": {
              "color": "white"
             }
            },
            "type": "table"
           }
          ]
         },
         "layout": {
          "annotationdefaults": {
           "arrowhead": 0,
           "arrowwidth": 1
          },
          "coloraxis": {
           "colorbar": {
            "outlinewidth": 1,
            "tickcolor": "rgb(36,36,36)",
            "ticks": "outside"
           }
          },
          "colorscale": {
           "diverging": [
            [
             0,
             "rgb(103,0,31)"
            ],
            [
             0.1,
             "rgb(178,24,43)"
            ],
            [
             0.2,
             "rgb(214,96,77)"
            ],
            [
             0.3,
             "rgb(244,165,130)"
            ],
            [
             0.4,
             "rgb(253,219,199)"
            ],
            [
             0.5,
             "rgb(247,247,247)"
            ],
            [
             0.6,
             "rgb(209,229,240)"
            ],
            [
             0.7,
             "rgb(146,197,222)"
            ],
            [
             0.8,
             "rgb(67,147,195)"
            ],
            [
             0.9,
             "rgb(33,102,172)"
            ],
            [
             1,
             "rgb(5,48,97)"
            ]
           ],
           "sequential": [
            [
             0,
             "#440154"
            ],
            [
             0.1111111111111111,
             "#482878"
            ],
            [
             0.2222222222222222,
             "#3e4989"
            ],
            [
             0.3333333333333333,
             "#31688e"
            ],
            [
             0.4444444444444444,
             "#26828e"
            ],
            [
             0.5555555555555556,
             "#1f9e89"
            ],
            [
             0.6666666666666666,
             "#35b779"
            ],
            [
             0.7777777777777778,
             "#6ece58"
            ],
            [
             0.8888888888888888,
             "#b5de2b"
            ],
            [
             1,
             "#fde725"
            ]
           ],
           "sequentialminus": [
            [
             0,
             "#440154"
            ],
            [
             0.1111111111111111,
             "#482878"
            ],
            [
             0.2222222222222222,
             "#3e4989"
            ],
            [
             0.3333333333333333,
             "#31688e"
            ],
            [
             0.4444444444444444,
             "#26828e"
            ],
            [
             0.5555555555555556,
             "#1f9e89"
            ],
            [
             0.6666666666666666,
             "#35b779"
            ],
            [
             0.7777777777777778,
             "#6ece58"
            ],
            [
             0.8888888888888888,
             "#b5de2b"
            ],
            [
             1,
             "#fde725"
            ]
           ]
          },
          "colorway": [
           "#1F77B4",
           "#FF7F0E",
           "#2CA02C",
           "#D62728",
           "#9467BD",
           "#8C564B",
           "#E377C2",
           "#7F7F7F",
           "#BCBD22",
           "#17BECF"
          ],
          "font": {
           "color": "rgb(36,36,36)"
          },
          "geo": {
           "bgcolor": "white",
           "lakecolor": "white",
           "landcolor": "white",
           "showlakes": true,
           "showland": true,
           "subunitcolor": "white"
          },
          "hoverlabel": {
           "align": "left"
          },
          "hovermode": "closest",
          "mapbox": {
           "style": "light"
          },
          "paper_bgcolor": "white",
          "plot_bgcolor": "white",
          "polar": {
           "angularaxis": {
            "gridcolor": "rgb(232,232,232)",
            "linecolor": "rgb(36,36,36)",
            "showgrid": false,
            "showline": true,
            "ticks": "outside"
           },
           "bgcolor": "white",
           "radialaxis": {
            "gridcolor": "rgb(232,232,232)",
            "linecolor": "rgb(36,36,36)",
            "showgrid": false,
            "showline": true,
            "ticks": "outside"
           }
          },
          "scene": {
           "xaxis": {
            "backgroundcolor": "white",
            "gridcolor": "rgb(232,232,232)",
            "gridwidth": 2,
            "linecolor": "rgb(36,36,36)",
            "showbackground": true,
            "showgrid": false,
            "showline": true,
            "ticks": "outside",
            "zeroline": false,
            "zerolinecolor": "rgb(36,36,36)"
           },
           "yaxis": {
            "backgroundcolor": "white",
            "gridcolor": "rgb(232,232,232)",
            "gridwidth": 2,
            "linecolor": "rgb(36,36,36)",
            "showbackground": true,
            "showgrid": false,
            "showline": true,
            "ticks": "outside",
            "zeroline": false,
            "zerolinecolor": "rgb(36,36,36)"
           },
           "zaxis": {
            "backgroundcolor": "white",
            "gridcolor": "rgb(232,232,232)",
            "gridwidth": 2,
            "linecolor": "rgb(36,36,36)",
            "showbackground": true,
            "showgrid": false,
            "showline": true,
            "ticks": "outside",
            "zeroline": false,
            "zerolinecolor": "rgb(36,36,36)"
           }
          },
          "shapedefaults": {
           "fillcolor": "black",
           "line": {
            "width": 0
           },
           "opacity": 0.3
          },
          "ternary": {
           "aaxis": {
            "gridcolor": "rgb(232,232,232)",
            "linecolor": "rgb(36,36,36)",
            "showgrid": false,
            "showline": true,
            "ticks": "outside"
           },
           "baxis": {
            "gridcolor": "rgb(232,232,232)",
            "linecolor": "rgb(36,36,36)",
            "showgrid": false,
            "showline": true,
            "ticks": "outside"
           },
           "bgcolor": "white",
           "caxis": {
            "gridcolor": "rgb(232,232,232)",
            "linecolor": "rgb(36,36,36)",
            "showgrid": false,
            "showline": true,
            "ticks": "outside"
           }
          },
          "title": {
           "x": 0.05
          },
          "xaxis": {
           "automargin": true,
           "gridcolor": "rgb(232,232,232)",
           "linecolor": "rgb(36,36,36)",
           "showgrid": false,
           "showline": true,
           "ticks": "outside",
           "title": {
            "standoff": 15
           },
           "zeroline": false,
           "zerolinecolor": "rgb(36,36,36)"
          },
          "yaxis": {
           "automargin": true,
           "gridcolor": "rgb(232,232,232)",
           "linecolor": "rgb(36,36,36)",
           "showgrid": false,
           "showline": true,
           "ticks": "outside",
           "title": {
            "standoff": 15
           },
           "zeroline": false,
           "zerolinecolor": "rgb(36,36,36)"
          }
         }
        },
        "width": 460,
        "xaxis": {
         "anchor": "y",
         "categoryarray": [
          "Phosphorylation",
          "Glutathionylation",
          "Oxidation",
          "Carbamylation",
          "Nitrosylation",
          "Cysteinylation"
         ],
         "categoryorder": "array",
         "domain": [
          0,
          1
         ],
         "title": {
          "text": "PTM"
         }
        },
        "yaxis": {
         "anchor": "x",
         "domain": [
          0,
          1
         ],
         "title": {
          "text": "log odds ratio"
         }
        }
       }
      }
     },
     "metadata": {},
     "output_type": "display_data"
    }
   ],
   "source": [
    "plot_enrichment(data=enrichment_res,\n",
    "                ptm_select=['Phosphorylation','Glutathionylation','Oxidation','Carbamylation', \"Nitrosylation\", \"Cysteinylation\"],\n",
    "                roi_select=['high_acc_5'],\n",
    "                )"
   ]
  },
  {
   "cell_type": "code",
   "execution_count": 129,
   "metadata": {},
   "outputs": [],
   "source": [
    "enrichment_res.to_csv(\"c:/Users/marga/OneDrive/Desktop/summer project/ptm_enrichment/ptm_enrichment_high_acc_5_own.tsv\", sep=\"\\t\", index=False)"
   ]
  },
  {
   "cell_type": "markdown",
   "metadata": {},
   "source": [
    "# Enrichment of functional sites in short IDRs"
   ]
  },
  {
   "cell_type": "code",
   "execution_count": 130,
   "metadata": {},
   "outputs": [
    {
     "ename": "AttributeError",
     "evalue": "'DataFrame' object has no attribute 'phos'",
     "output_type": "error",
     "traceback": [
      "\u001b[1;31m---------------------------------------------------------------------------\u001b[0m",
      "\u001b[1;31mAttributeError\u001b[0m                            Traceback (most recent call last)",
      "Cell \u001b[1;32mIn[130], line 4\u001b[0m\n\u001b[0;32m      1\u001b[0m \u001b[39m# subset data for IDRs\u001b[39;00m\n\u001b[0;32m      2\u001b[0m \u001b[39m# subset to all annotated phosphosites in PhosphoSitePlus\u001b[39;00m\n\u001b[0;32m      3\u001b[0m pattern_df_subset_for_enrichment \u001b[39m=\u001b[39m alphafold_ptms[alphafold_ptms\u001b[39m.\u001b[39mIDR \u001b[39m==\u001b[39m \u001b[39m1\u001b[39m]\n\u001b[1;32m----> 4\u001b[0m pattern_df_subset_for_enrichment \u001b[39m=\u001b[39m pattern_df_subset_for_enrichment[pattern_df_subset_for_enrichment\u001b[39m.\u001b[39;49mphos \u001b[39m==\u001b[39m \u001b[39m1\u001b[39m]\n\u001b[0;32m      5\u001b[0m pattern_df_subset_for_enrichment \u001b[39m=\u001b[39m pattern_df_subset_for_enrichment\u001b[39m.\u001b[39mreset_index(drop\u001b[39m=\u001b[39m\u001b[39mTrue\u001b[39;00m)\n\u001b[0;32m      7\u001b[0m \u001b[39m# test if regulatory / functional phosphosites are enriched in short IDRs compared to all other IDRs\u001b[39;00m\n",
      "File \u001b[1;32m~\\AppData\\Roaming\\Python\\Python38\\site-packages\\pandas\\core\\generic.py:5583\u001b[0m, in \u001b[0;36mNDFrame.__getattr__\u001b[1;34m(self, name)\u001b[0m\n\u001b[0;32m   5576\u001b[0m \u001b[39mif\u001b[39;00m (\n\u001b[0;32m   5577\u001b[0m     name \u001b[39mnot\u001b[39;00m \u001b[39min\u001b[39;00m \u001b[39mself\u001b[39m\u001b[39m.\u001b[39m_internal_names_set\n\u001b[0;32m   5578\u001b[0m     \u001b[39mand\u001b[39;00m name \u001b[39mnot\u001b[39;00m \u001b[39min\u001b[39;00m \u001b[39mself\u001b[39m\u001b[39m.\u001b[39m_metadata\n\u001b[0;32m   5579\u001b[0m     \u001b[39mand\u001b[39;00m name \u001b[39mnot\u001b[39;00m \u001b[39min\u001b[39;00m \u001b[39mself\u001b[39m\u001b[39m.\u001b[39m_accessors\n\u001b[0;32m   5580\u001b[0m     \u001b[39mand\u001b[39;00m \u001b[39mself\u001b[39m\u001b[39m.\u001b[39m_info_axis\u001b[39m.\u001b[39m_can_hold_identifiers_and_holds_name(name)\n\u001b[0;32m   5581\u001b[0m ):\n\u001b[0;32m   5582\u001b[0m     \u001b[39mreturn\u001b[39;00m \u001b[39mself\u001b[39m[name]\n\u001b[1;32m-> 5583\u001b[0m \u001b[39mreturn\u001b[39;00m \u001b[39mobject\u001b[39;49m\u001b[39m.\u001b[39;49m\u001b[39m__getattribute__\u001b[39;49m(\u001b[39mself\u001b[39;49m, name)\n",
      "\u001b[1;31mAttributeError\u001b[0m: 'DataFrame' object has no attribute 'phos'"
     ]
    }
   ],
   "source": [
    "# subset data for IDRs\n",
    "# subset to all annotated phosphosites in PhosphoSitePlus\n",
    "pattern_df_subset_for_enrichment = alphafold_ptms[alphafold_ptms.IDR == 1]\n",
    "pattern_df_subset_for_enrichment = pattern_df_subset_for_enrichment[pattern_df_subset_for_enrichment.phos == 1]\n",
    "pattern_df_subset_for_enrichment = pattern_df_subset_for_enrichment.reset_index(drop=True)\n",
    "\n",
    "# test if regulatory / functional phosphosites are enriched in short IDRs compared to all other IDRs\n",
    "enrichment_regP_in_shortIDRs = perform_enrichment_analysis(\n",
    "    df=pattern_df_subset_for_enrichment, \n",
    "    ptm_types=['Oxidation'], \n",
    "    rois=['flexible_pattern'], \n",
    "    ptm_site_dict = ptm_site_dict,\n",
    "    quality_cutoffs=[0])\n",
    "\n",
    "# inspect\n",
    "enrichment_regP_in_shortIDRs"
   ]
  },
  {
   "cell_type": "code",
   "execution_count": null,
   "metadata": {},
   "outputs": [],
   "source": [
    "plot_enrichment(\n",
    "    data=enrichment_regP_in_shortIDRs,\n",
    "    ptm_select=['p_reg'])"
   ]
  },
  {
   "cell_type": "code",
   "execution_count": null,
   "metadata": {},
   "outputs": [],
   "source": [
    "enrichment_regP_in_shortIDRs.to_csv(\"data/ptm_enrichment/enrichment_regP_in_shortIDRs_own.tsv\", sep=\"\\t\", index=False)"
   ]
  },
  {
   "cell_type": "code",
   "execution_count": null,
   "metadata": {},
   "outputs": [],
   "source": [
    "# subset data for IDRs\n",
    "# subset to all annotated phosphosites in PhosphoSitePlus\n",
    "pattern_df_subset_for_enrichment = alphafold_ptms[alphafold_ptms.IDR == 1]\n",
    "pattern_df_subset_for_enrichment = pattern_df_subset_for_enrichment[pattern_df_subset_for_enrichment.p_functional_0 == 1]\n",
    "pattern_df_subset_for_enrichment = pattern_df_subset_for_enrichment.reset_index(drop=True)\n",
    "\n",
    "# test if regulatory / functional phosphosites are enriched in \n",
    "enrichment_regP_in_shortIDRs = perform_enrichment_analysis(\n",
    "    df=pattern_df_subset_for_enrichment, \n",
    "    ptm_types=['p_functional_5','p_functional_6','p_functional_7','p_functional_8','p_functional_9'], \n",
    "    rois=['flexible_pattern'], \n",
    "    ptm_site_dict = ptm_site_dict,\n",
    "    quality_cutoffs=[0])\n",
    "\n",
    "# inspect\n",
    "enrichment_regP_in_shortIDRs"
   ]
  },
  {
   "cell_type": "code",
   "execution_count": null,
   "metadata": {},
   "outputs": [],
   "source": [
    "plot_enrichment(\n",
    "    data=enrichment_regP_in_shortIDRs,\n",
    "    ptm_select=['p_functional_5','p_functional_6','p_functional_7','p_functional_8','p_functional_9'])"
   ]
  },
  {
   "cell_type": "code",
   "execution_count": null,
   "metadata": {},
   "outputs": [],
   "source": [
    "enrichment_regP_in_shortIDRs.to_csv(\"c:/Users/marga/OneDrive/Desktop/summer project/ptm_enrichment/enrichment_regP_ochoa_in_shortIDRs_own.tsv\", sep=\"\\t\", index=False)"
   ]
  },
  {
   "cell_type": "markdown",
   "metadata": {},
   "source": [
    "# Kinase motifs"
   ]
  },
  {
   "cell_type": "code",
   "execution_count": 131,
   "metadata": {},
   "outputs": [
    {
     "data": {
      "text/html": [
       "<div>\n",
       "<style scoped>\n",
       "    .dataframe tbody tr th:only-of-type {\n",
       "        vertical-align: middle;\n",
       "    }\n",
       "\n",
       "    .dataframe tbody tr th {\n",
       "        vertical-align: top;\n",
       "    }\n",
       "\n",
       "    .dataframe thead th {\n",
       "        text-align: right;\n",
       "    }\n",
       "</style>\n",
       "<table border=\"1\" class=\"dataframe\">\n",
       "  <thead>\n",
       "    <tr style=\"text-align: right;\">\n",
       "      <th></th>\n",
       "      <th>enzyme</th>\n",
       "      <th>start</th>\n",
       "      <th>sty</th>\n",
       "      <th>end</th>\n",
       "    </tr>\n",
       "  </thead>\n",
       "  <tbody>\n",
       "    <tr>\n",
       "      <th>0</th>\n",
       "      <td>Akt kinase substrate motif</td>\n",
       "      <td>R,X,R,X,X</td>\n",
       "      <td>ST</td>\n",
       "      <td>FL</td>\n",
       "    </tr>\n",
       "    <tr>\n",
       "      <th>1</th>\n",
       "      <td>Akt kinase substrate motif</td>\n",
       "      <td>R,X,R,X,X</td>\n",
       "      <td>ST</td>\n",
       "      <td>nan</td>\n",
       "    </tr>\n",
       "    <tr>\n",
       "      <th>2</th>\n",
       "      <td>Akt kinase substrate motif</td>\n",
       "      <td>G,R,A,R,T,ST</td>\n",
       "      <td>S</td>\n",
       "      <td>FAE</td>\n",
       "    </tr>\n",
       "  </tbody>\n",
       "</table>\n",
       "</div>"
      ],
      "text/plain": [
       "                       enzyme         start sty  end\n",
       "0  Akt kinase substrate motif     R,X,R,X,X  ST   FL\n",
       "1  Akt kinase substrate motif     R,X,R,X,X  ST  nan\n",
       "2  Akt kinase substrate motif  G,R,A,R,T,ST   S  FAE"
      ]
     },
     "execution_count": 131,
     "metadata": {},
     "output_type": "execute_result"
    }
   ],
   "source": [
    "kinase_motifs = pd.read_csv('c:/Users/marga/OneDrive/Desktop/summer project/kinase_substructures/kinase_motifs.txt', \n",
    "                            sep='\\t', \n",
    "                            names=['enzyme','start','sty','end'])\n",
    "kinase_motifs = kinase_motifs.astype('str')\n",
    "kinase_motifs[0:3] "
   ]
  },
  {
   "cell_type": "code",
   "execution_count": 132,
   "metadata": {},
   "outputs": [
    {
     "data": {
      "text/html": [
       "<div>\n",
       "<style scoped>\n",
       "    .dataframe tbody tr th:only-of-type {\n",
       "        vertical-align: middle;\n",
       "    }\n",
       "\n",
       "    .dataframe tbody tr th {\n",
       "        vertical-align: top;\n",
       "    }\n",
       "\n",
       "    .dataframe thead th {\n",
       "        text-align: right;\n",
       "    }\n",
       "</style>\n",
       "<table border=\"1\" class=\"dataframe\">\n",
       "  <thead>\n",
       "    <tr style=\"text-align: right;\">\n",
       "      <th></th>\n",
       "      <th>enzyme</th>\n",
       "      <th>start</th>\n",
       "      <th>sty</th>\n",
       "      <th>end</th>\n",
       "      <th>motif</th>\n",
       "      <th>mod_pos</th>\n",
       "    </tr>\n",
       "  </thead>\n",
       "  <tbody>\n",
       "    <tr>\n",
       "      <th>0</th>\n",
       "      <td>Akt kinase substrate motif</td>\n",
       "      <td>[R][A-Z][R][A-Z][A-Z]</td>\n",
       "      <td>[ST]</td>\n",
       "      <td>[FL]</td>\n",
       "      <td>[R][A-Z][R][A-Z][A-Z][ST][FL]</td>\n",
       "      <td>5</td>\n",
       "    </tr>\n",
       "    <tr>\n",
       "      <th>1</th>\n",
       "      <td>Akt kinase substrate motif</td>\n",
       "      <td>[R][A-Z][R][A-Z][A-Z]</td>\n",
       "      <td>[ST]</td>\n",
       "      <td></td>\n",
       "      <td>[R][A-Z][R][A-Z][A-Z][ST]</td>\n",
       "      <td>5</td>\n",
       "    </tr>\n",
       "    <tr>\n",
       "      <th>2</th>\n",
       "      <td>Akt kinase substrate motif</td>\n",
       "      <td>[G][R][A][R][T][ST]</td>\n",
       "      <td>[S]</td>\n",
       "      <td>[FAE]</td>\n",
       "      <td>[G][R][A][R][T][ST][S][FAE]</td>\n",
       "      <td>6</td>\n",
       "    </tr>\n",
       "  </tbody>\n",
       "</table>\n",
       "</div>"
      ],
      "text/plain": [
       "                       enzyme                  start   sty    end  \\\n",
       "0  Akt kinase substrate motif  [R][A-Z][R][A-Z][A-Z]  [ST]   [FL]   \n",
       "1  Akt kinase substrate motif  [R][A-Z][R][A-Z][A-Z]  [ST]          \n",
       "2  Akt kinase substrate motif    [G][R][A][R][T][ST]   [S]  [FAE]   \n",
       "\n",
       "                           motif  mod_pos  \n",
       "0  [R][A-Z][R][A-Z][A-Z][ST][FL]        5  \n",
       "1      [R][A-Z][R][A-Z][A-Z][ST]        5  \n",
       "2    [G][R][A][R][T][ST][S][FAE]        6  "
      ]
     },
     "execution_count": 132,
     "metadata": {},
     "output_type": "execute_result"
    }
   ],
   "source": [
    "kinase_motifs['start'] = kinase_motifs['start'].apply(string_to_motif)\n",
    "kinase_motifs['sty'] = kinase_motifs['sty'].apply(string_to_motif)\n",
    "kinase_motifs['end'] = kinase_motifs['end'].apply(string_to_motif)\n",
    "kinase_motifs['motif'] = kinase_motifs['start']+kinase_motifs['sty']+kinase_motifs['end']\n",
    "kinase_motifs['mod_pos'] = [s.count(']') for s in kinase_motifs['start']]\n",
    "kinase_motifs[0:3] "
   ]
  },
  {
   "cell_type": "code",
   "execution_count": 133,
   "metadata": {},
   "outputs": [],
   "source": [
    "from structuremap.processing import extract_motifs_in_proteome"
   ]
  },
  {
   "cell_type": "code",
   "execution_count": 134,
   "metadata": {},
   "outputs": [
    {
     "name": "stderr",
     "output_type": "stream",
     "text": [
      "100%|██████████| 2493/2493 [00:51<00:00, 48.19it/s]\n"
     ]
    }
   ],
   "source": [
    "kinase_motif_res = extract_motifs_in_proteome(alphafold_df=alphafold_ptms, motif_df=kinase_motifs)"
   ]
  },
  {
   "cell_type": "code",
   "execution_count": 135,
   "metadata": {},
   "outputs": [],
   "source": [
    "# Format observed kinase motifs for merging with alphafold_ptms\n",
    "kinase_motif_res['kinase_motif'] = 1\n",
    "kinase_motif_res_sub = kinase_motif_res[['protein_id','position','AA','kinase_motif']].drop_duplicates()\n",
    "alphafold_motifs = alphafold_ptms.merge(kinase_motif_res_sub, how='left', on=['protein_id','position','AA'])\n",
    "alphafold_motifs = alphafold_motifs.fillna(0)\n",
    "# alphafold_motifs[0:3]"
   ]
  },
  {
   "cell_type": "code",
   "execution_count": 140,
   "metadata": {},
   "outputs": [
    {
     "data": {
      "text/html": [
       "<div>\n",
       "<style scoped>\n",
       "    .dataframe tbody tr th:only-of-type {\n",
       "        vertical-align: middle;\n",
       "    }\n",
       "\n",
       "    .dataframe tbody tr th {\n",
       "        vertical-align: top;\n",
       "    }\n",
       "\n",
       "    .dataframe thead th {\n",
       "        text-align: right;\n",
       "    }\n",
       "</style>\n",
       "<table border=\"1\" class=\"dataframe\">\n",
       "  <thead>\n",
       "    <tr style=\"text-align: right;\">\n",
       "      <th></th>\n",
       "      <th>quality_cutoff</th>\n",
       "      <th>ptm</th>\n",
       "      <th>roi</th>\n",
       "      <th>n_aa_ptm</th>\n",
       "      <th>n_aa_roi</th>\n",
       "      <th>n_ptm_in_roi</th>\n",
       "      <th>n_ptm_not_in_roi</th>\n",
       "      <th>n_naked_in_roi</th>\n",
       "      <th>n_naked_not_in_roi</th>\n",
       "      <th>oddsr</th>\n",
       "      <th>p</th>\n",
       "      <th>p_adj_bf</th>\n",
       "      <th>p_adj_bh</th>\n",
       "    </tr>\n",
       "  </thead>\n",
       "  <tbody>\n",
       "    <tr>\n",
       "      <th>0</th>\n",
       "      <td>0</td>\n",
       "      <td>Phosphorylation</td>\n",
       "      <td>kinase_motif</td>\n",
       "      <td>369</td>\n",
       "      <td>80154</td>\n",
       "      <td>16</td>\n",
       "      <td>353</td>\n",
       "      <td>80138</td>\n",
       "      <td>1308825</td>\n",
       "      <td>0.740267</td>\n",
       "      <td>2.649646e-01</td>\n",
       "      <td>1.000000e+00</td>\n",
       "      <td>3.974470e-01</td>\n",
       "    </tr>\n",
       "    <tr>\n",
       "      <th>0</th>\n",
       "      <td>0</td>\n",
       "      <td>Glutathionylation</td>\n",
       "      <td>kinase_motif</td>\n",
       "      <td>3857</td>\n",
       "      <td>93781</td>\n",
       "      <td>220</td>\n",
       "      <td>3637</td>\n",
       "      <td>93561</td>\n",
       "      <td>1342229</td>\n",
       "      <td>0.867783</td>\n",
       "      <td>4.271917e-02</td>\n",
       "      <td>2.563150e-01</td>\n",
       "      <td>8.543834e-02</td>\n",
       "    </tr>\n",
       "    <tr>\n",
       "      <th>0</th>\n",
       "      <td>0</td>\n",
       "      <td>Oxidation</td>\n",
       "      <td>kinase_motif</td>\n",
       "      <td>20203</td>\n",
       "      <td>93781</td>\n",
       "      <td>689</td>\n",
       "      <td>19514</td>\n",
       "      <td>93092</td>\n",
       "      <td>1326352</td>\n",
       "      <td>0.503060</td>\n",
       "      <td>4.151741e-86</td>\n",
       "      <td>2.491044e-85</td>\n",
       "      <td>2.491044e-85</td>\n",
       "    </tr>\n",
       "    <tr>\n",
       "      <th>0</th>\n",
       "      <td>0</td>\n",
       "      <td>Carbamyl</td>\n",
       "      <td>kinase_motif</td>\n",
       "      <td>901</td>\n",
       "      <td>0</td>\n",
       "      <td>0</td>\n",
       "      <td>901</td>\n",
       "      <td>0</td>\n",
       "      <td>243539</td>\n",
       "      <td>NaN</td>\n",
       "      <td>1.000000e+00</td>\n",
       "      <td>1.000000e+00</td>\n",
       "      <td>1.000000e+00</td>\n",
       "    </tr>\n",
       "    <tr>\n",
       "      <th>0</th>\n",
       "      <td>0</td>\n",
       "      <td>Nitrosyl</td>\n",
       "      <td>kinase_motif</td>\n",
       "      <td>64</td>\n",
       "      <td>93781</td>\n",
       "      <td>10</td>\n",
       "      <td>54</td>\n",
       "      <td>93771</td>\n",
       "      <td>1331966</td>\n",
       "      <td>2.630455</td>\n",
       "      <td>8.697737e-03</td>\n",
       "      <td>5.218642e-02</td>\n",
       "      <td>2.609321e-02</td>\n",
       "    </tr>\n",
       "    <tr>\n",
       "      <th>0</th>\n",
       "      <td>0</td>\n",
       "      <td>Cysteinyl</td>\n",
       "      <td>kinase_motif</td>\n",
       "      <td>155</td>\n",
       "      <td>93781</td>\n",
       "      <td>11</td>\n",
       "      <td>144</td>\n",
       "      <td>93770</td>\n",
       "      <td>1322646</td>\n",
       "      <td>1.077482</td>\n",
       "      <td>7.465905e-01</td>\n",
       "      <td>1.000000e+00</td>\n",
       "      <td>8.959086e-01</td>\n",
       "    </tr>\n",
       "  </tbody>\n",
       "</table>\n",
       "</div>"
      ],
      "text/plain": [
       "   quality_cutoff                ptm           roi  n_aa_ptm  n_aa_roi  \\\n",
       "0               0    Phosphorylation  kinase_motif       369     80154   \n",
       "0               0  Glutathionylation  kinase_motif      3857     93781   \n",
       "0               0          Oxidation  kinase_motif     20203     93781   \n",
       "0               0           Carbamyl  kinase_motif       901         0   \n",
       "0               0           Nitrosyl  kinase_motif        64     93781   \n",
       "0               0          Cysteinyl  kinase_motif       155     93781   \n",
       "\n",
       "   n_ptm_in_roi  n_ptm_not_in_roi  n_naked_in_roi  n_naked_not_in_roi  \\\n",
       "0            16               353           80138             1308825   \n",
       "0           220              3637           93561             1342229   \n",
       "0           689             19514           93092             1326352   \n",
       "0             0               901               0              243539   \n",
       "0            10                54           93771             1331966   \n",
       "0            11               144           93770             1322646   \n",
       "\n",
       "      oddsr             p      p_adj_bf      p_adj_bh  \n",
       "0  0.740267  2.649646e-01  1.000000e+00  3.974470e-01  \n",
       "0  0.867783  4.271917e-02  2.563150e-01  8.543834e-02  \n",
       "0  0.503060  4.151741e-86  2.491044e-85  2.491044e-85  \n",
       "0       NaN  1.000000e+00  1.000000e+00  1.000000e+00  \n",
       "0  2.630455  8.697737e-03  5.218642e-02  2.609321e-02  \n",
       "0  1.077482  7.465905e-01  1.000000e+00  8.959086e-01  "
      ]
     },
     "execution_count": 140,
     "metadata": {},
     "output_type": "execute_result"
    }
   ],
   "source": [
    "# test if any are enriched in kinase motifs\n",
    "enrichment_all_inMotif = perform_enrichment_analysis(\n",
    "    df=alphafold_motifs, \n",
    "    ptm_types=['Phosphorylation','Glutathionylation','Oxidation',\n",
    "    'Carbamyl', \"Nitrosyl\", \"Cysteinyl\"], \n",
    "    rois=['kinase_motif'], \n",
    "    ptm_site_dict=ptm_site_dict,\n",
    "    quality_cutoffs=[0])\n",
    "# inspect\n",
    "enrichment_all_inMotif"
   ]
  },
  {
   "cell_type": "code",
   "execution_count": 141,
   "metadata": {},
   "outputs": [
    {
     "data": {
      "application/vnd.plotly.v1+json": {
       "config": {
        "plotlyServerURL": "https://plot.ly",
        "toImageButtonOptions": {
         "filename": "structure ptm enrichment",
         "format": "svg"
        }
       },
       "data": [
        {
         "alignmentgroup": "True",
         "customdata": [
          [
           0.7402669488616556,
           0.3974469580250268
          ],
          [
           0.8677830093407086,
           0.08543833911795884
          ],
          [
           null,
           1
          ],
          [
           2.630454728758042,
           0.026093210217810095
          ],
          [
           1.0774816927944262,
           0.8959086275508601
          ]
         ],
         "hovertemplate": "-log10 (adj. p-value)=> 0<br>roi=kinase_motif<br>PTM=%{x}<br>log odds ratio=%{y}<br>oddsr=%{customdata[0]}<br>p_adj_bh=%{customdata[1]}<extra></extra>",
         "legendgroup": "> 0",
         "marker": {
          "color": "grey"
         },
         "name": "> 0",
         "offsetgroup": "> 0",
         "orientation": "v",
         "showlegend": true,
         "textposition": "auto",
         "type": "bar",
         "x": [
          "Phosphorylation",
          "Glutathionylation",
          "Carbamyl",
          "Nitrosyl",
          "Cysteinyl"
         ],
         "xaxis": "x",
         "y": [
          -0.3007444161306264,
          -0.14181358481312023,
          null,
          0.9671567319125324,
          0.07462655240541835
         ],
         "yaxis": "y"
        },
        {
         "alignmentgroup": "True",
         "customdata": [
          [
           0.5030595025307557,
           2.4910444941431303e-85
          ]
         ],
         "hovertemplate": "-log10 (adj. p-value)=> 50<br>roi=kinase_motif<br>PTM=%{x}<br>log odds ratio=%{y}<br>oddsr=%{customdata[0]}<br>p_adj_bh=%{customdata[1]}<extra></extra>",
         "legendgroup": "> 50",
         "marker": {
          "color": "rgb(221, 104, 108)"
         },
         "name": "> 50",
         "offsetgroup": "> 50",
         "orientation": "v",
         "showlegend": true,
         "textposition": "auto",
         "type": "bar",
         "x": [
          "Oxidation"
         ],
         "xaxis": "x",
         "y": [
          -0.6870468205889612
         ],
         "yaxis": "y"
        }
       ],
       "layout": {
        "annotations": [
         {
          "font": {},
          "showarrow": false,
          "text": "roi=kinase_motif",
          "x": 0.5,
          "xanchor": "center",
          "xref": "paper",
          "y": 1,
          "yanchor": "bottom",
          "yref": "paper"
         }
        ],
        "autosize": false,
        "barmode": "relative",
        "height": 500,
        "legend": {
         "title": {
          "text": "-log10 (adj. p-value)"
         },
         "tracegroupgap": 0
        },
        "margin": {
         "autoexpand": false,
         "b": 150,
         "l": 100,
         "r": 150,
         "t": 50
        },
        "template": {
         "data": {
          "bar": [
           {
            "error_x": {
             "color": "rgb(36,36,36)"
            },
            "error_y": {
             "color": "rgb(36,36,36)"
            },
            "marker": {
             "line": {
              "color": "white",
              "width": 0.5
             }
            },
            "type": "bar"
           }
          ],
          "barpolar": [
           {
            "marker": {
             "line": {
              "color": "white",
              "width": 0.5
             }
            },
            "type": "barpolar"
           }
          ],
          "carpet": [
           {
            "aaxis": {
             "endlinecolor": "rgb(36,36,36)",
             "gridcolor": "white",
             "linecolor": "white",
             "minorgridcolor": "white",
             "startlinecolor": "rgb(36,36,36)"
            },
            "baxis": {
             "endlinecolor": "rgb(36,36,36)",
             "gridcolor": "white",
             "linecolor": "white",
             "minorgridcolor": "white",
             "startlinecolor": "rgb(36,36,36)"
            },
            "type": "carpet"
           }
          ],
          "choropleth": [
           {
            "colorbar": {
             "outlinewidth": 1,
             "tickcolor": "rgb(36,36,36)",
             "ticks": "outside"
            },
            "type": "choropleth"
           }
          ],
          "contour": [
           {
            "colorbar": {
             "outlinewidth": 1,
             "tickcolor": "rgb(36,36,36)",
             "ticks": "outside"
            },
            "colorscale": [
             [
              0,
              "#440154"
             ],
             [
              0.1111111111111111,
              "#482878"
             ],
             [
              0.2222222222222222,
              "#3e4989"
             ],
             [
              0.3333333333333333,
              "#31688e"
             ],
             [
              0.4444444444444444,
              "#26828e"
             ],
             [
              0.5555555555555556,
              "#1f9e89"
             ],
             [
              0.6666666666666666,
              "#35b779"
             ],
             [
              0.7777777777777778,
              "#6ece58"
             ],
             [
              0.8888888888888888,
              "#b5de2b"
             ],
             [
              1,
              "#fde725"
             ]
            ],
            "type": "contour"
           }
          ],
          "contourcarpet": [
           {
            "colorbar": {
             "outlinewidth": 1,
             "tickcolor": "rgb(36,36,36)",
             "ticks": "outside"
            },
            "type": "contourcarpet"
           }
          ],
          "heatmap": [
           {
            "colorbar": {
             "outlinewidth": 1,
             "tickcolor": "rgb(36,36,36)",
             "ticks": "outside"
            },
            "colorscale": [
             [
              0,
              "#440154"
             ],
             [
              0.1111111111111111,
              "#482878"
             ],
             [
              0.2222222222222222,
              "#3e4989"
             ],
             [
              0.3333333333333333,
              "#31688e"
             ],
             [
              0.4444444444444444,
              "#26828e"
             ],
             [
              0.5555555555555556,
              "#1f9e89"
             ],
             [
              0.6666666666666666,
              "#35b779"
             ],
             [
              0.7777777777777778,
              "#6ece58"
             ],
             [
              0.8888888888888888,
              "#b5de2b"
             ],
             [
              1,
              "#fde725"
             ]
            ],
            "type": "heatmap"
           }
          ],
          "heatmapgl": [
           {
            "colorbar": {
             "outlinewidth": 1,
             "tickcolor": "rgb(36,36,36)",
             "ticks": "outside"
            },
            "colorscale": [
             [
              0,
              "#440154"
             ],
             [
              0.1111111111111111,
              "#482878"
             ],
             [
              0.2222222222222222,
              "#3e4989"
             ],
             [
              0.3333333333333333,
              "#31688e"
             ],
             [
              0.4444444444444444,
              "#26828e"
             ],
             [
              0.5555555555555556,
              "#1f9e89"
             ],
             [
              0.6666666666666666,
              "#35b779"
             ],
             [
              0.7777777777777778,
              "#6ece58"
             ],
             [
              0.8888888888888888,
              "#b5de2b"
             ],
             [
              1,
              "#fde725"
             ]
            ],
            "type": "heatmapgl"
           }
          ],
          "histogram": [
           {
            "marker": {
             "line": {
              "color": "white",
              "width": 0.6
             }
            },
            "type": "histogram"
           }
          ],
          "histogram2d": [
           {
            "colorbar": {
             "outlinewidth": 1,
             "tickcolor": "rgb(36,36,36)",
             "ticks": "outside"
            },
            "colorscale": [
             [
              0,
              "#440154"
             ],
             [
              0.1111111111111111,
              "#482878"
             ],
             [
              0.2222222222222222,
              "#3e4989"
             ],
             [
              0.3333333333333333,
              "#31688e"
             ],
             [
              0.4444444444444444,
              "#26828e"
             ],
             [
              0.5555555555555556,
              "#1f9e89"
             ],
             [
              0.6666666666666666,
              "#35b779"
             ],
             [
              0.7777777777777778,
              "#6ece58"
             ],
             [
              0.8888888888888888,
              "#b5de2b"
             ],
             [
              1,
              "#fde725"
             ]
            ],
            "type": "histogram2d"
           }
          ],
          "histogram2dcontour": [
           {
            "colorbar": {
             "outlinewidth": 1,
             "tickcolor": "rgb(36,36,36)",
             "ticks": "outside"
            },
            "colorscale": [
             [
              0,
              "#440154"
             ],
             [
              0.1111111111111111,
              "#482878"
             ],
             [
              0.2222222222222222,
              "#3e4989"
             ],
             [
              0.3333333333333333,
              "#31688e"
             ],
             [
              0.4444444444444444,
              "#26828e"
             ],
             [
              0.5555555555555556,
              "#1f9e89"
             ],
             [
              0.6666666666666666,
              "#35b779"
             ],
             [
              0.7777777777777778,
              "#6ece58"
             ],
             [
              0.8888888888888888,
              "#b5de2b"
             ],
             [
              1,
              "#fde725"
             ]
            ],
            "type": "histogram2dcontour"
           }
          ],
          "mesh3d": [
           {
            "colorbar": {
             "outlinewidth": 1,
             "tickcolor": "rgb(36,36,36)",
             "ticks": "outside"
            },
            "type": "mesh3d"
           }
          ],
          "parcoords": [
           {
            "line": {
             "colorbar": {
              "outlinewidth": 1,
              "tickcolor": "rgb(36,36,36)",
              "ticks": "outside"
             }
            },
            "type": "parcoords"
           }
          ],
          "pie": [
           {
            "automargin": true,
            "type": "pie"
           }
          ],
          "scatter": [
           {
            "marker": {
             "colorbar": {
              "outlinewidth": 1,
              "tickcolor": "rgb(36,36,36)",
              "ticks": "outside"
             }
            },
            "type": "scatter"
           }
          ],
          "scatter3d": [
           {
            "line": {
             "colorbar": {
              "outlinewidth": 1,
              "tickcolor": "rgb(36,36,36)",
              "ticks": "outside"
             }
            },
            "marker": {
             "colorbar": {
              "outlinewidth": 1,
              "tickcolor": "rgb(36,36,36)",
              "ticks": "outside"
             }
            },
            "type": "scatter3d"
           }
          ],
          "scattercarpet": [
           {
            "marker": {
             "colorbar": {
              "outlinewidth": 1,
              "tickcolor": "rgb(36,36,36)",
              "ticks": "outside"
             }
            },
            "type": "scattercarpet"
           }
          ],
          "scattergeo": [
           {
            "marker": {
             "colorbar": {
              "outlinewidth": 1,
              "tickcolor": "rgb(36,36,36)",
              "ticks": "outside"
             }
            },
            "type": "scattergeo"
           }
          ],
          "scattergl": [
           {
            "marker": {
             "colorbar": {
              "outlinewidth": 1,
              "tickcolor": "rgb(36,36,36)",
              "ticks": "outside"
             }
            },
            "type": "scattergl"
           }
          ],
          "scattermapbox": [
           {
            "marker": {
             "colorbar": {
              "outlinewidth": 1,
              "tickcolor": "rgb(36,36,36)",
              "ticks": "outside"
             }
            },
            "type": "scattermapbox"
           }
          ],
          "scatterpolar": [
           {
            "marker": {
             "colorbar": {
              "outlinewidth": 1,
              "tickcolor": "rgb(36,36,36)",
              "ticks": "outside"
             }
            },
            "type": "scatterpolar"
           }
          ],
          "scatterpolargl": [
           {
            "marker": {
             "colorbar": {
              "outlinewidth": 1,
              "tickcolor": "rgb(36,36,36)",
              "ticks": "outside"
             }
            },
            "type": "scatterpolargl"
           }
          ],
          "scatterternary": [
           {
            "marker": {
             "colorbar": {
              "outlinewidth": 1,
              "tickcolor": "rgb(36,36,36)",
              "ticks": "outside"
             }
            },
            "type": "scatterternary"
           }
          ],
          "surface": [
           {
            "colorbar": {
             "outlinewidth": 1,
             "tickcolor": "rgb(36,36,36)",
             "ticks": "outside"
            },
            "colorscale": [
             [
              0,
              "#440154"
             ],
             [
              0.1111111111111111,
              "#482878"
             ],
             [
              0.2222222222222222,
              "#3e4989"
             ],
             [
              0.3333333333333333,
              "#31688e"
             ],
             [
              0.4444444444444444,
              "#26828e"
             ],
             [
              0.5555555555555556,
              "#1f9e89"
             ],
             [
              0.6666666666666666,
              "#35b779"
             ],
             [
              0.7777777777777778,
              "#6ece58"
             ],
             [
              0.8888888888888888,
              "#b5de2b"
             ],
             [
              1,
              "#fde725"
             ]
            ],
            "type": "surface"
           }
          ],
          "table": [
           {
            "cells": {
             "fill": {
              "color": "rgb(237,237,237)"
             },
             "line": {
              "color": "white"
             }
            },
            "header": {
             "fill": {
              "color": "rgb(217,217,217)"
             },
             "line": {
              "color": "white"
             }
            },
            "type": "table"
           }
          ]
         },
         "layout": {
          "annotationdefaults": {
           "arrowhead": 0,
           "arrowwidth": 1
          },
          "coloraxis": {
           "colorbar": {
            "outlinewidth": 1,
            "tickcolor": "rgb(36,36,36)",
            "ticks": "outside"
           }
          },
          "colorscale": {
           "diverging": [
            [
             0,
             "rgb(103,0,31)"
            ],
            [
             0.1,
             "rgb(178,24,43)"
            ],
            [
             0.2,
             "rgb(214,96,77)"
            ],
            [
             0.3,
             "rgb(244,165,130)"
            ],
            [
             0.4,
             "rgb(253,219,199)"
            ],
            [
             0.5,
             "rgb(247,247,247)"
            ],
            [
             0.6,
             "rgb(209,229,240)"
            ],
            [
             0.7,
             "rgb(146,197,222)"
            ],
            [
             0.8,
             "rgb(67,147,195)"
            ],
            [
             0.9,
             "rgb(33,102,172)"
            ],
            [
             1,
             "rgb(5,48,97)"
            ]
           ],
           "sequential": [
            [
             0,
             "#440154"
            ],
            [
             0.1111111111111111,
             "#482878"
            ],
            [
             0.2222222222222222,
             "#3e4989"
            ],
            [
             0.3333333333333333,
             "#31688e"
            ],
            [
             0.4444444444444444,
             "#26828e"
            ],
            [
             0.5555555555555556,
             "#1f9e89"
            ],
            [
             0.6666666666666666,
             "#35b779"
            ],
            [
             0.7777777777777778,
             "#6ece58"
            ],
            [
             0.8888888888888888,
             "#b5de2b"
            ],
            [
             1,
             "#fde725"
            ]
           ],
           "sequentialminus": [
            [
             0,
             "#440154"
            ],
            [
             0.1111111111111111,
             "#482878"
            ],
            [
             0.2222222222222222,
             "#3e4989"
            ],
            [
             0.3333333333333333,
             "#31688e"
            ],
            [
             0.4444444444444444,
             "#26828e"
            ],
            [
             0.5555555555555556,
             "#1f9e89"
            ],
            [
             0.6666666666666666,
             "#35b779"
            ],
            [
             0.7777777777777778,
             "#6ece58"
            ],
            [
             0.8888888888888888,
             "#b5de2b"
            ],
            [
             1,
             "#fde725"
            ]
           ]
          },
          "colorway": [
           "#1F77B4",
           "#FF7F0E",
           "#2CA02C",
           "#D62728",
           "#9467BD",
           "#8C564B",
           "#E377C2",
           "#7F7F7F",
           "#BCBD22",
           "#17BECF"
          ],
          "font": {
           "color": "rgb(36,36,36)"
          },
          "geo": {
           "bgcolor": "white",
           "lakecolor": "white",
           "landcolor": "white",
           "showlakes": true,
           "showland": true,
           "subunitcolor": "white"
          },
          "hoverlabel": {
           "align": "left"
          },
          "hovermode": "closest",
          "mapbox": {
           "style": "light"
          },
          "paper_bgcolor": "white",
          "plot_bgcolor": "white",
          "polar": {
           "angularaxis": {
            "gridcolor": "rgb(232,232,232)",
            "linecolor": "rgb(36,36,36)",
            "showgrid": false,
            "showline": true,
            "ticks": "outside"
           },
           "bgcolor": "white",
           "radialaxis": {
            "gridcolor": "rgb(232,232,232)",
            "linecolor": "rgb(36,36,36)",
            "showgrid": false,
            "showline": true,
            "ticks": "outside"
           }
          },
          "scene": {
           "xaxis": {
            "backgroundcolor": "white",
            "gridcolor": "rgb(232,232,232)",
            "gridwidth": 2,
            "linecolor": "rgb(36,36,36)",
            "showbackground": true,
            "showgrid": false,
            "showline": true,
            "ticks": "outside",
            "zeroline": false,
            "zerolinecolor": "rgb(36,36,36)"
           },
           "yaxis": {
            "backgroundcolor": "white",
            "gridcolor": "rgb(232,232,232)",
            "gridwidth": 2,
            "linecolor": "rgb(36,36,36)",
            "showbackground": true,
            "showgrid": false,
            "showline": true,
            "ticks": "outside",
            "zeroline": false,
            "zerolinecolor": "rgb(36,36,36)"
           },
           "zaxis": {
            "backgroundcolor": "white",
            "gridcolor": "rgb(232,232,232)",
            "gridwidth": 2,
            "linecolor": "rgb(36,36,36)",
            "showbackground": true,
            "showgrid": false,
            "showline": true,
            "ticks": "outside",
            "zeroline": false,
            "zerolinecolor": "rgb(36,36,36)"
           }
          },
          "shapedefaults": {
           "fillcolor": "black",
           "line": {
            "width": 0
           },
           "opacity": 0.3
          },
          "ternary": {
           "aaxis": {
            "gridcolor": "rgb(232,232,232)",
            "linecolor": "rgb(36,36,36)",
            "showgrid": false,
            "showline": true,
            "ticks": "outside"
           },
           "baxis": {
            "gridcolor": "rgb(232,232,232)",
            "linecolor": "rgb(36,36,36)",
            "showgrid": false,
            "showline": true,
            "ticks": "outside"
           },
           "bgcolor": "white",
           "caxis": {
            "gridcolor": "rgb(232,232,232)",
            "linecolor": "rgb(36,36,36)",
            "showgrid": false,
            "showline": true,
            "ticks": "outside"
           }
          },
          "title": {
           "x": 0.05
          },
          "xaxis": {
           "automargin": true,
           "gridcolor": "rgb(232,232,232)",
           "linecolor": "rgb(36,36,36)",
           "showgrid": false,
           "showline": true,
           "ticks": "outside",
           "title": {
            "standoff": 15
           },
           "zeroline": false,
           "zerolinecolor": "rgb(36,36,36)"
          },
          "yaxis": {
           "automargin": true,
           "gridcolor": "rgb(232,232,232)",
           "linecolor": "rgb(36,36,36)",
           "showgrid": false,
           "showline": true,
           "ticks": "outside",
           "title": {
            "standoff": 15
           },
           "zeroline": false,
           "zerolinecolor": "rgb(36,36,36)"
          }
         }
        },
        "width": 520,
        "xaxis": {
         "anchor": "y",
         "categoryarray": [
          "Phosphorylation",
          "Glutathionylation",
          "Oxidation",
          "Carbamyl",
          "Nitrosyl",
          "Cysteinyl"
         ],
         "categoryorder": "array",
         "domain": [
          0,
          1
         ],
         "title": {
          "text": "PTM"
         }
        },
        "yaxis": {
         "anchor": "x",
         "domain": [
          0,
          1
         ],
         "title": {
          "text": "log odds ratio"
         }
        }
       }
      }
     },
     "metadata": {},
     "output_type": "display_data"
    }
   ],
   "source": [
    "plot_enrichment(data=enrichment_all_inMotif,\n",
    "                ptm_select=['Phosphorylation','Glutathionylation','Oxidation',\n",
    "                'Carbamyl', \"Nitrosyl\", \"Cysteinyl\"],\n",
    "                roi_select=['kinase_motif']\n",
    "                )"
   ]
  },
  {
   "cell_type": "code",
   "execution_count": 142,
   "metadata": {},
   "outputs": [],
   "source": [
    "enrichment_all_inMotif.to_csv(\"c:/Users/marga/OneDrive/Desktop/summer project/ptm_enrichment/enrichment_all_inMotif_own.tsv\", sep=\"\\t\", index=False)"
   ]
  },
  {
   "cell_type": "code",
   "execution_count": 143,
   "metadata": {},
   "outputs": [
    {
     "data": {
      "text/html": [
       "<div>\n",
       "<style scoped>\n",
       "    .dataframe tbody tr th:only-of-type {\n",
       "        vertical-align: middle;\n",
       "    }\n",
       "\n",
       "    .dataframe tbody tr th {\n",
       "        vertical-align: top;\n",
       "    }\n",
       "\n",
       "    .dataframe thead th {\n",
       "        text-align: right;\n",
       "    }\n",
       "</style>\n",
       "<table border=\"1\" class=\"dataframe\">\n",
       "  <thead>\n",
       "    <tr style=\"text-align: right;\">\n",
       "      <th></th>\n",
       "      <th>quality_cutoff</th>\n",
       "      <th>ptm</th>\n",
       "      <th>roi</th>\n",
       "      <th>n_aa_ptm</th>\n",
       "      <th>n_aa_roi</th>\n",
       "      <th>n_ptm_in_roi</th>\n",
       "      <th>n_ptm_not_in_roi</th>\n",
       "      <th>n_naked_in_roi</th>\n",
       "      <th>n_naked_not_in_roi</th>\n",
       "      <th>oddsr</th>\n",
       "      <th>p</th>\n",
       "      <th>p_adj_bf</th>\n",
       "      <th>p_adj_bh</th>\n",
       "    </tr>\n",
       "  </thead>\n",
       "  <tbody>\n",
       "    <tr>\n",
       "      <th>0</th>\n",
       "      <td>0</td>\n",
       "      <td>Phosphorylation</td>\n",
       "      <td>IDR</td>\n",
       "      <td>16</td>\n",
       "      <td>39440</td>\n",
       "      <td>10</td>\n",
       "      <td>6</td>\n",
       "      <td>39430</td>\n",
       "      <td>40708</td>\n",
       "      <td>1.720686</td>\n",
       "      <td>3.254256e-01</td>\n",
       "      <td>1.000000e+00</td>\n",
       "      <td>4.378164e-01</td>\n",
       "    </tr>\n",
       "    <tr>\n",
       "      <th>0</th>\n",
       "      <td>0</td>\n",
       "      <td>Glutathionylation</td>\n",
       "      <td>IDR</td>\n",
       "      <td>220</td>\n",
       "      <td>42793</td>\n",
       "      <td>57</td>\n",
       "      <td>163</td>\n",
       "      <td>42736</td>\n",
       "      <td>50825</td>\n",
       "      <td>0.415883</td>\n",
       "      <td>2.312270e-09</td>\n",
       "      <td>1.387362e-08</td>\n",
       "      <td>1.387362e-08</td>\n",
       "    </tr>\n",
       "    <tr>\n",
       "      <th>0</th>\n",
       "      <td>0</td>\n",
       "      <td>Oxidation</td>\n",
       "      <td>IDR</td>\n",
       "      <td>689</td>\n",
       "      <td>42793</td>\n",
       "      <td>252</td>\n",
       "      <td>437</td>\n",
       "      <td>42541</td>\n",
       "      <td>50551</td>\n",
       "      <td>0.685238</td>\n",
       "      <td>1.513194e-06</td>\n",
       "      <td>9.079163e-06</td>\n",
       "      <td>4.539581e-06</td>\n",
       "    </tr>\n",
       "    <tr>\n",
       "      <th>0</th>\n",
       "      <td>0</td>\n",
       "      <td>Carbamyl</td>\n",
       "      <td>IDR</td>\n",
       "      <td>0</td>\n",
       "      <td>0</td>\n",
       "      <td>0</td>\n",
       "      <td>0</td>\n",
       "      <td>0</td>\n",
       "      <td>0</td>\n",
       "      <td>NaN</td>\n",
       "      <td>1.000000e+00</td>\n",
       "      <td>1.000000e+00</td>\n",
       "      <td>1.000000e+00</td>\n",
       "    </tr>\n",
       "    <tr>\n",
       "      <th>0</th>\n",
       "      <td>0</td>\n",
       "      <td>Nitrosyl</td>\n",
       "      <td>IDR</td>\n",
       "      <td>10</td>\n",
       "      <td>42793</td>\n",
       "      <td>3</td>\n",
       "      <td>7</td>\n",
       "      <td>42790</td>\n",
       "      <td>50981</td>\n",
       "      <td>0.510610</td>\n",
       "      <td>3.623268e-01</td>\n",
       "      <td>1.000000e+00</td>\n",
       "      <td>4.378164e-01</td>\n",
       "    </tr>\n",
       "    <tr>\n",
       "      <th>0</th>\n",
       "      <td>0</td>\n",
       "      <td>Cysteinyl</td>\n",
       "      <td>IDR</td>\n",
       "      <td>11</td>\n",
       "      <td>42793</td>\n",
       "      <td>3</td>\n",
       "      <td>8</td>\n",
       "      <td>42790</td>\n",
       "      <td>50980</td>\n",
       "      <td>0.446775</td>\n",
       "      <td>3.648470e-01</td>\n",
       "      <td>1.000000e+00</td>\n",
       "      <td>4.378164e-01</td>\n",
       "    </tr>\n",
       "  </tbody>\n",
       "</table>\n",
       "</div>"
      ],
      "text/plain": [
       "   quality_cutoff                ptm  roi  n_aa_ptm  n_aa_roi  n_ptm_in_roi  \\\n",
       "0               0    Phosphorylation  IDR        16     39440            10   \n",
       "0               0  Glutathionylation  IDR       220     42793            57   \n",
       "0               0          Oxidation  IDR       689     42793           252   \n",
       "0               0           Carbamyl  IDR         0         0             0   \n",
       "0               0           Nitrosyl  IDR        10     42793             3   \n",
       "0               0          Cysteinyl  IDR        11     42793             3   \n",
       "\n",
       "   n_ptm_not_in_roi  n_naked_in_roi  n_naked_not_in_roi     oddsr  \\\n",
       "0                 6           39430               40708  1.720686   \n",
       "0               163           42736               50825  0.415883   \n",
       "0               437           42541               50551  0.685238   \n",
       "0                 0               0                   0       NaN   \n",
       "0                 7           42790               50981  0.510610   \n",
       "0                 8           42790               50980  0.446775   \n",
       "\n",
       "              p      p_adj_bf      p_adj_bh  \n",
       "0  3.254256e-01  1.000000e+00  4.378164e-01  \n",
       "0  2.312270e-09  1.387362e-08  1.387362e-08  \n",
       "0  1.513194e-06  9.079163e-06  4.539581e-06  \n",
       "0  1.000000e+00  1.000000e+00  1.000000e+00  \n",
       "0  3.623268e-01  1.000000e+00  4.378164e-01  \n",
       "0  3.648470e-01  1.000000e+00  4.378164e-01  "
      ]
     },
     "execution_count": 143,
     "metadata": {},
     "output_type": "execute_result"
    }
   ],
   "source": [
    "# test if sites in motifs are enriched in IDRs\n",
    "enrichment_all_inMotif_inIDR = perform_enrichment_analysis(\n",
    "    df=alphafold_motifs[alphafold_motifs.kinase_motif==1], \n",
    "    ptm_types=[\"Phosphorylation\", 'Glutathionylation','Oxidation',\n",
    "    'Carbamyl', \"Nitrosyl\", \"Cysteinyl\"], \n",
    "    rois=['IDR'], \n",
    "    ptm_site_dict=ptm_site_dict,\n",
    "    quality_cutoffs=[0])\n",
    "\n",
    "# inspect\n",
    "enrichment_all_inMotif_inIDR"
   ]
  },
  {
   "cell_type": "code",
   "execution_count": 144,
   "metadata": {},
   "outputs": [
    {
     "data": {
      "application/vnd.plotly.v1+json": {
       "config": {
        "plotlyServerURL": "https://plot.ly",
        "toImageButtonOptions": {
         "filename": "structure ptm enrichment",
         "format": "svg"
        }
       },
       "data": [
        {
         "alignmentgroup": "True",
         "customdata": [
          [
           1.720686448558627,
           0.4378163748114952
          ],
          [
           null,
           1
          ],
          [
           0.5106099555971021,
           0.4378163748114952
          ],
          [
           0.4467749474176209,
           0.4378163748114952
          ]
         ],
         "hovertemplate": "-log10 (adj. p-value)=> 0<br>roi=IDR<br>PTM=%{x}<br>log odds ratio=%{y}<br>oddsr=%{customdata[0]}<br>p_adj_bh=%{customdata[1]}<extra></extra>",
         "legendgroup": "> 0",
         "marker": {
          "color": "grey"
         },
         "name": "> 0",
         "offsetgroup": "> 0",
         "orientation": "v",
         "showlegend": true,
         "textposition": "auto",
         "type": "bar",
         "x": [
          "Phosphorylation",
          "Carbamyl",
          "Nitrosyl",
          "Cysteinyl"
         ],
         "xaxis": "x",
         "y": [
          0.54272330920614,
          null,
          -0.6721492765248377,
          -0.8057002844924823
         ],
         "yaxis": "y"
        },
        {
         "alignmentgroup": "True",
         "customdata": [
          [
           0.4158826167447223,
           1.387362147035172e-8
          ],
          [
           0.685237560835779,
           0.0000045395812532014585
          ]
         ],
         "hovertemplate": "-log10 (adj. p-value)=> 5<br>roi=IDR<br>PTM=%{x}<br>log odds ratio=%{y}<br>oddsr=%{customdata[0]}<br>p_adj_bh=%{customdata[1]}<extra></extra>",
         "legendgroup": "> 5",
         "marker": {
          "color": "rgb(245, 183, 142)"
         },
         "name": "> 5",
         "offsetgroup": "> 5",
         "orientation": "v",
         "showlegend": true,
         "textposition": "auto",
         "type": "bar",
         "x": [
          "Glutathionylation",
          "Oxidation"
         ],
         "xaxis": "x",
         "y": [
          -0.877352229825407,
          -0.37798969670274396
         ],
         "yaxis": "y"
        }
       ],
       "layout": {
        "annotations": [
         {
          "font": {},
          "showarrow": false,
          "text": "roi=IDR",
          "x": 0.5,
          "xanchor": "center",
          "xref": "paper",
          "y": 1,
          "yanchor": "bottom",
          "yref": "paper"
         }
        ],
        "autosize": false,
        "barmode": "relative",
        "height": 500,
        "legend": {
         "title": {
          "text": "-log10 (adj. p-value)"
         },
         "tracegroupgap": 0
        },
        "margin": {
         "autoexpand": false,
         "b": 150,
         "l": 100,
         "r": 150,
         "t": 50
        },
        "template": {
         "data": {
          "bar": [
           {
            "error_x": {
             "color": "rgb(36,36,36)"
            },
            "error_y": {
             "color": "rgb(36,36,36)"
            },
            "marker": {
             "line": {
              "color": "white",
              "width": 0.5
             }
            },
            "type": "bar"
           }
          ],
          "barpolar": [
           {
            "marker": {
             "line": {
              "color": "white",
              "width": 0.5
             }
            },
            "type": "barpolar"
           }
          ],
          "carpet": [
           {
            "aaxis": {
             "endlinecolor": "rgb(36,36,36)",
             "gridcolor": "white",
             "linecolor": "white",
             "minorgridcolor": "white",
             "startlinecolor": "rgb(36,36,36)"
            },
            "baxis": {
             "endlinecolor": "rgb(36,36,36)",
             "gridcolor": "white",
             "linecolor": "white",
             "minorgridcolor": "white",
             "startlinecolor": "rgb(36,36,36)"
            },
            "type": "carpet"
           }
          ],
          "choropleth": [
           {
            "colorbar": {
             "outlinewidth": 1,
             "tickcolor": "rgb(36,36,36)",
             "ticks": "outside"
            },
            "type": "choropleth"
           }
          ],
          "contour": [
           {
            "colorbar": {
             "outlinewidth": 1,
             "tickcolor": "rgb(36,36,36)",
             "ticks": "outside"
            },
            "colorscale": [
             [
              0,
              "#440154"
             ],
             [
              0.1111111111111111,
              "#482878"
             ],
             [
              0.2222222222222222,
              "#3e4989"
             ],
             [
              0.3333333333333333,
              "#31688e"
             ],
             [
              0.4444444444444444,
              "#26828e"
             ],
             [
              0.5555555555555556,
              "#1f9e89"
             ],
             [
              0.6666666666666666,
              "#35b779"
             ],
             [
              0.7777777777777778,
              "#6ece58"
             ],
             [
              0.8888888888888888,
              "#b5de2b"
             ],
             [
              1,
              "#fde725"
             ]
            ],
            "type": "contour"
           }
          ],
          "contourcarpet": [
           {
            "colorbar": {
             "outlinewidth": 1,
             "tickcolor": "rgb(36,36,36)",
             "ticks": "outside"
            },
            "type": "contourcarpet"
           }
          ],
          "heatmap": [
           {
            "colorbar": {
             "outlinewidth": 1,
             "tickcolor": "rgb(36,36,36)",
             "ticks": "outside"
            },
            "colorscale": [
             [
              0,
              "#440154"
             ],
             [
              0.1111111111111111,
              "#482878"
             ],
             [
              0.2222222222222222,
              "#3e4989"
             ],
             [
              0.3333333333333333,
              "#31688e"
             ],
             [
              0.4444444444444444,
              "#26828e"
             ],
             [
              0.5555555555555556,
              "#1f9e89"
             ],
             [
              0.6666666666666666,
              "#35b779"
             ],
             [
              0.7777777777777778,
              "#6ece58"
             ],
             [
              0.8888888888888888,
              "#b5de2b"
             ],
             [
              1,
              "#fde725"
             ]
            ],
            "type": "heatmap"
           }
          ],
          "heatmapgl": [
           {
            "colorbar": {
             "outlinewidth": 1,
             "tickcolor": "rgb(36,36,36)",
             "ticks": "outside"
            },
            "colorscale": [
             [
              0,
              "#440154"
             ],
             [
              0.1111111111111111,
              "#482878"
             ],
             [
              0.2222222222222222,
              "#3e4989"
             ],
             [
              0.3333333333333333,
              "#31688e"
             ],
             [
              0.4444444444444444,
              "#26828e"
             ],
             [
              0.5555555555555556,
              "#1f9e89"
             ],
             [
              0.6666666666666666,
              "#35b779"
             ],
             [
              0.7777777777777778,
              "#6ece58"
             ],
             [
              0.8888888888888888,
              "#b5de2b"
             ],
             [
              1,
              "#fde725"
             ]
            ],
            "type": "heatmapgl"
           }
          ],
          "histogram": [
           {
            "marker": {
             "line": {
              "color": "white",
              "width": 0.6
             }
            },
            "type": "histogram"
           }
          ],
          "histogram2d": [
           {
            "colorbar": {
             "outlinewidth": 1,
             "tickcolor": "rgb(36,36,36)",
             "ticks": "outside"
            },
            "colorscale": [
             [
              0,
              "#440154"
             ],
             [
              0.1111111111111111,
              "#482878"
             ],
             [
              0.2222222222222222,
              "#3e4989"
             ],
             [
              0.3333333333333333,
              "#31688e"
             ],
             [
              0.4444444444444444,
              "#26828e"
             ],
             [
              0.5555555555555556,
              "#1f9e89"
             ],
             [
              0.6666666666666666,
              "#35b779"
             ],
             [
              0.7777777777777778,
              "#6ece58"
             ],
             [
              0.8888888888888888,
              "#b5de2b"
             ],
             [
              1,
              "#fde725"
             ]
            ],
            "type": "histogram2d"
           }
          ],
          "histogram2dcontour": [
           {
            "colorbar": {
             "outlinewidth": 1,
             "tickcolor": "rgb(36,36,36)",
             "ticks": "outside"
            },
            "colorscale": [
             [
              0,
              "#440154"
             ],
             [
              0.1111111111111111,
              "#482878"
             ],
             [
              0.2222222222222222,
              "#3e4989"
             ],
             [
              0.3333333333333333,
              "#31688e"
             ],
             [
              0.4444444444444444,
              "#26828e"
             ],
             [
              0.5555555555555556,
              "#1f9e89"
             ],
             [
              0.6666666666666666,
              "#35b779"
             ],
             [
              0.7777777777777778,
              "#6ece58"
             ],
             [
              0.8888888888888888,
              "#b5de2b"
             ],
             [
              1,
              "#fde725"
             ]
            ],
            "type": "histogram2dcontour"
           }
          ],
          "mesh3d": [
           {
            "colorbar": {
             "outlinewidth": 1,
             "tickcolor": "rgb(36,36,36)",
             "ticks": "outside"
            },
            "type": "mesh3d"
           }
          ],
          "parcoords": [
           {
            "line": {
             "colorbar": {
              "outlinewidth": 1,
              "tickcolor": "rgb(36,36,36)",
              "ticks": "outside"
             }
            },
            "type": "parcoords"
           }
          ],
          "pie": [
           {
            "automargin": true,
            "type": "pie"
           }
          ],
          "scatter": [
           {
            "marker": {
             "colorbar": {
              "outlinewidth": 1,
              "tickcolor": "rgb(36,36,36)",
              "ticks": "outside"
             }
            },
            "type": "scatter"
           }
          ],
          "scatter3d": [
           {
            "line": {
             "colorbar": {
              "outlinewidth": 1,
              "tickcolor": "rgb(36,36,36)",
              "ticks": "outside"
             }
            },
            "marker": {
             "colorbar": {
              "outlinewidth": 1,
              "tickcolor": "rgb(36,36,36)",
              "ticks": "outside"
             }
            },
            "type": "scatter3d"
           }
          ],
          "scattercarpet": [
           {
            "marker": {
             "colorbar": {
              "outlinewidth": 1,
              "tickcolor": "rgb(36,36,36)",
              "ticks": "outside"
             }
            },
            "type": "scattercarpet"
           }
          ],
          "scattergeo": [
           {
            "marker": {
             "colorbar": {
              "outlinewidth": 1,
              "tickcolor": "rgb(36,36,36)",
              "ticks": "outside"
             }
            },
            "type": "scattergeo"
           }
          ],
          "scattergl": [
           {
            "marker": {
             "colorbar": {
              "outlinewidth": 1,
              "tickcolor": "rgb(36,36,36)",
              "ticks": "outside"
             }
            },
            "type": "scattergl"
           }
          ],
          "scattermapbox": [
           {
            "marker": {
             "colorbar": {
              "outlinewidth": 1,
              "tickcolor": "rgb(36,36,36)",
              "ticks": "outside"
             }
            },
            "type": "scattermapbox"
           }
          ],
          "scatterpolar": [
           {
            "marker": {
             "colorbar": {
              "outlinewidth": 1,
              "tickcolor": "rgb(36,36,36)",
              "ticks": "outside"
             }
            },
            "type": "scatterpolar"
           }
          ],
          "scatterpolargl": [
           {
            "marker": {
             "colorbar": {
              "outlinewidth": 1,
              "tickcolor": "rgb(36,36,36)",
              "ticks": "outside"
             }
            },
            "type": "scatterpolargl"
           }
          ],
          "scatterternary": [
           {
            "marker": {
             "colorbar": {
              "outlinewidth": 1,
              "tickcolor": "rgb(36,36,36)",
              "ticks": "outside"
             }
            },
            "type": "scatterternary"
           }
          ],
          "surface": [
           {
            "colorbar": {
             "outlinewidth": 1,
             "tickcolor": "rgb(36,36,36)",
             "ticks": "outside"
            },
            "colorscale": [
             [
              0,
              "#440154"
             ],
             [
              0.1111111111111111,
              "#482878"
             ],
             [
              0.2222222222222222,
              "#3e4989"
             ],
             [
              0.3333333333333333,
              "#31688e"
             ],
             [
              0.4444444444444444,
              "#26828e"
             ],
             [
              0.5555555555555556,
              "#1f9e89"
             ],
             [
              0.6666666666666666,
              "#35b779"
             ],
             [
              0.7777777777777778,
              "#6ece58"
             ],
             [
              0.8888888888888888,
              "#b5de2b"
             ],
             [
              1,
              "#fde725"
             ]
            ],
            "type": "surface"
           }
          ],
          "table": [
           {
            "cells": {
             "fill": {
              "color": "rgb(237,237,237)"
             },
             "line": {
              "color": "white"
             }
            },
            "header": {
             "fill": {
              "color": "rgb(217,217,217)"
             },
             "line": {
              "color": "white"
             }
            },
            "type": "table"
           }
          ]
         },
         "layout": {
          "annotationdefaults": {
           "arrowhead": 0,
           "arrowwidth": 1
          },
          "coloraxis": {
           "colorbar": {
            "outlinewidth": 1,
            "tickcolor": "rgb(36,36,36)",
            "ticks": "outside"
           }
          },
          "colorscale": {
           "diverging": [
            [
             0,
             "rgb(103,0,31)"
            ],
            [
             0.1,
             "rgb(178,24,43)"
            ],
            [
             0.2,
             "rgb(214,96,77)"
            ],
            [
             0.3,
             "rgb(244,165,130)"
            ],
            [
             0.4,
             "rgb(253,219,199)"
            ],
            [
             0.5,
             "rgb(247,247,247)"
            ],
            [
             0.6,
             "rgb(209,229,240)"
            ],
            [
             0.7,
             "rgb(146,197,222)"
            ],
            [
             0.8,
             "rgb(67,147,195)"
            ],
            [
             0.9,
             "rgb(33,102,172)"
            ],
            [
             1,
             "rgb(5,48,97)"
            ]
           ],
           "sequential": [
            [
             0,
             "#440154"
            ],
            [
             0.1111111111111111,
             "#482878"
            ],
            [
             0.2222222222222222,
             "#3e4989"
            ],
            [
             0.3333333333333333,
             "#31688e"
            ],
            [
             0.4444444444444444,
             "#26828e"
            ],
            [
             0.5555555555555556,
             "#1f9e89"
            ],
            [
             0.6666666666666666,
             "#35b779"
            ],
            [
             0.7777777777777778,
             "#6ece58"
            ],
            [
             0.8888888888888888,
             "#b5de2b"
            ],
            [
             1,
             "#fde725"
            ]
           ],
           "sequentialminus": [
            [
             0,
             "#440154"
            ],
            [
             0.1111111111111111,
             "#482878"
            ],
            [
             0.2222222222222222,
             "#3e4989"
            ],
            [
             0.3333333333333333,
             "#31688e"
            ],
            [
             0.4444444444444444,
             "#26828e"
            ],
            [
             0.5555555555555556,
             "#1f9e89"
            ],
            [
             0.6666666666666666,
             "#35b779"
            ],
            [
             0.7777777777777778,
             "#6ece58"
            ],
            [
             0.8888888888888888,
             "#b5de2b"
            ],
            [
             1,
             "#fde725"
            ]
           ]
          },
          "colorway": [
           "#1F77B4",
           "#FF7F0E",
           "#2CA02C",
           "#D62728",
           "#9467BD",
           "#8C564B",
           "#E377C2",
           "#7F7F7F",
           "#BCBD22",
           "#17BECF"
          ],
          "font": {
           "color": "rgb(36,36,36)"
          },
          "geo": {
           "bgcolor": "white",
           "lakecolor": "white",
           "landcolor": "white",
           "showlakes": true,
           "showland": true,
           "subunitcolor": "white"
          },
          "hoverlabel": {
           "align": "left"
          },
          "hovermode": "closest",
          "mapbox": {
           "style": "light"
          },
          "paper_bgcolor": "white",
          "plot_bgcolor": "white",
          "polar": {
           "angularaxis": {
            "gridcolor": "rgb(232,232,232)",
            "linecolor": "rgb(36,36,36)",
            "showgrid": false,
            "showline": true,
            "ticks": "outside"
           },
           "bgcolor": "white",
           "radialaxis": {
            "gridcolor": "rgb(232,232,232)",
            "linecolor": "rgb(36,36,36)",
            "showgrid": false,
            "showline": true,
            "ticks": "outside"
           }
          },
          "scene": {
           "xaxis": {
            "backgroundcolor": "white",
            "gridcolor": "rgb(232,232,232)",
            "gridwidth": 2,
            "linecolor": "rgb(36,36,36)",
            "showbackground": true,
            "showgrid": false,
            "showline": true,
            "ticks": "outside",
            "zeroline": false,
            "zerolinecolor": "rgb(36,36,36)"
           },
           "yaxis": {
            "backgroundcolor": "white",
            "gridcolor": "rgb(232,232,232)",
            "gridwidth": 2,
            "linecolor": "rgb(36,36,36)",
            "showbackground": true,
            "showgrid": false,
            "showline": true,
            "ticks": "outside",
            "zeroline": false,
            "zerolinecolor": "rgb(36,36,36)"
           },
           "zaxis": {
            "backgroundcolor": "white",
            "gridcolor": "rgb(232,232,232)",
            "gridwidth": 2,
            "linecolor": "rgb(36,36,36)",
            "showbackground": true,
            "showgrid": false,
            "showline": true,
            "ticks": "outside",
            "zeroline": false,
            "zerolinecolor": "rgb(36,36,36)"
           }
          },
          "shapedefaults": {
           "fillcolor": "black",
           "line": {
            "width": 0
           },
           "opacity": 0.3
          },
          "ternary": {
           "aaxis": {
            "gridcolor": "rgb(232,232,232)",
            "linecolor": "rgb(36,36,36)",
            "showgrid": false,
            "showline": true,
            "ticks": "outside"
           },
           "baxis": {
            "gridcolor": "rgb(232,232,232)",
            "linecolor": "rgb(36,36,36)",
            "showgrid": false,
            "showline": true,
            "ticks": "outside"
           },
           "bgcolor": "white",
           "caxis": {
            "gridcolor": "rgb(232,232,232)",
            "linecolor": "rgb(36,36,36)",
            "showgrid": false,
            "showline": true,
            "ticks": "outside"
           }
          },
          "title": {
           "x": 0.05
          },
          "xaxis": {
           "automargin": true,
           "gridcolor": "rgb(232,232,232)",
           "linecolor": "rgb(36,36,36)",
           "showgrid": false,
           "showline": true,
           "ticks": "outside",
           "title": {
            "standoff": 15
           },
           "zeroline": false,
           "zerolinecolor": "rgb(36,36,36)"
          },
          "yaxis": {
           "automargin": true,
           "gridcolor": "rgb(232,232,232)",
           "linecolor": "rgb(36,36,36)",
           "showgrid": false,
           "showline": true,
           "ticks": "outside",
           "title": {
            "standoff": 15
           },
           "zeroline": false,
           "zerolinecolor": "rgb(36,36,36)"
          }
         }
        },
        "width": 520,
        "xaxis": {
         "anchor": "y",
         "categoryarray": [
          "Phosphorylation",
          "Glutathionylation",
          "Oxidation",
          "Carbamyl",
          "Nitrosyl",
          "Cysteinyl"
         ],
         "categoryorder": "array",
         "domain": [
          0,
          1
         ],
         "title": {
          "text": "PTM"
         }
        },
        "yaxis": {
         "anchor": "x",
         "domain": [
          0,
          1
         ],
         "title": {
          "text": "log odds ratio"
         }
        }
       }
      }
     },
     "metadata": {},
     "output_type": "display_data"
    }
   ],
   "source": [
    "plot_enrichment(data=enrichment_all_inMotif_inIDR,\n",
    "                ptm_select=['Phosphorylation','Glutathionylation','Oxidation',\n",
    "                'Carbamyl', \"Nitrosyl\", \"Cysteinyl\"],\n",
    "                roi_select=['IDR']\n",
    "                )"
   ]
  },
  {
   "cell_type": "code",
   "execution_count": 145,
   "metadata": {},
   "outputs": [
    {
     "ename": "OSError",
     "evalue": "Cannot save file into a non-existent directory: 'data\\ptm_enrichment'",
     "output_type": "error",
     "traceback": [
      "\u001b[1;31m---------------------------------------------------------------------------\u001b[0m",
      "\u001b[1;31mOSError\u001b[0m                                   Traceback (most recent call last)",
      "Cell \u001b[1;32mIn[145], line 1\u001b[0m\n\u001b[1;32m----> 1\u001b[0m enrichment_all_inMotif_inIDR\u001b[39m.\u001b[39;49mto_csv(\u001b[39m\"\u001b[39;49m\u001b[39mdata/ptm_enrichment/enrichment_all_inMotif_inIDR_own.tsv\u001b[39;49m\u001b[39m\"\u001b[39;49m, sep\u001b[39m=\u001b[39;49m\u001b[39m\"\u001b[39;49m\u001b[39m\\t\u001b[39;49;00m\u001b[39m\"\u001b[39;49m, index\u001b[39m=\u001b[39;49m\u001b[39mFalse\u001b[39;49;00m)\n",
      "File \u001b[1;32m~\\AppData\\Roaming\\Python\\Python38\\site-packages\\pandas\\core\\generic.py:3563\u001b[0m, in \u001b[0;36mNDFrame.to_csv\u001b[1;34m(self, path_or_buf, sep, na_rep, float_format, columns, header, index, index_label, mode, encoding, compression, quoting, quotechar, line_terminator, chunksize, date_format, doublequote, escapechar, decimal, errors, storage_options)\u001b[0m\n\u001b[0;32m   3552\u001b[0m df \u001b[39m=\u001b[39m \u001b[39mself\u001b[39m \u001b[39mif\u001b[39;00m \u001b[39misinstance\u001b[39m(\u001b[39mself\u001b[39m, ABCDataFrame) \u001b[39melse\u001b[39;00m \u001b[39mself\u001b[39m\u001b[39m.\u001b[39mto_frame()\n\u001b[0;32m   3554\u001b[0m formatter \u001b[39m=\u001b[39m DataFrameFormatter(\n\u001b[0;32m   3555\u001b[0m     frame\u001b[39m=\u001b[39mdf,\n\u001b[0;32m   3556\u001b[0m     header\u001b[39m=\u001b[39mheader,\n\u001b[1;32m   (...)\u001b[0m\n\u001b[0;32m   3560\u001b[0m     decimal\u001b[39m=\u001b[39mdecimal,\n\u001b[0;32m   3561\u001b[0m )\n\u001b[1;32m-> 3563\u001b[0m \u001b[39mreturn\u001b[39;00m DataFrameRenderer(formatter)\u001b[39m.\u001b[39;49mto_csv(\n\u001b[0;32m   3564\u001b[0m     path_or_buf,\n\u001b[0;32m   3565\u001b[0m     line_terminator\u001b[39m=\u001b[39;49mline_terminator,\n\u001b[0;32m   3566\u001b[0m     sep\u001b[39m=\u001b[39;49msep,\n\u001b[0;32m   3567\u001b[0m     encoding\u001b[39m=\u001b[39;49mencoding,\n\u001b[0;32m   3568\u001b[0m     errors\u001b[39m=\u001b[39;49merrors,\n\u001b[0;32m   3569\u001b[0m     compression\u001b[39m=\u001b[39;49mcompression,\n\u001b[0;32m   3570\u001b[0m     quoting\u001b[39m=\u001b[39;49mquoting,\n\u001b[0;32m   3571\u001b[0m     columns\u001b[39m=\u001b[39;49mcolumns,\n\u001b[0;32m   3572\u001b[0m     index_label\u001b[39m=\u001b[39;49mindex_label,\n\u001b[0;32m   3573\u001b[0m     mode\u001b[39m=\u001b[39;49mmode,\n\u001b[0;32m   3574\u001b[0m     chunksize\u001b[39m=\u001b[39;49mchunksize,\n\u001b[0;32m   3575\u001b[0m     quotechar\u001b[39m=\u001b[39;49mquotechar,\n\u001b[0;32m   3576\u001b[0m     date_format\u001b[39m=\u001b[39;49mdate_format,\n\u001b[0;32m   3577\u001b[0m     doublequote\u001b[39m=\u001b[39;49mdoublequote,\n\u001b[0;32m   3578\u001b[0m     escapechar\u001b[39m=\u001b[39;49mescapechar,\n\u001b[0;32m   3579\u001b[0m     storage_options\u001b[39m=\u001b[39;49mstorage_options,\n\u001b[0;32m   3580\u001b[0m )\n",
      "File \u001b[1;32m~\\AppData\\Roaming\\Python\\Python38\\site-packages\\pandas\\io\\formats\\format.py:1180\u001b[0m, in \u001b[0;36mDataFrameRenderer.to_csv\u001b[1;34m(self, path_or_buf, encoding, sep, columns, index_label, mode, compression, quoting, quotechar, line_terminator, chunksize, date_format, doublequote, escapechar, errors, storage_options)\u001b[0m\n\u001b[0;32m   1159\u001b[0m     created_buffer \u001b[39m=\u001b[39m \u001b[39mFalse\u001b[39;00m\n\u001b[0;32m   1161\u001b[0m csv_formatter \u001b[39m=\u001b[39m CSVFormatter(\n\u001b[0;32m   1162\u001b[0m     path_or_buf\u001b[39m=\u001b[39mpath_or_buf,\n\u001b[0;32m   1163\u001b[0m     line_terminator\u001b[39m=\u001b[39mline_terminator,\n\u001b[1;32m   (...)\u001b[0m\n\u001b[0;32m   1178\u001b[0m     formatter\u001b[39m=\u001b[39m\u001b[39mself\u001b[39m\u001b[39m.\u001b[39mfmt,\n\u001b[0;32m   1179\u001b[0m )\n\u001b[1;32m-> 1180\u001b[0m csv_formatter\u001b[39m.\u001b[39;49msave()\n\u001b[0;32m   1182\u001b[0m \u001b[39mif\u001b[39;00m created_buffer:\n\u001b[0;32m   1183\u001b[0m     \u001b[39massert\u001b[39;00m \u001b[39misinstance\u001b[39m(path_or_buf, StringIO)\n",
      "File \u001b[1;32m~\\AppData\\Roaming\\Python\\Python38\\site-packages\\pandas\\io\\formats\\csvs.py:241\u001b[0m, in \u001b[0;36mCSVFormatter.save\u001b[1;34m(self)\u001b[0m\n\u001b[0;32m    237\u001b[0m \u001b[39m\u001b[39m\u001b[39m\"\"\"\u001b[39;00m\n\u001b[0;32m    238\u001b[0m \u001b[39mCreate the writer & save.\u001b[39;00m\n\u001b[0;32m    239\u001b[0m \u001b[39m\"\"\"\u001b[39;00m\n\u001b[0;32m    240\u001b[0m \u001b[39m# apply compression and byte/text conversion\u001b[39;00m\n\u001b[1;32m--> 241\u001b[0m \u001b[39mwith\u001b[39;00m get_handle(\n\u001b[0;32m    242\u001b[0m     \u001b[39mself\u001b[39;49m\u001b[39m.\u001b[39;49mfilepath_or_buffer,\n\u001b[0;32m    243\u001b[0m     \u001b[39mself\u001b[39;49m\u001b[39m.\u001b[39;49mmode,\n\u001b[0;32m    244\u001b[0m     encoding\u001b[39m=\u001b[39;49m\u001b[39mself\u001b[39;49m\u001b[39m.\u001b[39;49mencoding,\n\u001b[0;32m    245\u001b[0m     errors\u001b[39m=\u001b[39;49m\u001b[39mself\u001b[39;49m\u001b[39m.\u001b[39;49merrors,\n\u001b[0;32m    246\u001b[0m     compression\u001b[39m=\u001b[39;49m\u001b[39mself\u001b[39;49m\u001b[39m.\u001b[39;49mcompression,\n\u001b[0;32m    247\u001b[0m     storage_options\u001b[39m=\u001b[39;49m\u001b[39mself\u001b[39;49m\u001b[39m.\u001b[39;49mstorage_options,\n\u001b[0;32m    248\u001b[0m ) \u001b[39mas\u001b[39;00m handles:\n\u001b[0;32m    249\u001b[0m \n\u001b[0;32m    250\u001b[0m     \u001b[39m# Note: self.encoding is irrelevant here\u001b[39;00m\n\u001b[0;32m    251\u001b[0m     \u001b[39mself\u001b[39m\u001b[39m.\u001b[39mwriter \u001b[39m=\u001b[39m csvlib\u001b[39m.\u001b[39mwriter(\n\u001b[0;32m    252\u001b[0m         handles\u001b[39m.\u001b[39mhandle,\n\u001b[0;32m    253\u001b[0m         lineterminator\u001b[39m=\u001b[39m\u001b[39mself\u001b[39m\u001b[39m.\u001b[39mline_terminator,\n\u001b[1;32m   (...)\u001b[0m\n\u001b[0;32m    258\u001b[0m         quotechar\u001b[39m=\u001b[39m\u001b[39mself\u001b[39m\u001b[39m.\u001b[39mquotechar,\n\u001b[0;32m    259\u001b[0m     )\n\u001b[0;32m    261\u001b[0m     \u001b[39mself\u001b[39m\u001b[39m.\u001b[39m_save()\n",
      "File \u001b[1;32m~\\AppData\\Roaming\\Python\\Python38\\site-packages\\pandas\\io\\common.py:697\u001b[0m, in \u001b[0;36mget_handle\u001b[1;34m(path_or_buf, mode, encoding, compression, memory_map, is_text, errors, storage_options)\u001b[0m\n\u001b[0;32m    695\u001b[0m \u001b[39m# Only for write methods\u001b[39;00m\n\u001b[0;32m    696\u001b[0m \u001b[39mif\u001b[39;00m \u001b[39m\"\u001b[39m\u001b[39mr\u001b[39m\u001b[39m\"\u001b[39m \u001b[39mnot\u001b[39;00m \u001b[39min\u001b[39;00m mode \u001b[39mand\u001b[39;00m is_path:\n\u001b[1;32m--> 697\u001b[0m     check_parent_directory(\u001b[39mstr\u001b[39;49m(handle))\n\u001b[0;32m    699\u001b[0m \u001b[39mif\u001b[39;00m compression:\n\u001b[0;32m    700\u001b[0m     \u001b[39mif\u001b[39;00m compression \u001b[39m!=\u001b[39m \u001b[39m\"\u001b[39m\u001b[39mzstd\u001b[39m\u001b[39m\"\u001b[39m:\n\u001b[0;32m    701\u001b[0m         \u001b[39m# compression libraries do not like an explicit text-mode\u001b[39;00m\n",
      "File \u001b[1;32m~\\AppData\\Roaming\\Python\\Python38\\site-packages\\pandas\\io\\common.py:571\u001b[0m, in \u001b[0;36mcheck_parent_directory\u001b[1;34m(path)\u001b[0m\n\u001b[0;32m    569\u001b[0m parent \u001b[39m=\u001b[39m Path(path)\u001b[39m.\u001b[39mparent\n\u001b[0;32m    570\u001b[0m \u001b[39mif\u001b[39;00m \u001b[39mnot\u001b[39;00m parent\u001b[39m.\u001b[39mis_dir():\n\u001b[1;32m--> 571\u001b[0m     \u001b[39mraise\u001b[39;00m \u001b[39mOSError\u001b[39;00m(\u001b[39mfr\u001b[39m\u001b[39m\"\u001b[39m\u001b[39mCannot save file into a non-existent directory: \u001b[39m\u001b[39m'\u001b[39m\u001b[39m{\u001b[39;00mparent\u001b[39m}\u001b[39;00m\u001b[39m'\u001b[39m\u001b[39m\"\u001b[39m)\n",
      "\u001b[1;31mOSError\u001b[0m: Cannot save file into a non-existent directory: 'data\\ptm_enrichment'"
     ]
    }
   ],
   "source": [
    "enrichment_all_inMotif_inIDR.to_csv(\"C:/Users/marga/OneDrive/Desktop/summer project/ptm_enrichment/enrichment_all_inMotif_inIDR_own.tsv\", sep=\"\\t\", index=False)"
   ]
  },
  {
   "cell_type": "code",
   "execution_count": 146,
   "metadata": {},
   "outputs": [
    {
     "data": {
      "text/html": [
       "<div>\n",
       "<style scoped>\n",
       "    .dataframe tbody tr th:only-of-type {\n",
       "        vertical-align: middle;\n",
       "    }\n",
       "\n",
       "    .dataframe tbody tr th {\n",
       "        vertical-align: top;\n",
       "    }\n",
       "\n",
       "    .dataframe thead th {\n",
       "        text-align: right;\n",
       "    }\n",
       "</style>\n",
       "<table border=\"1\" class=\"dataframe\">\n",
       "  <thead>\n",
       "    <tr style=\"text-align: right;\">\n",
       "      <th></th>\n",
       "      <th>quality_cutoff</th>\n",
       "      <th>ptm</th>\n",
       "      <th>roi</th>\n",
       "      <th>n_aa_ptm</th>\n",
       "      <th>n_aa_roi</th>\n",
       "      <th>n_ptm_in_roi</th>\n",
       "      <th>n_ptm_not_in_roi</th>\n",
       "      <th>n_naked_in_roi</th>\n",
       "      <th>n_naked_not_in_roi</th>\n",
       "      <th>oddsr</th>\n",
       "      <th>p</th>\n",
       "      <th>p_adj_bf</th>\n",
       "      <th>p_adj_bh</th>\n",
       "    </tr>\n",
       "  </thead>\n",
       "  <tbody>\n",
       "    <tr>\n",
       "      <th>0</th>\n",
       "      <td>0</td>\n",
       "      <td>Phosphorylation</td>\n",
       "      <td>high_acc_5</td>\n",
       "      <td>16</td>\n",
       "      <td>70591</td>\n",
       "      <td>15</td>\n",
       "      <td>1</td>\n",
       "      <td>70576</td>\n",
       "      <td>9562</td>\n",
       "      <td>2.032277</td>\n",
       "      <td>0.711529</td>\n",
       "      <td>1.000000</td>\n",
       "      <td>0.853835</td>\n",
       "    </tr>\n",
       "    <tr>\n",
       "      <th>0</th>\n",
       "      <td>0</td>\n",
       "      <td>Glutathionylation</td>\n",
       "      <td>high_acc_5</td>\n",
       "      <td>220</td>\n",
       "      <td>79072</td>\n",
       "      <td>168</td>\n",
       "      <td>52</td>\n",
       "      <td>78904</td>\n",
       "      <td>14657</td>\n",
       "      <td>0.600139</td>\n",
       "      <td>0.002068</td>\n",
       "      <td>0.012408</td>\n",
       "      <td>0.012408</td>\n",
       "    </tr>\n",
       "    <tr>\n",
       "      <th>0</th>\n",
       "      <td>0</td>\n",
       "      <td>Oxidation</td>\n",
       "      <td>high_acc_5</td>\n",
       "      <td>689</td>\n",
       "      <td>79072</td>\n",
       "      <td>592</td>\n",
       "      <td>97</td>\n",
       "      <td>78480</td>\n",
       "      <td>14612</td>\n",
       "      <td>1.136320</td>\n",
       "      <td>0.269360</td>\n",
       "      <td>1.000000</td>\n",
       "      <td>0.538719</td>\n",
       "    </tr>\n",
       "    <tr>\n",
       "      <th>0</th>\n",
       "      <td>0</td>\n",
       "      <td>Carbamyl</td>\n",
       "      <td>high_acc_5</td>\n",
       "      <td>0</td>\n",
       "      <td>0</td>\n",
       "      <td>0</td>\n",
       "      <td>0</td>\n",
       "      <td>0</td>\n",
       "      <td>0</td>\n",
       "      <td>NaN</td>\n",
       "      <td>1.000000</td>\n",
       "      <td>1.000000</td>\n",
       "      <td>1.000000</td>\n",
       "    </tr>\n",
       "    <tr>\n",
       "      <th>0</th>\n",
       "      <td>0</td>\n",
       "      <td>Nitrosyl</td>\n",
       "      <td>high_acc_5</td>\n",
       "      <td>10</td>\n",
       "      <td>79072</td>\n",
       "      <td>8</td>\n",
       "      <td>2</td>\n",
       "      <td>79064</td>\n",
       "      <td>14707</td>\n",
       "      <td>0.744055</td>\n",
       "      <td>0.662208</td>\n",
       "      <td>1.000000</td>\n",
       "      <td>0.853835</td>\n",
       "    </tr>\n",
       "    <tr>\n",
       "      <th>0</th>\n",
       "      <td>0</td>\n",
       "      <td>Cysteinyl</td>\n",
       "      <td>high_acc_5</td>\n",
       "      <td>11</td>\n",
       "      <td>79072</td>\n",
       "      <td>11</td>\n",
       "      <td>0</td>\n",
       "      <td>79061</td>\n",
       "      <td>14709</td>\n",
       "      <td>inf</td>\n",
       "      <td>0.232688</td>\n",
       "      <td>1.000000</td>\n",
       "      <td>0.538719</td>\n",
       "    </tr>\n",
       "  </tbody>\n",
       "</table>\n",
       "</div>"
      ],
      "text/plain": [
       "   quality_cutoff                ptm         roi  n_aa_ptm  n_aa_roi  \\\n",
       "0               0    Phosphorylation  high_acc_5        16     70591   \n",
       "0               0  Glutathionylation  high_acc_5       220     79072   \n",
       "0               0          Oxidation  high_acc_5       689     79072   \n",
       "0               0           Carbamyl  high_acc_5         0         0   \n",
       "0               0           Nitrosyl  high_acc_5        10     79072   \n",
       "0               0          Cysteinyl  high_acc_5        11     79072   \n",
       "\n",
       "   n_ptm_in_roi  n_ptm_not_in_roi  n_naked_in_roi  n_naked_not_in_roi  \\\n",
       "0            15                 1           70576                9562   \n",
       "0           168                52           78904               14657   \n",
       "0           592                97           78480               14612   \n",
       "0             0                 0               0                   0   \n",
       "0             8                 2           79064               14707   \n",
       "0            11                 0           79061               14709   \n",
       "\n",
       "      oddsr         p  p_adj_bf  p_adj_bh  \n",
       "0  2.032277  0.711529  1.000000  0.853835  \n",
       "0  0.600139  0.002068  0.012408  0.012408  \n",
       "0  1.136320  0.269360  1.000000  0.538719  \n",
       "0       NaN  1.000000  1.000000  1.000000  \n",
       "0  0.744055  0.662208  1.000000  0.853835  \n",
       "0       inf  0.232688  1.000000  0.538719  "
      ]
     },
     "execution_count": 146,
     "metadata": {},
     "output_type": "execute_result"
    }
   ],
   "source": [
    "# test if phosphosites in motifs are enriched in highAcc\n",
    "enrichment_all_inMotif_inHighAcc = perform_enrichment_analysis(\n",
    "    df=alphafold_motifs[alphafold_motifs.kinase_motif==1], \n",
    "    ptm_types=['Phosphorylation','Glutathionylation','Oxidation',\n",
    "    'Carbamyl', \"Nitrosyl\", \"Cysteinyl\"], \n",
    "    rois=['high_acc_5'], \n",
    "    ptm_site_dict=ptm_site_dict,\n",
    "    quality_cutoffs=[0])\n",
    "\n",
    "# inspect\n",
    "enrichment_all_inMotif_inHighAcc"
   ]
  },
  {
   "cell_type": "code",
   "execution_count": 148,
   "metadata": {},
   "outputs": [
    {
     "data": {
      "application/vnd.plotly.v1+json": {
       "config": {
        "plotlyServerURL": "https://plot.ly",
        "toImageButtonOptions": {
         "filename": "structure ptm enrichment",
         "format": "svg"
        }
       },
       "data": [
        {
         "alignmentgroup": "True",
         "customdata": [
          [
           2.0322772613919744,
           0.8538349621885346
          ],
          [
           0.6001392149369438,
           0.012407723813093829
          ],
          [
           1.1363199764599556,
           0.5387194368354145
          ],
          [
           null,
           1
          ],
          [
           0.7440554487503794,
           0.8538349621885346
          ],
          [
           null,
           0.5387194368354145
          ]
         ],
         "hovertemplate": "-log10 (adj. p-value)=> 0<br>roi=high_acc_5<br>PTM=%{x}<br>log odds ratio=%{y}<br>oddsr=%{customdata[0]}<br>p_adj_bh=%{customdata[1]}<extra></extra>",
         "legendgroup": "> 0",
         "marker": {
          "color": "grey"
         },
         "name": "> 0",
         "offsetgroup": "> 0",
         "orientation": "v",
         "showlegend": true,
         "textposition": "auto",
         "type": "bar",
         "x": [
          "Phosphorylation",
          "Glutathionylation",
          "Oxidation",
          "Carbamyl",
          "Nitrosyl",
          "Cysteinyl"
         ],
         "xaxis": "x",
         "y": [
          0.7091569679435377,
          -0.5105936257846974,
          0.12779495005655128,
          null,
          -0.2956397190358155,
          null
         ],
         "yaxis": "y"
        }
       ],
       "layout": {
        "annotations": [
         {
          "font": {},
          "showarrow": false,
          "text": "roi=high_acc_5",
          "x": 0.5,
          "xanchor": "center",
          "xref": "paper",
          "y": 1,
          "yanchor": "bottom",
          "yref": "paper"
         }
        ],
        "autosize": false,
        "barmode": "relative",
        "height": 500,
        "legend": {
         "title": {
          "text": "-log10 (adj. p-value)"
         },
         "tracegroupgap": 0
        },
        "margin": {
         "autoexpand": false,
         "b": 150,
         "l": 100,
         "r": 150,
         "t": 50
        },
        "template": {
         "data": {
          "bar": [
           {
            "error_x": {
             "color": "rgb(36,36,36)"
            },
            "error_y": {
             "color": "rgb(36,36,36)"
            },
            "marker": {
             "line": {
              "color": "white",
              "width": 0.5
             }
            },
            "type": "bar"
           }
          ],
          "barpolar": [
           {
            "marker": {
             "line": {
              "color": "white",
              "width": 0.5
             }
            },
            "type": "barpolar"
           }
          ],
          "carpet": [
           {
            "aaxis": {
             "endlinecolor": "rgb(36,36,36)",
             "gridcolor": "white",
             "linecolor": "white",
             "minorgridcolor": "white",
             "startlinecolor": "rgb(36,36,36)"
            },
            "baxis": {
             "endlinecolor": "rgb(36,36,36)",
             "gridcolor": "white",
             "linecolor": "white",
             "minorgridcolor": "white",
             "startlinecolor": "rgb(36,36,36)"
            },
            "type": "carpet"
           }
          ],
          "choropleth": [
           {
            "colorbar": {
             "outlinewidth": 1,
             "tickcolor": "rgb(36,36,36)",
             "ticks": "outside"
            },
            "type": "choropleth"
           }
          ],
          "contour": [
           {
            "colorbar": {
             "outlinewidth": 1,
             "tickcolor": "rgb(36,36,36)",
             "ticks": "outside"
            },
            "colorscale": [
             [
              0,
              "#440154"
             ],
             [
              0.1111111111111111,
              "#482878"
             ],
             [
              0.2222222222222222,
              "#3e4989"
             ],
             [
              0.3333333333333333,
              "#31688e"
             ],
             [
              0.4444444444444444,
              "#26828e"
             ],
             [
              0.5555555555555556,
              "#1f9e89"
             ],
             [
              0.6666666666666666,
              "#35b779"
             ],
             [
              0.7777777777777778,
              "#6ece58"
             ],
             [
              0.8888888888888888,
              "#b5de2b"
             ],
             [
              1,
              "#fde725"
             ]
            ],
            "type": "contour"
           }
          ],
          "contourcarpet": [
           {
            "colorbar": {
             "outlinewidth": 1,
             "tickcolor": "rgb(36,36,36)",
             "ticks": "outside"
            },
            "type": "contourcarpet"
           }
          ],
          "heatmap": [
           {
            "colorbar": {
             "outlinewidth": 1,
             "tickcolor": "rgb(36,36,36)",
             "ticks": "outside"
            },
            "colorscale": [
             [
              0,
              "#440154"
             ],
             [
              0.1111111111111111,
              "#482878"
             ],
             [
              0.2222222222222222,
              "#3e4989"
             ],
             [
              0.3333333333333333,
              "#31688e"
             ],
             [
              0.4444444444444444,
              "#26828e"
             ],
             [
              0.5555555555555556,
              "#1f9e89"
             ],
             [
              0.6666666666666666,
              "#35b779"
             ],
             [
              0.7777777777777778,
              "#6ece58"
             ],
             [
              0.8888888888888888,
              "#b5de2b"
             ],
             [
              1,
              "#fde725"
             ]
            ],
            "type": "heatmap"
           }
          ],
          "heatmapgl": [
           {
            "colorbar": {
             "outlinewidth": 1,
             "tickcolor": "rgb(36,36,36)",
             "ticks": "outside"
            },
            "colorscale": [
             [
              0,
              "#440154"
             ],
             [
              0.1111111111111111,
              "#482878"
             ],
             [
              0.2222222222222222,
              "#3e4989"
             ],
             [
              0.3333333333333333,
              "#31688e"
             ],
             [
              0.4444444444444444,
              "#26828e"
             ],
             [
              0.5555555555555556,
              "#1f9e89"
             ],
             [
              0.6666666666666666,
              "#35b779"
             ],
             [
              0.7777777777777778,
              "#6ece58"
             ],
             [
              0.8888888888888888,
              "#b5de2b"
             ],
             [
              1,
              "#fde725"
             ]
            ],
            "type": "heatmapgl"
           }
          ],
          "histogram": [
           {
            "marker": {
             "line": {
              "color": "white",
              "width": 0.6
             }
            },
            "type": "histogram"
           }
          ],
          "histogram2d": [
           {
            "colorbar": {
             "outlinewidth": 1,
             "tickcolor": "rgb(36,36,36)",
             "ticks": "outside"
            },
            "colorscale": [
             [
              0,
              "#440154"
             ],
             [
              0.1111111111111111,
              "#482878"
             ],
             [
              0.2222222222222222,
              "#3e4989"
             ],
             [
              0.3333333333333333,
              "#31688e"
             ],
             [
              0.4444444444444444,
              "#26828e"
             ],
             [
              0.5555555555555556,
              "#1f9e89"
             ],
             [
              0.6666666666666666,
              "#35b779"
             ],
             [
              0.7777777777777778,
              "#6ece58"
             ],
             [
              0.8888888888888888,
              "#b5de2b"
             ],
             [
              1,
              "#fde725"
             ]
            ],
            "type": "histogram2d"
           }
          ],
          "histogram2dcontour": [
           {
            "colorbar": {
             "outlinewidth": 1,
             "tickcolor": "rgb(36,36,36)",
             "ticks": "outside"
            },
            "colorscale": [
             [
              0,
              "#440154"
             ],
             [
              0.1111111111111111,
              "#482878"
             ],
             [
              0.2222222222222222,
              "#3e4989"
             ],
             [
              0.3333333333333333,
              "#31688e"
             ],
             [
              0.4444444444444444,
              "#26828e"
             ],
             [
              0.5555555555555556,
              "#1f9e89"
             ],
             [
              0.6666666666666666,
              "#35b779"
             ],
             [
              0.7777777777777778,
              "#6ece58"
             ],
             [
              0.8888888888888888,
              "#b5de2b"
             ],
             [
              1,
              "#fde725"
             ]
            ],
            "type": "histogram2dcontour"
           }
          ],
          "mesh3d": [
           {
            "colorbar": {
             "outlinewidth": 1,
             "tickcolor": "rgb(36,36,36)",
             "ticks": "outside"
            },
            "type": "mesh3d"
           }
          ],
          "parcoords": [
           {
            "line": {
             "colorbar": {
              "outlinewidth": 1,
              "tickcolor": "rgb(36,36,36)",
              "ticks": "outside"
             }
            },
            "type": "parcoords"
           }
          ],
          "pie": [
           {
            "automargin": true,
            "type": "pie"
           }
          ],
          "scatter": [
           {
            "marker": {
             "colorbar": {
              "outlinewidth": 1,
              "tickcolor": "rgb(36,36,36)",
              "ticks": "outside"
             }
            },
            "type": "scatter"
           }
          ],
          "scatter3d": [
           {
            "line": {
             "colorbar": {
              "outlinewidth": 1,
              "tickcolor": "rgb(36,36,36)",
              "ticks": "outside"
             }
            },
            "marker": {
             "colorbar": {
              "outlinewidth": 1,
              "tickcolor": "rgb(36,36,36)",
              "ticks": "outside"
             }
            },
            "type": "scatter3d"
           }
          ],
          "scattercarpet": [
           {
            "marker": {
             "colorbar": {
              "outlinewidth": 1,
              "tickcolor": "rgb(36,36,36)",
              "ticks": "outside"
             }
            },
            "type": "scattercarpet"
           }
          ],
          "scattergeo": [
           {
            "marker": {
             "colorbar": {
              "outlinewidth": 1,
              "tickcolor": "rgb(36,36,36)",
              "ticks": "outside"
             }
            },
            "type": "scattergeo"
           }
          ],
          "scattergl": [
           {
            "marker": {
             "colorbar": {
              "outlinewidth": 1,
              "tickcolor": "rgb(36,36,36)",
              "ticks": "outside"
             }
            },
            "type": "scattergl"
           }
          ],
          "scattermapbox": [
           {
            "marker": {
             "colorbar": {
              "outlinewidth": 1,
              "tickcolor": "rgb(36,36,36)",
              "ticks": "outside"
             }
            },
            "type": "scattermapbox"
           }
          ],
          "scatterpolar": [
           {
            "marker": {
             "colorbar": {
              "outlinewidth": 1,
              "tickcolor": "rgb(36,36,36)",
              "ticks": "outside"
             }
            },
            "type": "scatterpolar"
           }
          ],
          "scatterpolargl": [
           {
            "marker": {
             "colorbar": {
              "outlinewidth": 1,
              "tickcolor": "rgb(36,36,36)",
              "ticks": "outside"
             }
            },
            "type": "scatterpolargl"
           }
          ],
          "scatterternary": [
           {
            "marker": {
             "colorbar": {
              "outlinewidth": 1,
              "tickcolor": "rgb(36,36,36)",
              "ticks": "outside"
             }
            },
            "type": "scatterternary"
           }
          ],
          "surface": [
           {
            "colorbar": {
             "outlinewidth": 1,
             "tickcolor": "rgb(36,36,36)",
             "ticks": "outside"
            },
            "colorscale": [
             [
              0,
              "#440154"
             ],
             [
              0.1111111111111111,
              "#482878"
             ],
             [
              0.2222222222222222,
              "#3e4989"
             ],
             [
              0.3333333333333333,
              "#31688e"
             ],
             [
              0.4444444444444444,
              "#26828e"
             ],
             [
              0.5555555555555556,
              "#1f9e89"
             ],
             [
              0.6666666666666666,
              "#35b779"
             ],
             [
              0.7777777777777778,
              "#6ece58"
             ],
             [
              0.8888888888888888,
              "#b5de2b"
             ],
             [
              1,
              "#fde725"
             ]
            ],
            "type": "surface"
           }
          ],
          "table": [
           {
            "cells": {
             "fill": {
              "color": "rgb(237,237,237)"
             },
             "line": {
              "color": "white"
             }
            },
            "header": {
             "fill": {
              "color": "rgb(217,217,217)"
             },
             "line": {
              "color": "white"
             }
            },
            "type": "table"
           }
          ]
         },
         "layout": {
          "annotationdefaults": {
           "arrowhead": 0,
           "arrowwidth": 1
          },
          "coloraxis": {
           "colorbar": {
            "outlinewidth": 1,
            "tickcolor": "rgb(36,36,36)",
            "ticks": "outside"
           }
          },
          "colorscale": {
           "diverging": [
            [
             0,
             "rgb(103,0,31)"
            ],
            [
             0.1,
             "rgb(178,24,43)"
            ],
            [
             0.2,
             "rgb(214,96,77)"
            ],
            [
             0.3,
             "rgb(244,165,130)"
            ],
            [
             0.4,
             "rgb(253,219,199)"
            ],
            [
             0.5,
             "rgb(247,247,247)"
            ],
            [
             0.6,
             "rgb(209,229,240)"
            ],
            [
             0.7,
             "rgb(146,197,222)"
            ],
            [
             0.8,
             "rgb(67,147,195)"
            ],
            [
             0.9,
             "rgb(33,102,172)"
            ],
            [
             1,
             "rgb(5,48,97)"
            ]
           ],
           "sequential": [
            [
             0,
             "#440154"
            ],
            [
             0.1111111111111111,
             "#482878"
            ],
            [
             0.2222222222222222,
             "#3e4989"
            ],
            [
             0.3333333333333333,
             "#31688e"
            ],
            [
             0.4444444444444444,
             "#26828e"
            ],
            [
             0.5555555555555556,
             "#1f9e89"
            ],
            [
             0.6666666666666666,
             "#35b779"
            ],
            [
             0.7777777777777778,
             "#6ece58"
            ],
            [
             0.8888888888888888,
             "#b5de2b"
            ],
            [
             1,
             "#fde725"
            ]
           ],
           "sequentialminus": [
            [
             0,
             "#440154"
            ],
            [
             0.1111111111111111,
             "#482878"
            ],
            [
             0.2222222222222222,
             "#3e4989"
            ],
            [
             0.3333333333333333,
             "#31688e"
            ],
            [
             0.4444444444444444,
             "#26828e"
            ],
            [
             0.5555555555555556,
             "#1f9e89"
            ],
            [
             0.6666666666666666,
             "#35b779"
            ],
            [
             0.7777777777777778,
             "#6ece58"
            ],
            [
             0.8888888888888888,
             "#b5de2b"
            ],
            [
             1,
             "#fde725"
            ]
           ]
          },
          "colorway": [
           "#1F77B4",
           "#FF7F0E",
           "#2CA02C",
           "#D62728",
           "#9467BD",
           "#8C564B",
           "#E377C2",
           "#7F7F7F",
           "#BCBD22",
           "#17BECF"
          ],
          "font": {
           "color": "rgb(36,36,36)"
          },
          "geo": {
           "bgcolor": "white",
           "lakecolor": "white",
           "landcolor": "white",
           "showlakes": true,
           "showland": true,
           "subunitcolor": "white"
          },
          "hoverlabel": {
           "align": "left"
          },
          "hovermode": "closest",
          "mapbox": {
           "style": "light"
          },
          "paper_bgcolor": "white",
          "plot_bgcolor": "white",
          "polar": {
           "angularaxis": {
            "gridcolor": "rgb(232,232,232)",
            "linecolor": "rgb(36,36,36)",
            "showgrid": false,
            "showline": true,
            "ticks": "outside"
           },
           "bgcolor": "white",
           "radialaxis": {
            "gridcolor": "rgb(232,232,232)",
            "linecolor": "rgb(36,36,36)",
            "showgrid": false,
            "showline": true,
            "ticks": "outside"
           }
          },
          "scene": {
           "xaxis": {
            "backgroundcolor": "white",
            "gridcolor": "rgb(232,232,232)",
            "gridwidth": 2,
            "linecolor": "rgb(36,36,36)",
            "showbackground": true,
            "showgrid": false,
            "showline": true,
            "ticks": "outside",
            "zeroline": false,
            "zerolinecolor": "rgb(36,36,36)"
           },
           "yaxis": {
            "backgroundcolor": "white",
            "gridcolor": "rgb(232,232,232)",
            "gridwidth": 2,
            "linecolor": "rgb(36,36,36)",
            "showbackground": true,
            "showgrid": false,
            "showline": true,
            "ticks": "outside",
            "zeroline": false,
            "zerolinecolor": "rgb(36,36,36)"
           },
           "zaxis": {
            "backgroundcolor": "white",
            "gridcolor": "rgb(232,232,232)",
            "gridwidth": 2,
            "linecolor": "rgb(36,36,36)",
            "showbackground": true,
            "showgrid": false,
            "showline": true,
            "ticks": "outside",
            "zeroline": false,
            "zerolinecolor": "rgb(36,36,36)"
           }
          },
          "shapedefaults": {
           "fillcolor": "black",
           "line": {
            "width": 0
           },
           "opacity": 0.3
          },
          "ternary": {
           "aaxis": {
            "gridcolor": "rgb(232,232,232)",
            "linecolor": "rgb(36,36,36)",
            "showgrid": false,
            "showline": true,
            "ticks": "outside"
           },
           "baxis": {
            "gridcolor": "rgb(232,232,232)",
            "linecolor": "rgb(36,36,36)",
            "showgrid": false,
            "showline": true,
            "ticks": "outside"
           },
           "bgcolor": "white",
           "caxis": {
            "gridcolor": "rgb(232,232,232)",
            "linecolor": "rgb(36,36,36)",
            "showgrid": false,
            "showline": true,
            "ticks": "outside"
           }
          },
          "title": {
           "x": 0.05
          },
          "xaxis": {
           "automargin": true,
           "gridcolor": "rgb(232,232,232)",
           "linecolor": "rgb(36,36,36)",
           "showgrid": false,
           "showline": true,
           "ticks": "outside",
           "title": {
            "standoff": 15
           },
           "zeroline": false,
           "zerolinecolor": "rgb(36,36,36)"
          },
          "yaxis": {
           "automargin": true,
           "gridcolor": "rgb(232,232,232)",
           "linecolor": "rgb(36,36,36)",
           "showgrid": false,
           "showline": true,
           "ticks": "outside",
           "title": {
            "standoff": 15
           },
           "zeroline": false,
           "zerolinecolor": "rgb(36,36,36)"
          }
         }
        },
        "width": 520,
        "xaxis": {
         "anchor": "y",
         "categoryarray": [
          "Phosphorylation",
          "Glutathionylation",
          "Oxidation",
          "Carbamyl",
          "Nitrosyl",
          "Cysteinyl"
         ],
         "categoryorder": "array",
         "domain": [
          0,
          1
         ],
         "title": {
          "text": "PTM"
         }
        },
        "yaxis": {
         "anchor": "x",
         "domain": [
          0,
          1
         ],
         "title": {
          "text": "log odds ratio"
         }
        }
       }
      }
     },
     "metadata": {},
     "output_type": "display_data"
    }
   ],
   "source": [
    "plot_enrichment(data=enrichment_all_inMotif_inHighAcc,\n",
    "                ptm_select=['Phosphorylation','Glutathionylation','Oxidation',\n",
    "                'Carbamyl', \"Nitrosyl\", \"Cysteinyl\"],\n",
    "                roi_select=['high_acc_5']\n",
    "                )"
   ]
  },
  {
   "cell_type": "code",
   "execution_count": 149,
   "metadata": {},
   "outputs": [],
   "source": [
    "enrichment_all_inMotif_inHighAcc.to_csv(\"c:/Users/marga/OneDrive/Desktop/summer project/ptm_enrichment/enrichment_all_inMotif_inHighAcc_own.tsv\", sep=\"\\t\", index=False)"
   ]
  },
  {
   "cell_type": "markdown",
   "metadata": {},
   "source": [
    "# Proximity analysis"
   ]
  },
  {
   "cell_type": "code",
   "execution_count": 150,
   "metadata": {},
   "outputs": [
    {
     "name": "stdout",
     "output_type": "stream",
     "text": [
      "         Unnamed: 0  protein_id  protein_number AA  position  quality  \\\n",
      "62               62  A0A024QZ33               1  R        60    93.94   \n",
      "63               63  A0A024QZ33               1  K        61    95.38   \n",
      "64               64  A0A024QZ33               1  K        62    89.88   \n",
      "65               65  A0A024QZ33               1  E        63    91.31   \n",
      "66               66  A0A024QZ33               1  Q        64    92.94   \n",
      "...             ...         ...             ... ..       ...      ...   \n",
      "1439642     1439642      X6RM59            2493  L       327    98.44   \n",
      "1439643     1439643      X6RM59            2493  Q       328    97.31   \n",
      "1439644     1439644      X6RM59            2493  K       329    96.50   \n",
      "1439645     1439645      X6RM59            2493  I       330    97.31   \n",
      "1439646     1439646      X6RM59            2493  L       331    95.81   \n",
      "\n",
      "         x_coord_c  x_coord_ca  x_coord_cb  x_coord_n  ...  \\\n",
      "62          -9.224      -8.332      -8.889     -6.938  ...   \n",
      "63          -9.373      -9.706      -9.381     -9.001  ...   \n",
      "64          -8.161      -7.640      -6.106     -8.083  ...   \n",
      "65         -10.263      -8.734      -8.343     -8.175  ...   \n",
      "66         -12.732     -12.423     -12.998    -10.987  ...   \n",
      "...            ...         ...         ...        ...  ...   \n",
      "1439642     -9.367      -8.905      -7.831    -10.025  ...   \n",
      "1439643    -11.690     -11.015     -11.940    -10.415  ...   \n",
      "1439644    -11.700     -12.738     -13.839    -12.150  ...   \n",
      "1439645     -8.548      -9.534      -8.783    -10.590  ...   \n",
      "1439646     -7.460      -7.015      -6.093     -8.131  ...   \n",
      "\n",
      "         flexible_pattern_extended_5  gloop  aloop  achelix  \\\n",
      "62                                 0    0.0    0.0      0.0   \n",
      "63                                 0    0.0    0.0      0.0   \n",
      "64                                 0    0.0    0.0      0.0   \n",
      "65                                 0    0.0    0.0      0.0   \n",
      "66                                 0    0.0    0.0      0.0   \n",
      "...                              ...    ...    ...      ...   \n",
      "1439642                            0    0.0    0.0      0.0   \n",
      "1439643                            0    0.0    0.0      0.0   \n",
      "1439644                            0    0.0    0.0      0.0   \n",
      "1439645                            0    0.0    0.0      0.0   \n",
      "1439646                            0    0.0    0.0      0.0   \n",
      "\n",
      "         Glutathionylation  Oxidation  Phosphorylation  Carbamyl Nitrosyl  \\\n",
      "62                     0.0        0.0              0.0       0.0      0.0   \n",
      "63                     0.0        0.0              0.0       0.0      0.0   \n",
      "64                     0.0        0.0              0.0       0.0      0.0   \n",
      "65                     0.0        0.0              0.0       0.0      0.0   \n",
      "66                     0.0        0.0              0.0       0.0      0.0   \n",
      "...                    ...        ...              ...       ...      ...   \n",
      "1439642                0.0        0.0              0.0       0.0      0.0   \n",
      "1439643                0.0        0.0              0.0       0.0      0.0   \n",
      "1439644                0.0        0.0              0.0       0.0      0.0   \n",
      "1439645                0.0        0.0              0.0       0.0      0.0   \n",
      "1439646                0.0        0.0              0.0       0.0      0.0   \n",
      "\n",
      "        Cysteinyl  \n",
      "62            0.0  \n",
      "63            0.0  \n",
      "64            0.0  \n",
      "65            0.0  \n",
      "66            0.0  \n",
      "...           ...  \n",
      "1439642       0.0  \n",
      "1439643       0.0  \n",
      "1439644       0.0  \n",
      "1439645       0.0  \n",
      "1439646       0.0  \n",
      "\n",
      "[925463 rows x 43 columns]\n"
     ]
    }
   ],
   "source": [
    "alphafold_ptms = pd.read_csv(r\"c:\\Users\\marga\\OneDrive\\Desktop\\summer project\\alphafold_ptms.csv\")\n",
    "#column_to_remove = 'AA_y'\n",
    "#alphafold_ptms.drop(column_to_remove, axis=1, inplace=True)  # axis=1 indicates columns, inplace=True modifies the DataFrame in place\n",
    "#print(alphafold_ptms)\n",
    "#current_column_name = 'AA_x'\n",
    "#new_column_name = 'AA'\n",
    "#alphafold_ptms.rename(columns={current_column_name: new_column_name}, inplace=True)\n",
    "\n",
    "alphafold_ptms_noIDRs = alphafold_ptms[(alphafold_ptms.IDR==0) | (alphafold_ptms.flexible_pattern==1)]\n",
    "print(alphafold_ptms_noIDRs)"
   ]
  },
  {
   "cell_type": "code",
   "execution_count": 151,
   "metadata": {},
   "outputs": [],
   "source": [
    "alphafold_ptms_onlyIDRs = alphafold_ptms[(alphafold_ptms.IDR==1) & (alphafold_ptms.flexible_pattern==0)]"
   ]
  },
  {
   "cell_type": "markdown",
   "metadata": {},
   "source": [
    "## Evaluate PTM co-localization "
   ]
  },
  {
   "cell_type": "code",
   "execution_count": 152,
   "metadata": {
    "scrolled": true
   },
   "outputs": [
    {
     "name": "stderr",
     "output_type": "stream",
     "text": [
      "100%|██████████| 2352/2352 [00:45<00:00, 51.52it/s] \n",
      "100%|██████████| 2352/2352 [01:10<00:00, 33.29it/s]\n",
      "100%|██████████| 2352/2352 [07:11<00:00,  5.45it/s]\n",
      "100%|██████████| 2352/2352 [01:18<00:00, 29.91it/s] \n",
      "100%|██████████| 2352/2352 [00:25<00:00, 93.79it/s] \n",
      "100%|██████████| 2352/2352 [00:22<00:00, 102.80it/s]\n"
     ]
    }
   ],
   "source": [
    "self_colocalization = evaluate_ptm_colocalization(\n",
    "    df=alphafold_ptms_noIDRs, \n",
    "    ptm_target='self',\n",
    "    ptm_types=['Phosphorylation', 'Glutathionylation','Oxidation',\n",
    "    'Carbamyl', \"Nitrosyl\", \"Cysteinyl\"], \n",
    "    ptm_dict=ptm_site_dict,\n",
    "    pae_dir=pae_dir,\n",
    "    min_dist = 1,\n",
    "    max_dist = 35,\n",
    "    dist_step = 5)\n",
    "\n",
    "# self_colocalization.to_csv('c:/Users/marga/OneDrive/Desktop/summer project/proximity_analysis/Fraction_of_modified_acceptor_residues_self_noIDRs_own.csv', index=False)"
   ]
  },
  {
   "cell_type": "code",
   "execution_count": 153,
   "metadata": {},
   "outputs": [
    {
     "data": {
      "application/vnd.plotly.v1+json": {
       "config": {
        "plotlyServerURL": "https://plot.ly",
        "toImageButtonOptions": {
         "filename": "Fraction of modified acceptor residues",
         "format": "svg"
        }
       },
       "data": [
        {
         "error_y": {
          "array": [
           0,
           0,
           0
          ]
         },
         "hovertemplate": "=Phosphorylation<br>distance bin=%{x}<br>Fraction of modified acceptors=%{y}<extra></extra>",
         "legendgroup": "Observed (p <= 0.01)",
         "marker": {
          "color": "rgb(177, 63, 100)",
          "symbol": "circle"
         },
         "mode": "markers",
         "name": "Observed (p <= 0.01)",
         "orientation": "v",
         "showlegend": true,
         "type": "scatter",
         "x": [
          6,
          31,
          36
         ],
         "xaxis": "x",
         "y": [
          0.05555555555555555,
          0,
          0
         ],
         "yaxis": "y"
        },
        {
         "error_y": {
          "array": [
           0,
           0,
           0
          ]
         },
         "hovertemplate": "=Glutathionylation<br>distance bin=%{x}<br>Fraction of modified acceptors=%{y}<extra></extra>",
         "legendgroup": "Observed (p <= 0.01)",
         "marker": {
          "color": "rgb(177, 63, 100)",
          "symbol": "circle"
         },
         "mode": "markers",
         "name": "Observed (p <= 0.01)",
         "orientation": "v",
         "showlegend": false,
         "type": "scatter",
         "x": [
          26,
          31,
          36
         ],
         "xaxis": "x2",
         "y": [
          0,
          0.0004079930369188366,
          0.0004386193932431727
         ],
         "yaxis": "y2"
        },
        {
         "error_y": {
          "array": [
           0,
           0,
           0,
           0
          ]
         },
         "hovertemplate": "=Oxidation<br>distance bin=%{x}<br>Fraction of modified acceptors=%{y}<extra></extra>",
         "legendgroup": "Observed (p <= 0.01)",
         "marker": {
          "color": "rgb(177, 63, 100)",
          "symbol": "circle"
         },
         "mode": "markers",
         "name": "Observed (p <= 0.01)",
         "orientation": "v",
         "showlegend": false,
         "type": "scatter",
         "x": [
          16,
          21,
          26,
          31
         ],
         "xaxis": "x3",
         "y": [
          0.000039438202801098354,
          0.00018333027782870286,
          0.00004020504573323952,
          0.0004072476733473088
         ],
         "yaxis": "y3"
        },
        {
         "error_y": {
          "array": [
           0,
           0,
           0
          ]
         },
         "hovertemplate": "=Carbamyl<br>distance bin=%{x}<br>Fraction of modified acceptors=%{y}<extra></extra>",
         "legendgroup": "Observed (p <= 0.01)",
         "marker": {
          "color": "rgb(177, 63, 100)",
          "symbol": "circle"
         },
         "mode": "markers",
         "name": "Observed (p <= 0.01)",
         "orientation": "v",
         "showlegend": false,
         "type": "scatter",
         "x": [
          26,
          31,
          36
         ],
         "xaxis": "x4",
         "y": [
          0,
          0,
          0
         ],
         "yaxis": "y4"
        },
        {
         "error_y": {
          "array": [
           0
          ]
         },
         "hovertemplate": "=Cysteinyl<br>distance bin=%{x}<br>Fraction of modified acceptors=%{y}<extra></extra>",
         "legendgroup": "Observed (p <= 0.01)",
         "marker": {
          "color": "rgb(177, 63, 100)",
          "symbol": "circle"
         },
         "mode": "markers",
         "name": "Observed (p <= 0.01)",
         "orientation": "v",
         "showlegend": false,
         "type": "scatter",
         "x": [
          16
         ],
         "xaxis": "x6",
         "y": [
          0.0010576414595452142
         ],
         "yaxis": "y6"
        },
        {
         "error_y": {
          "array": [
           0,
           0,
           0,
           0
          ]
         },
         "hovertemplate": "=Phosphorylation<br>distance bin=%{x}<br>Fraction of modified acceptors=%{y}<extra></extra>",
         "legendgroup": "Observed",
         "marker": {
          "color": "#FA8072",
          "symbol": "circle"
         },
         "mode": "markers",
         "name": "Observed",
         "orientation": "v",
         "showlegend": true,
         "type": "scatter",
         "x": [
          11,
          16,
          21,
          26
         ],
         "xaxis": "x",
         "y": [
          0.008565310492505354,
          0.0021551724137931034,
          0.0014749262536873156,
          0.0006119951040391676
         ],
         "yaxis": "y"
        },
        {
         "error_y": {
          "array": [
           0,
           0,
           0,
           0
          ]
         },
         "hovertemplate": "=Glutathionylation<br>distance bin=%{x}<br>Fraction of modified acceptors=%{y}<extra></extra>",
         "legendgroup": "Observed",
         "marker": {
          "color": "#FA8072",
          "symbol": "circle"
         },
         "mode": "markers",
         "name": "Observed",
         "orientation": "v",
         "showlegend": false,
         "type": "scatter",
         "x": [
          6,
          11,
          16,
          21
         ],
         "xaxis": "x2",
         "y": [
          0,
          0.00009971083856815236,
          0.00018799201033956056,
          0.00017417450451937005
         ],
         "yaxis": "y2"
        },
        {
         "error_y": {
          "array": [
           0,
           0,
           0
          ]
         },
         "hovertemplate": "=Oxidation<br>distance bin=%{x}<br>Fraction of modified acceptors=%{y}<extra></extra>",
         "legendgroup": "Observed",
         "marker": {
          "color": "#FA8072",
          "symbol": "circle"
         },
         "mode": "markers",
         "name": "Observed",
         "orientation": "v",
         "showlegend": false,
         "type": "scatter",
         "x": [
          6,
          11,
          36
         ],
         "xaxis": "x3",
         "y": [
          0.00010350895352447987,
          0.00017552826263158167,
          0.00022094061081311405
         ],
         "yaxis": "y3"
        },
        {
         "error_y": {
          "array": [
           0,
           0,
           0,
           0
          ]
         },
         "hovertemplate": "=Carbamyl<br>distance bin=%{x}<br>Fraction of modified acceptors=%{y}<extra></extra>",
         "legendgroup": "Observed",
         "marker": {
          "color": "#FA8072",
          "symbol": "circle"
         },
         "mode": "markers",
         "name": "Observed",
         "orientation": "v",
         "showlegend": false,
         "type": "scatter",
         "x": [
          6,
          11,
          16,
          21
         ],
         "xaxis": "x4",
         "y": [
          0,
          0,
          0,
          0.0004108463434675431
         ],
         "yaxis": "y4"
        },
        {
         "error_y": {
          "array": [
           0,
           0,
           0,
           0,
           0,
           0,
           0
          ]
         },
         "hovertemplate": "=Nitrosyl<br>distance bin=%{x}<br>Fraction of modified acceptors=%{y}<extra></extra>",
         "legendgroup": "Observed",
         "marker": {
          "color": "#FA8072",
          "symbol": "circle"
         },
         "mode": "markers",
         "name": "Observed",
         "orientation": "v",
         "showlegend": false,
         "type": "scatter",
         "x": [
          6,
          11,
          16,
          21,
          26,
          31,
          36
         ],
         "xaxis": "x5",
         "y": [
          0,
          0,
          0,
          0,
          0,
          0,
          0
         ],
         "yaxis": "y5"
        },
        {
         "error_y": {
          "array": [
           0,
           0,
           0,
           0,
           0,
           0
          ]
         },
         "hovertemplate": "=Cysteinyl<br>distance bin=%{x}<br>Fraction of modified acceptors=%{y}<extra></extra>",
         "legendgroup": "Observed",
         "marker": {
          "color": "#FA8072",
          "symbol": "circle"
         },
         "mode": "markers",
         "name": "Observed",
         "orientation": "v",
         "showlegend": false,
         "type": "scatter",
         "x": [
          6,
          11,
          21,
          26,
          31,
          36
         ],
         "xaxis": "x6",
         "y": [
          0,
          0,
          0.00021353833013025838,
          0,
          0.001081081081081081,
          0.0015978695073235686
         ],
         "yaxis": "y6"
        },
        {
         "error_y": {
          "array": [
           0.004259037557323346,
           0.002531455205168886,
           0.0013373041619039554,
           0.0011504840446506677,
           0.0013745537498779622,
           0.0010137809503707378,
           0.0003829420100756839
          ]
         },
         "hovertemplate": "=Phosphorylation<br>distance bin=%{x}<br>Fraction of modified acceptors=%{y}<extra></extra>",
         "legendgroup": "Random sampling",
         "marker": {
          "color": "grey",
          "symbol": "circle"
         },
         "mode": "markers",
         "name": "Random sampling",
         "orientation": "v",
         "showlegend": true,
         "type": "scatter",
         "x": [
          6,
          11,
          16,
          21,
          26,
          31,
          36
         ],
         "xaxis": "x",
         "y": [
          0.009321094637510973,
          0.005039008665680082,
          0.005191514187513964,
          0.0038766946658813453,
          0.003331612395693654,
          0.0038657328372321983,
          0.00351446657809376
         ],
         "yaxis": "y"
        },
        {
         "error_y": {
          "array": [
           0.00013378611115774208,
           0.00005816831058171898,
           0.000037531975288311134,
           0.000057660703471790606,
           0.000027160957806353257,
           0.00003633621265903829,
           0.000051707306908798036
          ]
         },
         "hovertemplate": "=Glutathionylation<br>distance bin=%{x}<br>Fraction of modified acceptors=%{y}<extra></extra>",
         "legendgroup": "Random sampling",
         "marker": {
          "color": "grey",
          "symbol": "circle"
         },
         "mode": "markers",
         "name": "Random sampling",
         "orientation": "v",
         "showlegend": false,
         "type": "scatter",
         "x": [
          6,
          11,
          16,
          21,
          26,
          31,
          36
         ],
         "xaxis": "x2",
         "y": [
          0.00010923318720187946,
          0.00021093195604218645,
          0.00019302067433945338,
          0.0001228742444779593,
          0.0001392278221044315,
          0.0002694201032027498,
          0.00025871024756528316
         ],
         "yaxis": "y2"
        },
        {
         "error_y": {
          "array": [
           0.000026592179270294958,
           0.000020954702580350377,
           0.00001203992019057926,
           0.000016972759990657594,
           0.000009637039705140801,
           0.000004652520973996576,
           0.000014006586684810458
          ]
         },
         "hovertemplate": "=Oxidation<br>distance bin=%{x}<br>Fraction of modified acceptors=%{y}<extra></extra>",
         "legendgroup": "Random sampling",
         "marker": {
          "color": "grey",
          "symbol": "circle"
         },
         "mode": "markers",
         "name": "Random sampling",
         "orientation": "v",
         "showlegend": false,
         "type": "scatter",
         "x": [
          6,
          11,
          16,
          21,
          26,
          31,
          36
         ],
         "xaxis": "x3",
         "y": [
          0.00014005739962924765,
          0.00015319869213492785,
          0.00011274899058058875,
          0.00014046450043508034,
          0.0001230813186970049,
          0.00020757074007735212,
          0.00019395723581391063
         ],
         "yaxis": "y3"
        },
        {
         "error_y": {
          "array": [
           0,
           0.0001643443068869739,
           0.00023919221453508796,
           0.00011420424056065213,
           0.00020148118569860243,
           0.00031572930047018665,
           0.0003622487119287903
          ]
         },
         "hovertemplate": "=Carbamyl<br>distance bin=%{x}<br>Fraction of modified acceptors=%{y}<extra></extra>",
         "legendgroup": "Random sampling",
         "marker": {
          "color": "grey",
          "symbol": "circle"
         },
         "mode": "markers",
         "name": "Random sampling",
         "orientation": "v",
         "showlegend": false,
         "type": "scatter",
         "x": [
          6,
          11,
          16,
          21,
          26,
          31,
          36
         ],
         "xaxis": "x4",
         "y": [
          0,
          0.00012367616903924823,
          0.0003475335259800988,
          0.0005556925984190854,
          0.0007293192680621883,
          0.0015498644160042675,
          0.0011672460064231914
         ],
         "yaxis": "y4"
        },
        {
         "error_y": {
          "array": [
           0,
           0,
           0,
           0,
           0,
           0,
           0
          ]
         },
         "hovertemplate": "=Nitrosyl<br>distance bin=%{x}<br>Fraction of modified acceptors=%{y}<extra></extra>",
         "legendgroup": "Random sampling",
         "marker": {
          "color": "grey",
          "symbol": "circle"
         },
         "mode": "markers",
         "name": "Random sampling",
         "orientation": "v",
         "showlegend": false,
         "type": "scatter",
         "x": [
          6,
          11,
          16,
          21,
          26,
          31,
          36
         ],
         "xaxis": "x5",
         "y": [
          0,
          0,
          0,
          0,
          0,
          0,
          0
         ],
         "yaxis": "y5"
        },
        {
         "error_y": {
          "array": [
           0,
           0.0005923324320641955,
           0.00031720250306010306,
           0.0004907963472209963,
           0.00043564854597950793,
           0.00025320409929102704,
           0.00031389894870331893
          ]
         },
         "hovertemplate": "=Cysteinyl<br>distance bin=%{x}<br>Fraction of modified acceptors=%{y}<extra></extra>",
         "legendgroup": "Random sampling",
         "marker": {
          "color": "grey",
          "symbol": "circle"
         },
         "mode": "markers",
         "name": "Random sampling",
         "orientation": "v",
         "showlegend": false,
         "type": "scatter",
         "x": [
          6,
          11,
          16,
          21,
          26,
          31,
          36
         ],
         "xaxis": "x6",
         "y": [
          0,
          0.00048352208589382743,
          0.0002589134743375891,
          0.00039633863575218206,
          0.0004030426376230218,
          0.0005937594322512698,
          0.0008878670275409052
         ],
         "yaxis": "y6"
        }
       ],
       "layout": {
        "annotations": [
         {
          "font": {},
          "showarrow": false,
          "text": "=Phosphorylation",
          "x": 0.0625,
          "xanchor": "center",
          "xref": "paper",
          "y": 1,
          "yanchor": "bottom",
          "yref": "paper"
         },
         {
          "font": {},
          "showarrow": false,
          "text": "=Glutathionylation",
          "x": 0.2375,
          "xanchor": "center",
          "xref": "paper",
          "y": 1,
          "yanchor": "bottom",
          "yref": "paper"
         },
         {
          "font": {},
          "showarrow": false,
          "text": "=Oxidation",
          "x": 0.4125,
          "xanchor": "center",
          "xref": "paper",
          "y": 1,
          "yanchor": "bottom",
          "yref": "paper"
         },
         {
          "font": {},
          "showarrow": false,
          "text": "=Carbamyl",
          "x": 0.5875,
          "xanchor": "center",
          "xref": "paper",
          "y": 1,
          "yanchor": "bottom",
          "yref": "paper"
         },
         {
          "font": {},
          "showarrow": false,
          "text": "=Nitrosyl",
          "x": 0.7625,
          "xanchor": "center",
          "xref": "paper",
          "y": 1,
          "yanchor": "bottom",
          "yref": "paper"
         },
         {
          "font": {},
          "showarrow": false,
          "text": "=Cysteinyl",
          "x": 0.9375,
          "xanchor": "center",
          "xref": "paper",
          "y": 1,
          "yanchor": "bottom",
          "yref": "paper"
         }
        ],
        "height": 350,
        "legend": {
         "title": {
          "text": ""
         },
         "tracegroupgap": 0
        },
        "margin": {
         "t": 60
        },
        "template": {
         "data": {
          "bar": [
           {
            "error_x": {
             "color": "rgb(36,36,36)"
            },
            "error_y": {
             "color": "rgb(36,36,36)"
            },
            "marker": {
             "line": {
              "color": "white",
              "width": 0.5
             }
            },
            "type": "bar"
           }
          ],
          "barpolar": [
           {
            "marker": {
             "line": {
              "color": "white",
              "width": 0.5
             }
            },
            "type": "barpolar"
           }
          ],
          "carpet": [
           {
            "aaxis": {
             "endlinecolor": "rgb(36,36,36)",
             "gridcolor": "white",
             "linecolor": "white",
             "minorgridcolor": "white",
             "startlinecolor": "rgb(36,36,36)"
            },
            "baxis": {
             "endlinecolor": "rgb(36,36,36)",
             "gridcolor": "white",
             "linecolor": "white",
             "minorgridcolor": "white",
             "startlinecolor": "rgb(36,36,36)"
            },
            "type": "carpet"
           }
          ],
          "choropleth": [
           {
            "colorbar": {
             "outlinewidth": 1,
             "tickcolor": "rgb(36,36,36)",
             "ticks": "outside"
            },
            "type": "choropleth"
           }
          ],
          "contour": [
           {
            "colorbar": {
             "outlinewidth": 1,
             "tickcolor": "rgb(36,36,36)",
             "ticks": "outside"
            },
            "colorscale": [
             [
              0,
              "#440154"
             ],
             [
              0.1111111111111111,
              "#482878"
             ],
             [
              0.2222222222222222,
              "#3e4989"
             ],
             [
              0.3333333333333333,
              "#31688e"
             ],
             [
              0.4444444444444444,
              "#26828e"
             ],
             [
              0.5555555555555556,
              "#1f9e89"
             ],
             [
              0.6666666666666666,
              "#35b779"
             ],
             [
              0.7777777777777778,
              "#6ece58"
             ],
             [
              0.8888888888888888,
              "#b5de2b"
             ],
             [
              1,
              "#fde725"
             ]
            ],
            "type": "contour"
           }
          ],
          "contourcarpet": [
           {
            "colorbar": {
             "outlinewidth": 1,
             "tickcolor": "rgb(36,36,36)",
             "ticks": "outside"
            },
            "type": "contourcarpet"
           }
          ],
          "heatmap": [
           {
            "colorbar": {
             "outlinewidth": 1,
             "tickcolor": "rgb(36,36,36)",
             "ticks": "outside"
            },
            "colorscale": [
             [
              0,
              "#440154"
             ],
             [
              0.1111111111111111,
              "#482878"
             ],
             [
              0.2222222222222222,
              "#3e4989"
             ],
             [
              0.3333333333333333,
              "#31688e"
             ],
             [
              0.4444444444444444,
              "#26828e"
             ],
             [
              0.5555555555555556,
              "#1f9e89"
             ],
             [
              0.6666666666666666,
              "#35b779"
             ],
             [
              0.7777777777777778,
              "#6ece58"
             ],
             [
              0.8888888888888888,
              "#b5de2b"
             ],
             [
              1,
              "#fde725"
             ]
            ],
            "type": "heatmap"
           }
          ],
          "heatmapgl": [
           {
            "colorbar": {
             "outlinewidth": 1,
             "tickcolor": "rgb(36,36,36)",
             "ticks": "outside"
            },
            "colorscale": [
             [
              0,
              "#440154"
             ],
             [
              0.1111111111111111,
              "#482878"
             ],
             [
              0.2222222222222222,
              "#3e4989"
             ],
             [
              0.3333333333333333,
              "#31688e"
             ],
             [
              0.4444444444444444,
              "#26828e"
             ],
             [
              0.5555555555555556,
              "#1f9e89"
             ],
             [
              0.6666666666666666,
              "#35b779"
             ],
             [
              0.7777777777777778,
              "#6ece58"
             ],
             [
              0.8888888888888888,
              "#b5de2b"
             ],
             [
              1,
              "#fde725"
             ]
            ],
            "type": "heatmapgl"
           }
          ],
          "histogram": [
           {
            "marker": {
             "line": {
              "color": "white",
              "width": 0.6
             }
            },
            "type": "histogram"
           }
          ],
          "histogram2d": [
           {
            "colorbar": {
             "outlinewidth": 1,
             "tickcolor": "rgb(36,36,36)",
             "ticks": "outside"
            },
            "colorscale": [
             [
              0,
              "#440154"
             ],
             [
              0.1111111111111111,
              "#482878"
             ],
             [
              0.2222222222222222,
              "#3e4989"
             ],
             [
              0.3333333333333333,
              "#31688e"
             ],
             [
              0.4444444444444444,
              "#26828e"
             ],
             [
              0.5555555555555556,
              "#1f9e89"
             ],
             [
              0.6666666666666666,
              "#35b779"
             ],
             [
              0.7777777777777778,
              "#6ece58"
             ],
             [
              0.8888888888888888,
              "#b5de2b"
             ],
             [
              1,
              "#fde725"
             ]
            ],
            "type": "histogram2d"
           }
          ],
          "histogram2dcontour": [
           {
            "colorbar": {
             "outlinewidth": 1,
             "tickcolor": "rgb(36,36,36)",
             "ticks": "outside"
            },
            "colorscale": [
             [
              0,
              "#440154"
             ],
             [
              0.1111111111111111,
              "#482878"
             ],
             [
              0.2222222222222222,
              "#3e4989"
             ],
             [
              0.3333333333333333,
              "#31688e"
             ],
             [
              0.4444444444444444,
              "#26828e"
             ],
             [
              0.5555555555555556,
              "#1f9e89"
             ],
             [
              0.6666666666666666,
              "#35b779"
             ],
             [
              0.7777777777777778,
              "#6ece58"
             ],
             [
              0.8888888888888888,
              "#b5de2b"
             ],
             [
              1,
              "#fde725"
             ]
            ],
            "type": "histogram2dcontour"
           }
          ],
          "mesh3d": [
           {
            "colorbar": {
             "outlinewidth": 1,
             "tickcolor": "rgb(36,36,36)",
             "ticks": "outside"
            },
            "type": "mesh3d"
           }
          ],
          "parcoords": [
           {
            "line": {
             "colorbar": {
              "outlinewidth": 1,
              "tickcolor": "rgb(36,36,36)",
              "ticks": "outside"
             }
            },
            "type": "parcoords"
           }
          ],
          "pie": [
           {
            "automargin": true,
            "type": "pie"
           }
          ],
          "scatter": [
           {
            "marker": {
             "colorbar": {
              "outlinewidth": 1,
              "tickcolor": "rgb(36,36,36)",
              "ticks": "outside"
             }
            },
            "type": "scatter"
           }
          ],
          "scatter3d": [
           {
            "line": {
             "colorbar": {
              "outlinewidth": 1,
              "tickcolor": "rgb(36,36,36)",
              "ticks": "outside"
             }
            },
            "marker": {
             "colorbar": {
              "outlinewidth": 1,
              "tickcolor": "rgb(36,36,36)",
              "ticks": "outside"
             }
            },
            "type": "scatter3d"
           }
          ],
          "scattercarpet": [
           {
            "marker": {
             "colorbar": {
              "outlinewidth": 1,
              "tickcolor": "rgb(36,36,36)",
              "ticks": "outside"
             }
            },
            "type": "scattercarpet"
           }
          ],
          "scattergeo": [
           {
            "marker": {
             "colorbar": {
              "outlinewidth": 1,
              "tickcolor": "rgb(36,36,36)",
              "ticks": "outside"
             }
            },
            "type": "scattergeo"
           }
          ],
          "scattergl": [
           {
            "marker": {
             "colorbar": {
              "outlinewidth": 1,
              "tickcolor": "rgb(36,36,36)",
              "ticks": "outside"
             }
            },
            "type": "scattergl"
           }
          ],
          "scattermapbox": [
           {
            "marker": {
             "colorbar": {
              "outlinewidth": 1,
              "tickcolor": "rgb(36,36,36)",
              "ticks": "outside"
             }
            },
            "type": "scattermapbox"
           }
          ],
          "scatterpolar": [
           {
            "marker": {
             "colorbar": {
              "outlinewidth": 1,
              "tickcolor": "rgb(36,36,36)",
              "ticks": "outside"
             }
            },
            "type": "scatterpolar"
           }
          ],
          "scatterpolargl": [
           {
            "marker": {
             "colorbar": {
              "outlinewidth": 1,
              "tickcolor": "rgb(36,36,36)",
              "ticks": "outside"
             }
            },
            "type": "scatterpolargl"
           }
          ],
          "scatterternary": [
           {
            "marker": {
             "colorbar": {
              "outlinewidth": 1,
              "tickcolor": "rgb(36,36,36)",
              "ticks": "outside"
             }
            },
            "type": "scatterternary"
           }
          ],
          "surface": [
           {
            "colorbar": {
             "outlinewidth": 1,
             "tickcolor": "rgb(36,36,36)",
             "ticks": "outside"
            },
            "colorscale": [
             [
              0,
              "#440154"
             ],
             [
              0.1111111111111111,
              "#482878"
             ],
             [
              0.2222222222222222,
              "#3e4989"
             ],
             [
              0.3333333333333333,
              "#31688e"
             ],
             [
              0.4444444444444444,
              "#26828e"
             ],
             [
              0.5555555555555556,
              "#1f9e89"
             ],
             [
              0.6666666666666666,
              "#35b779"
             ],
             [
              0.7777777777777778,
              "#6ece58"
             ],
             [
              0.8888888888888888,
              "#b5de2b"
             ],
             [
              1,
              "#fde725"
             ]
            ],
            "type": "surface"
           }
          ],
          "table": [
           {
            "cells": {
             "fill": {
              "color": "rgb(237,237,237)"
             },
             "line": {
              "color": "white"
             }
            },
            "header": {
             "fill": {
              "color": "rgb(217,217,217)"
             },
             "line": {
              "color": "white"
             }
            },
            "type": "table"
           }
          ]
         },
         "layout": {
          "annotationdefaults": {
           "arrowhead": 0,
           "arrowwidth": 1
          },
          "coloraxis": {
           "colorbar": {
            "outlinewidth": 1,
            "tickcolor": "rgb(36,36,36)",
            "ticks": "outside"
           }
          },
          "colorscale": {
           "diverging": [
            [
             0,
             "rgb(103,0,31)"
            ],
            [
             0.1,
             "rgb(178,24,43)"
            ],
            [
             0.2,
             "rgb(214,96,77)"
            ],
            [
             0.3,
             "rgb(244,165,130)"
            ],
            [
             0.4,
             "rgb(253,219,199)"
            ],
            [
             0.5,
             "rgb(247,247,247)"
            ],
            [
             0.6,
             "rgb(209,229,240)"
            ],
            [
             0.7,
             "rgb(146,197,222)"
            ],
            [
             0.8,
             "rgb(67,147,195)"
            ],
            [
             0.9,
             "rgb(33,102,172)"
            ],
            [
             1,
             "rgb(5,48,97)"
            ]
           ],
           "sequential": [
            [
             0,
             "#440154"
            ],
            [
             0.1111111111111111,
             "#482878"
            ],
            [
             0.2222222222222222,
             "#3e4989"
            ],
            [
             0.3333333333333333,
             "#31688e"
            ],
            [
             0.4444444444444444,
             "#26828e"
            ],
            [
             0.5555555555555556,
             "#1f9e89"
            ],
            [
             0.6666666666666666,
             "#35b779"
            ],
            [
             0.7777777777777778,
             "#6ece58"
            ],
            [
             0.8888888888888888,
             "#b5de2b"
            ],
            [
             1,
             "#fde725"
            ]
           ],
           "sequentialminus": [
            [
             0,
             "#440154"
            ],
            [
             0.1111111111111111,
             "#482878"
            ],
            [
             0.2222222222222222,
             "#3e4989"
            ],
            [
             0.3333333333333333,
             "#31688e"
            ],
            [
             0.4444444444444444,
             "#26828e"
            ],
            [
             0.5555555555555556,
             "#1f9e89"
            ],
            [
             0.6666666666666666,
             "#35b779"
            ],
            [
             0.7777777777777778,
             "#6ece58"
            ],
            [
             0.8888888888888888,
             "#b5de2b"
            ],
            [
             1,
             "#fde725"
            ]
           ]
          },
          "colorway": [
           "#1F77B4",
           "#FF7F0E",
           "#2CA02C",
           "#D62728",
           "#9467BD",
           "#8C564B",
           "#E377C2",
           "#7F7F7F",
           "#BCBD22",
           "#17BECF"
          ],
          "font": {
           "color": "rgb(36,36,36)"
          },
          "geo": {
           "bgcolor": "white",
           "lakecolor": "white",
           "landcolor": "white",
           "showlakes": true,
           "showland": true,
           "subunitcolor": "white"
          },
          "hoverlabel": {
           "align": "left"
          },
          "hovermode": "closest",
          "mapbox": {
           "style": "light"
          },
          "paper_bgcolor": "white",
          "plot_bgcolor": "white",
          "polar": {
           "angularaxis": {
            "gridcolor": "rgb(232,232,232)",
            "linecolor": "rgb(36,36,36)",
            "showgrid": false,
            "showline": true,
            "ticks": "outside"
           },
           "bgcolor": "white",
           "radialaxis": {
            "gridcolor": "rgb(232,232,232)",
            "linecolor": "rgb(36,36,36)",
            "showgrid": false,
            "showline": true,
            "ticks": "outside"
           }
          },
          "scene": {
           "xaxis": {
            "backgroundcolor": "white",
            "gridcolor": "rgb(232,232,232)",
            "gridwidth": 2,
            "linecolor": "rgb(36,36,36)",
            "showbackground": true,
            "showgrid": false,
            "showline": true,
            "ticks": "outside",
            "zeroline": false,
            "zerolinecolor": "rgb(36,36,36)"
           },
           "yaxis": {
            "backgroundcolor": "white",
            "gridcolor": "rgb(232,232,232)",
            "gridwidth": 2,
            "linecolor": "rgb(36,36,36)",
            "showbackground": true,
            "showgrid": false,
            "showline": true,
            "ticks": "outside",
            "zeroline": false,
            "zerolinecolor": "rgb(36,36,36)"
           },
           "zaxis": {
            "backgroundcolor": "white",
            "gridcolor": "rgb(232,232,232)",
            "gridwidth": 2,
            "linecolor": "rgb(36,36,36)",
            "showbackground": true,
            "showgrid": false,
            "showline": true,
            "ticks": "outside",
            "zeroline": false,
            "zerolinecolor": "rgb(36,36,36)"
           }
          },
          "shapedefaults": {
           "fillcolor": "black",
           "line": {
            "width": 0
           },
           "opacity": 0.3
          },
          "ternary": {
           "aaxis": {
            "gridcolor": "rgb(232,232,232)",
            "linecolor": "rgb(36,36,36)",
            "showgrid": false,
            "showline": true,
            "ticks": "outside"
           },
           "baxis": {
            "gridcolor": "rgb(232,232,232)",
            "linecolor": "rgb(36,36,36)",
            "showgrid": false,
            "showline": true,
            "ticks": "outside"
           },
           "bgcolor": "white",
           "caxis": {
            "gridcolor": "rgb(232,232,232)",
            "linecolor": "rgb(36,36,36)",
            "showgrid": false,
            "showline": true,
            "ticks": "outside"
           }
          },
          "title": {
           "x": 0.05
          },
          "xaxis": {
           "automargin": true,
           "gridcolor": "rgb(232,232,232)",
           "linecolor": "rgb(36,36,36)",
           "showgrid": false,
           "showline": true,
           "ticks": "outside",
           "title": {
            "standoff": 15
           },
           "zeroline": false,
           "zerolinecolor": "rgb(36,36,36)"
          },
          "yaxis": {
           "automargin": true,
           "gridcolor": "rgb(232,232,232)",
           "linecolor": "rgb(36,36,36)",
           "showgrid": false,
           "showline": true,
           "ticks": "outside",
           "title": {
            "standoff": 15
           },
           "zeroline": false,
           "zerolinecolor": "rgb(36,36,36)"
          }
         }
        },
        "title": {
         "text": "Fraction of modified acceptor residues"
        },
        "width": 1500,
        "xaxis": {
         "anchor": "y",
         "domain": [
          0,
          0.125
         ],
         "title": {
          "text": "distance bin"
         }
        },
        "xaxis2": {
         "anchor": "y2",
         "domain": [
          0.175,
          0.3
         ],
         "matches": "x",
         "title": {
          "text": "distance bin"
         }
        },
        "xaxis3": {
         "anchor": "y3",
         "domain": [
          0.35,
          0.475
         ],
         "matches": "x",
         "title": {
          "text": "distance bin"
         }
        },
        "xaxis4": {
         "anchor": "y4",
         "domain": [
          0.525,
          0.65
         ],
         "matches": "x",
         "title": {
          "text": "distance bin"
         }
        },
        "xaxis5": {
         "anchor": "y5",
         "domain": [
          0.7,
          0.825
         ],
         "matches": "x",
         "title": {
          "text": "distance bin"
         }
        },
        "xaxis6": {
         "anchor": "y6",
         "domain": [
          0.875,
          1
         ],
         "matches": "x",
         "title": {
          "text": "distance bin"
         }
        },
        "yaxis": {
         "anchor": "x",
         "domain": [
          0,
          1
         ],
         "showticklabels": true,
         "title": {
          "text": "Fraction of modified acceptors"
         }
        },
        "yaxis2": {
         "anchor": "x2",
         "domain": [
          0,
          1
         ],
         "showticklabels": true
        },
        "yaxis3": {
         "anchor": "x3",
         "domain": [
          0,
          1
         ],
         "showticklabels": true
        },
        "yaxis4": {
         "anchor": "x4",
         "domain": [
          0,
          1
         ],
         "showticklabels": true
        },
        "yaxis5": {
         "anchor": "x5",
         "domain": [
          0,
          1
         ],
         "showticklabels": true
        },
        "yaxis6": {
         "anchor": "x6",
         "domain": [
          0,
          1
         ],
         "showticklabels": true
        }
       }
      }
     },
     "metadata": {},
     "output_type": "display_data"
    }
   ],
   "source": [
    "plot_ptm_colocalization(self_colocalization, context=\"3D\", plot_width=1500)"
   ]
  },
  {
   "cell_type": "code",
   "execution_count": 154,
   "metadata": {
    "scrolled": true
   },
   "outputs": [
    {
     "name": "stderr",
     "output_type": "stream",
     "text": [
      "100%|██████████| 2352/2352 [00:16<00:00, 139.71it/s]\n",
      "100%|██████████| 2352/2352 [03:46<00:00, 10.39it/s]\n",
      "100%|██████████| 2352/2352 [01:20<00:00, 29.33it/s] \n",
      "100%|██████████| 2352/2352 [00:45<00:00, 51.33it/s] \n",
      "100%|██████████| 2352/2352 [00:50<00:00, 47.02it/s] \n"
     ]
    }
   ],
   "source": [
    "glu_colocalization = evaluate_ptm_colocalization(\n",
    "    df=alphafold_ptms_noIDRs, \n",
    "    ptm_target='Glutathionylation',\n",
    "    ptm_types=[\"Phosphorylation\", 'Oxidation',\n",
    "    'Carbamyl', \"Nitrosyl\", \"Cysteinyl\"], \n",
    "    ptm_dict=ptm_site_dict,\n",
    "    pae_dir=pae_dir,\n",
    "    min_dist = 0,\n",
    "    max_dist = 35,\n",
    "    dist_step = 5)\n",
    "\n",
    "glu_colocalization.to_csv('c:/Users/marga/OneDrive/Desktop/summer project/proximity_analysis/Fraction_of_modified_acceptor_residues_glu_colocalization_noIDRs_own.csv', index=False)\n",
    "\n",
    "# plot_ptm_colocalization(p_colocalization)"
   ]
  },
  {
   "cell_type": "code",
   "execution_count": 155,
   "metadata": {},
   "outputs": [
    {
     "data": {
      "application/vnd.plotly.v1+json": {
       "config": {
        "plotlyServerURL": "https://plot.ly",
        "toImageButtonOptions": {
         "filename": "Fraction of modified acceptor residues",
         "format": "svg"
        }
       },
       "data": [
        {
         "error_y": {
          "array": [
           0,
           0,
           0,
           0,
           0,
           0
          ]
         },
         "hovertemplate": "=Phosphorylation<br>distance bin=%{x}<br>Fraction of modified acceptors=%{y}<extra></extra>",
         "legendgroup": "Observed",
         "marker": {
          "color": "rgb(177, 63, 100)",
          "symbol": "circle"
         },
         "mode": "markers",
         "name": "Observed",
         "orientation": "v",
         "showlegend": true,
         "type": "scatter",
         "x": [
          5,
          10,
          15,
          20,
          25,
          30
         ],
         "xaxis": "x",
         "y": [
          0.006920415224913495,
          0,
          0.011396011396011397,
          0.004506196019526849,
          0.0020722320899940793,
          0.012211668928086838
         ],
         "yaxis": "y"
        },
        {
         "error_y": {
          "array": [
           0,
           0,
           0,
           0
          ]
         },
         "hovertemplate": "=Oxidation<br>distance bin=%{x}<br>Fraction of modified acceptors=%{y}<extra></extra>",
         "legendgroup": "Observed",
         "marker": {
          "color": "rgb(177, 63, 100)",
          "symbol": "circle"
         },
         "mode": "markers",
         "name": "Observed",
         "orientation": "v",
         "showlegend": false,
         "type": "scatter",
         "x": [
          5,
          15,
          25,
          35
         ],
         "xaxis": "x2",
         "y": [
          0.015736866036267234,
          0.01119873315820693,
          0.009944272689679618,
          0.008126479517459978
         ],
         "yaxis": "y2"
        },
        {
         "error_y": {
          "array": [
           0
          ]
         },
         "hovertemplate": "=Carbamyl<br>distance bin=%{x}<br>Fraction of modified acceptors=%{y}<extra></extra>",
         "legendgroup": "Observed",
         "marker": {
          "color": "rgb(177, 63, 100)",
          "symbol": "circle"
         },
         "mode": "markers",
         "name": "Observed",
         "orientation": "v",
         "showlegend": false,
         "type": "scatter",
         "x": [
          35
         ],
         "xaxis": "x3",
         "y": [
          0.01171573917064899
         ],
         "yaxis": "y3"
        },
        {
         "error_y": {
          "array": [
           0,
           0,
           0,
           0,
           0,
           0
          ]
         },
         "hovertemplate": "=Nitrosyl<br>distance bin=%{x}<br>Fraction of modified acceptors=%{y}<extra></extra>",
         "legendgroup": "Observed",
         "marker": {
          "color": "rgb(177, 63, 100)",
          "symbol": "circle"
         },
         "mode": "markers",
         "name": "Observed",
         "orientation": "v",
         "showlegend": false,
         "type": "scatter",
         "x": [
          10,
          15,
          20,
          25,
          30,
          35
         ],
         "xaxis": "x4",
         "y": [
          0,
          0,
          0,
          0.0011389521640091116,
          0.0010775862068965517,
          0
         ],
         "yaxis": "y4"
        },
        {
         "error_y": {
          "array": [
           0,
           0,
           0,
           0
          ]
         },
         "hovertemplate": "=Cysteinyl<br>distance bin=%{x}<br>Fraction of modified acceptors=%{y}<extra></extra>",
         "legendgroup": "Observed",
         "marker": {
          "color": "rgb(177, 63, 100)",
          "symbol": "circle"
         },
         "mode": "markers",
         "name": "Observed",
         "orientation": "v",
         "showlegend": false,
         "type": "scatter",
         "x": [
          10,
          20,
          25,
          30
         ],
         "xaxis": "x5",
         "y": [
          0.022743947175348497,
          0.01669797537048633,
          0.0281557067271353,
          0.01655364978061428
         ],
         "yaxis": "y5"
        },
        {
         "error_y": {
          "array": [
           0
          ]
         },
         "hovertemplate": "=Phosphorylation<br>distance bin=%{x}<br>Fraction of modified acceptors=%{y}<extra></extra>",
         "legendgroup": "Observed (p <= 0.01)",
         "marker": {
          "color": "#FA8072",
          "symbol": "circle"
         },
         "mode": "markers",
         "name": "Observed (p <= 0.01)",
         "orientation": "v",
         "showlegend": true,
         "type": "scatter",
         "x": [
          35
         ],
         "xaxis": "x",
         "y": [
          0
         ],
         "yaxis": "y"
        },
        {
         "error_y": {
          "array": [
           0,
           0,
           0
          ]
         },
         "hovertemplate": "=Oxidation<br>distance bin=%{x}<br>Fraction of modified acceptors=%{y}<extra></extra>",
         "legendgroup": "Observed (p <= 0.01)",
         "marker": {
          "color": "#FA8072",
          "symbol": "circle"
         },
         "mode": "markers",
         "name": "Observed (p <= 0.01)",
         "orientation": "v",
         "showlegend": false,
         "type": "scatter",
         "x": [
          10,
          20,
          30
         ],
         "xaxis": "x2",
         "y": [
          0.005789702225087833,
          0.010756847933702468,
          0.009764767248472818
         ],
         "yaxis": "y2"
        },
        {
         "error_y": {
          "array": [
           0,
           0,
           0,
           0,
           0,
           0
          ]
         },
         "hovertemplate": "=Carbamyl<br>distance bin=%{x}<br>Fraction of modified acceptors=%{y}<extra></extra>",
         "legendgroup": "Observed (p <= 0.01)",
         "marker": {
          "color": "#FA8072",
          "symbol": "circle"
         },
         "mode": "markers",
         "name": "Observed (p <= 0.01)",
         "orientation": "v",
         "showlegend": false,
         "type": "scatter",
         "x": [
          5,
          10,
          15,
          20,
          25,
          30
         ],
         "xaxis": "x3",
         "y": [
          0,
          0,
          0,
          0.0016884761502743773,
          0.03444564047362755,
          0.04169611307420495
         ],
         "yaxis": "y3"
        },
        {
         "error_y": {
          "array": [
           0
          ]
         },
         "hovertemplate": "=Nitrosyl<br>distance bin=%{x}<br>Fraction of modified acceptors=%{y}<extra></extra>",
         "legendgroup": "Observed (p <= 0.01)",
         "marker": {
          "color": "#FA8072",
          "symbol": "circle"
         },
         "mode": "markers",
         "name": "Observed (p <= 0.01)",
         "orientation": "v",
         "showlegend": false,
         "type": "scatter",
         "x": [
          5
         ],
         "xaxis": "x4",
         "y": [
          0.04081632653061224
         ],
         "yaxis": "y4"
        },
        {
         "error_y": {
          "array": [
           0,
           0,
           0
          ]
         },
         "hovertemplate": "=Cysteinyl<br>distance bin=%{x}<br>Fraction of modified acceptors=%{y}<extra></extra>",
         "legendgroup": "Observed (p <= 0.01)",
         "marker": {
          "color": "#FA8072",
          "symbol": "circle"
         },
         "mode": "markers",
         "name": "Observed (p <= 0.01)",
         "orientation": "v",
         "showlegend": false,
         "type": "scatter",
         "x": [
          5,
          15,
          35
         ],
         "xaxis": "x5",
         "y": [
          0.5389830508474577,
          0.0226628895184136,
          0.00914257474672597
         ],
         "yaxis": "y5"
        },
        {
         "error_y": {
          "array": [
           0.012286727368656583,
           0.008011673407996819,
           0.006726746346496205,
           0.003116169684258795,
           0.00257204025487332,
           0.0026886565265374193,
           0.0012196333528747467
          ]
         },
         "hovertemplate": "=Phosphorylation<br>distance bin=%{x}<br>Fraction of modified acceptors=%{y}<extra></extra>",
         "legendgroup": "Random sampling",
         "marker": {
          "color": "grey",
          "symbol": "circle"
         },
         "mode": "markers",
         "name": "Random sampling",
         "orientation": "v",
         "showlegend": true,
         "type": "scatter",
         "x": [
          5,
          10,
          15,
          20,
          25,
          30,
          35
         ],
         "xaxis": "x",
         "y": [
          0.010031742287999842,
          0.014347576805621839,
          0.005290964938844898,
          0.004329582344098735,
          0.003932733275429576,
          0.007292385261152673,
          0.0030229019896950275
         ],
         "yaxis": "y"
        },
        {
         "error_y": {
          "array": [
           0.0008024679562459594,
           0.0003874249940354688,
           0.000255114965415235,
           0.00013767579812008752,
           0.00029123592440664307,
           0.00007842741918895522,
           0.00030642620773597826
          ]
         },
         "hovertemplate": "=Oxidation<br>distance bin=%{x}<br>Fraction of modified acceptors=%{y}<extra></extra>",
         "legendgroup": "Random sampling",
         "marker": {
          "color": "grey",
          "symbol": "circle"
         },
         "mode": "markers",
         "name": "Random sampling",
         "orientation": "v",
         "showlegend": false,
         "type": "scatter",
         "x": [
          5,
          10,
          15,
          20,
          25,
          30,
          35
         ],
         "xaxis": "x2",
         "y": [
          0.017563895041007194,
          0.010218134317030458,
          0.010894728499006929,
          0.010049842453860147,
          0.00946953785970648,
          0.00911239931628002,
          0.0077399298068561205
         ],
         "yaxis": "y2"
        },
        {
         "error_y": {
          "array": [
           0.003719187545449936,
           0.0057561753948418195,
           0.004492050242899709,
           0.0019505934346922685,
           0.0030664133600407013,
           0.0019160510324328847,
           0.001284648575829896
          ]
         },
         "hovertemplate": "=Carbamyl<br>distance bin=%{x}<br>Fraction of modified acceptors=%{y}<extra></extra>",
         "legendgroup": "Random sampling",
         "marker": {
          "color": "grey",
          "symbol": "circle"
         },
         "mode": "markers",
         "name": "Random sampling",
         "orientation": "v",
         "showlegend": false,
         "type": "scatter",
         "x": [
          5,
          10,
          15,
          20,
          25,
          30,
          35
         ],
         "xaxis": "x3",
         "y": [
          0.022865526183174244,
          0.01994769624477393,
          0.022847859788479717,
          0.02093204963971119,
          0.021260612042022318,
          0.029946883838890583,
          0.014277262181864725
         ],
         "yaxis": "y3"
        },
        {
         "error_y": {
          "array": [
           0.010417271191394455,
           0,
           0.000903954802259887,
           0.001298603334846714,
           0.001643983153246707,
           0.0008804287578821979,
           0.0011989680267694462
          ]
         },
         "hovertemplate": "=Nitrosyl<br>distance bin=%{x}<br>Fraction of modified acceptors=%{y}<extra></extra>",
         "legendgroup": "Random sampling",
         "marker": {
          "color": "grey",
          "symbol": "circle"
         },
         "mode": "markers",
         "name": "Random sampling",
         "orientation": "v",
         "showlegend": false,
         "type": "scatter",
         "x": [
          5,
          10,
          15,
          20,
          25,
          30,
          35
         ],
         "xaxis": "x4",
         "y": [
          0.007919911012235816,
          0,
          0.0004519774011299435,
          0.001056506331180178,
          0.0012606200674956994,
          0.0016900175785726252,
          0.001819871510695941
         ],
         "yaxis": "y4"
        },
        {
         "error_y": {
          "array": [
           0.0376078806462514,
           0.009610224110814632,
           0.0025550716027999947,
           0.007620164282200644,
           0.0022948538093096687,
           0.006131984223948149,
           0.0027446812669448305
          ]
         },
         "hovertemplate": "=Cysteinyl<br>distance bin=%{x}<br>Fraction of modified acceptors=%{y}<extra></extra>",
         "legendgroup": "Random sampling",
         "marker": {
          "color": "grey",
          "symbol": "circle"
         },
         "mode": "markers",
         "name": "Random sampling",
         "orientation": "v",
         "showlegend": false,
         "type": "scatter",
         "x": [
          5,
          10,
          15,
          20,
          25,
          30,
          35
         ],
         "xaxis": "x5",
         "y": [
          0.05943506503598631,
          0.04268371500554424,
          0.04172772759281008,
          0.030144869133752677,
          0.03274963375231646,
          0.028420029221208655,
          0.02108040566317661
         ],
         "yaxis": "y5"
        }
       ],
       "layout": {
        "annotations": [
         {
          "font": {},
          "showarrow": false,
          "text": "=Phosphorylation",
          "x": 0.08000000000000002,
          "xanchor": "center",
          "xref": "paper",
          "y": 1,
          "yanchor": "bottom",
          "yref": "paper"
         },
         {
          "font": {},
          "showarrow": false,
          "text": "=Oxidation",
          "x": 0.29000000000000004,
          "xanchor": "center",
          "xref": "paper",
          "y": 1,
          "yanchor": "bottom",
          "yref": "paper"
         },
         {
          "font": {},
          "showarrow": false,
          "text": "=Carbamyl",
          "x": 0.5,
          "xanchor": "center",
          "xref": "paper",
          "y": 1,
          "yanchor": "bottom",
          "yref": "paper"
         },
         {
          "font": {},
          "showarrow": false,
          "text": "=Nitrosyl",
          "x": 0.7100000000000002,
          "xanchor": "center",
          "xref": "paper",
          "y": 1,
          "yanchor": "bottom",
          "yref": "paper"
         },
         {
          "font": {},
          "showarrow": false,
          "text": "=Cysteinyl",
          "x": 0.92,
          "xanchor": "center",
          "xref": "paper",
          "y": 1,
          "yanchor": "bottom",
          "yref": "paper"
         }
        ],
        "height": 350,
        "legend": {
         "title": {
          "text": ""
         },
         "tracegroupgap": 0
        },
        "margin": {
         "t": 60
        },
        "template": {
         "data": {
          "bar": [
           {
            "error_x": {
             "color": "rgb(36,36,36)"
            },
            "error_y": {
             "color": "rgb(36,36,36)"
            },
            "marker": {
             "line": {
              "color": "white",
              "width": 0.5
             }
            },
            "type": "bar"
           }
          ],
          "barpolar": [
           {
            "marker": {
             "line": {
              "color": "white",
              "width": 0.5
             }
            },
            "type": "barpolar"
           }
          ],
          "carpet": [
           {
            "aaxis": {
             "endlinecolor": "rgb(36,36,36)",
             "gridcolor": "white",
             "linecolor": "white",
             "minorgridcolor": "white",
             "startlinecolor": "rgb(36,36,36)"
            },
            "baxis": {
             "endlinecolor": "rgb(36,36,36)",
             "gridcolor": "white",
             "linecolor": "white",
             "minorgridcolor": "white",
             "startlinecolor": "rgb(36,36,36)"
            },
            "type": "carpet"
           }
          ],
          "choropleth": [
           {
            "colorbar": {
             "outlinewidth": 1,
             "tickcolor": "rgb(36,36,36)",
             "ticks": "outside"
            },
            "type": "choropleth"
           }
          ],
          "contour": [
           {
            "colorbar": {
             "outlinewidth": 1,
             "tickcolor": "rgb(36,36,36)",
             "ticks": "outside"
            },
            "colorscale": [
             [
              0,
              "#440154"
             ],
             [
              0.1111111111111111,
              "#482878"
             ],
             [
              0.2222222222222222,
              "#3e4989"
             ],
             [
              0.3333333333333333,
              "#31688e"
             ],
             [
              0.4444444444444444,
              "#26828e"
             ],
             [
              0.5555555555555556,
              "#1f9e89"
             ],
             [
              0.6666666666666666,
              "#35b779"
             ],
             [
              0.7777777777777778,
              "#6ece58"
             ],
             [
              0.8888888888888888,
              "#b5de2b"
             ],
             [
              1,
              "#fde725"
             ]
            ],
            "type": "contour"
           }
          ],
          "contourcarpet": [
           {
            "colorbar": {
             "outlinewidth": 1,
             "tickcolor": "rgb(36,36,36)",
             "ticks": "outside"
            },
            "type": "contourcarpet"
           }
          ],
          "heatmap": [
           {
            "colorbar": {
             "outlinewidth": 1,
             "tickcolor": "rgb(36,36,36)",
             "ticks": "outside"
            },
            "colorscale": [
             [
              0,
              "#440154"
             ],
             [
              0.1111111111111111,
              "#482878"
             ],
             [
              0.2222222222222222,
              "#3e4989"
             ],
             [
              0.3333333333333333,
              "#31688e"
             ],
             [
              0.4444444444444444,
              "#26828e"
             ],
             [
              0.5555555555555556,
              "#1f9e89"
             ],
             [
              0.6666666666666666,
              "#35b779"
             ],
             [
              0.7777777777777778,
              "#6ece58"
             ],
             [
              0.8888888888888888,
              "#b5de2b"
             ],
             [
              1,
              "#fde725"
             ]
            ],
            "type": "heatmap"
           }
          ],
          "heatmapgl": [
           {
            "colorbar": {
             "outlinewidth": 1,
             "tickcolor": "rgb(36,36,36)",
             "ticks": "outside"
            },
            "colorscale": [
             [
              0,
              "#440154"
             ],
             [
              0.1111111111111111,
              "#482878"
             ],
             [
              0.2222222222222222,
              "#3e4989"
             ],
             [
              0.3333333333333333,
              "#31688e"
             ],
             [
              0.4444444444444444,
              "#26828e"
             ],
             [
              0.5555555555555556,
              "#1f9e89"
             ],
             [
              0.6666666666666666,
              "#35b779"
             ],
             [
              0.7777777777777778,
              "#6ece58"
             ],
             [
              0.8888888888888888,
              "#b5de2b"
             ],
             [
              1,
              "#fde725"
             ]
            ],
            "type": "heatmapgl"
           }
          ],
          "histogram": [
           {
            "marker": {
             "line": {
              "color": "white",
              "width": 0.6
             }
            },
            "type": "histogram"
           }
          ],
          "histogram2d": [
           {
            "colorbar": {
             "outlinewidth": 1,
             "tickcolor": "rgb(36,36,36)",
             "ticks": "outside"
            },
            "colorscale": [
             [
              0,
              "#440154"
             ],
             [
              0.1111111111111111,
              "#482878"
             ],
             [
              0.2222222222222222,
              "#3e4989"
             ],
             [
              0.3333333333333333,
              "#31688e"
             ],
             [
              0.4444444444444444,
              "#26828e"
             ],
             [
              0.5555555555555556,
              "#1f9e89"
             ],
             [
              0.6666666666666666,
              "#35b779"
             ],
             [
              0.7777777777777778,
              "#6ece58"
             ],
             [
              0.8888888888888888,
              "#b5de2b"
             ],
             [
              1,
              "#fde725"
             ]
            ],
            "type": "histogram2d"
           }
          ],
          "histogram2dcontour": [
           {
            "colorbar": {
             "outlinewidth": 1,
             "tickcolor": "rgb(36,36,36)",
             "ticks": "outside"
            },
            "colorscale": [
             [
              0,
              "#440154"
             ],
             [
              0.1111111111111111,
              "#482878"
             ],
             [
              0.2222222222222222,
              "#3e4989"
             ],
             [
              0.3333333333333333,
              "#31688e"
             ],
             [
              0.4444444444444444,
              "#26828e"
             ],
             [
              0.5555555555555556,
              "#1f9e89"
             ],
             [
              0.6666666666666666,
              "#35b779"
             ],
             [
              0.7777777777777778,
              "#6ece58"
             ],
             [
              0.8888888888888888,
              "#b5de2b"
             ],
             [
              1,
              "#fde725"
             ]
            ],
            "type": "histogram2dcontour"
           }
          ],
          "mesh3d": [
           {
            "colorbar": {
             "outlinewidth": 1,
             "tickcolor": "rgb(36,36,36)",
             "ticks": "outside"
            },
            "type": "mesh3d"
           }
          ],
          "parcoords": [
           {
            "line": {
             "colorbar": {
              "outlinewidth": 1,
              "tickcolor": "rgb(36,36,36)",
              "ticks": "outside"
             }
            },
            "type": "parcoords"
           }
          ],
          "pie": [
           {
            "automargin": true,
            "type": "pie"
           }
          ],
          "scatter": [
           {
            "marker": {
             "colorbar": {
              "outlinewidth": 1,
              "tickcolor": "rgb(36,36,36)",
              "ticks": "outside"
             }
            },
            "type": "scatter"
           }
          ],
          "scatter3d": [
           {
            "line": {
             "colorbar": {
              "outlinewidth": 1,
              "tickcolor": "rgb(36,36,36)",
              "ticks": "outside"
             }
            },
            "marker": {
             "colorbar": {
              "outlinewidth": 1,
              "tickcolor": "rgb(36,36,36)",
              "ticks": "outside"
             }
            },
            "type": "scatter3d"
           }
          ],
          "scattercarpet": [
           {
            "marker": {
             "colorbar": {
              "outlinewidth": 1,
              "tickcolor": "rgb(36,36,36)",
              "ticks": "outside"
             }
            },
            "type": "scattercarpet"
           }
          ],
          "scattergeo": [
           {
            "marker": {
             "colorbar": {
              "outlinewidth": 1,
              "tickcolor": "rgb(36,36,36)",
              "ticks": "outside"
             }
            },
            "type": "scattergeo"
           }
          ],
          "scattergl": [
           {
            "marker": {
             "colorbar": {
              "outlinewidth": 1,
              "tickcolor": "rgb(36,36,36)",
              "ticks": "outside"
             }
            },
            "type": "scattergl"
           }
          ],
          "scattermapbox": [
           {
            "marker": {
             "colorbar": {
              "outlinewidth": 1,
              "tickcolor": "rgb(36,36,36)",
              "ticks": "outside"
             }
            },
            "type": "scattermapbox"
           }
          ],
          "scatterpolar": [
           {
            "marker": {
             "colorbar": {
              "outlinewidth": 1,
              "tickcolor": "rgb(36,36,36)",
              "ticks": "outside"
             }
            },
            "type": "scatterpolar"
           }
          ],
          "scatterpolargl": [
           {
            "marker": {
             "colorbar": {
              "outlinewidth": 1,
              "tickcolor": "rgb(36,36,36)",
              "ticks": "outside"
             }
            },
            "type": "scatterpolargl"
           }
          ],
          "scatterternary": [
           {
            "marker": {
             "colorbar": {
              "outlinewidth": 1,
              "tickcolor": "rgb(36,36,36)",
              "ticks": "outside"
             }
            },
            "type": "scatterternary"
           }
          ],
          "surface": [
           {
            "colorbar": {
             "outlinewidth": 1,
             "tickcolor": "rgb(36,36,36)",
             "ticks": "outside"
            },
            "colorscale": [
             [
              0,
              "#440154"
             ],
             [
              0.1111111111111111,
              "#482878"
             ],
             [
              0.2222222222222222,
              "#3e4989"
             ],
             [
              0.3333333333333333,
              "#31688e"
             ],
             [
              0.4444444444444444,
              "#26828e"
             ],
             [
              0.5555555555555556,
              "#1f9e89"
             ],
             [
              0.6666666666666666,
              "#35b779"
             ],
             [
              0.7777777777777778,
              "#6ece58"
             ],
             [
              0.8888888888888888,
              "#b5de2b"
             ],
             [
              1,
              "#fde725"
             ]
            ],
            "type": "surface"
           }
          ],
          "table": [
           {
            "cells": {
             "fill": {
              "color": "rgb(237,237,237)"
             },
             "line": {
              "color": "white"
             }
            },
            "header": {
             "fill": {
              "color": "rgb(217,217,217)"
             },
             "line": {
              "color": "white"
             }
            },
            "type": "table"
           }
          ]
         },
         "layout": {
          "annotationdefaults": {
           "arrowhead": 0,
           "arrowwidth": 1
          },
          "coloraxis": {
           "colorbar": {
            "outlinewidth": 1,
            "tickcolor": "rgb(36,36,36)",
            "ticks": "outside"
           }
          },
          "colorscale": {
           "diverging": [
            [
             0,
             "rgb(103,0,31)"
            ],
            [
             0.1,
             "rgb(178,24,43)"
            ],
            [
             0.2,
             "rgb(214,96,77)"
            ],
            [
             0.3,
             "rgb(244,165,130)"
            ],
            [
             0.4,
             "rgb(253,219,199)"
            ],
            [
             0.5,
             "rgb(247,247,247)"
            ],
            [
             0.6,
             "rgb(209,229,240)"
            ],
            [
             0.7,
             "rgb(146,197,222)"
            ],
            [
             0.8,
             "rgb(67,147,195)"
            ],
            [
             0.9,
             "rgb(33,102,172)"
            ],
            [
             1,
             "rgb(5,48,97)"
            ]
           ],
           "sequential": [
            [
             0,
             "#440154"
            ],
            [
             0.1111111111111111,
             "#482878"
            ],
            [
             0.2222222222222222,
             "#3e4989"
            ],
            [
             0.3333333333333333,
             "#31688e"
            ],
            [
             0.4444444444444444,
             "#26828e"
            ],
            [
             0.5555555555555556,
             "#1f9e89"
            ],
            [
             0.6666666666666666,
             "#35b779"
            ],
            [
             0.7777777777777778,
             "#6ece58"
            ],
            [
             0.8888888888888888,
             "#b5de2b"
            ],
            [
             1,
             "#fde725"
            ]
           ],
           "sequentialminus": [
            [
             0,
             "#440154"
            ],
            [
             0.1111111111111111,
             "#482878"
            ],
            [
             0.2222222222222222,
             "#3e4989"
            ],
            [
             0.3333333333333333,
             "#31688e"
            ],
            [
             0.4444444444444444,
             "#26828e"
            ],
            [
             0.5555555555555556,
             "#1f9e89"
            ],
            [
             0.6666666666666666,
             "#35b779"
            ],
            [
             0.7777777777777778,
             "#6ece58"
            ],
            [
             0.8888888888888888,
             "#b5de2b"
            ],
            [
             1,
             "#fde725"
            ]
           ]
          },
          "colorway": [
           "#1F77B4",
           "#FF7F0E",
           "#2CA02C",
           "#D62728",
           "#9467BD",
           "#8C564B",
           "#E377C2",
           "#7F7F7F",
           "#BCBD22",
           "#17BECF"
          ],
          "font": {
           "color": "rgb(36,36,36)"
          },
          "geo": {
           "bgcolor": "white",
           "lakecolor": "white",
           "landcolor": "white",
           "showlakes": true,
           "showland": true,
           "subunitcolor": "white"
          },
          "hoverlabel": {
           "align": "left"
          },
          "hovermode": "closest",
          "mapbox": {
           "style": "light"
          },
          "paper_bgcolor": "white",
          "plot_bgcolor": "white",
          "polar": {
           "angularaxis": {
            "gridcolor": "rgb(232,232,232)",
            "linecolor": "rgb(36,36,36)",
            "showgrid": false,
            "showline": true,
            "ticks": "outside"
           },
           "bgcolor": "white",
           "radialaxis": {
            "gridcolor": "rgb(232,232,232)",
            "linecolor": "rgb(36,36,36)",
            "showgrid": false,
            "showline": true,
            "ticks": "outside"
           }
          },
          "scene": {
           "xaxis": {
            "backgroundcolor": "white",
            "gridcolor": "rgb(232,232,232)",
            "gridwidth": 2,
            "linecolor": "rgb(36,36,36)",
            "showbackground": true,
            "showgrid": false,
            "showline": true,
            "ticks": "outside",
            "zeroline": false,
            "zerolinecolor": "rgb(36,36,36)"
           },
           "yaxis": {
            "backgroundcolor": "white",
            "gridcolor": "rgb(232,232,232)",
            "gridwidth": 2,
            "linecolor": "rgb(36,36,36)",
            "showbackground": true,
            "showgrid": false,
            "showline": true,
            "ticks": "outside",
            "zeroline": false,
            "zerolinecolor": "rgb(36,36,36)"
           },
           "zaxis": {
            "backgroundcolor": "white",
            "gridcolor": "rgb(232,232,232)",
            "gridwidth": 2,
            "linecolor": "rgb(36,36,36)",
            "showbackground": true,
            "showgrid": false,
            "showline": true,
            "ticks": "outside",
            "zeroline": false,
            "zerolinecolor": "rgb(36,36,36)"
           }
          },
          "shapedefaults": {
           "fillcolor": "black",
           "line": {
            "width": 0
           },
           "opacity": 0.3
          },
          "ternary": {
           "aaxis": {
            "gridcolor": "rgb(232,232,232)",
            "linecolor": "rgb(36,36,36)",
            "showgrid": false,
            "showline": true,
            "ticks": "outside"
           },
           "baxis": {
            "gridcolor": "rgb(232,232,232)",
            "linecolor": "rgb(36,36,36)",
            "showgrid": false,
            "showline": true,
            "ticks": "outside"
           },
           "bgcolor": "white",
           "caxis": {
            "gridcolor": "rgb(232,232,232)",
            "linecolor": "rgb(36,36,36)",
            "showgrid": false,
            "showline": true,
            "ticks": "outside"
           }
          },
          "title": {
           "x": 0.05
          },
          "xaxis": {
           "automargin": true,
           "gridcolor": "rgb(232,232,232)",
           "linecolor": "rgb(36,36,36)",
           "showgrid": false,
           "showline": true,
           "ticks": "outside",
           "title": {
            "standoff": 15
           },
           "zeroline": false,
           "zerolinecolor": "rgb(36,36,36)"
          },
          "yaxis": {
           "automargin": true,
           "gridcolor": "rgb(232,232,232)",
           "linecolor": "rgb(36,36,36)",
           "showgrid": false,
           "showline": true,
           "ticks": "outside",
           "title": {
            "standoff": 15
           },
           "zeroline": false,
           "zerolinecolor": "rgb(36,36,36)"
          }
         }
        },
        "title": {
         "text": "Fraction of modified acceptor residues"
        },
        "width": 1500,
        "xaxis": {
         "anchor": "y",
         "domain": [
          0,
          0.16000000000000003
         ],
         "title": {
          "text": "distance bin"
         }
        },
        "xaxis2": {
         "anchor": "y2",
         "domain": [
          0.21000000000000002,
          0.37000000000000005
         ],
         "matches": "x",
         "title": {
          "text": "distance bin"
         }
        },
        "xaxis3": {
         "anchor": "y3",
         "domain": [
          0.42000000000000004,
          0.5800000000000001
         ],
         "matches": "x",
         "title": {
          "text": "distance bin"
         }
        },
        "xaxis4": {
         "anchor": "y4",
         "domain": [
          0.6300000000000001,
          0.7900000000000001
         ],
         "matches": "x",
         "title": {
          "text": "distance bin"
         }
        },
        "xaxis5": {
         "anchor": "y5",
         "domain": [
          0.8400000000000001,
          1
         ],
         "matches": "x",
         "title": {
          "text": "distance bin"
         }
        },
        "yaxis": {
         "anchor": "x",
         "domain": [
          0,
          1
         ],
         "showticklabels": true,
         "title": {
          "text": "Fraction of modified acceptors"
         }
        },
        "yaxis2": {
         "anchor": "x2",
         "domain": [
          0,
          1
         ],
         "showticklabels": true
        },
        "yaxis3": {
         "anchor": "x3",
         "domain": [
          0,
          1
         ],
         "showticklabels": true
        },
        "yaxis4": {
         "anchor": "x4",
         "domain": [
          0,
          1
         ],
         "showticklabels": true
        },
        "yaxis5": {
         "anchor": "x5",
         "domain": [
          0,
          1
         ],
         "showticklabels": true
        }
       }
      }
     },
     "metadata": {},
     "output_type": "display_data"
    }
   ],
   "source": [
    "plot_ptm_colocalization(glu_colocalization, context=\"3D\", plot_width=1500)"
   ]
  },
  {
   "cell_type": "markdown",
   "metadata": {},
   "source": [
    "## 3D PTM clusters"
   ]
  },
  {
   "cell_type": "code",
   "execution_count": 156,
   "metadata": {},
   "outputs": [
    {
     "name": "stderr",
     "output_type": "stream",
     "text": [
      "100%|██████████| 2352/2352 [27:30<00:00,  1.43it/s]  \n"
     ]
    },
    {
     "name": "stdout",
     "output_type": "stream",
     "text": [
      "CPU times: total: 13min 38s\n",
      "Wall time: 27min 30s\n"
     ]
    },
    {
     "data": {
      "text/html": [
       "<div>\n",
       "<style scoped>\n",
       "    .dataframe tbody tr th:only-of-type {\n",
       "        vertical-align: middle;\n",
       "    }\n",
       "\n",
       "    .dataframe tbody tr th {\n",
       "        vertical-align: top;\n",
       "    }\n",
       "\n",
       "    .dataframe thead th {\n",
       "        text-align: right;\n",
       "    }\n",
       "</style>\n",
       "<table border=\"1\" class=\"dataframe\">\n",
       "  <thead>\n",
       "    <tr style=\"text-align: right;\">\n",
       "      <th></th>\n",
       "      <th>protein_id</th>\n",
       "      <th>ptm</th>\n",
       "      <th>n_ptms</th>\n",
       "      <th>pvalue_1d</th>\n",
       "      <th>pvalue_3d</th>\n",
       "      <th>pvalue_1d_adj_bh</th>\n",
       "      <th>pvalue_3d_adj_bh</th>\n",
       "    </tr>\n",
       "  </thead>\n",
       "  <tbody>\n",
       "    <tr>\n",
       "      <th>1</th>\n",
       "      <td>A0A024R571</td>\n",
       "      <td>Oxidation</td>\n",
       "      <td>17.0</td>\n",
       "      <td>0.0049</td>\n",
       "      <td>0.0004</td>\n",
       "      <td>0.006482</td>\n",
       "      <td>0.000549</td>\n",
       "    </tr>\n",
       "    <tr>\n",
       "      <th>3</th>\n",
       "      <td>A0A087WT44</td>\n",
       "      <td>Oxidation</td>\n",
       "      <td>25.0</td>\n",
       "      <td>0.2784</td>\n",
       "      <td>0.0041</td>\n",
       "      <td>0.310016</td>\n",
       "      <td>0.005052</td>\n",
       "    </tr>\n",
       "    <tr>\n",
       "      <th>4</th>\n",
       "      <td>A0A087WTF6</td>\n",
       "      <td>Oxidation</td>\n",
       "      <td>4.0</td>\n",
       "      <td>0.0000</td>\n",
       "      <td>0.0000</td>\n",
       "      <td>0.000000</td>\n",
       "      <td>0.000000</td>\n",
       "    </tr>\n",
       "    <tr>\n",
       "      <th>5</th>\n",
       "      <td>A0A087WVZ9</td>\n",
       "      <td>Oxidation</td>\n",
       "      <td>8.0</td>\n",
       "      <td>0.0007</td>\n",
       "      <td>0.0000</td>\n",
       "      <td>0.001004</td>\n",
       "      <td>0.000000</td>\n",
       "    </tr>\n",
       "    <tr>\n",
       "      <th>9</th>\n",
       "      <td>A0A087WYR0</td>\n",
       "      <td>Oxidation</td>\n",
       "      <td>4.0</td>\n",
       "      <td>0.0049</td>\n",
       "      <td>0.0022</td>\n",
       "      <td>0.006482</td>\n",
       "      <td>0.002774</td>\n",
       "    </tr>\n",
       "    <tr>\n",
       "      <th>...</th>\n",
       "      <td>...</td>\n",
       "      <td>...</td>\n",
       "      <td>...</td>\n",
       "      <td>...</td>\n",
       "      <td>...</td>\n",
       "      <td>...</td>\n",
       "      <td>...</td>\n",
       "    </tr>\n",
       "    <tr>\n",
       "      <th>2113</th>\n",
       "      <td>Q9Y6Y8</td>\n",
       "      <td>Oxidation</td>\n",
       "      <td>4.0</td>\n",
       "      <td>0.0000</td>\n",
       "      <td>0.0000</td>\n",
       "      <td>0.000000</td>\n",
       "      <td>0.000000</td>\n",
       "    </tr>\n",
       "    <tr>\n",
       "      <th>2114</th>\n",
       "      <td>V9GZ56</td>\n",
       "      <td>Oxidation</td>\n",
       "      <td>6.0</td>\n",
       "      <td>0.0000</td>\n",
       "      <td>0.0000</td>\n",
       "      <td>0.000000</td>\n",
       "      <td>0.000000</td>\n",
       "    </tr>\n",
       "    <tr>\n",
       "      <th>2115</th>\n",
       "      <td>X1WI28</td>\n",
       "      <td>Glutathionylation</td>\n",
       "      <td>4.0</td>\n",
       "      <td>0.0001</td>\n",
       "      <td>0.0001</td>\n",
       "      <td>0.000163</td>\n",
       "      <td>0.000149</td>\n",
       "    </tr>\n",
       "    <tr>\n",
       "      <th>2116</th>\n",
       "      <td>X1WI28</td>\n",
       "      <td>Oxidation</td>\n",
       "      <td>18.0</td>\n",
       "      <td>0.0009</td>\n",
       "      <td>0.0000</td>\n",
       "      <td>0.001271</td>\n",
       "      <td>0.000000</td>\n",
       "    </tr>\n",
       "    <tr>\n",
       "      <th>2117</th>\n",
       "      <td>X6RM59</td>\n",
       "      <td>Oxidation</td>\n",
       "      <td>4.0</td>\n",
       "      <td>0.0000</td>\n",
       "      <td>0.0000</td>\n",
       "      <td>0.000000</td>\n",
       "      <td>0.000000</td>\n",
       "    </tr>\n",
       "  </tbody>\n",
       "</table>\n",
       "<p>1379 rows × 7 columns</p>\n",
       "</div>"
      ],
      "text/plain": [
       "      protein_id                ptm  n_ptms  pvalue_1d  pvalue_3d  \\\n",
       "1     A0A024R571          Oxidation    17.0     0.0049     0.0004   \n",
       "3     A0A087WT44          Oxidation    25.0     0.2784     0.0041   \n",
       "4     A0A087WTF6          Oxidation     4.0     0.0000     0.0000   \n",
       "5     A0A087WVZ9          Oxidation     8.0     0.0007     0.0000   \n",
       "9     A0A087WYR0          Oxidation     4.0     0.0049     0.0022   \n",
       "...          ...                ...     ...        ...        ...   \n",
       "2113      Q9Y6Y8          Oxidation     4.0     0.0000     0.0000   \n",
       "2114      V9GZ56          Oxidation     6.0     0.0000     0.0000   \n",
       "2115      X1WI28  Glutathionylation     4.0     0.0001     0.0001   \n",
       "2116      X1WI28          Oxidation    18.0     0.0009     0.0000   \n",
       "2117      X6RM59          Oxidation     4.0     0.0000     0.0000   \n",
       "\n",
       "      pvalue_1d_adj_bh  pvalue_3d_adj_bh  \n",
       "1             0.006482          0.000549  \n",
       "3             0.310016          0.005052  \n",
       "4             0.000000          0.000000  \n",
       "5             0.001004          0.000000  \n",
       "9             0.006482          0.002774  \n",
       "...                ...               ...  \n",
       "2113          0.000000          0.000000  \n",
       "2114          0.000000          0.000000  \n",
       "2115          0.000163          0.000149  \n",
       "2116          0.001271          0.000000  \n",
       "2117          0.000000          0.000000  \n",
       "\n",
       "[1379 rows x 7 columns]"
      ]
     },
     "execution_count": 156,
     "metadata": {},
     "output_type": "execute_result"
    }
   ],
   "source": [
    "%%time\n",
    "proximity_res_pandub_mean_plus = get_proximity_pvals(\n",
    "    df=alphafold_ptms_noIDRs, \n",
    "    ptm_types = ['Glutathionylation','Oxidation'], \n",
    "    ptm_site_dict = ptm_site_dict, \n",
    "    error_dir=pae_dir, \n",
    "    per_site_metric= 'mean',\n",
    "    error_operation='plus',\n",
    "    n_random=10000, \n",
    "    random_seed=44)\n",
    "\n",
    "cluster_prots_pandub_df = proximity_res_pandub_mean_plus[(proximity_res_pandub_mean_plus.pvalue_3d_adj_bh <= 0.05) & (proximity_res_pandub_mean_plus.n_ptms > 3)]\n",
    "cluster_prots_pandub = list(cluster_prots_pandub_df.protein_id)\n",
    "\n",
    "cluster_prots_pandub_df"
   ]
  },
  {
   "cell_type": "code",
   "execution_count": 157,
   "metadata": {},
   "outputs": [
    {
     "name": "stderr",
     "output_type": "stream",
     "text": [
      "100%|██████████| 2352/2352 [06:26<00:00,  6.08it/s]"
     ]
    },
    {
     "name": "stdout",
     "output_type": "stream",
     "text": [
      "CPU times: total: 3min 11s\n",
      "Wall time: 6min 29s\n"
     ]
    },
    {
     "name": "stderr",
     "output_type": "stream",
     "text": [
      "\n"
     ]
    },
    {
     "data": {
      "text/html": [
       "<div>\n",
       "<style scoped>\n",
       "    .dataframe tbody tr th:only-of-type {\n",
       "        vertical-align: middle;\n",
       "    }\n",
       "\n",
       "    .dataframe tbody tr th {\n",
       "        vertical-align: top;\n",
       "    }\n",
       "\n",
       "    .dataframe thead th {\n",
       "        text-align: right;\n",
       "    }\n",
       "</style>\n",
       "<table border=\"1\" class=\"dataframe\">\n",
       "  <thead>\n",
       "    <tr style=\"text-align: right;\">\n",
       "      <th></th>\n",
       "      <th>protein_id</th>\n",
       "      <th>ptm</th>\n",
       "      <th>n_ptms</th>\n",
       "      <th>pvalue_1d</th>\n",
       "      <th>pvalue_3d</th>\n",
       "      <th>pvalue_1d_adj_bh</th>\n",
       "      <th>pvalue_3d_adj_bh</th>\n",
       "    </tr>\n",
       "  </thead>\n",
       "  <tbody>\n",
       "    <tr>\n",
       "      <th>14</th>\n",
       "      <td>A0A0G2JIW1</td>\n",
       "      <td>Glutathionylation</td>\n",
       "      <td>12.0</td>\n",
       "      <td>0.9981</td>\n",
       "      <td>0.0067</td>\n",
       "      <td>0.998100</td>\n",
       "      <td>0.008560</td>\n",
       "    </tr>\n",
       "    <tr>\n",
       "      <th>26</th>\n",
       "      <td>A0A3B3IUA2</td>\n",
       "      <td>Glutathionylation</td>\n",
       "      <td>4.0</td>\n",
       "      <td>0.0000</td>\n",
       "      <td>0.0000</td>\n",
       "      <td>0.000000</td>\n",
       "      <td>0.000000</td>\n",
       "    </tr>\n",
       "    <tr>\n",
       "      <th>29</th>\n",
       "      <td>A0A6I8PU73</td>\n",
       "      <td>Glutathionylation</td>\n",
       "      <td>6.0</td>\n",
       "      <td>0.0000</td>\n",
       "      <td>0.0000</td>\n",
       "      <td>0.000000</td>\n",
       "      <td>0.000000</td>\n",
       "    </tr>\n",
       "    <tr>\n",
       "      <th>31</th>\n",
       "      <td>A0A6Q8PGR9</td>\n",
       "      <td>Glutathionylation</td>\n",
       "      <td>10.0</td>\n",
       "      <td>0.0134</td>\n",
       "      <td>0.0169</td>\n",
       "      <td>0.017745</td>\n",
       "      <td>0.020615</td>\n",
       "    </tr>\n",
       "    <tr>\n",
       "      <th>33</th>\n",
       "      <td>A0A7I2V2U2</td>\n",
       "      <td>Glutathionylation</td>\n",
       "      <td>4.0</td>\n",
       "      <td>0.0050</td>\n",
       "      <td>0.0010</td>\n",
       "      <td>0.006898</td>\n",
       "      <td>0.001445</td>\n",
       "    </tr>\n",
       "    <tr>\n",
       "      <th>...</th>\n",
       "      <td>...</td>\n",
       "      <td>...</td>\n",
       "      <td>...</td>\n",
       "      <td>...</td>\n",
       "      <td>...</td>\n",
       "      <td>...</td>\n",
       "      <td>...</td>\n",
       "    </tr>\n",
       "    <tr>\n",
       "      <th>714</th>\n",
       "      <td>Q9Y3I0</td>\n",
       "      <td>Glutathionylation</td>\n",
       "      <td>4.0</td>\n",
       "      <td>0.0000</td>\n",
       "      <td>0.0000</td>\n",
       "      <td>0.000000</td>\n",
       "      <td>0.000000</td>\n",
       "    </tr>\n",
       "    <tr>\n",
       "      <th>716</th>\n",
       "      <td>Q9Y3U8</td>\n",
       "      <td>Glutathionylation</td>\n",
       "      <td>7.0</td>\n",
       "      <td>0.0000</td>\n",
       "      <td>0.0000</td>\n",
       "      <td>0.000000</td>\n",
       "      <td>0.000000</td>\n",
       "    </tr>\n",
       "    <tr>\n",
       "      <th>720</th>\n",
       "      <td>Q9Y5M8</td>\n",
       "      <td>Glutathionylation</td>\n",
       "      <td>4.0</td>\n",
       "      <td>0.0000</td>\n",
       "      <td>0.0000</td>\n",
       "      <td>0.000000</td>\n",
       "      <td>0.000000</td>\n",
       "    </tr>\n",
       "    <tr>\n",
       "      <th>723</th>\n",
       "      <td>Q9Y696</td>\n",
       "      <td>Glutathionylation</td>\n",
       "      <td>6.0</td>\n",
       "      <td>0.0502</td>\n",
       "      <td>0.0002</td>\n",
       "      <td>0.061857</td>\n",
       "      <td>0.000354</td>\n",
       "    </tr>\n",
       "    <tr>\n",
       "      <th>726</th>\n",
       "      <td>X1WI28</td>\n",
       "      <td>Glutathionylation</td>\n",
       "      <td>4.0</td>\n",
       "      <td>0.0000</td>\n",
       "      <td>0.0000</td>\n",
       "      <td>0.000000</td>\n",
       "      <td>0.000000</td>\n",
       "    </tr>\n",
       "  </tbody>\n",
       "</table>\n",
       "<p>195 rows × 7 columns</p>\n",
       "</div>"
      ],
      "text/plain": [
       "     protein_id                ptm  n_ptms  pvalue_1d  pvalue_3d  \\\n",
       "14   A0A0G2JIW1  Glutathionylation    12.0     0.9981     0.0067   \n",
       "26   A0A3B3IUA2  Glutathionylation     4.0     0.0000     0.0000   \n",
       "29   A0A6I8PU73  Glutathionylation     6.0     0.0000     0.0000   \n",
       "31   A0A6Q8PGR9  Glutathionylation    10.0     0.0134     0.0169   \n",
       "33   A0A7I2V2U2  Glutathionylation     4.0     0.0050     0.0010   \n",
       "..          ...                ...     ...        ...        ...   \n",
       "714      Q9Y3I0  Glutathionylation     4.0     0.0000     0.0000   \n",
       "716      Q9Y3U8  Glutathionylation     7.0     0.0000     0.0000   \n",
       "720      Q9Y5M8  Glutathionylation     4.0     0.0000     0.0000   \n",
       "723      Q9Y696  Glutathionylation     6.0     0.0502     0.0002   \n",
       "726      X1WI28  Glutathionylation     4.0     0.0000     0.0000   \n",
       "\n",
       "     pvalue_1d_adj_bh  pvalue_3d_adj_bh  \n",
       "14           0.998100          0.008560  \n",
       "26           0.000000          0.000000  \n",
       "29           0.000000          0.000000  \n",
       "31           0.017745          0.020615  \n",
       "33           0.006898          0.001445  \n",
       "..                ...               ...  \n",
       "714          0.000000          0.000000  \n",
       "716          0.000000          0.000000  \n",
       "720          0.000000          0.000000  \n",
       "723          0.061857          0.000354  \n",
       "726          0.000000          0.000000  \n",
       "\n",
       "[195 rows x 7 columns]"
      ]
     },
     "execution_count": 157,
     "metadata": {},
     "output_type": "execute_result"
    }
   ],
   "source": [
    "%%time\n",
    "proximity_res_pandub_mean_plus = get_proximity_pvals(\n",
    "    df=alphafold_ptms_noIDRs, \n",
    "    ptm_types = ['Glutathionylation','Nitrosyl'], \n",
    "    ptm_site_dict = ptm_site_dict, \n",
    "    error_dir=pae_dir, \n",
    "    per_site_metric= 'mean',\n",
    "    error_operation='plus',\n",
    "    n_random=10000, \n",
    "    random_seed=44)\n",
    "\n",
    "cluster_prots_pandub_df = proximity_res_pandub_mean_plus[(proximity_res_pandub_mean_plus.pvalue_3d_adj_bh <= 0.05) & (proximity_res_pandub_mean_plus.n_ptms > 3)]\n",
    "cluster_prots_pandub = list(cluster_prots_pandub_df.protein_id)\n",
    "\n",
    "cluster_prots_pandub_df"
   ]
  },
  {
   "cell_type": "code",
   "execution_count": 158,
   "metadata": {},
   "outputs": [
    {
     "name": "stderr",
     "output_type": "stream",
     "text": [
      "  0%|          | 0/2352 [00:00<?, ?it/s]"
     ]
    },
    {
     "name": "stderr",
     "output_type": "stream",
     "text": [
      "100%|██████████| 2352/2352 [06:45<00:00,  5.81it/s]"
     ]
    },
    {
     "name": "stdout",
     "output_type": "stream",
     "text": [
      "CPU times: total: 3min 19s\n",
      "Wall time: 6min 45s\n"
     ]
    },
    {
     "name": "stderr",
     "output_type": "stream",
     "text": [
      "\n"
     ]
    },
    {
     "data": {
      "text/html": [
       "<div>\n",
       "<style scoped>\n",
       "    .dataframe tbody tr th:only-of-type {\n",
       "        vertical-align: middle;\n",
       "    }\n",
       "\n",
       "    .dataframe tbody tr th {\n",
       "        vertical-align: top;\n",
       "    }\n",
       "\n",
       "    .dataframe thead th {\n",
       "        text-align: right;\n",
       "    }\n",
       "</style>\n",
       "<table border=\"1\" class=\"dataframe\">\n",
       "  <thead>\n",
       "    <tr style=\"text-align: right;\">\n",
       "      <th></th>\n",
       "      <th>protein_id</th>\n",
       "      <th>ptm</th>\n",
       "      <th>n_ptms</th>\n",
       "      <th>pvalue_1d</th>\n",
       "      <th>pvalue_3d</th>\n",
       "      <th>pvalue_1d_adj_bh</th>\n",
       "      <th>pvalue_3d_adj_bh</th>\n",
       "    </tr>\n",
       "  </thead>\n",
       "  <tbody>\n",
       "    <tr>\n",
       "      <th>14</th>\n",
       "      <td>A0A0G2JIW1</td>\n",
       "      <td>Glutathionylation</td>\n",
       "      <td>12.0</td>\n",
       "      <td>0.9981</td>\n",
       "      <td>0.0067</td>\n",
       "      <td>0.998100</td>\n",
       "      <td>0.008677</td>\n",
       "    </tr>\n",
       "    <tr>\n",
       "      <th>26</th>\n",
       "      <td>A0A3B3IUA2</td>\n",
       "      <td>Glutathionylation</td>\n",
       "      <td>4.0</td>\n",
       "      <td>0.0000</td>\n",
       "      <td>0.0000</td>\n",
       "      <td>0.000000</td>\n",
       "      <td>0.000000</td>\n",
       "    </tr>\n",
       "    <tr>\n",
       "      <th>29</th>\n",
       "      <td>A0A6I8PU73</td>\n",
       "      <td>Glutathionylation</td>\n",
       "      <td>6.0</td>\n",
       "      <td>0.0000</td>\n",
       "      <td>0.0000</td>\n",
       "      <td>0.000000</td>\n",
       "      <td>0.000000</td>\n",
       "    </tr>\n",
       "    <tr>\n",
       "      <th>31</th>\n",
       "      <td>A0A6Q8PGR9</td>\n",
       "      <td>Glutathionylation</td>\n",
       "      <td>10.0</td>\n",
       "      <td>0.0134</td>\n",
       "      <td>0.0169</td>\n",
       "      <td>0.018077</td>\n",
       "      <td>0.020873</td>\n",
       "    </tr>\n",
       "    <tr>\n",
       "      <th>33</th>\n",
       "      <td>A0A7I2V2U2</td>\n",
       "      <td>Glutathionylation</td>\n",
       "      <td>4.0</td>\n",
       "      <td>0.0050</td>\n",
       "      <td>0.0010</td>\n",
       "      <td>0.007024</td>\n",
       "      <td>0.001483</td>\n",
       "    </tr>\n",
       "    <tr>\n",
       "      <th>...</th>\n",
       "      <td>...</td>\n",
       "      <td>...</td>\n",
       "      <td>...</td>\n",
       "      <td>...</td>\n",
       "      <td>...</td>\n",
       "      <td>...</td>\n",
       "      <td>...</td>\n",
       "    </tr>\n",
       "    <tr>\n",
       "      <th>733</th>\n",
       "      <td>Q9Y3I0</td>\n",
       "      <td>Glutathionylation</td>\n",
       "      <td>4.0</td>\n",
       "      <td>0.0000</td>\n",
       "      <td>0.0000</td>\n",
       "      <td>0.000000</td>\n",
       "      <td>0.000000</td>\n",
       "    </tr>\n",
       "    <tr>\n",
       "      <th>735</th>\n",
       "      <td>Q9Y3U8</td>\n",
       "      <td>Glutathionylation</td>\n",
       "      <td>7.0</td>\n",
       "      <td>0.0000</td>\n",
       "      <td>0.0000</td>\n",
       "      <td>0.000000</td>\n",
       "      <td>0.000000</td>\n",
       "    </tr>\n",
       "    <tr>\n",
       "      <th>739</th>\n",
       "      <td>Q9Y5M8</td>\n",
       "      <td>Glutathionylation</td>\n",
       "      <td>4.0</td>\n",
       "      <td>0.0000</td>\n",
       "      <td>0.0000</td>\n",
       "      <td>0.000000</td>\n",
       "      <td>0.000000</td>\n",
       "    </tr>\n",
       "    <tr>\n",
       "      <th>742</th>\n",
       "      <td>Q9Y696</td>\n",
       "      <td>Glutathionylation</td>\n",
       "      <td>6.0</td>\n",
       "      <td>0.0501</td>\n",
       "      <td>0.0000</td>\n",
       "      <td>0.062604</td>\n",
       "      <td>0.000000</td>\n",
       "    </tr>\n",
       "    <tr>\n",
       "      <th>745</th>\n",
       "      <td>X1WI28</td>\n",
       "      <td>Glutathionylation</td>\n",
       "      <td>4.0</td>\n",
       "      <td>0.0000</td>\n",
       "      <td>0.0000</td>\n",
       "      <td>0.000000</td>\n",
       "      <td>0.000000</td>\n",
       "    </tr>\n",
       "  </tbody>\n",
       "</table>\n",
       "<p>199 rows × 7 columns</p>\n",
       "</div>"
      ],
      "text/plain": [
       "     protein_id                ptm  n_ptms  pvalue_1d  pvalue_3d  \\\n",
       "14   A0A0G2JIW1  Glutathionylation    12.0     0.9981     0.0067   \n",
       "26   A0A3B3IUA2  Glutathionylation     4.0     0.0000     0.0000   \n",
       "29   A0A6I8PU73  Glutathionylation     6.0     0.0000     0.0000   \n",
       "31   A0A6Q8PGR9  Glutathionylation    10.0     0.0134     0.0169   \n",
       "33   A0A7I2V2U2  Glutathionylation     4.0     0.0050     0.0010   \n",
       "..          ...                ...     ...        ...        ...   \n",
       "733      Q9Y3I0  Glutathionylation     4.0     0.0000     0.0000   \n",
       "735      Q9Y3U8  Glutathionylation     7.0     0.0000     0.0000   \n",
       "739      Q9Y5M8  Glutathionylation     4.0     0.0000     0.0000   \n",
       "742      Q9Y696  Glutathionylation     6.0     0.0501     0.0000   \n",
       "745      X1WI28  Glutathionylation     4.0     0.0000     0.0000   \n",
       "\n",
       "     pvalue_1d_adj_bh  pvalue_3d_adj_bh  \n",
       "14           0.998100          0.008677  \n",
       "26           0.000000          0.000000  \n",
       "29           0.000000          0.000000  \n",
       "31           0.018077          0.020873  \n",
       "33           0.007024          0.001483  \n",
       "..                ...               ...  \n",
       "733          0.000000          0.000000  \n",
       "735          0.000000          0.000000  \n",
       "739          0.000000          0.000000  \n",
       "742          0.062604          0.000000  \n",
       "745          0.000000          0.000000  \n",
       "\n",
       "[199 rows x 7 columns]"
      ]
     },
     "execution_count": 158,
     "metadata": {},
     "output_type": "execute_result"
    }
   ],
   "source": [
    "%%time\n",
    "proximity_res_pandub_mean_plus = get_proximity_pvals(\n",
    "    df=alphafold_ptms_noIDRs, \n",
    "    ptm_types = ['Glutathionylation','Cysteinyl', 'Nitrosyl'], \n",
    "    ptm_site_dict = ptm_site_dict, \n",
    "    error_dir=pae_dir, \n",
    "    per_site_metric= 'mean',\n",
    "    error_operation='plus',\n",
    "    n_random=10000, \n",
    "    random_seed=44)\n",
    "\n",
    "cluster_prots_pandub_df = proximity_res_pandub_mean_plus[(proximity_res_pandub_mean_plus.pvalue_3d_adj_bh <= 0.05) & (proximity_res_pandub_mean_plus.n_ptms > 3)]\n",
    "cluster_prots_pandub = list(cluster_prots_pandub_df.protein_id)\n",
    "\n",
    "cluster_prots_pandub_df"
   ]
  },
  {
   "cell_type": "code",
   "execution_count": 159,
   "metadata": {},
   "outputs": [
    {
     "data": {
      "text/html": [
       "<div>\n",
       "<style scoped>\n",
       "    .dataframe tbody tr th:only-of-type {\n",
       "        vertical-align: middle;\n",
       "    }\n",
       "\n",
       "    .dataframe tbody tr th {\n",
       "        vertical-align: top;\n",
       "    }\n",
       "\n",
       "    .dataframe thead th {\n",
       "        text-align: right;\n",
       "    }\n",
       "</style>\n",
       "<table border=\"1\" class=\"dataframe\">\n",
       "  <thead>\n",
       "    <tr style=\"text-align: right;\">\n",
       "      <th></th>\n",
       "      <th>protein_id</th>\n",
       "      <th>ptm</th>\n",
       "      <th>n_ptms</th>\n",
       "      <th>pvalue_1d</th>\n",
       "      <th>pvalue_3d</th>\n",
       "      <th>pvalue_1d_adj_bh</th>\n",
       "      <th>pvalue_3d_adj_bh</th>\n",
       "    </tr>\n",
       "  </thead>\n",
       "  <tbody>\n",
       "  </tbody>\n",
       "</table>\n",
       "</div>"
      ],
      "text/plain": [
       "Empty DataFrame\n",
       "Columns: [protein_id, ptm, n_ptms, pvalue_1d, pvalue_3d, pvalue_1d_adj_bh, pvalue_3d_adj_bh]\n",
       "Index: []"
      ]
     },
     "execution_count": 159,
     "metadata": {},
     "output_type": "execute_result"
    }
   ],
   "source": [
    "proximity_res_pandub_mean_plus[proximity_res_pandub_mean_plus.protein_id==\"P00533\"]"
   ]
  },
  {
   "cell_type": "code",
   "execution_count": 160,
   "metadata": {},
   "outputs": [],
   "source": [
    "with open('c:/Users/marga/OneDrive/Desktop/summer project/proximity_analysis/proximity_pandub_sig.txt', 'w') as f:\n",
    "    for item in cluster_prots_pandub:\n",
    "        f.write(\"%s\\n\" % item)"
   ]
  },
  {
   "cell_type": "code",
   "execution_count": 161,
   "metadata": {},
   "outputs": [],
   "source": [
    "with open('c:/Users/marga/OneDrive/Desktop/summer project/proximity_analysis/proximity_pandub_all.txt', 'w') as f:\n",
    "    for item in list(proximity_res_pandub_mean_plus.protein_id):\n",
    "        f.write(\"%s\\n\" % item)"
   ]
  },
  {
   "cell_type": "code",
   "execution_count": 162,
   "metadata": {},
   "outputs": [],
   "source": [
    "david_pandub = pd.read_csv(r\"C:\\Users\\marga\\OneDrive\\Desktop\\summer project\\proximity_analysis\\david.ncifcrf.gov_data_download_chart_6758C295E61E1691831531614.txt\", sep=\"\\t\")"
   ]
  },
  {
   "cell_type": "code",
   "execution_count": 163,
   "metadata": {},
   "outputs": [
    {
     "data": {
      "application/vnd.plotly.v1+json": {
       "config": {
        "plotlyServerURL": "https://plot.ly",
        "toImageButtonOptions": {
         "filename": "structure ptm enrichment",
         "format": "svg"
        }
       },
       "data": [
        {
         "alignmentgroup": "True",
         "customdata": [
          [
           2.8991486574983627,
           0.0007788407030830116,
           11
          ],
          [
           3.120163941190224,
           0.0010596553393939,
           11
          ],
          [
           2.789628166804182,
           0.0094775657373356,
           10
          ]
         ],
         "hovertemplate": "neg_log_FDR_round=> 2<br>Fold Enrichment=%{customdata[0]}<br>Term=%{y}<br>Count=%{customdata[2]}<br>FDR=%{customdata[1]}<extra></extra>",
         "legendgroup": "> 2",
         "marker": {
          "color": "rgb(246, 210, 169)"
         },
         "name": "> 2",
         "offsetgroup": "> 2",
         "orientation": "h",
         "showlegend": true,
         "text": [
          11,
          11,
          10
         ],
         "textposition": "auto",
         "type": "bar",
         "x": [
          2.8991486574983627,
          3.120163941190224,
          2.789628166804182
         ],
         "xaxis": "x",
         "y": [
          "KW-0963~Cytoplasm",
          "cytosol",
          "cytoplasm"
         ],
         "yaxis": "y"
        },
        {
         "alignmentgroup": "True",
         "customdata": [
          [
           8.579332339584706,
           1.562591031444835e-8,
           12
          ],
          [
           4.068915801614764,
           6.222379283980325e-7,
           13
          ]
         ],
         "hovertemplate": "neg_log_FDR_round=> 5<br>Fold Enrichment=%{customdata[0]}<br>Term=%{y}<br>Count=%{customdata[2]}<br>FDR=%{customdata[1]}<extra></extra>",
         "legendgroup": "> 5",
         "marker": {
          "color": "rgb(245, 183, 142)"
         },
         "name": "> 5",
         "offsetgroup": "> 5",
         "orientation": "h",
         "showlegend": true,
         "text": [
          12,
          13
         ],
         "textposition": "auto",
         "type": "bar",
         "x": [
          8.579332339584706,
          4.068915801614764
         ],
         "xaxis": "x",
         "y": [
          "extracellular exosome",
          "KW-0007~Acetylation"
         ],
         "yaxis": "y"
        }
       ],
       "layout": {
        "barmode": "relative",
        "legend": {
         "title": {
          "text": "-log10(FDR)"
         },
         "tracegroupgap": 0
        },
        "margin": {
         "b": 10,
         "l": 400,
         "r": 150,
         "t": 60
        },
        "template": {
         "data": {
          "bar": [
           {
            "error_x": {
             "color": "rgb(36,36,36)"
            },
            "error_y": {
             "color": "rgb(36,36,36)"
            },
            "marker": {
             "line": {
              "color": "white",
              "width": 0.5
             }
            },
            "type": "bar"
           }
          ],
          "barpolar": [
           {
            "marker": {
             "line": {
              "color": "white",
              "width": 0.5
             }
            },
            "type": "barpolar"
           }
          ],
          "carpet": [
           {
            "aaxis": {
             "endlinecolor": "rgb(36,36,36)",
             "gridcolor": "white",
             "linecolor": "white",
             "minorgridcolor": "white",
             "startlinecolor": "rgb(36,36,36)"
            },
            "baxis": {
             "endlinecolor": "rgb(36,36,36)",
             "gridcolor": "white",
             "linecolor": "white",
             "minorgridcolor": "white",
             "startlinecolor": "rgb(36,36,36)"
            },
            "type": "carpet"
           }
          ],
          "choropleth": [
           {
            "colorbar": {
             "outlinewidth": 1,
             "tickcolor": "rgb(36,36,36)",
             "ticks": "outside"
            },
            "type": "choropleth"
           }
          ],
          "contour": [
           {
            "colorbar": {
             "outlinewidth": 1,
             "tickcolor": "rgb(36,36,36)",
             "ticks": "outside"
            },
            "colorscale": [
             [
              0,
              "#440154"
             ],
             [
              0.1111111111111111,
              "#482878"
             ],
             [
              0.2222222222222222,
              "#3e4989"
             ],
             [
              0.3333333333333333,
              "#31688e"
             ],
             [
              0.4444444444444444,
              "#26828e"
             ],
             [
              0.5555555555555556,
              "#1f9e89"
             ],
             [
              0.6666666666666666,
              "#35b779"
             ],
             [
              0.7777777777777778,
              "#6ece58"
             ],
             [
              0.8888888888888888,
              "#b5de2b"
             ],
             [
              1,
              "#fde725"
             ]
            ],
            "type": "contour"
           }
          ],
          "contourcarpet": [
           {
            "colorbar": {
             "outlinewidth": 1,
             "tickcolor": "rgb(36,36,36)",
             "ticks": "outside"
            },
            "type": "contourcarpet"
           }
          ],
          "heatmap": [
           {
            "colorbar": {
             "outlinewidth": 1,
             "tickcolor": "rgb(36,36,36)",
             "ticks": "outside"
            },
            "colorscale": [
             [
              0,
              "#440154"
             ],
             [
              0.1111111111111111,
              "#482878"
             ],
             [
              0.2222222222222222,
              "#3e4989"
             ],
             [
              0.3333333333333333,
              "#31688e"
             ],
             [
              0.4444444444444444,
              "#26828e"
             ],
             [
              0.5555555555555556,
              "#1f9e89"
             ],
             [
              0.6666666666666666,
              "#35b779"
             ],
             [
              0.7777777777777778,
              "#6ece58"
             ],
             [
              0.8888888888888888,
              "#b5de2b"
             ],
             [
              1,
              "#fde725"
             ]
            ],
            "type": "heatmap"
           }
          ],
          "heatmapgl": [
           {
            "colorbar": {
             "outlinewidth": 1,
             "tickcolor": "rgb(36,36,36)",
             "ticks": "outside"
            },
            "colorscale": [
             [
              0,
              "#440154"
             ],
             [
              0.1111111111111111,
              "#482878"
             ],
             [
              0.2222222222222222,
              "#3e4989"
             ],
             [
              0.3333333333333333,
              "#31688e"
             ],
             [
              0.4444444444444444,
              "#26828e"
             ],
             [
              0.5555555555555556,
              "#1f9e89"
             ],
             [
              0.6666666666666666,
              "#35b779"
             ],
             [
              0.7777777777777778,
              "#6ece58"
             ],
             [
              0.8888888888888888,
              "#b5de2b"
             ],
             [
              1,
              "#fde725"
             ]
            ],
            "type": "heatmapgl"
           }
          ],
          "histogram": [
           {
            "marker": {
             "line": {
              "color": "white",
              "width": 0.6
             }
            },
            "type": "histogram"
           }
          ],
          "histogram2d": [
           {
            "colorbar": {
             "outlinewidth": 1,
             "tickcolor": "rgb(36,36,36)",
             "ticks": "outside"
            },
            "colorscale": [
             [
              0,
              "#440154"
             ],
             [
              0.1111111111111111,
              "#482878"
             ],
             [
              0.2222222222222222,
              "#3e4989"
             ],
             [
              0.3333333333333333,
              "#31688e"
             ],
             [
              0.4444444444444444,
              "#26828e"
             ],
             [
              0.5555555555555556,
              "#1f9e89"
             ],
             [
              0.6666666666666666,
              "#35b779"
             ],
             [
              0.7777777777777778,
              "#6ece58"
             ],
             [
              0.8888888888888888,
              "#b5de2b"
             ],
             [
              1,
              "#fde725"
             ]
            ],
            "type": "histogram2d"
           }
          ],
          "histogram2dcontour": [
           {
            "colorbar": {
             "outlinewidth": 1,
             "tickcolor": "rgb(36,36,36)",
             "ticks": "outside"
            },
            "colorscale": [
             [
              0,
              "#440154"
             ],
             [
              0.1111111111111111,
              "#482878"
             ],
             [
              0.2222222222222222,
              "#3e4989"
             ],
             [
              0.3333333333333333,
              "#31688e"
             ],
             [
              0.4444444444444444,
              "#26828e"
             ],
             [
              0.5555555555555556,
              "#1f9e89"
             ],
             [
              0.6666666666666666,
              "#35b779"
             ],
             [
              0.7777777777777778,
              "#6ece58"
             ],
             [
              0.8888888888888888,
              "#b5de2b"
             ],
             [
              1,
              "#fde725"
             ]
            ],
            "type": "histogram2dcontour"
           }
          ],
          "mesh3d": [
           {
            "colorbar": {
             "outlinewidth": 1,
             "tickcolor": "rgb(36,36,36)",
             "ticks": "outside"
            },
            "type": "mesh3d"
           }
          ],
          "parcoords": [
           {
            "line": {
             "colorbar": {
              "outlinewidth": 1,
              "tickcolor": "rgb(36,36,36)",
              "ticks": "outside"
             }
            },
            "type": "parcoords"
           }
          ],
          "pie": [
           {
            "automargin": true,
            "type": "pie"
           }
          ],
          "scatter": [
           {
            "marker": {
             "colorbar": {
              "outlinewidth": 1,
              "tickcolor": "rgb(36,36,36)",
              "ticks": "outside"
             }
            },
            "type": "scatter"
           }
          ],
          "scatter3d": [
           {
            "line": {
             "colorbar": {
              "outlinewidth": 1,
              "tickcolor": "rgb(36,36,36)",
              "ticks": "outside"
             }
            },
            "marker": {
             "colorbar": {
              "outlinewidth": 1,
              "tickcolor": "rgb(36,36,36)",
              "ticks": "outside"
             }
            },
            "type": "scatter3d"
           }
          ],
          "scattercarpet": [
           {
            "marker": {
             "colorbar": {
              "outlinewidth": 1,
              "tickcolor": "rgb(36,36,36)",
              "ticks": "outside"
             }
            },
            "type": "scattercarpet"
           }
          ],
          "scattergeo": [
           {
            "marker": {
             "colorbar": {
              "outlinewidth": 1,
              "tickcolor": "rgb(36,36,36)",
              "ticks": "outside"
             }
            },
            "type": "scattergeo"
           }
          ],
          "scattergl": [
           {
            "marker": {
             "colorbar": {
              "outlinewidth": 1,
              "tickcolor": "rgb(36,36,36)",
              "ticks": "outside"
             }
            },
            "type": "scattergl"
           }
          ],
          "scattermapbox": [
           {
            "marker": {
             "colorbar": {
              "outlinewidth": 1,
              "tickcolor": "rgb(36,36,36)",
              "ticks": "outside"
             }
            },
            "type": "scattermapbox"
           }
          ],
          "scatterpolar": [
           {
            "marker": {
             "colorbar": {
              "outlinewidth": 1,
              "tickcolor": "rgb(36,36,36)",
              "ticks": "outside"
             }
            },
            "type": "scatterpolar"
           }
          ],
          "scatterpolargl": [
           {
            "marker": {
             "colorbar": {
              "outlinewidth": 1,
              "tickcolor": "rgb(36,36,36)",
              "ticks": "outside"
             }
            },
            "type": "scatterpolargl"
           }
          ],
          "scatterternary": [
           {
            "marker": {
             "colorbar": {
              "outlinewidth": 1,
              "tickcolor": "rgb(36,36,36)",
              "ticks": "outside"
             }
            },
            "type": "scatterternary"
           }
          ],
          "surface": [
           {
            "colorbar": {
             "outlinewidth": 1,
             "tickcolor": "rgb(36,36,36)",
             "ticks": "outside"
            },
            "colorscale": [
             [
              0,
              "#440154"
             ],
             [
              0.1111111111111111,
              "#482878"
             ],
             [
              0.2222222222222222,
              "#3e4989"
             ],
             [
              0.3333333333333333,
              "#31688e"
             ],
             [
              0.4444444444444444,
              "#26828e"
             ],
             [
              0.5555555555555556,
              "#1f9e89"
             ],
             [
              0.6666666666666666,
              "#35b779"
             ],
             [
              0.7777777777777778,
              "#6ece58"
             ],
             [
              0.8888888888888888,
              "#b5de2b"
             ],
             [
              1,
              "#fde725"
             ]
            ],
            "type": "surface"
           }
          ],
          "table": [
           {
            "cells": {
             "fill": {
              "color": "rgb(237,237,237)"
             },
             "line": {
              "color": "white"
             }
            },
            "header": {
             "fill": {
              "color": "rgb(217,217,217)"
             },
             "line": {
              "color": "white"
             }
            },
            "type": "table"
           }
          ]
         },
         "layout": {
          "annotationdefaults": {
           "arrowhead": 0,
           "arrowwidth": 1
          },
          "coloraxis": {
           "colorbar": {
            "outlinewidth": 1,
            "tickcolor": "rgb(36,36,36)",
            "ticks": "outside"
           }
          },
          "colorscale": {
           "diverging": [
            [
             0,
             "rgb(103,0,31)"
            ],
            [
             0.1,
             "rgb(178,24,43)"
            ],
            [
             0.2,
             "rgb(214,96,77)"
            ],
            [
             0.3,
             "rgb(244,165,130)"
            ],
            [
             0.4,
             "rgb(253,219,199)"
            ],
            [
             0.5,
             "rgb(247,247,247)"
            ],
            [
             0.6,
             "rgb(209,229,240)"
            ],
            [
             0.7,
             "rgb(146,197,222)"
            ],
            [
             0.8,
             "rgb(67,147,195)"
            ],
            [
             0.9,
             "rgb(33,102,172)"
            ],
            [
             1,
             "rgb(5,48,97)"
            ]
           ],
           "sequential": [
            [
             0,
             "#440154"
            ],
            [
             0.1111111111111111,
             "#482878"
            ],
            [
             0.2222222222222222,
             "#3e4989"
            ],
            [
             0.3333333333333333,
             "#31688e"
            ],
            [
             0.4444444444444444,
             "#26828e"
            ],
            [
             0.5555555555555556,
             "#1f9e89"
            ],
            [
             0.6666666666666666,
             "#35b779"
            ],
            [
             0.7777777777777778,
             "#6ece58"
            ],
            [
             0.8888888888888888,
             "#b5de2b"
            ],
            [
             1,
             "#fde725"
            ]
           ],
           "sequentialminus": [
            [
             0,
             "#440154"
            ],
            [
             0.1111111111111111,
             "#482878"
            ],
            [
             0.2222222222222222,
             "#3e4989"
            ],
            [
             0.3333333333333333,
             "#31688e"
            ],
            [
             0.4444444444444444,
             "#26828e"
            ],
            [
             0.5555555555555556,
             "#1f9e89"
            ],
            [
             0.6666666666666666,
             "#35b779"
            ],
            [
             0.7777777777777778,
             "#6ece58"
            ],
            [
             0.8888888888888888,
             "#b5de2b"
            ],
            [
             1,
             "#fde725"
            ]
           ]
          },
          "colorway": [
           "#1F77B4",
           "#FF7F0E",
           "#2CA02C",
           "#D62728",
           "#9467BD",
           "#8C564B",
           "#E377C2",
           "#7F7F7F",
           "#BCBD22",
           "#17BECF"
          ],
          "font": {
           "color": "rgb(36,36,36)"
          },
          "geo": {
           "bgcolor": "white",
           "lakecolor": "white",
           "landcolor": "white",
           "showlakes": true,
           "showland": true,
           "subunitcolor": "white"
          },
          "hoverlabel": {
           "align": "left"
          },
          "hovermode": "closest",
          "mapbox": {
           "style": "light"
          },
          "paper_bgcolor": "white",
          "plot_bgcolor": "white",
          "polar": {
           "angularaxis": {
            "gridcolor": "rgb(232,232,232)",
            "linecolor": "rgb(36,36,36)",
            "showgrid": false,
            "showline": true,
            "ticks": "outside"
           },
           "bgcolor": "white",
           "radialaxis": {
            "gridcolor": "rgb(232,232,232)",
            "linecolor": "rgb(36,36,36)",
            "showgrid": false,
            "showline": true,
            "ticks": "outside"
           }
          },
          "scene": {
           "xaxis": {
            "backgroundcolor": "white",
            "gridcolor": "rgb(232,232,232)",
            "gridwidth": 2,
            "linecolor": "rgb(36,36,36)",
            "showbackground": true,
            "showgrid": false,
            "showline": true,
            "ticks": "outside",
            "zeroline": false,
            "zerolinecolor": "rgb(36,36,36)"
           },
           "yaxis": {
            "backgroundcolor": "white",
            "gridcolor": "rgb(232,232,232)",
            "gridwidth": 2,
            "linecolor": "rgb(36,36,36)",
            "showbackground": true,
            "showgrid": false,
            "showline": true,
            "ticks": "outside",
            "zeroline": false,
            "zerolinecolor": "rgb(36,36,36)"
           },
           "zaxis": {
            "backgroundcolor": "white",
            "gridcolor": "rgb(232,232,232)",
            "gridwidth": 2,
            "linecolor": "rgb(36,36,36)",
            "showbackground": true,
            "showgrid": false,
            "showline": true,
            "ticks": "outside",
            "zeroline": false,
            "zerolinecolor": "rgb(36,36,36)"
           }
          },
          "shapedefaults": {
           "fillcolor": "black",
           "line": {
            "width": 0
           },
           "opacity": 0.3
          },
          "ternary": {
           "aaxis": {
            "gridcolor": "rgb(232,232,232)",
            "linecolor": "rgb(36,36,36)",
            "showgrid": false,
            "showline": true,
            "ticks": "outside"
           },
           "baxis": {
            "gridcolor": "rgb(232,232,232)",
            "linecolor": "rgb(36,36,36)",
            "showgrid": false,
            "showline": true,
            "ticks": "outside"
           },
           "bgcolor": "white",
           "caxis": {
            "gridcolor": "rgb(232,232,232)",
            "linecolor": "rgb(36,36,36)",
            "showgrid": false,
            "showline": true,
            "ticks": "outside"
           }
          },
          "title": {
           "x": 0.05
          },
          "xaxis": {
           "automargin": true,
           "gridcolor": "rgb(232,232,232)",
           "linecolor": "rgb(36,36,36)",
           "showgrid": false,
           "showline": true,
           "ticks": "outside",
           "title": {
            "standoff": 15
           },
           "zeroline": false,
           "zerolinecolor": "rgb(36,36,36)"
          },
          "yaxis": {
           "automargin": true,
           "gridcolor": "rgb(232,232,232)",
           "linecolor": "rgb(36,36,36)",
           "showgrid": false,
           "showline": true,
           "ticks": "outside",
           "title": {
            "standoff": 15
           },
           "zeroline": false,
           "zerolinecolor": "rgb(36,36,36)"
          }
         }
        },
        "xaxis": {
         "anchor": "y",
         "domain": [
          0,
          1
         ],
         "title": {
          "text": "Fold Enrichment"
         }
        },
        "yaxis": {
         "anchor": "x",
         "domain": [
          0,
          1
         ],
         "title": {
          "text": ""
         }
        }
       }
      }
     },
     "metadata": {},
     "output_type": "display_data"
    }
   ],
   "source": [
    "plot_enrichment_david(david_pandub, fdr_threshold=0.01, fold_enrichment_threshold=1, count_threshold=10)"
   ]
  }
 ],
 "metadata": {
  "kernelspec": {
   "display_name": "test",
   "language": "python",
   "name": "python3"
  },
  "language_info": {
   "codemirror_mode": {
    "name": "ipython",
    "version": 3
   },
   "file_extension": ".py",
   "mimetype": "text/x-python",
   "name": "python",
   "nbconvert_exporter": "python",
   "pygments_lexer": "ipython3",
   "version": "3.8.17"
  }
 },
 "nbformat": 4,
 "nbformat_minor": 2
}
